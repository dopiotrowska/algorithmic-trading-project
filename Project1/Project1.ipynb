{
 "cells": [
  {
   "cell_type": "code",
   "execution_count": null,
   "metadata": {},
   "outputs": [
    {
     "name": "stdout",
     "output_type": "stream",
     "text": [
      "Note: you may need to restart the kernel to use updated packages.\n"
     ]
    },
    {
     "name": "stderr",
     "output_type": "stream",
     "text": [
      "ERROR: Could not open requirements file: [Errno 2] No such file or directory: 'Project1/requirements.txt'\n"
     ]
    }
   ],
   "source": [
    "pip install -r Project1/requirements.txt"
   ]
  },
  {
   "cell_type": "code",
   "execution_count": 65,
   "metadata": {},
   "outputs": [],
   "source": [
    "import yfinance as yf\n",
    "import plotly.graph_objs as go\n",
    "import pandas as pd\n",
    "\n",
    "from sklearn.decomposition import PCA\n",
    "from sklearn.preprocessing import StandardScaler"
   ]
  },
  {
   "cell_type": "markdown",
   "metadata": {},
   "source": [
    "# Data downloading"
   ]
  },
  {
   "cell_type": "code",
   "execution_count": 20,
   "metadata": {},
   "outputs": [],
   "source": [
    "def get_data(instrument: str,\n",
    "             start_date: str,\n",
    "             end_date: str,\n",
    "             interval: str) -> pd.DataFrame:\n",
    "    \"\"\"\n",
    "        Fetch historical market data from Yahoo Finance for a given instrument between the provided start and end dates at the given interval.\n",
    "        The function returns a cleaned DataFrame with the data, excluding any missing values.\n",
    "\n",
    "        Parameters:\n",
    "        instrument (str): The ticker symbol of the instrument e.g. 'MSFT'.\n",
    "        start_date (str): The start date for the data in 'YYYY-MM-DD' format.\n",
    "        end_date (str): The end date for the data in 'YYYY-MM-DD' format.\n",
    "        interval (str): The time interval between data points. Valid intervals are: ['1m', '2m', '5m', '15m', '30m', '60m', '90m', '1h', '1d', '5d', '1wk', '1mo', '3mo'].\n",
    "\n",
    "        Returns:\n",
    "        pd.DataFrame: A Pandas DataFrame containing the historical market data for the given instrument, with any rows containing missing values (NaN) removed.\n",
    "    \"\"\"\n",
    "    \n",
    "    data = yf.download(tickers=instrument,\n",
    "                       start=start_date,\n",
    "                       end=end_date,\n",
    "                       interval=interval)\n",
    "    \n",
    "    data = data.dropna(how='any')\n",
    "\n",
    "    return data"
   ]
  },
  {
   "cell_type": "markdown",
   "metadata": {},
   "source": [
    "# Indicators"
   ]
  },
  {
   "cell_type": "markdown",
   "metadata": {},
   "source": [
    "## MACD"
   ]
  },
  {
   "cell_type": "code",
   "execution_count": 68,
   "metadata": {},
   "outputs": [],
   "source": [
    "def macd(data: pd.DataFrame) -> pd.DataFrame:\n",
    "    \"\"\"\n",
    "        Calculate the MACD (Moving Average Convergence Divergence) and generate buy/sell signals.\n",
    "\n",
    "        Parameters:\n",
    "        data (pd.DataFrame): DataFrame containing historical market data.\n",
    "\n",
    "        Returns:\n",
    "        pd.DataFrame: DataFrame with additional columns for 'MACD Buy Signal' and 'MACD Sell Signal', where a 1 indicates a signal and 0 means no signal.\n",
    "    \"\"\"\n",
    "\n",
    "    data = data.copy()\n",
    "\n",
    "    data['EMA12'] = data['Adj Close'].ewm(span=12, adjust=False).mean()\n",
    "    data['EMA26'] = data['Adj Close'].ewm(span=26, adjust=False).mean()\n",
    "    data['MACD'] = data['EMA12'] - data['EMA26'] # MACD Line\n",
    "    data['Signal Line'] = data['MACD'].ewm(span=9, adjust=False).mean() # Signal Line\n",
    "\n",
    "    data['MACD Buy Signal'] = 0\n",
    "    data['MACD Sell Signal'] = 0\n",
    "\n",
    "    for i in range(1, len(data)):\n",
    "        # buy signal: MACD crosses above Signal Line\n",
    "        if data['MACD'].iloc[i] > data['Signal Line'].iloc[i] and data['MACD'].iloc[i-1] <= data['Signal Line'].iloc[i-1]:\n",
    "            data.loc[data.index[i], 'MACD Buy Signal'] = 1\n",
    "        # sell signal: MACD crosses below Signal Line\n",
    "        elif data['MACD'].iloc[i] < data['Signal Line'].iloc[i] and data['MACD'].iloc[i-1] >= data['Signal Line'].iloc[i-1]:\n",
    "            data.loc[data.index[i], 'MACD Sell Signal'] = 1\n",
    "\n",
    "    # drop intermediate columns\n",
    "    data = data.drop(columns=['EMA12', 'EMA26'])\n",
    "\n",
    "    return data"
   ]
  },
  {
   "cell_type": "markdown",
   "metadata": {},
   "source": [
    "## RSI\n"
   ]
  },
  {
   "cell_type": "code",
   "execution_count": 69,
   "metadata": {},
   "outputs": [],
   "source": [
    "def rsi(data: pd.DataFrame, period: int = 14) -> pd.DataFrame:\n",
    "    \"\"\"\n",
    "    Calculate the Relative Strength Index (RSI)\n",
    "\n",
    "    Parameters:\n",
    "    data (pd.DataFrame): DataFrame containing historical market data.\n",
    "    period (int): The period over which to calculate RSI, typically 14 days.\n",
    "\n",
    "    Returns:\n",
    "    pd.DataFrame: DataFrame with an additional 'RSI' column.\n",
    "    \"\"\"\n",
    "    delta = data['Adj Close'].diff()\n",
    "    gain = (delta.where(delta > 0, 0)).rolling(window=period).mean()\n",
    "    loss = (-delta.where(delta < 0, 0)).rolling(window=period).mean()\n",
    "    \n",
    "    rs = gain / loss\n",
    "    data['RSI'] = 100 - (100 / (1 + rs))\n",
    "    \n",
    "    return data"
   ]
  },
  {
   "cell_type": "markdown",
   "metadata": {},
   "source": [
    "## ATR"
   ]
  },
  {
   "cell_type": "code",
   "execution_count": 70,
   "metadata": {},
   "outputs": [],
   "source": [
    "def atr(data: pd.DataFrame, period: int = 14) -> pd.DataFrame:\n",
    "    \"\"\"\n",
    "    Calculate the Average True Range (ATR)\n",
    "\n",
    "    Parameters:\n",
    "    data (pd.DataFrame): DataFrame containing historical market data.\n",
    "    period (int): The period over which to calculate ATR, typically 14 days.\n",
    "\n",
    "    Returns:\n",
    "    pd.DataFrame: DataFrame with an additional 'ATR' column.\n",
    "    \"\"\"\n",
    "    high_low = data['High'] - data['Low']\n",
    "    high_close = abs(data['High'] - data['Adj Close'].shift())\n",
    "    low_close = abs(data['Low'] - data['Adj Close'].shift())\n",
    "    \n",
    "    true_range = pd.concat([high_low, high_close, low_close], axis=1).max(axis=1)\n",
    "    data['ATR'] = true_range.rolling(window=period).mean()\n",
    "    \n",
    "    return data"
   ]
  },
  {
   "cell_type": "markdown",
   "metadata": {},
   "source": [
    "## PCA calculation"
   ]
  },
  {
   "cell_type": "code",
   "execution_count": null,
   "metadata": {},
   "outputs": [],
   "source": [
    "def apply_pca_trend_following(data: pd.DataFrame, indicators: list = ['MACD', 'RSI', 'ATR'],\n",
    "                           n_components: int = 2, buy_threshold: float = 0.5, sell_threshold: float = -0.5) -> pd.DataFrame:\n",
    "    \"\"\"\n",
    "    Apply PCA to reduce specified indicators to principal components and generate buy/sell signals.\n",
    "\n",
    "    Parameters:\n",
    "    data (pd.DataFrame): DataFrame containing calculated indicators.\n",
    "    indicators (list): List of column names to include in PCA (default is ['MACD', 'RSI', 'ATR']).\n",
    "    n_components (int): Number of principal components to keep (default is 2).\n",
    "    buy_threshold (float): Threshold above which to generate a buy signal for PC1.\n",
    "    sell_threshold (float): Threshold below which to generate a sell signal for PC1.\n",
    "\n",
    "    Returns:\n",
    "    pd.DataFrame: DataFrame with additional columns for 'PC1', 'PC2' (if n_components=2), 'PCA Buy Signal', and 'PCA Sell Signal'.\n",
    "    \"\"\"\n",
    "    # Ensure that required indicators are in the DataFrame\n",
    "    for indicator in indicators:\n",
    "        if indicator not in data.columns:\n",
    "            raise ValueError(f\"Missing indicator {indicator} in data. Please calculate {indicator} first.\")\n",
    "    \n",
    "    # Standardize the data for the selected indicators\n",
    "    scaler = StandardScaler()\n",
    "    data_scaled = scaler.fit_transform(data[indicators])\n",
    "\n",
    "    # Apply PCA\n",
    "    pca = PCA(n_components=n_components)\n",
    "    principal_components = pca.fit_transform(data_scaled)\n",
    "\n",
    "    # Add the principal components to the DataFrame\n",
    "    for i in range(n_components):\n",
    "        data[f'PC{i+1}'] = principal_components[:, i]\n",
    "    \n",
    "    # Generate buy/sell signals based on the first principal component (PC1)\n",
    "    data['PCA Buy Signal'] = 0\n",
    "    data['PCA Sell Signal'] = 0\n",
    "\n",
    "    for i in range(1, len(data)):\n",
    "        # Buy Signal\n",
    "        if data['PC1'].iloc[i] > buy_threshold:\n",
    "            data.loc[data.index[i], 'PCA Buy Signal'] = 1\n",
    "        # Sell Signal\n",
    "        elif data['PC1'].iloc[i] < sell_threshold:\n",
    "            data.loc[data.index[i], 'PCA Sell Signal'] = 1\n",
    "\n",
    "    return data"
   ]
  },
  {
   "cell_type": "code",
   "execution_count": 71,
   "metadata": {},
   "outputs": [],
   "source": [
    "def trend_following_strategy(data: pd.DataFrame) -> pd.DataFrame:\n",
    "    \"\"\"\n",
    "    Calculate buy/sell signals based on MACD, RSI, and ATR indicators for trend-following strategy.\n",
    "\n",
    "    Parameters:\n",
    "    data (pd.DataFrame): DataFrame containing historical market data with MACD, RSI, and ATR.\n",
    "\n",
    "    Returns:\n",
    "    pd.DataFrame: DataFrame with additional columns for 'Trend Buy Signal' and 'Trend Sell Signal'.\n",
    "    \"\"\"\n",
    "    data = data.copy()\n",
    "    \n",
    "    data['Trend Buy Signal'] = 0\n",
    "    data['Trend Sell Signal'] = 0\n",
    "\n",
    "    for i in range(1, len(data)):\n",
    "        # Buy signal: MACD bullish, RSI > 50, and ATR is high\n",
    "        if (data['MACD'].iloc[i] > data['Signal Line'].iloc[i] and \n",
    "            data['RSI'].iloc[i] > 50 and \n",
    "            data['ATR'].iloc[i] > data['ATR'].mean()):\n",
    "            data.loc[data.index[i], 'Trend Buy Signal'] = 1\n",
    "        \n",
    "        # Sell signal: MACD bearish, RSI < 50, and ATR is high\n",
    "        elif (data['MACD'].iloc[i] < data['Signal Line'].iloc[i] and \n",
    "              data['RSI'].iloc[i] < 50 and \n",
    "              data['ATR'].iloc[i] > data['ATR'].mean()):\n",
    "            data.loc[data.index[i], 'Trend Sell Signal'] = 1\n",
    "\n",
    "    return data"
   ]
  },
  {
   "cell_type": "code",
   "execution_count": null,
   "metadata": {},
   "outputs": [],
   "source": [
    "strategies = {\n",
    "    'MACD': macd,\n",
    "    'PCA-trend-following' : apply_pca_trend_following,\n",
    "    'Trend-Following': trend_following_strategy\n",
    "}"
   ]
  },
  {
   "cell_type": "code",
   "execution_count": 48,
   "metadata": {},
   "outputs": [],
   "source": [
    "def run_strategy(data: pd.DataFrame, strategy: str) -> pd.DataFrame:\n",
    "    \"\"\"\n",
    "        Executes the specified trading strategy on the given data.\n",
    "\n",
    "        Parameters:\n",
    "        data (pd.DataFrame): DataFrame containing historical market data on which the strategy will be applied.\n",
    "                             The DataFrame must have relevant columns for the selected strategy.\n",
    "        \n",
    "        strategy (str): The name of the strategy to be applied.\n",
    "\n",
    "        Returns:\n",
    "        pd.DataFrame: DataFrame with the strategy applied, including any newly added columns like buy/sell signals.\n",
    "    \"\"\"\n",
    "    \n",
    "    if strategy in strategies:\n",
    "        data = strategies[strategy](data=data)\n",
    "    else:\n",
    "        print(\"Invalid strategy selected!\")\n",
    "\n",
    "    return data"
   ]
  },
  {
   "cell_type": "markdown",
   "metadata": {},
   "source": [
    "# Plots"
   ]
  },
  {
   "cell_type": "markdown",
   "metadata": {},
   "source": [
    "## Buy and sell signal plot"
   ]
  },
  {
   "cell_type": "code",
   "execution_count": 7,
   "metadata": {},
   "outputs": [],
   "source": [
    "def plot_buy_sell_signal(data: pd.DataFrame,\n",
    "                         instrument: str,\n",
    "                         buy_signal_column: str,\n",
    "                         sell_signal_column: str,\n",
    "                         title: str):\n",
    "    \"\"\"\n",
    "        Plots a price chart with buy and sell signals marked on it.\n",
    "\n",
    "        Parameters:\n",
    "        data (pd.DataFrame): A DataFrame containing historical market data. The DataFrame must have\n",
    "                            at least the 'Adj Close' column and the specified buy/sell signal columns.\n",
    "        \n",
    "        instrument (str): The ticker symbol or name of the instrument being plotted.\n",
    "\n",
    "        buy_signal_column (str): The column name containing the buy signals (e.g., 'MACD Buy Signal').\n",
    "                                The function will mark buy signals where the value in this column is 1.\n",
    "\n",
    "        sell_signal_column (str): The column name containing the sell signals (e.g., 'MACD Sell Signal').\n",
    "                                The function will mark sell signals where the value in this column is 1.\n",
    "        \n",
    "        title (str): The title of the plot, which will be displayed on the chart after instrument name.\n",
    "    \"\"\"\n",
    "    fig = go.Figure()\n",
    "\n",
    "    fig.add_trace(go.Scatter(\n",
    "        x=data.index,\n",
    "        y=data['Adj Close'],\n",
    "        mode='lines',\n",
    "        name='Price',\n",
    "        line=dict(color='blue')\n",
    "    ))\n",
    "\n",
    "    # add buy signals to the price chart\n",
    "    buy_signals = data[data[buy_signal_column] == 1].index\n",
    "    fig.add_trace(go.Scatter(\n",
    "        x=buy_signals,\n",
    "        y=data.loc[buy_signals, 'Adj Close'],\n",
    "        mode='markers',\n",
    "        name=buy_signal_column,\n",
    "        marker=dict(color='green', symbol='triangle-up', size=10)\n",
    "    ))\n",
    "\n",
    "    # add sell signals to the price chart\n",
    "    sell_signals = data[data[sell_signal_column] == 1].index\n",
    "    fig.add_trace(go.Scatter(\n",
    "        x=sell_signals,\n",
    "        y=data.loc[sell_signals, 'Adj Close'],\n",
    "        mode='markers',\n",
    "        name=sell_signal_column,\n",
    "        marker=dict(color='red', symbol='triangle-down', size=10)\n",
    "    ))\n",
    "\n",
    "    fig.update_layout(\n",
    "        title=f\"{instrument} - {title}\",\n",
    "        xaxis_title=\"Date\",\n",
    "        yaxis_title=\"Price (USD)\",\n",
    "        xaxis_rangeslider_visible=False,\n",
    "        hovermode=\"x unified\",\n",
    "    )\n",
    "\n",
    "    fig.show()"
   ]
  },
  {
   "cell_type": "markdown",
   "metadata": {},
   "source": [
    "# Performance Evaluation"
   ]
  },
  {
   "cell_type": "markdown",
   "metadata": {},
   "source": [
    "## Win Rate"
   ]
  },
  {
   "cell_type": "code",
   "execution_count": 8,
   "metadata": {},
   "outputs": [],
   "source": [
    "def calculate_win_rate(data: pd.DataFrame, \n",
    "                       buy_signal_column: str, \n",
    "                       sell_signal_column: str) -> float:\n",
    "    \"\"\"\n",
    "        Calculates the win rate of a trading strategy based on buy and sell signals in the given data.\n",
    "\n",
    "        This function simulates a trading strategy where a position is opened on a buy signal\n",
    "        and closed on a sell signal assuming one signal at the time (if buy signal then wait for sell signal).\n",
    "\n",
    "        Parameters:\n",
    "        data (pd.DataFrame): A DataFrame containing market data, including the 'Adj Close' column\n",
    "                            and the buy/sell signal columns specified by `buy_signal_column` and `sell_signal_column`.\n",
    "        \n",
    "        buy_signal_column (str): The name of the column containing buy signals (e.g., 'MACD Buy Signal').\n",
    "                                A value of 1 in this column indicates a buy signal.\n",
    "        \n",
    "        sell_signal_column (str): The name of the column containing sell signals (e.g., 'MACD Sell Signal').\n",
    "                                A value of 1 in this column indicates a sell signal.\n",
    "    \"\"\"\n",
    "\n",
    "    open_position = False  # track if there is an open position\n",
    "    total_trades = 0       # total number of trades (both wins and losses)\n",
    "    wins = 0               # total number of winning trades\n",
    "\n",
    "    for i in range(1, len(data)):\n",
    "        if data[buy_signal_column].iloc[i] == 1 and not open_position: # buy\n",
    "            open_position = True # open the position\n",
    "            entry_price = data['Adj Close'].iloc[i]\n",
    "            print(f\"Buying  at {data.index[i]}: {entry_price:.2f}\")\n",
    "        elif data[sell_signal_column].iloc[i] == 1 and open_position: # sell\n",
    "            exit_price = data['Adj Close'].iloc[i]\n",
    "            profit_loss = exit_price - entry_price\n",
    "            profit_loss_percent = (profit_loss / entry_price) * 100\n",
    "            total_trades += 1  # increment total trades\n",
    "            if profit_loss > 0: \n",
    "                wins += 1 # increment total wins\n",
    "                print(f\"Selling at {data.index[i]}: {exit_price:.2f} | Profit: {profit_loss_percent:.2f}%\")\n",
    "            else:\n",
    "                print(f\"Selling at {data.index[i]}: {exit_price:.2f} | Loss: {profit_loss_percent:.2f}%\")\n",
    "            open_position = False  # close the position\n",
    "    \n",
    "    if total_trades > 0:\n",
    "        win_rate = wins / total_trades\n",
    "    else:\n",
    "        win_rate = 0\n",
    "\n",
    "    win_rate = win_rate * 100\n",
    "\n",
    "    print(f\"Win Rate: {win_rate:.2f}%\")\n"
   ]
  },
  {
   "cell_type": "markdown",
   "metadata": {},
   "source": [
    "# Results"
   ]
  },
  {
   "cell_type": "code",
   "execution_count": 73,
   "metadata": {},
   "outputs": [
    {
     "name": "stderr",
     "output_type": "stream",
     "text": [
      "[*********************100%%**********************]  1 of 1 completed\n"
     ]
    },
    {
     "data": {
      "application/vnd.plotly.v1+json": {
       "config": {
        "plotlyServerURL": "https://plot.ly"
       },
       "data": [
        {
         "line": {
          "color": "blue"
         },
         "mode": "lines",
         "name": "Price",
         "type": "scatter",
         "x": [
          "2023-01-23T00:00:00",
          "2023-01-24T00:00:00",
          "2023-01-25T00:00:00",
          "2023-01-26T00:00:00",
          "2023-01-27T00:00:00",
          "2023-01-30T00:00:00",
          "2023-01-31T00:00:00",
          "2023-02-01T00:00:00",
          "2023-02-02T00:00:00",
          "2023-02-03T00:00:00",
          "2023-02-06T00:00:00",
          "2023-02-07T00:00:00",
          "2023-02-08T00:00:00",
          "2023-02-09T00:00:00",
          "2023-02-10T00:00:00",
          "2023-02-13T00:00:00",
          "2023-02-14T00:00:00",
          "2023-02-15T00:00:00",
          "2023-02-16T00:00:00",
          "2023-02-17T00:00:00",
          "2023-02-21T00:00:00",
          "2023-02-22T00:00:00",
          "2023-02-23T00:00:00",
          "2023-02-24T00:00:00",
          "2023-02-27T00:00:00",
          "2023-02-28T00:00:00",
          "2023-03-01T00:00:00",
          "2023-03-02T00:00:00",
          "2023-03-03T00:00:00",
          "2023-03-06T00:00:00",
          "2023-03-07T00:00:00",
          "2023-03-08T00:00:00",
          "2023-03-09T00:00:00",
          "2023-03-10T00:00:00",
          "2023-03-13T00:00:00",
          "2023-03-14T00:00:00",
          "2023-03-15T00:00:00",
          "2023-03-16T00:00:00",
          "2023-03-17T00:00:00",
          "2023-03-20T00:00:00",
          "2023-03-21T00:00:00",
          "2023-03-22T00:00:00",
          "2023-03-23T00:00:00",
          "2023-03-24T00:00:00",
          "2023-03-27T00:00:00",
          "2023-03-28T00:00:00",
          "2023-03-29T00:00:00",
          "2023-03-30T00:00:00",
          "2023-03-31T00:00:00",
          "2023-04-03T00:00:00",
          "2023-04-04T00:00:00",
          "2023-04-05T00:00:00",
          "2023-04-06T00:00:00",
          "2023-04-10T00:00:00",
          "2023-04-11T00:00:00",
          "2023-04-12T00:00:00",
          "2023-04-13T00:00:00",
          "2023-04-14T00:00:00",
          "2023-04-17T00:00:00",
          "2023-04-18T00:00:00",
          "2023-04-19T00:00:00",
          "2023-04-20T00:00:00",
          "2023-04-21T00:00:00",
          "2023-04-24T00:00:00",
          "2023-04-25T00:00:00",
          "2023-04-26T00:00:00",
          "2023-04-27T00:00:00",
          "2023-04-28T00:00:00",
          "2023-05-01T00:00:00",
          "2023-05-02T00:00:00",
          "2023-05-03T00:00:00",
          "2023-05-04T00:00:00",
          "2023-05-05T00:00:00",
          "2023-05-08T00:00:00",
          "2023-05-09T00:00:00",
          "2023-05-10T00:00:00",
          "2023-05-11T00:00:00",
          "2023-05-12T00:00:00",
          "2023-05-15T00:00:00",
          "2023-05-16T00:00:00",
          "2023-05-17T00:00:00",
          "2023-05-18T00:00:00",
          "2023-05-19T00:00:00",
          "2023-05-22T00:00:00",
          "2023-05-23T00:00:00",
          "2023-05-24T00:00:00",
          "2023-05-25T00:00:00",
          "2023-05-26T00:00:00",
          "2023-05-30T00:00:00",
          "2023-05-31T00:00:00",
          "2023-06-01T00:00:00",
          "2023-06-02T00:00:00",
          "2023-06-05T00:00:00",
          "2023-06-06T00:00:00",
          "2023-06-07T00:00:00",
          "2023-06-08T00:00:00",
          "2023-06-09T00:00:00",
          "2023-06-12T00:00:00",
          "2023-06-13T00:00:00",
          "2023-06-14T00:00:00",
          "2023-06-15T00:00:00",
          "2023-06-16T00:00:00",
          "2023-06-20T00:00:00",
          "2023-06-21T00:00:00",
          "2023-06-22T00:00:00",
          "2023-06-23T00:00:00",
          "2023-06-26T00:00:00",
          "2023-06-27T00:00:00",
          "2023-06-28T00:00:00",
          "2023-06-29T00:00:00",
          "2023-06-30T00:00:00",
          "2023-07-03T00:00:00",
          "2023-07-05T00:00:00",
          "2023-07-06T00:00:00",
          "2023-07-07T00:00:00",
          "2023-07-10T00:00:00",
          "2023-07-11T00:00:00",
          "2023-07-12T00:00:00",
          "2023-07-13T00:00:00",
          "2023-07-14T00:00:00",
          "2023-07-17T00:00:00",
          "2023-07-18T00:00:00",
          "2023-07-19T00:00:00",
          "2023-07-20T00:00:00",
          "2023-07-21T00:00:00",
          "2023-07-24T00:00:00",
          "2023-07-25T00:00:00",
          "2023-07-26T00:00:00",
          "2023-07-27T00:00:00",
          "2023-07-28T00:00:00",
          "2023-07-31T00:00:00",
          "2023-08-01T00:00:00",
          "2023-08-02T00:00:00",
          "2023-08-03T00:00:00",
          "2023-08-04T00:00:00",
          "2023-08-07T00:00:00",
          "2023-08-08T00:00:00",
          "2023-08-09T00:00:00",
          "2023-08-10T00:00:00",
          "2023-08-11T00:00:00",
          "2023-08-14T00:00:00",
          "2023-08-15T00:00:00",
          "2023-08-16T00:00:00",
          "2023-08-17T00:00:00",
          "2023-08-18T00:00:00",
          "2023-08-21T00:00:00",
          "2023-08-22T00:00:00",
          "2023-08-23T00:00:00",
          "2023-08-24T00:00:00",
          "2023-08-25T00:00:00",
          "2023-08-28T00:00:00",
          "2023-08-29T00:00:00",
          "2023-08-30T00:00:00",
          "2023-08-31T00:00:00",
          "2023-09-01T00:00:00",
          "2023-09-05T00:00:00",
          "2023-09-06T00:00:00",
          "2023-09-07T00:00:00",
          "2023-09-08T00:00:00",
          "2023-09-11T00:00:00",
          "2023-09-12T00:00:00",
          "2023-09-13T00:00:00",
          "2023-09-14T00:00:00",
          "2023-09-15T00:00:00",
          "2023-09-18T00:00:00",
          "2023-09-19T00:00:00",
          "2023-09-20T00:00:00",
          "2023-09-21T00:00:00",
          "2023-09-22T00:00:00",
          "2023-09-25T00:00:00",
          "2023-09-26T00:00:00",
          "2023-09-27T00:00:00",
          "2023-09-28T00:00:00",
          "2023-09-29T00:00:00",
          "2023-10-02T00:00:00",
          "2023-10-03T00:00:00",
          "2023-10-04T00:00:00",
          "2023-10-05T00:00:00",
          "2023-10-06T00:00:00",
          "2023-10-09T00:00:00",
          "2023-10-10T00:00:00",
          "2023-10-11T00:00:00",
          "2023-10-12T00:00:00",
          "2023-10-13T00:00:00",
          "2023-10-16T00:00:00",
          "2023-10-17T00:00:00",
          "2023-10-18T00:00:00",
          "2023-10-19T00:00:00",
          "2023-10-20T00:00:00",
          "2023-10-23T00:00:00",
          "2023-10-24T00:00:00",
          "2023-10-25T00:00:00",
          "2023-10-26T00:00:00",
          "2023-10-27T00:00:00",
          "2023-10-30T00:00:00",
          "2023-10-31T00:00:00",
          "2023-11-01T00:00:00",
          "2023-11-02T00:00:00",
          "2023-11-03T00:00:00",
          "2023-11-06T00:00:00",
          "2023-11-07T00:00:00",
          "2023-11-08T00:00:00",
          "2023-11-09T00:00:00",
          "2023-11-10T00:00:00",
          "2023-11-13T00:00:00",
          "2023-11-14T00:00:00",
          "2023-11-15T00:00:00",
          "2023-11-16T00:00:00",
          "2023-11-17T00:00:00",
          "2023-11-20T00:00:00",
          "2023-11-21T00:00:00",
          "2023-11-22T00:00:00",
          "2023-11-24T00:00:00",
          "2023-11-27T00:00:00",
          "2023-11-28T00:00:00",
          "2023-11-29T00:00:00",
          "2023-11-30T00:00:00",
          "2023-12-01T00:00:00",
          "2023-12-04T00:00:00",
          "2023-12-05T00:00:00",
          "2023-12-06T00:00:00",
          "2023-12-07T00:00:00",
          "2023-12-08T00:00:00",
          "2023-12-11T00:00:00",
          "2023-12-12T00:00:00",
          "2023-12-13T00:00:00",
          "2023-12-14T00:00:00",
          "2023-12-15T00:00:00",
          "2023-12-18T00:00:00",
          "2023-12-19T00:00:00",
          "2023-12-20T00:00:00",
          "2023-12-21T00:00:00",
          "2023-12-22T00:00:00",
          "2023-12-26T00:00:00",
          "2023-12-27T00:00:00",
          "2023-12-28T00:00:00",
          "2023-12-29T00:00:00"
         ],
         "y": [
          139.6415557861328,
          141.04678344726562,
          140.3837432861328,
          142.46188354492188,
          144.411376953125,
          141.51185607910156,
          142.78843688964844,
          143.91659545898438,
          149.25050354003906,
          152.89218139648438,
          150.15103149414062,
          153.04063415527344,
          150.33905029296875,
          149.29998779296875,
          149.6666717529297,
          152.48141479492188,
          151.83718872070312,
          153.94825744628906,
          152.34266662597656,
          151.19300842285156,
          147.1591796875,
          147.58535766601562,
          148.0709991455078,
          145.40493774414062,
          146.60418701171875,
          146.09869384765625,
          144.01736450195312,
          144.61204528808594,
          149.68650817871094,
          152.46160888671875,
          150.25144958496094,
          151.51014709472656,
          149.2504119873047,
          147.17901611328125,
          149.1314697265625,
          151.2326202392578,
          151.6290740966797,
          154.463623046875,
          153.62118530273438,
          155.99981689453125,
          157.8631134033203,
          156.42601013183594,
          157.51622009277344,
          158.82449340820312,
          156.87200927734375,
          156.2476043701172,
          159.33985900878906,
          160.91571044921875,
          163.43310546875,
          164.69183349609375,
          164.15664672851562,
          162.30325317382812,
          163.1952667236328,
          160.5886688232422,
          159.36961364746094,
          158.67584228515625,
          164.08724975585938,
          163.74037170410156,
          163.7602081298828,
          164.98915100097656,
          166.1388397216797,
          165.1675567626953,
          163.55206298828125,
          163.85928344726562,
          162.3131866455078,
          162.30325317382812,
          166.9119110107422,
          168.1706085205078,
          168.0814208984375,
          167.040771484375,
          165.96044921875,
          164.31520080566406,
          172.0260009765625,
          171.9566192626953,
          170.24200439453125,
          172.0160675048828,
          172.20440673828125,
          171.271484375,
          170.77523803710938,
          170.77523803710938,
          171.3905792236328,
          173.73280334472656,
          173.84197998046875,
          172.88917541503906,
          170.26907348632812,
          170.5469512939453,
          171.68829345703125,
          174.10995483398438,
          175.9658660888672,
          175.916259765625,
          178.73489379882812,
          179.58840942382812,
          178.2287139892578,
          177.86151123046875,
          176.48196411132812,
          179.21127319335938,
          179.59835815429688,
          182.4070281982422,
          181.93063354492188,
          182.56582641601562,
          184.61033630371094,
          183.5285186767578,
          183.6178436279297,
          182.5757598876953,
          185.59288024902344,
          185.27529907226562,
          183.8759002685547,
          186.64492797851562,
          187.8259735107422,
          188.16336059570312,
          192.51043701171875,
          191.01181030273438,
          189.8903045654297,
          190.36668395996094,
          189.2451934814453,
          187.19078063964844,
          186.66476440429688,
          188.34205627441406,
          189.10623168945312,
          189.255126953125,
          192.53028869628906,
          192.27223205566406,
          193.63194274902344,
          191.6767578125,
          190.4957275390625,
          191.29962158203125,
          192.1630859375,
          193.03643798828125,
          191.7660675048828,
          194.35647583007812,
          194.97177124023438,
          194.13807678222656,
          191.13088989257812,
          189.73150634765625,
          180.62060546875,
          177.50421142578125,
          178.44705200195312,
          176.8491973876953,
          176.63082885742188,
          176.6904754638672,
          178.35015869140625,
          176.35255432128906,
          175.47802734375,
          172.92388916015625,
          173.41090393066406,
          174.7525177001953,
          176.13392639160156,
          179.9998779296875,
          175.28919982910156,
          177.50540161132812,
          179.07562255859375,
          182.98130798339844,
          186.48948669433594,
          186.70811462402344,
          188.2882843017578,
          188.5268096923828,
          181.77880859375,
          176.46188354492188,
          177.0780487060547,
          178.25074768066406,
          175.20968627929688,
          173.13262939453125,
          174.6531524658203,
          173.92764282226562,
          176.86935424804688,
          177.96253967285156,
          174.40469360351562,
          172.85433959960938,
          173.70901489257812,
          174.9910430908203,
          170.8965301513672,
          169.37599182128906,
          169.63436889648438,
          170.15115356445312,
          172.6754608154297,
          171.3337860107422,
          172.58599853515625,
          173.8282928466797,
          176.39231872558594,
          177.88304138183594,
          177.28677368164062,
          178.68804931640625,
          179.59242248535156,
          177.74392700195312,
          177.61473083496094,
          176.05441284179688,
          174.7525177001953,
          174.3748779296875,
          171.81085205078125,
          171.9300994873047,
          172.36737060546875,
          170.04185485839844,
          165.8578643798828,
          167.1796417236328,
          169.23684692382812,
          169.71388244628906,
          172.89410400390625,
          176.47183227539062,
          175.55752563476562,
          178.12155151367188,
          180.69557189941406,
          181.75892639160156,
          181.2819061279297,
          185.49127197265625,
          183.89906311035156,
          186.5261993408203,
          187.0934295654297,
          188.78512573242188,
          188.76524353027344,
          190.5166473388672,
          189.71060180664062,
          190.37733459472656,
          189.04388427734375,
          188.86474609375,
          189.47177124023438,
          188.44679260253906,
          189.02395629882812,
          190.30767822265625,
          188.50650024414062,
          192.47703552246094,
          191.38241577148438,
          193.32290649414062,
          194.75587463378906,
          192.2382049560547,
          193.76077270507812,
          196.9949188232422,
          197.14418029785156,
          196.60682678222656,
          194.93499755859375,
          195.9799041748047,
          193.88018798828125,
          193.7308807373047,
          192.6561737060547,
          192.10885620117188,
          192.2083740234375,
          192.6362762451172,
          191.59136962890625
         ]
        },
        {
         "marker": {
          "color": "green",
          "size": 10,
          "symbol": "triangle-up"
         },
         "mode": "markers",
         "name": "Trend Buy Signal",
         "type": "scatter",
         "x": [
          "2023-01-24T00:00:00",
          "2023-01-25T00:00:00",
          "2023-01-26T00:00:00",
          "2023-01-27T00:00:00",
          "2023-01-30T00:00:00",
          "2023-01-31T00:00:00",
          "2023-02-01T00:00:00",
          "2023-02-02T00:00:00",
          "2023-02-03T00:00:00",
          "2023-02-06T00:00:00",
          "2023-02-07T00:00:00",
          "2023-02-08T00:00:00",
          "2023-02-09T00:00:00",
          "2023-02-10T00:00:00",
          "2023-02-13T00:00:00",
          "2023-02-14T00:00:00",
          "2023-02-15T00:00:00",
          "2023-03-16T00:00:00",
          "2023-03-17T00:00:00",
          "2023-03-20T00:00:00",
          "2023-03-21T00:00:00",
          "2023-03-22T00:00:00",
          "2023-03-23T00:00:00",
          "2023-03-24T00:00:00",
          "2023-03-27T00:00:00",
          "2023-03-28T00:00:00",
          "2023-03-29T00:00:00",
          "2023-03-30T00:00:00",
          "2023-03-31T00:00:00",
          "2023-04-03T00:00:00",
          "2023-04-04T00:00:00",
          "2023-05-05T00:00:00",
          "2023-05-12T00:00:00",
          "2023-06-09T00:00:00",
          "2023-06-12T00:00:00",
          "2023-06-13T00:00:00",
          "2023-06-14T00:00:00",
          "2023-06-15T00:00:00",
          "2023-06-16T00:00:00",
          "2023-06-20T00:00:00",
          "2023-08-29T00:00:00",
          "2023-08-30T00:00:00",
          "2023-08-31T00:00:00",
          "2023-09-01T00:00:00",
          "2023-09-05T00:00:00",
          "2023-09-06T00:00:00",
          "2023-09-07T00:00:00",
          "2023-09-08T00:00:00",
          "2023-11-06T00:00:00",
          "2023-11-07T00:00:00",
          "2023-11-08T00:00:00",
          "2023-11-09T00:00:00",
          "2023-11-10T00:00:00",
          "2023-11-13T00:00:00",
          "2023-11-14T00:00:00",
          "2023-11-15T00:00:00",
          "2023-11-16T00:00:00",
          "2023-11-17T00:00:00",
          "2023-11-20T00:00:00"
         ],
         "y": [
          141.04678344726562,
          140.3837432861328,
          142.46188354492188,
          144.411376953125,
          141.51185607910156,
          142.78843688964844,
          143.91659545898438,
          149.25050354003906,
          152.89218139648438,
          150.15103149414062,
          153.04063415527344,
          150.33905029296875,
          149.29998779296875,
          149.6666717529297,
          152.48141479492188,
          151.83718872070312,
          153.94825744628906,
          154.463623046875,
          153.62118530273438,
          155.99981689453125,
          157.8631134033203,
          156.42601013183594,
          157.51622009277344,
          158.82449340820312,
          156.87200927734375,
          156.2476043701172,
          159.33985900878906,
          160.91571044921875,
          163.43310546875,
          164.69183349609375,
          164.15664672851562,
          172.0260009765625,
          171.271484375,
          179.59835815429688,
          182.4070281982422,
          181.93063354492188,
          182.56582641601562,
          184.61033630371094,
          183.5285186767578,
          183.6178436279297,
          182.98130798339844,
          186.48948669433594,
          186.70811462402344,
          188.2882843017578,
          188.5268096923828,
          181.77880859375,
          176.46188354492188,
          177.0780487060547,
          178.12155151367188,
          180.69557189941406,
          181.75892639160156,
          181.2819061279297,
          185.49127197265625,
          183.89906311035156,
          186.5261993408203,
          187.0934295654297,
          188.78512573242188,
          188.76524353027344,
          190.5166473388672
         ]
        },
        {
         "marker": {
          "color": "red",
          "size": 10,
          "symbol": "triangle-down"
         },
         "mode": "markers",
         "name": "Trend Sell Signal",
         "type": "scatter",
         "x": [
          "2023-02-23T00:00:00",
          "2023-03-10T00:00:00",
          "2023-08-04T00:00:00",
          "2023-08-07T00:00:00",
          "2023-08-08T00:00:00",
          "2023-08-09T00:00:00",
          "2023-08-10T00:00:00",
          "2023-08-11T00:00:00",
          "2023-08-14T00:00:00",
          "2023-08-15T00:00:00",
          "2023-08-23T00:00:00",
          "2023-08-24T00:00:00",
          "2023-09-12T00:00:00",
          "2023-09-13T00:00:00",
          "2023-09-14T00:00:00",
          "2023-09-15T00:00:00",
          "2023-09-18T00:00:00",
          "2023-09-19T00:00:00",
          "2023-09-20T00:00:00",
          "2023-09-21T00:00:00",
          "2023-09-22T00:00:00",
          "2023-09-25T00:00:00",
          "2023-09-26T00:00:00",
          "2023-09-27T00:00:00",
          "2023-09-28T00:00:00",
          "2023-09-29T00:00:00",
          "2023-10-02T00:00:00",
          "2023-10-03T00:00:00"
         ],
         "y": [
          148.0709991455078,
          147.17901611328125,
          180.62060546875,
          177.50421142578125,
          178.44705200195312,
          176.8491973876953,
          176.63082885742188,
          176.6904754638672,
          178.35015869140625,
          176.35255432128906,
          179.9998779296875,
          175.28919982910156,
          175.20968627929688,
          173.13262939453125,
          174.6531524658203,
          173.92764282226562,
          176.86935424804688,
          177.96253967285156,
          174.40469360351562,
          172.85433959960938,
          173.70901489257812,
          174.9910430908203,
          170.8965301513672,
          169.37599182128906,
          169.63436889648438,
          170.15115356445312,
          172.6754608154297,
          171.3337860107422
         ]
        }
       ],
       "layout": {
        "hovermode": "x unified",
        "template": {
         "data": {
          "bar": [
           {
            "error_x": {
             "color": "#2a3f5f"
            },
            "error_y": {
             "color": "#2a3f5f"
            },
            "marker": {
             "line": {
              "color": "#E5ECF6",
              "width": 0.5
             },
             "pattern": {
              "fillmode": "overlay",
              "size": 10,
              "solidity": 0.2
             }
            },
            "type": "bar"
           }
          ],
          "barpolar": [
           {
            "marker": {
             "line": {
              "color": "#E5ECF6",
              "width": 0.5
             },
             "pattern": {
              "fillmode": "overlay",
              "size": 10,
              "solidity": 0.2
             }
            },
            "type": "barpolar"
           }
          ],
          "carpet": [
           {
            "aaxis": {
             "endlinecolor": "#2a3f5f",
             "gridcolor": "white",
             "linecolor": "white",
             "minorgridcolor": "white",
             "startlinecolor": "#2a3f5f"
            },
            "baxis": {
             "endlinecolor": "#2a3f5f",
             "gridcolor": "white",
             "linecolor": "white",
             "minorgridcolor": "white",
             "startlinecolor": "#2a3f5f"
            },
            "type": "carpet"
           }
          ],
          "choropleth": [
           {
            "colorbar": {
             "outlinewidth": 0,
             "ticks": ""
            },
            "type": "choropleth"
           }
          ],
          "contour": [
           {
            "colorbar": {
             "outlinewidth": 0,
             "ticks": ""
            },
            "colorscale": [
             [
              0,
              "#0d0887"
             ],
             [
              0.1111111111111111,
              "#46039f"
             ],
             [
              0.2222222222222222,
              "#7201a8"
             ],
             [
              0.3333333333333333,
              "#9c179e"
             ],
             [
              0.4444444444444444,
              "#bd3786"
             ],
             [
              0.5555555555555556,
              "#d8576b"
             ],
             [
              0.6666666666666666,
              "#ed7953"
             ],
             [
              0.7777777777777778,
              "#fb9f3a"
             ],
             [
              0.8888888888888888,
              "#fdca26"
             ],
             [
              1,
              "#f0f921"
             ]
            ],
            "type": "contour"
           }
          ],
          "contourcarpet": [
           {
            "colorbar": {
             "outlinewidth": 0,
             "ticks": ""
            },
            "type": "contourcarpet"
           }
          ],
          "heatmap": [
           {
            "colorbar": {
             "outlinewidth": 0,
             "ticks": ""
            },
            "colorscale": [
             [
              0,
              "#0d0887"
             ],
             [
              0.1111111111111111,
              "#46039f"
             ],
             [
              0.2222222222222222,
              "#7201a8"
             ],
             [
              0.3333333333333333,
              "#9c179e"
             ],
             [
              0.4444444444444444,
              "#bd3786"
             ],
             [
              0.5555555555555556,
              "#d8576b"
             ],
             [
              0.6666666666666666,
              "#ed7953"
             ],
             [
              0.7777777777777778,
              "#fb9f3a"
             ],
             [
              0.8888888888888888,
              "#fdca26"
             ],
             [
              1,
              "#f0f921"
             ]
            ],
            "type": "heatmap"
           }
          ],
          "heatmapgl": [
           {
            "colorbar": {
             "outlinewidth": 0,
             "ticks": ""
            },
            "colorscale": [
             [
              0,
              "#0d0887"
             ],
             [
              0.1111111111111111,
              "#46039f"
             ],
             [
              0.2222222222222222,
              "#7201a8"
             ],
             [
              0.3333333333333333,
              "#9c179e"
             ],
             [
              0.4444444444444444,
              "#bd3786"
             ],
             [
              0.5555555555555556,
              "#d8576b"
             ],
             [
              0.6666666666666666,
              "#ed7953"
             ],
             [
              0.7777777777777778,
              "#fb9f3a"
             ],
             [
              0.8888888888888888,
              "#fdca26"
             ],
             [
              1,
              "#f0f921"
             ]
            ],
            "type": "heatmapgl"
           }
          ],
          "histogram": [
           {
            "marker": {
             "pattern": {
              "fillmode": "overlay",
              "size": 10,
              "solidity": 0.2
             }
            },
            "type": "histogram"
           }
          ],
          "histogram2d": [
           {
            "colorbar": {
             "outlinewidth": 0,
             "ticks": ""
            },
            "colorscale": [
             [
              0,
              "#0d0887"
             ],
             [
              0.1111111111111111,
              "#46039f"
             ],
             [
              0.2222222222222222,
              "#7201a8"
             ],
             [
              0.3333333333333333,
              "#9c179e"
             ],
             [
              0.4444444444444444,
              "#bd3786"
             ],
             [
              0.5555555555555556,
              "#d8576b"
             ],
             [
              0.6666666666666666,
              "#ed7953"
             ],
             [
              0.7777777777777778,
              "#fb9f3a"
             ],
             [
              0.8888888888888888,
              "#fdca26"
             ],
             [
              1,
              "#f0f921"
             ]
            ],
            "type": "histogram2d"
           }
          ],
          "histogram2dcontour": [
           {
            "colorbar": {
             "outlinewidth": 0,
             "ticks": ""
            },
            "colorscale": [
             [
              0,
              "#0d0887"
             ],
             [
              0.1111111111111111,
              "#46039f"
             ],
             [
              0.2222222222222222,
              "#7201a8"
             ],
             [
              0.3333333333333333,
              "#9c179e"
             ],
             [
              0.4444444444444444,
              "#bd3786"
             ],
             [
              0.5555555555555556,
              "#d8576b"
             ],
             [
              0.6666666666666666,
              "#ed7953"
             ],
             [
              0.7777777777777778,
              "#fb9f3a"
             ],
             [
              0.8888888888888888,
              "#fdca26"
             ],
             [
              1,
              "#f0f921"
             ]
            ],
            "type": "histogram2dcontour"
           }
          ],
          "mesh3d": [
           {
            "colorbar": {
             "outlinewidth": 0,
             "ticks": ""
            },
            "type": "mesh3d"
           }
          ],
          "parcoords": [
           {
            "line": {
             "colorbar": {
              "outlinewidth": 0,
              "ticks": ""
             }
            },
            "type": "parcoords"
           }
          ],
          "pie": [
           {
            "automargin": true,
            "type": "pie"
           }
          ],
          "scatter": [
           {
            "fillpattern": {
             "fillmode": "overlay",
             "size": 10,
             "solidity": 0.2
            },
            "type": "scatter"
           }
          ],
          "scatter3d": [
           {
            "line": {
             "colorbar": {
              "outlinewidth": 0,
              "ticks": ""
             }
            },
            "marker": {
             "colorbar": {
              "outlinewidth": 0,
              "ticks": ""
             }
            },
            "type": "scatter3d"
           }
          ],
          "scattercarpet": [
           {
            "marker": {
             "colorbar": {
              "outlinewidth": 0,
              "ticks": ""
             }
            },
            "type": "scattercarpet"
           }
          ],
          "scattergeo": [
           {
            "marker": {
             "colorbar": {
              "outlinewidth": 0,
              "ticks": ""
             }
            },
            "type": "scattergeo"
           }
          ],
          "scattergl": [
           {
            "marker": {
             "colorbar": {
              "outlinewidth": 0,
              "ticks": ""
             }
            },
            "type": "scattergl"
           }
          ],
          "scattermapbox": [
           {
            "marker": {
             "colorbar": {
              "outlinewidth": 0,
              "ticks": ""
             }
            },
            "type": "scattermapbox"
           }
          ],
          "scatterpolar": [
           {
            "marker": {
             "colorbar": {
              "outlinewidth": 0,
              "ticks": ""
             }
            },
            "type": "scatterpolar"
           }
          ],
          "scatterpolargl": [
           {
            "marker": {
             "colorbar": {
              "outlinewidth": 0,
              "ticks": ""
             }
            },
            "type": "scatterpolargl"
           }
          ],
          "scatterternary": [
           {
            "marker": {
             "colorbar": {
              "outlinewidth": 0,
              "ticks": ""
             }
            },
            "type": "scatterternary"
           }
          ],
          "surface": [
           {
            "colorbar": {
             "outlinewidth": 0,
             "ticks": ""
            },
            "colorscale": [
             [
              0,
              "#0d0887"
             ],
             [
              0.1111111111111111,
              "#46039f"
             ],
             [
              0.2222222222222222,
              "#7201a8"
             ],
             [
              0.3333333333333333,
              "#9c179e"
             ],
             [
              0.4444444444444444,
              "#bd3786"
             ],
             [
              0.5555555555555556,
              "#d8576b"
             ],
             [
              0.6666666666666666,
              "#ed7953"
             ],
             [
              0.7777777777777778,
              "#fb9f3a"
             ],
             [
              0.8888888888888888,
              "#fdca26"
             ],
             [
              1,
              "#f0f921"
             ]
            ],
            "type": "surface"
           }
          ],
          "table": [
           {
            "cells": {
             "fill": {
              "color": "#EBF0F8"
             },
             "line": {
              "color": "white"
             }
            },
            "header": {
             "fill": {
              "color": "#C8D4E3"
             },
             "line": {
              "color": "white"
             }
            },
            "type": "table"
           }
          ]
         },
         "layout": {
          "annotationdefaults": {
           "arrowcolor": "#2a3f5f",
           "arrowhead": 0,
           "arrowwidth": 1
          },
          "autotypenumbers": "strict",
          "coloraxis": {
           "colorbar": {
            "outlinewidth": 0,
            "ticks": ""
           }
          },
          "colorscale": {
           "diverging": [
            [
             0,
             "#8e0152"
            ],
            [
             0.1,
             "#c51b7d"
            ],
            [
             0.2,
             "#de77ae"
            ],
            [
             0.3,
             "#f1b6da"
            ],
            [
             0.4,
             "#fde0ef"
            ],
            [
             0.5,
             "#f7f7f7"
            ],
            [
             0.6,
             "#e6f5d0"
            ],
            [
             0.7,
             "#b8e186"
            ],
            [
             0.8,
             "#7fbc41"
            ],
            [
             0.9,
             "#4d9221"
            ],
            [
             1,
             "#276419"
            ]
           ],
           "sequential": [
            [
             0,
             "#0d0887"
            ],
            [
             0.1111111111111111,
             "#46039f"
            ],
            [
             0.2222222222222222,
             "#7201a8"
            ],
            [
             0.3333333333333333,
             "#9c179e"
            ],
            [
             0.4444444444444444,
             "#bd3786"
            ],
            [
             0.5555555555555556,
             "#d8576b"
            ],
            [
             0.6666666666666666,
             "#ed7953"
            ],
            [
             0.7777777777777778,
             "#fb9f3a"
            ],
            [
             0.8888888888888888,
             "#fdca26"
            ],
            [
             1,
             "#f0f921"
            ]
           ],
           "sequentialminus": [
            [
             0,
             "#0d0887"
            ],
            [
             0.1111111111111111,
             "#46039f"
            ],
            [
             0.2222222222222222,
             "#7201a8"
            ],
            [
             0.3333333333333333,
             "#9c179e"
            ],
            [
             0.4444444444444444,
             "#bd3786"
            ],
            [
             0.5555555555555556,
             "#d8576b"
            ],
            [
             0.6666666666666666,
             "#ed7953"
            ],
            [
             0.7777777777777778,
             "#fb9f3a"
            ],
            [
             0.8888888888888888,
             "#fdca26"
            ],
            [
             1,
             "#f0f921"
            ]
           ]
          },
          "colorway": [
           "#636efa",
           "#EF553B",
           "#00cc96",
           "#ab63fa",
           "#FFA15A",
           "#19d3f3",
           "#FF6692",
           "#B6E880",
           "#FF97FF",
           "#FECB52"
          ],
          "font": {
           "color": "#2a3f5f"
          },
          "geo": {
           "bgcolor": "white",
           "lakecolor": "white",
           "landcolor": "#E5ECF6",
           "showlakes": true,
           "showland": true,
           "subunitcolor": "white"
          },
          "hoverlabel": {
           "align": "left"
          },
          "hovermode": "closest",
          "mapbox": {
           "style": "light"
          },
          "paper_bgcolor": "white",
          "plot_bgcolor": "#E5ECF6",
          "polar": {
           "angularaxis": {
            "gridcolor": "white",
            "linecolor": "white",
            "ticks": ""
           },
           "bgcolor": "#E5ECF6",
           "radialaxis": {
            "gridcolor": "white",
            "linecolor": "white",
            "ticks": ""
           }
          },
          "scene": {
           "xaxis": {
            "backgroundcolor": "#E5ECF6",
            "gridcolor": "white",
            "gridwidth": 2,
            "linecolor": "white",
            "showbackground": true,
            "ticks": "",
            "zerolinecolor": "white"
           },
           "yaxis": {
            "backgroundcolor": "#E5ECF6",
            "gridcolor": "white",
            "gridwidth": 2,
            "linecolor": "white",
            "showbackground": true,
            "ticks": "",
            "zerolinecolor": "white"
           },
           "zaxis": {
            "backgroundcolor": "#E5ECF6",
            "gridcolor": "white",
            "gridwidth": 2,
            "linecolor": "white",
            "showbackground": true,
            "ticks": "",
            "zerolinecolor": "white"
           }
          },
          "shapedefaults": {
           "line": {
            "color": "#2a3f5f"
           }
          },
          "ternary": {
           "aaxis": {
            "gridcolor": "white",
            "linecolor": "white",
            "ticks": ""
           },
           "baxis": {
            "gridcolor": "white",
            "linecolor": "white",
            "ticks": ""
           },
           "bgcolor": "#E5ECF6",
           "caxis": {
            "gridcolor": "white",
            "linecolor": "white",
            "ticks": ""
           }
          },
          "title": {
           "x": 0.05
          },
          "xaxis": {
           "automargin": true,
           "gridcolor": "white",
           "linecolor": "white",
           "ticks": "",
           "title": {
            "standoff": 15
           },
           "zerolinecolor": "white",
           "zerolinewidth": 2
          },
          "yaxis": {
           "automargin": true,
           "gridcolor": "white",
           "linecolor": "white",
           "ticks": "",
           "title": {
            "standoff": 15
           },
           "zerolinecolor": "white",
           "zerolinewidth": 2
          }
         }
        },
        "title": {
         "text": "AAPL - Price with MACD Buy/Sell Signals"
        },
        "xaxis": {
         "rangeslider": {
          "visible": false
         },
         "title": {
          "text": "Date"
         }
        },
        "yaxis": {
         "title": {
          "text": "Price (USD)"
         }
        }
       }
      }
     },
     "metadata": {},
     "output_type": "display_data"
    },
    {
     "name": "stdout",
     "output_type": "stream",
     "text": [
      "Buying  at 2023-01-24 00:00:00: 141.05\n",
      "Selling at 2023-02-23 00:00:00: 148.07 | Profit: 4.98%\n",
      "Buying  at 2023-03-16 00:00:00: 154.46\n",
      "Selling at 2023-08-04 00:00:00: 180.62 | Profit: 16.93%\n",
      "Buying  at 2023-08-29 00:00:00: 182.98\n",
      "Selling at 2023-09-12 00:00:00: 175.21 | Loss: -4.25%\n",
      "Buying  at 2023-11-06 00:00:00: 178.12\n",
      "Win Rate: 66.67%\n"
     ]
    }
   ],
   "source": [
    "#Load data\n",
    "instrument='AAPL'\n",
    "data = get_data(instrument=instrument, start_date='2023-01-01', end_date='2024-01-01', interval='1d')\n",
    "\n",
    "#Calculate strategy\n",
    "data = macd(data)\n",
    "data = rsi(data)\n",
    "data = atr(data)\n",
    "data = data.dropna()\n",
    "\n",
    "data = run_strategy(data=data, strategy='Trend-Following')\n",
    "\n",
    "#plot\n",
    "plot_buy_sell_signal(data=data, instrument=instrument, buy_signal_column='Trend Buy Signal', sell_signal_column='Trend Sell Signal', title = 'Price with MACD Buy/Sell Signals')\n",
    "win_rate = calculate_win_rate(data=data, buy_signal_column='Trend Buy Signal', sell_signal_column='Trend Sell Signal')\n",
    "\n",
    "\n",
    "\n",
    "\n",
    "clean_data = data[['Adj Close', 'Trend Buy Signal', 'Trend Sell Signal']].copy()\n",
    "\n",
    "# Create the \"Full Data\" DataFrame with all calculated indicators and signals\n",
    "full_data = data.copy()  # This contains all columns by default\n"
   ]
  },
  {
   "cell_type": "code",
   "execution_count": 62,
   "metadata": {},
   "outputs": [
    {
     "name": "stdout",
     "output_type": "stream",
     "text": [
      "             Adj Close  Trend Buy Signal  Trend Sell Signal\n",
      "Date                                                       \n",
      "2023-01-13  133.357635                 0                  0\n",
      "2023-01-17  134.525345                 1                  0\n",
      "2023-01-18  133.802948                 1                  0\n",
      "2023-01-19  133.862320                 0                  0\n",
      "2023-01-20  136.435257                 1                  0\n",
      "...                ...               ...                ...\n",
      "2023-08-25  177.505417                 0                  0\n",
      "2023-08-28  179.075623                 1                  0\n",
      "2023-08-29  182.981323                 1                  0\n",
      "2023-08-30  186.489487                 1                  0\n",
      "2023-08-31  186.708130                 1                  0\n",
      "\n",
      "[159 rows x 3 columns]\n",
      "                  Open        High         Low       Close   Adj Close  \\\n",
      "Date                                                                     \n",
      "2023-01-13  132.029999  134.919998  131.660004  134.759995  133.357635   \n",
      "2023-01-17  134.830002  137.289993  134.130005  135.940002  134.525345   \n",
      "2023-01-18  136.820007  138.610001  135.029999  135.210007  133.802948   \n",
      "2023-01-19  134.080002  136.250000  133.770004  135.270004  133.862320   \n",
      "2023-01-20  135.279999  138.020004  134.220001  137.869995  136.435257   \n",
      "...                ...         ...         ...         ...         ...   \n",
      "2023-08-25  177.380005  179.149994  175.820007  178.610001  177.505417   \n",
      "2023-08-28  180.089996  180.589996  178.550003  180.190002  179.075623   \n",
      "2023-08-29  179.699997  184.899994  179.500000  184.119995  182.981323   \n",
      "2023-08-30  184.940002  187.850006  184.740005  187.649994  186.489487   \n",
      "2023-08-31  187.839996  189.119995  187.479996  187.869995  186.708130   \n",
      "\n",
      "              Volume      MACD  Signal Line  MACD Buy Signal  \\\n",
      "Date                                                           \n",
      "2023-01-13  57809700  2.364405     1.346505                0   \n",
      "2023-01-17  63646600  2.582224     1.593649                0   \n",
      "2023-01-18  69672800  2.506987     1.776317                0   \n",
      "2023-01-19  58280400  2.367078     1.894469                0   \n",
      "2023-01-20  80223600  2.552367     2.026049                0   \n",
      "...              ...       ...          ...              ...   \n",
      "2023-08-25  51449600 -1.056186    -2.122438                0   \n",
      "2023-08-28  43820700 -0.561663    -1.810283                0   \n",
      "2023-08-29  53003900  0.321988    -1.383829                0   \n",
      "2023-08-30  60813900  1.351023    -0.836858                0   \n",
      "2023-08-31  60794500  1.957136    -0.278059                0   \n",
      "\n",
      "            MACD Sell Signal        RSI       ATR  Trend Buy Signal  \\\n",
      "Date                                                                  \n",
      "2023-01-13                 0  88.667145  4.011474                 0   \n",
      "2023-01-17                 0  89.642535  4.143240                 1   \n",
      "2023-01-18                 0  83.650160  3.788047                 1   \n",
      "2023-01-19                 0  93.176045  3.408205                 0   \n",
      "2023-01-20                 0  91.793273  3.553589                 1   \n",
      "...                      ...        ...       ...               ...   \n",
      "2023-08-25                 0  47.826128  3.883353                 0   \n",
      "2023-08-28                 0  57.165330  3.748293                 1   \n",
      "2023-08-29                 0  67.027507  4.131775                 1   \n",
      "2023-08-30                 0  79.507140  4.438858                 1   \n",
      "2023-08-31                 0  79.265088  4.396434                 1   \n",
      "\n",
      "            Trend Sell Signal  \n",
      "Date                           \n",
      "2023-01-13                  0  \n",
      "2023-01-17                  0  \n",
      "2023-01-18                  0  \n",
      "2023-01-19                  0  \n",
      "2023-01-20                  0  \n",
      "...                       ...  \n",
      "2023-08-25                  0  \n",
      "2023-08-28                  0  \n",
      "2023-08-29                  0  \n",
      "2023-08-30                  0  \n",
      "2023-08-31                  0  \n",
      "\n",
      "[159 rows x 14 columns]\n"
     ]
    }
   ],
   "source": [
    "print(clean_data)\n",
    "print(full_data)"
   ]
  },
  {
   "cell_type": "code",
   "execution_count": null,
   "metadata": {},
   "outputs": [],
   "source": []
  }
 ],
 "metadata": {
  "kernelspec": {
   "display_name": "base",
   "language": "python",
   "name": "python3"
  },
  "language_info": {
   "codemirror_mode": {
    "name": "ipython",
    "version": 3
   },
   "file_extension": ".py",
   "mimetype": "text/x-python",
   "name": "python",
   "nbconvert_exporter": "python",
   "pygments_lexer": "ipython3",
   "version": "3.10.9"
  }
 },
 "nbformat": 4,
 "nbformat_minor": 2
}
