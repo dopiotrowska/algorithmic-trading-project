{
 "cells": [
  {
   "cell_type": "code",
   "execution_count": 421,
   "metadata": {},
   "outputs": [
    {
     "name": "stdout",
     "output_type": "stream",
     "text": [
      "Requirement already satisfied: yfinance==0.1.70 in /usr/local/lib/python3.10/site-packages (from -r Project1/requirements.txt (line 1)) (0.1.70)\n",
      "Requirement already satisfied: plotly==5.3.1 in /usr/local/lib/python3.10/site-packages (from -r Project1/requirements.txt (line 2)) (5.3.1)\n",
      "Requirement already satisfied: pandas==1.4.2 in /usr/local/lib/python3.10/site-packages (from -r Project1/requirements.txt (line 3)) (1.4.2)\n",
      "Requirement already satisfied: numpy>=1.15 in /usr/local/lib/python3.10/site-packages (from yfinance==0.1.70->-r Project1/requirements.txt (line 1)) (1.23.3)\n",
      "Requirement already satisfied: requests>=2.26 in /usr/local/lib/python3.10/site-packages (from yfinance==0.1.70->-r Project1/requirements.txt (line 1)) (2.28.1)\n",
      "Requirement already satisfied: multitasking>=0.0.7 in /usr/local/lib/python3.10/site-packages (from yfinance==0.1.70->-r Project1/requirements.txt (line 1)) (0.0.11)\n",
      "Requirement already satisfied: lxml>=4.5.1 in /usr/local/lib/python3.10/site-packages (from yfinance==0.1.70->-r Project1/requirements.txt (line 1)) (4.9.1)\n",
      "Requirement already satisfied: tenacity>=6.2.0 in /usr/local/lib/python3.10/site-packages (from plotly==5.3.1->-r Project1/requirements.txt (line 2)) (8.1.0)\n",
      "Requirement already satisfied: six in /Users/dominikapiotrowska/Library/Python/3.10/lib/python/site-packages (from plotly==5.3.1->-r Project1/requirements.txt (line 2)) (1.16.0)\n",
      "Requirement already satisfied: python-dateutil>=2.8.1 in /Users/dominikapiotrowska/Library/Python/3.10/lib/python/site-packages (from pandas==1.4.2->-r Project1/requirements.txt (line 3)) (2.8.2)\n",
      "Requirement already satisfied: pytz>=2020.1 in /usr/local/lib/python3.10/site-packages (from pandas==1.4.2->-r Project1/requirements.txt (line 3)) (2022.2.1)\n",
      "Requirement already satisfied: charset-normalizer<3,>=2 in /usr/local/lib/python3.10/site-packages (from requests>=2.26->yfinance==0.1.70->-r Project1/requirements.txt (line 1)) (2.1.1)\n",
      "Requirement already satisfied: idna<4,>=2.5 in /usr/local/lib/python3.10/site-packages (from requests>=2.26->yfinance==0.1.70->-r Project1/requirements.txt (line 1)) (3.4)\n",
      "Requirement already satisfied: urllib3<1.27,>=1.21.1 in /usr/local/lib/python3.10/site-packages (from requests>=2.26->yfinance==0.1.70->-r Project1/requirements.txt (line 1)) (1.26.12)\n",
      "Requirement already satisfied: certifi>=2017.4.17 in /usr/local/lib/python3.10/site-packages (from requests>=2.26->yfinance==0.1.70->-r Project1/requirements.txt (line 1)) (2022.9.14)\n",
      "Note: you may need to restart the kernel to use updated packages.\n"
     ]
    }
   ],
   "source": [
    "pip install -r Project1/requirements.txt"
   ]
  },
  {
   "cell_type": "code",
   "execution_count": 422,
   "metadata": {},
   "outputs": [],
   "source": [
    "import yfinance as yf\n",
    "import plotly.graph_objs as go\n",
    "from plotly.subplots import make_subplots\n",
    "import pandas as pd\n",
    "\n",
    "from sklearn.decomposition import PCA\n",
    "from sklearn.preprocessing import StandardScaler"
   ]
  },
  {
   "cell_type": "markdown",
   "metadata": {},
   "source": [
    "# Data downloading"
   ]
  },
  {
   "cell_type": "code",
   "execution_count": 423,
   "metadata": {},
   "outputs": [],
   "source": [
    "def get_data(instrument: str,\n",
    "             start_date: str,\n",
    "             end_date: str,\n",
    "             interval: str) -> pd.DataFrame:\n",
    "    \"\"\"\n",
    "        Fetch historical market data from Yahoo Finance for a given instrument between the provided start and end dates at the given interval.\n",
    "        The function returns a cleaned DataFrame with the data, excluding any missing values.\n",
    "\n",
    "        Parameters:\n",
    "        instrument (str): The ticker symbol of the instrument e.g. 'MSFT'.\n",
    "        start_date (str): The start date for the data in 'YYYY-MM-DD' format.\n",
    "        end_date (str): The end date for the data in 'YYYY-MM-DD' format.\n",
    "        interval (str): The time interval between data points. Valid intervals are: ['1m', '2m', '5m', '15m', '30m', '60m', '90m', '1h', '1d', '5d', '1wk', '1mo', '3mo'].\n",
    "\n",
    "        Returns:\n",
    "        pd.DataFrame: A Pandas DataFrame containing the historical market data for the given instrument, with any rows containing missing values (NaN) removed.\n",
    "    \"\"\"\n",
    "    \n",
    "    data = yf.download(tickers=instrument,\n",
    "                       start=start_date,\n",
    "                       end=end_date,\n",
    "                       interval=interval)\n",
    "    \n",
    "    data = data.dropna(how='any')\n",
    "\n",
    "    return data"
   ]
  },
  {
   "cell_type": "code",
   "execution_count": 424,
   "metadata": {},
   "outputs": [],
   "source": [
    "def add_vix(df: pd.DataFrame, start_date: str, end_date: str, interval: str) -> pd.DataFrame:\n",
    "    \"\"\"\n",
    "        Add the VIX adjusted close prices as a new column to an existing DataFrame.\n",
    "        \n",
    "        Parameters:\n",
    "        df (pd.DataFrame): The existing DataFrame containing market data with a DateTime index.\n",
    "        start_date (str): The start date for fetching VIX data in 'YYYY-MM-DD' format.\n",
    "        end_date (str): The end date for fetching VIX data in 'YYYY-MM-DD' format.\n",
    "        interval (str): The time interval between data points for VIX.\n",
    "            Valid intervals are: ['1m', '2m', '5m', '15m', '30m', '60m', '90m', '1h', '1d', '5d', '1wk', '1mo', '3mo'].\n",
    "\n",
    "        Returns:\n",
    "        pd.DataFrame: The original DataFrame with an additional 'VIX' column containing adjusted close prices.\n",
    "    \"\"\"\n",
    "\n",
    "    vix_data = yf.download(tickers='^VIX', start=start_date, end=end_date, interval=interval)\n",
    "    vix_data = vix_data[['Adj Close']].rename(columns={'Adj Close': 'VIX'})\n",
    "    df = df.merge(vix_data, how='left', left_index=True, right_index=True)\n",
    "    \n",
    "    return df\n"
   ]
  },
  {
   "cell_type": "markdown",
   "metadata": {},
   "source": [
    "# Indicators"
   ]
  },
  {
   "cell_type": "markdown",
   "metadata": {},
   "source": [
    "## MACD"
   ]
  },
  {
   "cell_type": "code",
   "execution_count": 425,
   "metadata": {},
   "outputs": [],
   "source": [
    "def macd(data: pd.DataFrame) -> pd.DataFrame:\n",
    "    \"\"\"\n",
    "        Calculate the MACD (Moving Average Convergence Divergence) and generate buy/sell signals.\n",
    "\n",
    "        Parameters:\n",
    "        data (pd.DataFrame): DataFrame containing historical market data.\n",
    "\n",
    "        Returns:\n",
    "        pd.DataFrame: DataFrame with additional columns for 'MACD Buy Signal' and 'MACD Sell Signal', where a 1 indicates a signal and 0 means no signal.\n",
    "    \"\"\"\n",
    "\n",
    "    data = data.copy()\n",
    "\n",
    "    data['EMA12'] = data['Adj Close'].ewm(span=12, adjust=False).mean()\n",
    "    data['EMA26'] = data['Adj Close'].ewm(span=26, adjust=False).mean()\n",
    "    data['MACD'] = data['EMA12'] - data['EMA26'] # MACD Line\n",
    "    data['Signal Line'] = data['MACD'].ewm(span=9, adjust=False).mean() # Signal Line\n",
    "\n",
    "    data['MACD Buy Signal'] = 0\n",
    "    data['MACD Sell Signal'] = 0\n",
    "\n",
    "    for i in range(1, len(data)):\n",
    "        # buy signal: MACD crosses above Signal Line\n",
    "        if data['MACD'].iloc[i] > data['Signal Line'].iloc[i] and data['MACD'].iloc[i-1] <= data['Signal Line'].iloc[i-1]:\n",
    "            data.loc[data.index[i], 'MACD Buy Signal'] = 1\n",
    "        # sell signal: MACD crosses below Signal Line\n",
    "        elif data['MACD'].iloc[i] < data['Signal Line'].iloc[i] and data['MACD'].iloc[i-1] >= data['Signal Line'].iloc[i-1]:\n",
    "            data.loc[data.index[i], 'MACD Sell Signal'] = 1\n",
    "\n",
    "    # drop intermediate columns\n",
    "    data = data.drop(columns=['EMA12', 'EMA26'])\n",
    "\n",
    "    return data"
   ]
  },
  {
   "cell_type": "markdown",
   "metadata": {},
   "source": [
    "## RSI\n"
   ]
  },
  {
   "cell_type": "code",
   "execution_count": 426,
   "metadata": {},
   "outputs": [],
   "source": [
    "def rsi(data: pd.DataFrame, period: int = 14) -> pd.DataFrame:\n",
    "    \"\"\"\n",
    "    Calculate the Relative Strength Index (RSI)\n",
    "\n",
    "    Parameters:\n",
    "    data (pd.DataFrame): DataFrame containing historical market data.\n",
    "    period (int): The period over which to calculate RSI, typically 14 days.\n",
    "\n",
    "    Returns:\n",
    "    pd.DataFrame: DataFrame with an additional 'RSI' column.\n",
    "    \"\"\"\n",
    "    delta = data['Adj Close'].diff()\n",
    "    gain = (delta.where(delta > 0, 0)).rolling(window=period).mean()\n",
    "    loss = (-delta.where(delta < 0, 0)).rolling(window=period).mean()\n",
    "    \n",
    "    rs = gain / loss\n",
    "    data['RSI'] = 100 - (100 / (1 + rs))\n",
    "    \n",
    "    return data"
   ]
  },
  {
   "cell_type": "markdown",
   "metadata": {},
   "source": [
    "## ATR"
   ]
  },
  {
   "cell_type": "code",
   "execution_count": 427,
   "metadata": {},
   "outputs": [],
   "source": [
    "def atr(data: pd.DataFrame, period: int = 14) -> pd.DataFrame:\n",
    "    \"\"\"\n",
    "    Calculate the Average True Range (ATR)\n",
    "\n",
    "    Parameters:\n",
    "    data (pd.DataFrame): DataFrame containing historical market data.\n",
    "    period (int): The period over which to calculate ATR, typically 14 days.\n",
    "\n",
    "    Returns:\n",
    "    pd.DataFrame: DataFrame with an additional 'ATR' column.\n",
    "    \"\"\"\n",
    "    high_low = data['High'] - data['Low']\n",
    "    high_close = abs(data['High'] - data['Adj Close'].shift())\n",
    "    low_close = abs(data['Low'] - data['Adj Close'].shift())\n",
    "    \n",
    "    true_range = pd.concat([high_low, high_close, low_close], axis=1).max(axis=1)\n",
    "    data['ATR'] = true_range.rolling(window=period).mean()\n",
    "    \n",
    "    return data"
   ]
  },
  {
   "cell_type": "markdown",
   "metadata": {},
   "source": [
    "## PCA calculation"
   ]
  },
  {
   "cell_type": "code",
   "execution_count": 428,
   "metadata": {},
   "outputs": [],
   "source": [
    "def apply_pca_trend_following(data: pd.DataFrame, indicators: list = ['MACD', 'RSI', 'ATR'],\n",
    "                           n_components: int = 2, buy_threshold: float = 0.5, sell_threshold: float = -0.5) -> pd.DataFrame:\n",
    "    \"\"\"\n",
    "    Apply PCA to reduce specified indicators to principal components and generate buy/sell signals.\n",
    "\n",
    "    Parameters:\n",
    "    data (pd.DataFrame): DataFrame containing calculated indicators.\n",
    "    indicators (list): List of column names to include in PCA (default is ['MACD', 'RSI', 'ATR']).\n",
    "    n_components (int): Number of principal components to keep (default is 2).\n",
    "    buy_threshold (float): Threshold above which to generate a buy signal for PC1.\n",
    "    sell_threshold (float): Threshold below which to generate a sell signal for PC1.\n",
    "\n",
    "    Returns:\n",
    "    pd.DataFrame: DataFrame with additional columns for 'PC1', 'PC2' (if n_components=2), 'PCA Buy Signal', and 'PCA Sell Signal'.\n",
    "    \"\"\"\n",
    "    # Ensure that required indicators are in the DataFrame\n",
    "    for indicator in indicators:\n",
    "        if indicator not in data.columns:\n",
    "            raise ValueError(f\"Missing indicator {indicator} in data. Please calculate {indicator} first.\")\n",
    "    \n",
    "    # Standardize the data for the selected indicators\n",
    "    scaler = StandardScaler()\n",
    "    data_scaled = scaler.fit_transform(data[indicators])\n",
    "\n",
    "    # Apply PCA\n",
    "    pca = PCA(n_components=n_components)\n",
    "    principal_components = pca.fit_transform(data_scaled)\n",
    "\n",
    "    # Add the principal components to the DataFrame\n",
    "    for i in range(n_components):\n",
    "        data[f'PC{i+1}'] = principal_components[:, i]\n",
    "    \n",
    "    # Generate buy/sell signals based on the first principal component (PC1)\n",
    "    data['PCA Buy Signal'] = 0\n",
    "    data['PCA Sell Signal'] = 0\n",
    "\n",
    "    for i in range(1, len(data)):\n",
    "        # Buy Signal\n",
    "        if data['PC1'].iloc[i] > buy_threshold:\n",
    "            data.loc[data.index[i], 'PCA Buy Signal'] = 1\n",
    "        # Sell Signal\n",
    "        elif data['PC1'].iloc[i] < sell_threshold:\n",
    "            data.loc[data.index[i], 'PCA Sell Signal'] = 1\n",
    "\n",
    "    return data"
   ]
  },
  {
   "cell_type": "markdown",
   "metadata": {},
   "source": [
    "## Trend-following strategy"
   ]
  },
  {
   "cell_type": "code",
   "execution_count": 429,
   "metadata": {},
   "outputs": [],
   "source": [
    "def trend_following_strategy(data: pd.DataFrame) -> pd.DataFrame:\n",
    "    \"\"\"\n",
    "    Calculate buy/sell signals based on MACD, RSI, and ATR indicators for trend-following strategy.\n",
    "\n",
    "    Parameters:\n",
    "    data (pd.DataFrame): DataFrame containing historical market data with MACD, RSI, and ATR.\n",
    "\n",
    "    Returns:\n",
    "    pd.DataFrame: DataFrame with additional columns for 'Trend Buy Signal' and 'Trend Sell Signal'.\n",
    "    \"\"\"\n",
    "    data = data.copy()\n",
    "    \n",
    "    data['Trend Buy Signal'] = 0\n",
    "    data['Trend Sell Signal'] = 0\n",
    "\n",
    "    for i in range(1, len(data)):\n",
    "        # Buy signal: MACD bullish, RSI > 50, and ATR is high\n",
    "        if (data['MACD'].iloc[i] > data['Signal Line'].iloc[i] and \n",
    "            data['RSI'].iloc[i] > 50 and \n",
    "            data['ATR'].iloc[i] > data['ATR'].mean()):\n",
    "            data.loc[data.index[i], 'Trend Buy Signal'] = 1\n",
    "        \n",
    "        # Sell signal: MACD bearish, RSI < 50, and ATR is high\n",
    "        elif (data['MACD'].iloc[i] < data['Signal Line'].iloc[i] and \n",
    "              data['RSI'].iloc[i] < 50 and \n",
    "              data['ATR'].iloc[i] > data['ATR'].mean()):\n",
    "            data.loc[data.index[i], 'Trend Sell Signal'] = 1\n",
    "\n",
    "    return data"
   ]
  },
  {
   "cell_type": "markdown",
   "metadata": {},
   "source": [
    "## Trend-reversal strategy"
   ]
  },
  {
   "cell_type": "code",
   "execution_count": 430,
   "metadata": {},
   "outputs": [],
   "source": [
    "# def trend_reversal_strategy(data: pd.DataFrame) -> pd.DataFrame:\n",
    "#     \"\"\"\n",
    "#     Calculate buy/sell signals based on MACD, RSI, and VIX indicators for a trend reversal strategy.\n",
    "\n",
    "#     Parameters:\n",
    "#     data (pd.DataFrame): DataFrame containing historical market data with columns for 'MACD', 'Signal Line', 'RSI', and 'VIX'.\n",
    "\n",
    "#     Returns:\n",
    "#     pd.DataFrame: DataFrame with additional columns for 'Trend Buy Signal' and 'Trend Sell Signal'.\n",
    "#     \"\"\"\n",
    "#     data = data.copy()\n",
    "    \n",
    "#     data['Trend Buy Signal'] = 0\n",
    "#     data['Trend Sell Signal'] = 0\n",
    "\n",
    "#     for i in range(1, len(data)):\n",
    "#         # Buy signal: RSI < 40, MACD bullish, VIX is high\n",
    "#         if (data['RSI'].iloc[i] < 40 and \n",
    "#             data['MACD'].iloc[i] > data['Signal Line'].iloc[i] and \n",
    "#             data['VIX'].iloc[i] > data['VIX'].mean()):\n",
    "#             data.loc[data.index[i], 'Trend Buy Signal'] = 1\n",
    "\n",
    "#         # Sell signal: RSI > 60, MACD bearish, VIX is low\n",
    "#         elif (data['RSI'].iloc[i] > 60 and \n",
    "#               data['MACD'].iloc[i] < data['Signal Line'].iloc[i] and \n",
    "#               data['VIX'].iloc[i] < data['VIX'].mean()):\n",
    "#             data.loc[data.index[i], 'Trend Sell Signal'] = 1\n",
    "\n",
    "#     return data"
   ]
  },
  {
   "cell_type": "code",
   "execution_count": 431,
   "metadata": {},
   "outputs": [],
   "source": [
    "def trend_reversal_strategy(data: pd.DataFrame, vix_window: int = 20) -> pd.DataFrame:\n",
    "    \"\"\"\n",
    "    Calculate buy/sell signals based on MACD, RSI, and VIX indicators for a trend reversal strategy.\n",
    "\n",
    "    Parameters:\n",
    "    data (pd.DataFrame): DataFrame containing historical market data with columns for 'MACD', 'Signal Line', 'RSI', and 'VIX'.\n",
    "    vix_window (int): Rolling window size for calculating VIX mean (default is 20).\n",
    "\n",
    "    Returns:\n",
    "    pd.DataFrame: DataFrame with additional columns for 'Trend Buy Signal' and 'Trend Sell Signal'.\n",
    "    \"\"\"\n",
    "    data = data.copy()\n",
    "\n",
    "    # Calculate rolling VIX mean\n",
    "    data['VIX Rolling Mean'] = data['VIX'].rolling(window=vix_window).mean()\n",
    "\n",
    "    # Initialize signal columns\n",
    "    data['Trend Buy Signal'] = 0\n",
    "    data['Trend Sell Signal'] = 0\n",
    "\n",
    "    for i in range(2, len(data)): \n",
    "        # Check for bullish divergence (buy signal)\n",
    "        macd_divergence = (data['MACD'].iloc[i] > data['MACD'].iloc[i-1]) and (\n",
    "            data['Adj Close'].iloc[i] < data['Adj Close'].iloc[i-1])\n",
    "        if (data['RSI'].iloc[i] < 30 and\n",
    "            macd_divergence and\n",
    "            data['VIX'].iloc[i] > data['VIX Rolling Mean'].iloc[i]):\n",
    "            data.loc[data.index[i], 'Trend Buy Signal'] = 1\n",
    "\n",
    "        # Check for bearish divergence (sell signal)\n",
    "        macd_divergence = (data['MACD'].iloc[i] < data['MACD'].iloc[i-1]) and (\n",
    "            data['Adj Close'].iloc[i] > data['Adj Close'].iloc[i-1])\n",
    "        if (data['RSI'].iloc[i] > 70 and\n",
    "            macd_divergence and\n",
    "            data['VIX'].iloc[i] < data['VIX Rolling Mean'].iloc[i]):\n",
    "            data.loc[data.index[i], 'Trend Sell Signal'] = 1\n",
    "\n",
    "    return data\n"
   ]
  },
  {
   "cell_type": "code",
   "execution_count": 432,
   "metadata": {},
   "outputs": [],
   "source": [
    "def mean_reversion_strategy(data: pd.DataFrame) -> pd.DataFrame:\n",
    "    \"\"\"\n",
    "    Calculate buy/sell signals based on RSI, Bollinger Bands, and VIX indicators for a mean-reversion strategy.\n",
    "\n",
    "    Parameters:\n",
    "    data (pd.DataFrame): DataFrame containing historical market data with columns for RSI, Bollinger Bands, and VIX.\n",
    "\n",
    "    Returns:\n",
    "    pd.DataFrame: DataFrame with additional columns for 'Reversion Buy Signal' and 'Reversion Sell Signal'.\n",
    "    \"\"\"\n",
    "    data = data.copy()\n",
    "    \n",
    "    data['Reversion Buy Signal'] = 0\n",
    "    data['Reversion Sell Signal'] = 0\n",
    "    \n",
    "    # Calculate Bollinger Bands\n",
    "    data['Middle Band'] = data['Adj Close'].rolling(window=20).mean()\n",
    "    data['Upper Band'] = data['Middle Band'] + 2 * data['Adj Close'].rolling(window=20).std()\n",
    "    data['Lower Band'] = data['Middle Band'] - 2 * data['Adj Close'].rolling(window=20).std()\n",
    "\n",
    "    for i in range(1, len(data)):\n",
    "        # Buy signal: RSI < 30, price below lower band, VIX > 30\n",
    "        if (data['RSI'].iloc[i] < 30 and \n",
    "            data['Adj Close'].iloc[i] < data['Lower Band'].iloc[i] and \n",
    "            data['VIX'].iloc[i] > 30):\n",
    "            data.loc[data.index[i], 'Reversion Buy Signal'] = 1\n",
    "\n",
    "        # Sell signal: RSI > 70, price above upper band, VIX < 15\n",
    "        elif (data['RSI'].iloc[i] > 70 and \n",
    "              data['Adj Close'].iloc[i] > data['Upper Band'].iloc[i] and \n",
    "              data['VIX'].iloc[i] < 15):\n",
    "            data.loc[data.index[i], 'Reversion Sell Signal'] = 1\n",
    "\n",
    "    return data\n"
   ]
  },
  {
   "cell_type": "code",
   "execution_count": 433,
   "metadata": {},
   "outputs": [],
   "source": [
    "strategies = {\n",
    "    'MACD': macd,\n",
    "    'PCA-trend-following' : apply_pca_trend_following,\n",
    "    'Trend-Following': trend_following_strategy,\n",
    "    'Trend-Reversal': trend_reversal_strategy,\n",
    "    'Mean-Reversal': mean_reversion_strategy\n",
    "}"
   ]
  },
  {
   "cell_type": "code",
   "execution_count": 434,
   "metadata": {},
   "outputs": [],
   "source": [
    "def run_strategy(data: pd.DataFrame, strategy: str) -> pd.DataFrame:\n",
    "    \"\"\"\n",
    "        Executes the specified trading strategy on the given data.\n",
    "\n",
    "        Parameters:\n",
    "        data (pd.DataFrame): DataFrame containing historical market data on which the strategy will be applied.\n",
    "                             The DataFrame must have relevant columns for the selected strategy.\n",
    "        \n",
    "        strategy (str): The name of the strategy to be applied.\n",
    "\n",
    "        Returns:\n",
    "        pd.DataFrame: DataFrame with the strategy applied, including any newly added columns like buy/sell signals.\n",
    "    \"\"\"\n",
    "    \n",
    "    if strategy in strategies:\n",
    "        data = strategies[strategy](data=data)\n",
    "    else:\n",
    "        print(\"Invalid strategy selected!\")\n",
    "\n",
    "    return data"
   ]
  },
  {
   "cell_type": "markdown",
   "metadata": {},
   "source": [
    "# Plots"
   ]
  },
  {
   "cell_type": "markdown",
   "metadata": {},
   "source": [
    "## Buy and sell signal plot"
   ]
  },
  {
   "cell_type": "code",
   "execution_count": 435,
   "metadata": {},
   "outputs": [],
   "source": [
    "def plot_buy_sell_signal(data: pd.DataFrame,\n",
    "                         instrument: str,\n",
    "                         buy_signal_column: str,\n",
    "                         sell_signal_column: str,\n",
    "                         title: str):\n",
    "    \"\"\"\n",
    "        Plots a price chart with buy and sell signals marked on it.\n",
    "\n",
    "        Parameters:\n",
    "        data (pd.DataFrame): A DataFrame containing historical market data. The DataFrame must have\n",
    "                            at least the 'Adj Close' column and the specified buy/sell signal columns.\n",
    "        \n",
    "        instrument (str): The ticker symbol or name of the instrument being plotted.\n",
    "\n",
    "        buy_signal_column (str): The column name containing the buy signals (e.g., 'MACD Buy Signal').\n",
    "                                The function will mark buy signals where the value in this column is 1.\n",
    "\n",
    "        sell_signal_column (str): The column name containing the sell signals (e.g., 'MACD Sell Signal').\n",
    "                                The function will mark sell signals where the value in this column is 1.\n",
    "        \n",
    "        title (str): The title of the plot, which will be displayed on the chart after instrument name.\n",
    "    \"\"\"\n",
    "    fig = go.Figure()\n",
    "\n",
    "    fig.add_trace(go.Scatter(\n",
    "        x=data.index,\n",
    "        y=data['Adj Close'],\n",
    "        mode='lines',\n",
    "        name='Price',\n",
    "        line=dict(color='blue')\n",
    "    ))\n",
    "\n",
    "    # add buy signals to the price chart\n",
    "    buy_signals = data[data[buy_signal_column] == 1].index\n",
    "    fig.add_trace(go.Scatter(\n",
    "        x=buy_signals,\n",
    "        y=data.loc[buy_signals, 'Adj Close'],\n",
    "        mode='markers',\n",
    "        name=buy_signal_column,\n",
    "        marker=dict(color='green', symbol='triangle-up', size=10)\n",
    "    ))\n",
    "\n",
    "    # add sell signals to the price chart\n",
    "    sell_signals = data[data[sell_signal_column] == 1].index\n",
    "    fig.add_trace(go.Scatter(\n",
    "        x=sell_signals,\n",
    "        y=data.loc[sell_signals, 'Adj Close'],\n",
    "        mode='markers',\n",
    "        name=sell_signal_column,\n",
    "        marker=dict(color='red', symbol='triangle-down', size=10)\n",
    "    ))\n",
    "\n",
    "    fig.update_layout(\n",
    "        title=f\"{instrument} - {title}\",\n",
    "        xaxis_title=\"Date\",\n",
    "        yaxis_title=\"Price (USD)\",\n",
    "        xaxis_rangeslider_visible=False,\n",
    "        hovermode=\"x unified\",\n",
    "    )\n",
    "\n",
    "    fig.show()"
   ]
  },
  {
   "cell_type": "markdown",
   "metadata": {},
   "source": [
    "# Performance Evaluation"
   ]
  },
  {
   "cell_type": "markdown",
   "metadata": {},
   "source": [
    "## Simulate Trading"
   ]
  },
  {
   "cell_type": "code",
   "execution_count": 436,
   "metadata": {},
   "outputs": [],
   "source": [
    "def simulate_trading(data: pd.DataFrame, buy_signal_column: str, sell_signal_column: str) -> pd.DataFrame:\n",
    "    \"\"\"\n",
    "    Simulates trading based on buy and sell signals and returns a DataFrame with trade details.\n",
    "\n",
    "    Parameters:\n",
    "    - data (pd.DataFrame): A DataFrame containing market data, including the 'Adj Close' column\n",
    "                           and the buy/sell signal columns specified by `buy_signal_column` and `sell_signal_column`.\n",
    "    - buy_signal_column (str): The name of the column containing buy signals.\n",
    "    - sell_signal_column (str): The name of the column containing sell signals.\n",
    "\n",
    "    Returns:\n",
    "    - trades (pd.DataFrame): A DataFrame containing details of all trades:\n",
    "                                ['Entry Date', 'Entry Price', 'Exit Date', 'Exit Price', 'Profit/Loss', 'Profit/Loss (%)']\n",
    "    \"\"\"\n",
    "    open_position = False # track if there is an open position\n",
    "    trades = []\n",
    "\n",
    "    for i in range(1, len(data)):\n",
    "        if data[buy_signal_column].iloc[i] == 1 and not open_position:  # buy \n",
    "            open_position = True # open the position\n",
    "            entry_price = data['Adj Close'].iloc[i]\n",
    "            entry_date = data.index[i]\n",
    "            print(f\"Buying at {entry_date}: {entry_price:.2f}\") \n",
    "        elif data[sell_signal_column].iloc[i] == 1 and open_position:  # sell\n",
    "            exit_price = data['Adj Close'].iloc[i]\n",
    "            exit_date = data.index[i]\n",
    "            profit_loss = exit_price - entry_price\n",
    "            profit_loss_percent = (profit_loss / entry_price) * 100\n",
    "            trades.append({\n",
    "                'Entry Date': entry_date,\n",
    "                'Entry Price': entry_price,\n",
    "                'Exit Date': exit_date,\n",
    "                'Exit Price': exit_price,\n",
    "                'Profit/Loss': profit_loss,\n",
    "                'Profit/Loss (%)': profit_loss_percent\n",
    "            })\n",
    "            print(f\"Selling at {exit_date}: {exit_price:.2f} | Profit/Loss: {profit_loss:.2f} ({profit_loss_percent:.2f}%)\")\n",
    "            open_position = False # close the position\n",
    "\n",
    "    trades = pd.DataFrame(trades)\n",
    "    return trades\n"
   ]
  },
  {
   "cell_type": "markdown",
   "metadata": {},
   "source": [
    "## Win Rate"
   ]
  },
  {
   "cell_type": "code",
   "execution_count": 437,
   "metadata": {},
   "outputs": [],
   "source": [
    "def calculate_win_rate(trades: pd.DataFrame) -> float:\n",
    "    \"\"\"\n",
    "    Calculates the win rate from the trades DataFrame.\n",
    "\n",
    "    Parameters:\n",
    "    - trades (pd.DataFrame): A DataFrame containing trade details from simulate_trading.\n",
    "    \"\"\"\n",
    "    total_trades = len(trades)\n",
    "    winning_trades = trades['Profit/Loss'][trades['Profit/Loss'] > 0]\n",
    "    wins = winning_trades.count()\n",
    "\n",
    "    win_rate = (wins / total_trades) * 100 if total_trades > 0 else 0\n",
    "    print(f\"Win Rate: {win_rate:.2f}%\")"
   ]
  },
  {
   "cell_type": "markdown",
   "metadata": {},
   "source": [
    "## Avg Gain/Loss Ratio"
   ]
  },
  {
   "cell_type": "code",
   "execution_count": 438,
   "metadata": {},
   "outputs": [],
   "source": [
    "def calculate_avg_gain_loss_ratio(trades: pd.DataFrame) -> float:\n",
    "    \"\"\"\n",
    "    Calculates the Average Gain/Loss Ratio from the trades DataFrame.\n",
    "\n",
    "    Parameters:\n",
    "    - trades (pd.DataFrame): A DataFrame containing 'Profit/Loss' for all trades.\n",
    "    \"\"\"\n",
    "    winning_trades = trades['Profit/Loss'][trades['Profit/Loss'] > 0]\n",
    "    losing_trades = trades['Profit/Loss'][trades['Profit/Loss'] < 0]\n",
    "\n",
    "    avg_gain = winning_trades.mean() if not winning_trades.empty else 0\n",
    "    avg_loss = abs(losing_trades.mean()) if not losing_trades.empty else 0\n",
    "\n",
    "    avg_gain_loss_ratio = avg_gain / avg_loss if avg_loss > 0 else float('inf')\n",
    "\n",
    "    print(f\"Average Gain/Loss Ratio: {avg_gain_loss_ratio:.2f}\")"
   ]
  },
  {
   "cell_type": "markdown",
   "metadata": {},
   "source": [
    "## Maximum Drawdown"
   ]
  },
  {
   "cell_type": "code",
   "execution_count": 439,
   "metadata": {},
   "outputs": [],
   "source": [
    "def calculate_max_drawdown(data: pd.DataFrame, trades: pd.DataFrame):\n",
    "    \"\"\"\n",
    "        Calculates the Maximum Drawdown of a trading strategy and visualizes it.\n",
    "\n",
    "        The function computes the maximum drawdown, which is the largest peak-to-trough decline\n",
    "        in portfolio value, as well as visualizing the stock price, portfolio value, and drawdown\n",
    "        over time. It assumes a starting investment of $1 and simulates the portfolio value based\n",
    "        on the given trade entry and exit dates.\n",
    "\n",
    "        Parameters:\n",
    "        data (pd.DataFrame): A DataFrame containing the stock's historical price data with column 'Adj Close'.\n",
    "        trades (pd.DataFrame): A DataFrame containing the trade signals.\n",
    "    \"\"\"\n",
    "    data['Action'] = 0\n",
    "    data.loc[data.index.isin(trades['Entry Date']), 'Action'] = 1  # Buy (Entry)\n",
    "    data.loc[data.index.isin(trades['Exit Date']), 'Action'] = -1  # Sell (Exit)\n",
    "\n",
    "    starting_capital = 1\n",
    "    portfolio_value = starting_capital\n",
    "    net_worth = []\n",
    "    shares_held = 0\n",
    "\n",
    "    for i in data.index:\n",
    "        if data.at[i, 'Action'] == 1:  # Buy action\n",
    "            shares_held = portfolio_value / data.at[i, 'Adj Close']\n",
    "            portfolio_value = 0\n",
    "        elif data.at[i, 'Action'] == -1:  # Sell action\n",
    "            portfolio_value = shares_held * data.at[i, 'Adj Close']\n",
    "            shares_held = 0\n",
    "        net_worth.append(portfolio_value + shares_held * data.at[i, 'Adj Close'])\n",
    "\n",
    "    data['Portfolio Value'] = net_worth\n",
    "\n",
    "    initial_price = data['Adj Close'].iloc[0]\n",
    "    data['Stock Growth'] = data['Adj Close'] / initial_price  # Normalize to $1 from the start\n",
    "\n",
    "    data['Peak Value'] = data['Portfolio Value'].cummax()\n",
    "    data['Drawdown'] = (data['Portfolio Value'] - data['Peak Value']) / data['Peak Value'] * 100\n",
    "    max_drawdown = data['Drawdown'].min()\n",
    "\n",
    "    fig = make_subplots(\n",
    "        rows=3, cols=1, shared_xaxes=True,\n",
    "        row_heights=[0.5, 0.25, 0.25]\n",
    "    )\n",
    "\n",
    "    fig.add_trace(go.Scatter(\n",
    "        x=data.index,\n",
    "        y=data['Adj Close'],\n",
    "        mode='lines',\n",
    "        name='Stock Price'\n",
    "    ), row=1, col=1)\n",
    "\n",
    "    fig.add_trace(go.Scatter(\n",
    "        x=data.index[data['Action'] == 1],\n",
    "        y=data['Adj Close'][data['Action'] == 1],\n",
    "        mode='markers',\n",
    "        marker=dict(color='green', size=10, symbol='triangle-up'),\n",
    "        name='Buy Signal'\n",
    "    ), row=1, col=1)\n",
    "\n",
    "    fig.add_trace(go.Scatter(\n",
    "        x=data.index[data['Action'] == -1],\n",
    "        y=data['Adj Close'][data['Action'] == -1],\n",
    "        mode='markers',\n",
    "        marker=dict(color='red', size=10, symbol='triangle-down'),\n",
    "        name='Sell Signal'\n",
    "    ), row=1, col=1)\n",
    "\n",
    "    fig.add_trace(go.Scatter(\n",
    "        x=data.index,\n",
    "        y=data['Stock Growth'],\n",
    "        mode='lines',\n",
    "        name='Buy-and-Hold Strategy',\n",
    "        line=dict(color='blue')\n",
    "    ), row=2, col=1)\n",
    "\n",
    "    fig.add_trace(go.Scatter(\n",
    "        x=data.index,\n",
    "        y=data['Portfolio Value'],\n",
    "        mode='lines',\n",
    "        name='Custom Strategy',\n",
    "        line=dict(color='darkgreen')\n",
    "    ), row=2, col=1)\n",
    "\n",
    "    fig.add_trace(go.Scatter(\n",
    "        x=data.index,\n",
    "        y=data['Drawdown'],\n",
    "        mode='lines',\n",
    "        name='Drawdown',\n",
    "        line=dict(color='crimson')\n",
    "    ), row=3, col=1)\n",
    "\n",
    "    fig.update_layout(\n",
    "        title=\"Stock Price, 1$ Investment Over Time and Drawdown\",\n",
    "        xaxis3_title=\"Date\",\n",
    "        yaxis_title=\"Price (USD)\",\n",
    "        yaxis2_title=\"Value (USD)\",\n",
    "        yaxis3_title=\"Drawdown (%)\",\n",
    "        legend_title=\"Legend\",\n",
    "        template=\"plotly_white\",\n",
    "        height=800\n",
    "    )\n",
    "\n",
    "    fig.show()\n",
    "\n",
    "    print(f\"Maximum Drawdown: {max_drawdown:.2f}%\")"
   ]
  },
  {
   "cell_type": "markdown",
   "metadata": {},
   "source": [
    "# Results"
   ]
  },
  {
   "cell_type": "code",
   "execution_count": 440,
   "metadata": {},
   "outputs": [
    {
     "name": "stdout",
     "output_type": "stream",
     "text": [
      "[*********************100%***********************]  1 of 1 completed\n",
      "[*********************100%***********************]  1 of 1 completed\n"
     ]
    },
    {
     "data": {
      "application/vnd.plotly.v1+json": {
       "config": {
        "plotlyServerURL": "https://plot.ly"
       },
       "data": [
        {
         "line": {
          "color": "blue"
         },
         "mode": "lines",
         "name": "Price",
         "type": "scatter",
         "x": [
          "2001-02-01T00:00:00",
          "2001-03-01T00:00:00",
          "2001-04-01T00:00:00",
          "2001-05-01T00:00:00",
          "2001-06-01T00:00:00",
          "2001-07-01T00:00:00",
          "2001-08-01T00:00:00",
          "2001-09-01T00:00:00",
          "2001-10-01T00:00:00",
          "2001-11-01T00:00:00",
          "2001-12-01T00:00:00",
          "2002-01-01T00:00:00",
          "2002-02-01T00:00:00",
          "2002-03-01T00:00:00",
          "2002-04-01T00:00:00",
          "2002-05-01T00:00:00",
          "2002-06-01T00:00:00",
          "2002-07-01T00:00:00",
          "2002-08-01T00:00:00",
          "2002-09-01T00:00:00",
          "2002-10-01T00:00:00",
          "2002-11-01T00:00:00",
          "2002-12-01T00:00:00",
          "2003-01-01T00:00:00",
          "2003-02-01T00:00:00",
          "2003-03-01T00:00:00",
          "2003-04-01T00:00:00",
          "2003-05-01T00:00:00",
          "2003-06-01T00:00:00",
          "2003-07-01T00:00:00",
          "2003-08-01T00:00:00",
          "2003-09-01T00:00:00",
          "2003-10-01T00:00:00",
          "2003-11-01T00:00:00",
          "2003-12-01T00:00:00",
          "2004-01-01T00:00:00",
          "2004-02-01T00:00:00",
          "2004-03-01T00:00:00",
          "2004-04-01T00:00:00",
          "2004-05-01T00:00:00",
          "2004-06-01T00:00:00",
          "2004-07-01T00:00:00",
          "2004-08-01T00:00:00",
          "2004-09-01T00:00:00",
          "2004-10-01T00:00:00",
          "2004-11-01T00:00:00",
          "2004-12-01T00:00:00",
          "2005-01-01T00:00:00",
          "2005-02-01T00:00:00",
          "2005-03-01T00:00:00",
          "2005-04-01T00:00:00",
          "2005-05-01T00:00:00",
          "2005-06-01T00:00:00",
          "2005-07-01T00:00:00",
          "2005-08-01T00:00:00",
          "2005-09-01T00:00:00",
          "2005-10-01T00:00:00",
          "2005-11-01T00:00:00",
          "2005-12-01T00:00:00",
          "2006-01-01T00:00:00",
          "2006-02-01T00:00:00",
          "2006-03-01T00:00:00",
          "2006-04-01T00:00:00",
          "2006-05-01T00:00:00",
          "2006-06-01T00:00:00",
          "2006-07-01T00:00:00",
          "2006-08-01T00:00:00",
          "2006-09-01T00:00:00",
          "2006-10-01T00:00:00",
          "2006-11-01T00:00:00",
          "2006-12-01T00:00:00",
          "2007-01-01T00:00:00",
          "2007-02-01T00:00:00",
          "2007-03-01T00:00:00",
          "2007-04-01T00:00:00",
          "2007-05-01T00:00:00",
          "2007-06-01T00:00:00",
          "2007-07-01T00:00:00",
          "2007-08-01T00:00:00",
          "2007-09-01T00:00:00",
          "2007-10-01T00:00:00",
          "2007-11-01T00:00:00",
          "2007-12-01T00:00:00",
          "2008-01-01T00:00:00",
          "2008-02-01T00:00:00",
          "2008-03-01T00:00:00",
          "2008-04-01T00:00:00",
          "2008-05-01T00:00:00",
          "2008-06-01T00:00:00",
          "2008-07-01T00:00:00",
          "2008-08-01T00:00:00",
          "2008-09-01T00:00:00",
          "2008-10-01T00:00:00",
          "2008-11-01T00:00:00",
          "2008-12-01T00:00:00",
          "2009-01-01T00:00:00",
          "2009-02-01T00:00:00",
          "2009-03-01T00:00:00",
          "2009-04-01T00:00:00",
          "2009-05-01T00:00:00",
          "2009-06-01T00:00:00",
          "2009-07-01T00:00:00",
          "2009-08-01T00:00:00",
          "2009-09-01T00:00:00",
          "2009-10-01T00:00:00",
          "2009-11-01T00:00:00",
          "2009-12-01T00:00:00",
          "2010-01-01T00:00:00",
          "2010-02-01T00:00:00",
          "2010-03-01T00:00:00",
          "2010-04-01T00:00:00",
          "2010-05-01T00:00:00",
          "2010-06-01T00:00:00",
          "2010-07-01T00:00:00",
          "2010-08-01T00:00:00",
          "2010-09-01T00:00:00",
          "2010-10-01T00:00:00",
          "2010-11-01T00:00:00",
          "2010-12-01T00:00:00",
          "2011-01-01T00:00:00",
          "2011-02-01T00:00:00",
          "2011-03-01T00:00:00",
          "2011-04-01T00:00:00",
          "2011-05-01T00:00:00",
          "2011-06-01T00:00:00",
          "2011-07-01T00:00:00",
          "2011-08-01T00:00:00",
          "2011-09-01T00:00:00",
          "2011-10-01T00:00:00",
          "2011-11-01T00:00:00",
          "2011-12-01T00:00:00",
          "2012-01-01T00:00:00",
          "2012-02-01T00:00:00",
          "2012-03-01T00:00:00",
          "2012-04-01T00:00:00",
          "2012-05-01T00:00:00",
          "2012-06-01T00:00:00",
          "2012-07-01T00:00:00",
          "2012-08-01T00:00:00",
          "2012-09-01T00:00:00",
          "2012-10-01T00:00:00",
          "2012-11-01T00:00:00",
          "2012-12-01T00:00:00",
          "2013-01-01T00:00:00",
          "2013-02-01T00:00:00",
          "2013-03-01T00:00:00",
          "2013-04-01T00:00:00",
          "2013-05-01T00:00:00",
          "2013-06-01T00:00:00",
          "2013-07-01T00:00:00",
          "2013-08-01T00:00:00",
          "2013-09-01T00:00:00",
          "2013-10-01T00:00:00",
          "2013-11-01T00:00:00",
          "2013-12-01T00:00:00",
          "2014-01-01T00:00:00",
          "2014-02-01T00:00:00",
          "2014-03-01T00:00:00",
          "2014-04-01T00:00:00",
          "2014-05-01T00:00:00",
          "2014-06-01T00:00:00",
          "2014-07-01T00:00:00",
          "2014-08-01T00:00:00",
          "2014-09-01T00:00:00",
          "2014-10-01T00:00:00",
          "2014-11-01T00:00:00",
          "2014-12-01T00:00:00",
          "2015-01-01T00:00:00",
          "2015-02-01T00:00:00",
          "2015-03-01T00:00:00",
          "2015-04-01T00:00:00",
          "2015-05-01T00:00:00",
          "2015-06-01T00:00:00",
          "2015-07-01T00:00:00",
          "2015-08-01T00:00:00",
          "2015-09-01T00:00:00",
          "2015-10-01T00:00:00",
          "2015-11-01T00:00:00",
          "2015-12-01T00:00:00",
          "2016-01-01T00:00:00",
          "2016-02-01T00:00:00",
          "2016-03-01T00:00:00",
          "2016-04-01T00:00:00",
          "2016-05-01T00:00:00",
          "2016-06-01T00:00:00",
          "2016-07-01T00:00:00",
          "2016-08-01T00:00:00",
          "2016-09-01T00:00:00",
          "2016-10-01T00:00:00",
          "2016-11-01T00:00:00",
          "2016-12-01T00:00:00",
          "2017-01-01T00:00:00",
          "2017-02-01T00:00:00",
          "2017-03-01T00:00:00",
          "2017-04-01T00:00:00",
          "2017-05-01T00:00:00",
          "2017-06-01T00:00:00",
          "2017-07-01T00:00:00",
          "2017-08-01T00:00:00",
          "2017-09-01T00:00:00",
          "2017-10-01T00:00:00",
          "2017-11-01T00:00:00",
          "2017-12-01T00:00:00",
          "2018-01-01T00:00:00",
          "2018-02-01T00:00:00",
          "2018-03-01T00:00:00",
          "2018-04-01T00:00:00",
          "2018-05-01T00:00:00",
          "2018-06-01T00:00:00",
          "2018-07-01T00:00:00",
          "2018-08-01T00:00:00",
          "2018-09-01T00:00:00",
          "2018-10-01T00:00:00",
          "2018-11-01T00:00:00",
          "2018-12-01T00:00:00",
          "2019-01-01T00:00:00",
          "2019-02-01T00:00:00",
          "2019-03-01T00:00:00",
          "2019-04-01T00:00:00",
          "2019-05-01T00:00:00",
          "2019-06-01T00:00:00",
          "2019-07-01T00:00:00",
          "2019-08-01T00:00:00",
          "2019-09-01T00:00:00",
          "2019-10-01T00:00:00",
          "2019-11-01T00:00:00",
          "2019-12-01T00:00:00",
          "2020-01-01T00:00:00",
          "2020-02-01T00:00:00",
          "2020-03-01T00:00:00",
          "2020-04-01T00:00:00",
          "2020-05-01T00:00:00",
          "2020-06-01T00:00:00",
          "2020-07-01T00:00:00",
          "2020-08-01T00:00:00",
          "2020-09-01T00:00:00",
          "2020-10-01T00:00:00",
          "2020-11-01T00:00:00",
          "2020-12-01T00:00:00",
          "2021-01-01T00:00:00",
          "2021-02-01T00:00:00",
          "2021-03-01T00:00:00",
          "2021-04-01T00:00:00",
          "2021-05-01T00:00:00",
          "2021-06-01T00:00:00",
          "2021-07-01T00:00:00",
          "2021-08-01T00:00:00",
          "2021-09-01T00:00:00",
          "2021-10-01T00:00:00",
          "2021-11-01T00:00:00",
          "2021-12-01T00:00:00",
          "2022-01-01T00:00:00",
          "2022-02-01T00:00:00",
          "2022-03-01T00:00:00",
          "2022-04-01T00:00:00",
          "2022-05-01T00:00:00",
          "2022-06-01T00:00:00",
          "2022-07-01T00:00:00",
          "2022-08-01T00:00:00",
          "2022-09-01T00:00:00",
          "2022-10-01T00:00:00",
          "2022-11-01T00:00:00",
          "2022-12-01T00:00:00",
          "2023-01-01T00:00:00",
          "2023-02-01T00:00:00",
          "2023-03-01T00:00:00",
          "2023-04-01T00:00:00",
          "2023-05-01T00:00:00"
         ],
         "y": [
          80.0975570678711,
          75.40608215332031,
          82.06920623779297,
          81.60916900634766,
          79.43854522705078,
          78.85221862792969,
          74.1737060546875,
          67.86427307128906,
          69.00589752197266,
          74.3868408203125,
          74.54988861083984,
          74.07329559326172,
          72.74468994140625,
          74.95030212402344,
          70.79368591308594,
          70.3736343383789,
          64.9521713256836,
          60.042118072509766,
          60.45047378540039,
          53.870574951171875,
          58.564640045166016,
          62.17694854736328,
          58.37276840209961,
          57.21690368652344,
          56.445682525634766,
          56.33928680419922,
          61.3526496887207,
          64.71699523925781,
          65.17090606689453,
          66.58544921875,
          67.95881652832031,
          66.96057891845703,
          70.81556701660156,
          71.58900451660156,
          74.83722686767578,
          76.67736053466797,
          77.71793365478516,
          76.42062377929688,
          75.2374267578125,
          76.5257797241211,
          77.65814971923828,
          75.43041229248047,
          75.61418151855469,
          76.05648040771484,
          77.35718536376953,
          80.56214904785156,
          82.8433609008789,
          81.3685073852539,
          83.06942749023438,
          81.23076629638672,
          80.02200317382812,
          82.6006851196289,
          82.39329528808594,
          85.89102172851562,
          85.0858383178711,
          85.40511322021484,
          83.74018096923828,
          87.42080688476562,
          86.7934341430664,
          89.34881591796875,
          89.86035919189453,
          90.98162078857422,
          92.49724578857422,
          89.71114349365234,
          89.54932403564453,
          90.34793853759766,
          92.31957244873047,
          94.39716339111328,
          97.80049133300781,
          99.74527740478516,
          100.51895904541016,
          102.59928894042969,
          100.58649444580078,
          101.35025024414062,
          106.2594985961914,
          109.86365509033203,
          107.79287719726562,
          104.86792755126953,
          106.21363830566406,
          109.80470275878906,
          111.82234954833984,
          107.4911880493164,
          105.7197265625,
          99.85491943359375,
          97.2744369506836,
          95.92965698242188,
          100.99940490722656,
          102.52616882324219,
          93.48986053466797,
          93.11318969726562,
          94.55213928222656,
          85.15494537353516,
          71.49993133544922,
          66.52308654785156,
          66.63383483886719,
          61.65873718261719,
          55.033573150634766,
          59.19477081298828,
          65.54134368896484,
          69.37247467041016,
          68.93758392333984,
          74.49919891357422,
          77.25116729736328,
          79.61111450195312,
          78.45246124267578,
          83.28567504882812,
          84.4219741821289,
          81.79187774658203,
          84.34333801269531,
          89.11119842529297,
          90.86238861083984,
          83.6429443359375,
          78.93962860107422,
          84.73246002197266,
          80.92115783691406,
          87.69853210449219,
          91.53621673583984,
          91.53621673583984,
          97.1447525024414,
          99.93102264404297,
          103.40234375,
          102.96751403808594,
          106.40982818603516,
          105.21648406982422,
          102.93121337890625,
          101.37222290039062,
          95.7991943359375,
          88.68990325927734,
          98.87911224365234,
          98.47725677490234,
          98.87911224365234,
          104.12075805664062,
          108.64018249511719,
          111.64515686035156,
          111.38587951660156,
          104.69645690917969,
          108.38359069824219,
          110.23397827148438,
          112.99562072753906,
          115.2450180053711,
          113.75165557861328,
          114.39547729492188,
          114.60474395751953,
          121.32583618164062,
          122.87377166748047,
          126.97469329833984,
          129.98980712890625,
          133.05882263183594,
          130.59222412109375,
          138.06748962402344,
          133.92652893066406,
          137.49461364746094,
          144.5628204345703,
          148.84735107421875,
          151.8817901611328,
          147.3237762451172,
          154.02932739257812,
          154.6247100830078,
          156.38673400878906,
          160.015869140625,
          162.54051208496094,
          161.12478637695312,
          167.48330688476562,
          164.40414428710938,
          169.06265258789062,
          173.7071075439453,
          172.31541442871094,
          168.13272094726562,
          177.58258056640625,
          174.01670837402344,
          176.5124053955078,
          178.78164672851562,
          174.3024139404297,
          179.10678100585938,
          168.19017028808594,
          163.05101013183594,
          177.83981323242188,
          178.4898681640625,
          174.3673553466797,
          166.67225646972656,
          166.53460693359375,
          176.82472229003906,
          178.437255859375,
          181.47274780273438,
          181.16139221191406,
          188.7450408935547,
          188.97108459472656,
          188.03219604492188,
          185.70562744140625,
          192.5467529296875,
          195.2989044189453,
          199.96539306640625,
          207.82232666015625,
          207.1808624267578,
          210.1476287841797,
          213.11337280273438,
          213.43115234375,
          218.88027954101562,
          219.51893615722656,
          222.83619689941406,
          229.2190704345703,
          236.22535705566406,
          237.87437438964844,
          252.5652313232422,
          243.38180541992188,
          235.76634216308594,
          237.93392944335938,
          243.71791076660156,
          244.0238037109375,
          254.2003173828125,
          262.3143615722656,
          262.6847839355469,
          245.63916015625,
          250.1956024169922,
          226.8415985107422,
          246.43453979492188,
          254.42295837402344,
          257.8921813964844,
          269.610107421875,
          252.4166259765625,
          268.67474365234375,
          274.06341552734375,
          269.4747314453125,
          273.4552917480469,
          280.7905578613281,
          290.9548034667969,
          297.9437255859375,
          299.2876281738281,
          275.5943298339844,
          239.77061462402344,
          271.80645751953125,
          284.7568054199219,
          288.5369873046875,
          306.8741149902344,
          328.2928771972656,
          314.7406311035156,
          308.1214294433594,
          341.63787841796875,
          352.7911682128906,
          350.6846008300781,
          360.435546875,
          375.5689392089844,
          396.7357177734375,
          399.3407287597656,
          406.9654235839844,
          418.2644348144531,
          430.7119140625,
          409.3270568847656,
          439.45025634765625,
          435.9193420410156,
          454.48297119140625,
          432.025390625,
          419.2732849121094,
          433.6866760253906,
          396.8514709472656,
          397.74725341796875,
          363.379150390625,
          398.5560302734375,
          382.294189453125,
          345.5332336425781,
          375.15142822265625,
          396.0066833496094,
          371.47967529296875,
          396.6541442871094,
          386.68121337890625,
          399.4938049316406,
          407.42474365234375,
          409.30548095703125
         ]
        },
        {
         "marker": {
          "color": "green",
          "size": 10,
          "symbol": "triangle-up"
         },
         "mode": "markers",
         "name": "Trend Buy Signal",
         "type": "scatter",
         "x": [
          "2003-03-01T00:00:00"
         ],
         "y": [
          56.33928680419922
         ]
        },
        {
         "marker": {
          "color": "red",
          "size": 10,
          "symbol": "triangle-down"
         },
         "mode": "markers",
         "name": "Trend Sell Signal",
         "type": "scatter",
         "x": [
          "2012-12-01T00:00:00",
          "2015-04-01T00:00:00",
          "2015-05-01T00:00:00",
          "2022-03-01T00:00:00"
         ],
         "y": [
          114.60474395751953,
          176.5124053955078,
          178.78164672851562,
          433.6866760253906
         ]
        }
       ],
       "layout": {
        "hovermode": "x unified",
        "template": {
         "data": {
          "bar": [
           {
            "error_x": {
             "color": "#2a3f5f"
            },
            "error_y": {
             "color": "#2a3f5f"
            },
            "marker": {
             "line": {
              "color": "#E5ECF6",
              "width": 0.5
             },
             "pattern": {
              "fillmode": "overlay",
              "size": 10,
              "solidity": 0.2
             }
            },
            "type": "bar"
           }
          ],
          "barpolar": [
           {
            "marker": {
             "line": {
              "color": "#E5ECF6",
              "width": 0.5
             },
             "pattern": {
              "fillmode": "overlay",
              "size": 10,
              "solidity": 0.2
             }
            },
            "type": "barpolar"
           }
          ],
          "carpet": [
           {
            "aaxis": {
             "endlinecolor": "#2a3f5f",
             "gridcolor": "white",
             "linecolor": "white",
             "minorgridcolor": "white",
             "startlinecolor": "#2a3f5f"
            },
            "baxis": {
             "endlinecolor": "#2a3f5f",
             "gridcolor": "white",
             "linecolor": "white",
             "minorgridcolor": "white",
             "startlinecolor": "#2a3f5f"
            },
            "type": "carpet"
           }
          ],
          "choropleth": [
           {
            "colorbar": {
             "outlinewidth": 0,
             "ticks": ""
            },
            "type": "choropleth"
           }
          ],
          "contour": [
           {
            "colorbar": {
             "outlinewidth": 0,
             "ticks": ""
            },
            "colorscale": [
             [
              0,
              "#0d0887"
             ],
             [
              0.1111111111111111,
              "#46039f"
             ],
             [
              0.2222222222222222,
              "#7201a8"
             ],
             [
              0.3333333333333333,
              "#9c179e"
             ],
             [
              0.4444444444444444,
              "#bd3786"
             ],
             [
              0.5555555555555556,
              "#d8576b"
             ],
             [
              0.6666666666666666,
              "#ed7953"
             ],
             [
              0.7777777777777778,
              "#fb9f3a"
             ],
             [
              0.8888888888888888,
              "#fdca26"
             ],
             [
              1,
              "#f0f921"
             ]
            ],
            "type": "contour"
           }
          ],
          "contourcarpet": [
           {
            "colorbar": {
             "outlinewidth": 0,
             "ticks": ""
            },
            "type": "contourcarpet"
           }
          ],
          "heatmap": [
           {
            "colorbar": {
             "outlinewidth": 0,
             "ticks": ""
            },
            "colorscale": [
             [
              0,
              "#0d0887"
             ],
             [
              0.1111111111111111,
              "#46039f"
             ],
             [
              0.2222222222222222,
              "#7201a8"
             ],
             [
              0.3333333333333333,
              "#9c179e"
             ],
             [
              0.4444444444444444,
              "#bd3786"
             ],
             [
              0.5555555555555556,
              "#d8576b"
             ],
             [
              0.6666666666666666,
              "#ed7953"
             ],
             [
              0.7777777777777778,
              "#fb9f3a"
             ],
             [
              0.8888888888888888,
              "#fdca26"
             ],
             [
              1,
              "#f0f921"
             ]
            ],
            "type": "heatmap"
           }
          ],
          "heatmapgl": [
           {
            "colorbar": {
             "outlinewidth": 0,
             "ticks": ""
            },
            "colorscale": [
             [
              0,
              "#0d0887"
             ],
             [
              0.1111111111111111,
              "#46039f"
             ],
             [
              0.2222222222222222,
              "#7201a8"
             ],
             [
              0.3333333333333333,
              "#9c179e"
             ],
             [
              0.4444444444444444,
              "#bd3786"
             ],
             [
              0.5555555555555556,
              "#d8576b"
             ],
             [
              0.6666666666666666,
              "#ed7953"
             ],
             [
              0.7777777777777778,
              "#fb9f3a"
             ],
             [
              0.8888888888888888,
              "#fdca26"
             ],
             [
              1,
              "#f0f921"
             ]
            ],
            "type": "heatmapgl"
           }
          ],
          "histogram": [
           {
            "marker": {
             "pattern": {
              "fillmode": "overlay",
              "size": 10,
              "solidity": 0.2
             }
            },
            "type": "histogram"
           }
          ],
          "histogram2d": [
           {
            "colorbar": {
             "outlinewidth": 0,
             "ticks": ""
            },
            "colorscale": [
             [
              0,
              "#0d0887"
             ],
             [
              0.1111111111111111,
              "#46039f"
             ],
             [
              0.2222222222222222,
              "#7201a8"
             ],
             [
              0.3333333333333333,
              "#9c179e"
             ],
             [
              0.4444444444444444,
              "#bd3786"
             ],
             [
              0.5555555555555556,
              "#d8576b"
             ],
             [
              0.6666666666666666,
              "#ed7953"
             ],
             [
              0.7777777777777778,
              "#fb9f3a"
             ],
             [
              0.8888888888888888,
              "#fdca26"
             ],
             [
              1,
              "#f0f921"
             ]
            ],
            "type": "histogram2d"
           }
          ],
          "histogram2dcontour": [
           {
            "colorbar": {
             "outlinewidth": 0,
             "ticks": ""
            },
            "colorscale": [
             [
              0,
              "#0d0887"
             ],
             [
              0.1111111111111111,
              "#46039f"
             ],
             [
              0.2222222222222222,
              "#7201a8"
             ],
             [
              0.3333333333333333,
              "#9c179e"
             ],
             [
              0.4444444444444444,
              "#bd3786"
             ],
             [
              0.5555555555555556,
              "#d8576b"
             ],
             [
              0.6666666666666666,
              "#ed7953"
             ],
             [
              0.7777777777777778,
              "#fb9f3a"
             ],
             [
              0.8888888888888888,
              "#fdca26"
             ],
             [
              1,
              "#f0f921"
             ]
            ],
            "type": "histogram2dcontour"
           }
          ],
          "mesh3d": [
           {
            "colorbar": {
             "outlinewidth": 0,
             "ticks": ""
            },
            "type": "mesh3d"
           }
          ],
          "parcoords": [
           {
            "line": {
             "colorbar": {
              "outlinewidth": 0,
              "ticks": ""
             }
            },
            "type": "parcoords"
           }
          ],
          "pie": [
           {
            "automargin": true,
            "type": "pie"
           }
          ],
          "scatter": [
           {
            "marker": {
             "colorbar": {
              "outlinewidth": 0,
              "ticks": ""
             }
            },
            "type": "scatter"
           }
          ],
          "scatter3d": [
           {
            "line": {
             "colorbar": {
              "outlinewidth": 0,
              "ticks": ""
             }
            },
            "marker": {
             "colorbar": {
              "outlinewidth": 0,
              "ticks": ""
             }
            },
            "type": "scatter3d"
           }
          ],
          "scattercarpet": [
           {
            "marker": {
             "colorbar": {
              "outlinewidth": 0,
              "ticks": ""
             }
            },
            "type": "scattercarpet"
           }
          ],
          "scattergeo": [
           {
            "marker": {
             "colorbar": {
              "outlinewidth": 0,
              "ticks": ""
             }
            },
            "type": "scattergeo"
           }
          ],
          "scattergl": [
           {
            "marker": {
             "colorbar": {
              "outlinewidth": 0,
              "ticks": ""
             }
            },
            "type": "scattergl"
           }
          ],
          "scattermapbox": [
           {
            "marker": {
             "colorbar": {
              "outlinewidth": 0,
              "ticks": ""
             }
            },
            "type": "scattermapbox"
           }
          ],
          "scatterpolar": [
           {
            "marker": {
             "colorbar": {
              "outlinewidth": 0,
              "ticks": ""
             }
            },
            "type": "scatterpolar"
           }
          ],
          "scatterpolargl": [
           {
            "marker": {
             "colorbar": {
              "outlinewidth": 0,
              "ticks": ""
             }
            },
            "type": "scatterpolargl"
           }
          ],
          "scatterternary": [
           {
            "marker": {
             "colorbar": {
              "outlinewidth": 0,
              "ticks": ""
             }
            },
            "type": "scatterternary"
           }
          ],
          "surface": [
           {
            "colorbar": {
             "outlinewidth": 0,
             "ticks": ""
            },
            "colorscale": [
             [
              0,
              "#0d0887"
             ],
             [
              0.1111111111111111,
              "#46039f"
             ],
             [
              0.2222222222222222,
              "#7201a8"
             ],
             [
              0.3333333333333333,
              "#9c179e"
             ],
             [
              0.4444444444444444,
              "#bd3786"
             ],
             [
              0.5555555555555556,
              "#d8576b"
             ],
             [
              0.6666666666666666,
              "#ed7953"
             ],
             [
              0.7777777777777778,
              "#fb9f3a"
             ],
             [
              0.8888888888888888,
              "#fdca26"
             ],
             [
              1,
              "#f0f921"
             ]
            ],
            "type": "surface"
           }
          ],
          "table": [
           {
            "cells": {
             "fill": {
              "color": "#EBF0F8"
             },
             "line": {
              "color": "white"
             }
            },
            "header": {
             "fill": {
              "color": "#C8D4E3"
             },
             "line": {
              "color": "white"
             }
            },
            "type": "table"
           }
          ]
         },
         "layout": {
          "annotationdefaults": {
           "arrowcolor": "#2a3f5f",
           "arrowhead": 0,
           "arrowwidth": 1
          },
          "autotypenumbers": "strict",
          "coloraxis": {
           "colorbar": {
            "outlinewidth": 0,
            "ticks": ""
           }
          },
          "colorscale": {
           "diverging": [
            [
             0,
             "#8e0152"
            ],
            [
             0.1,
             "#c51b7d"
            ],
            [
             0.2,
             "#de77ae"
            ],
            [
             0.3,
             "#f1b6da"
            ],
            [
             0.4,
             "#fde0ef"
            ],
            [
             0.5,
             "#f7f7f7"
            ],
            [
             0.6,
             "#e6f5d0"
            ],
            [
             0.7,
             "#b8e186"
            ],
            [
             0.8,
             "#7fbc41"
            ],
            [
             0.9,
             "#4d9221"
            ],
            [
             1,
             "#276419"
            ]
           ],
           "sequential": [
            [
             0,
             "#0d0887"
            ],
            [
             0.1111111111111111,
             "#46039f"
            ],
            [
             0.2222222222222222,
             "#7201a8"
            ],
            [
             0.3333333333333333,
             "#9c179e"
            ],
            [
             0.4444444444444444,
             "#bd3786"
            ],
            [
             0.5555555555555556,
             "#d8576b"
            ],
            [
             0.6666666666666666,
             "#ed7953"
            ],
            [
             0.7777777777777778,
             "#fb9f3a"
            ],
            [
             0.8888888888888888,
             "#fdca26"
            ],
            [
             1,
             "#f0f921"
            ]
           ],
           "sequentialminus": [
            [
             0,
             "#0d0887"
            ],
            [
             0.1111111111111111,
             "#46039f"
            ],
            [
             0.2222222222222222,
             "#7201a8"
            ],
            [
             0.3333333333333333,
             "#9c179e"
            ],
            [
             0.4444444444444444,
             "#bd3786"
            ],
            [
             0.5555555555555556,
             "#d8576b"
            ],
            [
             0.6666666666666666,
             "#ed7953"
            ],
            [
             0.7777777777777778,
             "#fb9f3a"
            ],
            [
             0.8888888888888888,
             "#fdca26"
            ],
            [
             1,
             "#f0f921"
            ]
           ]
          },
          "colorway": [
           "#636efa",
           "#EF553B",
           "#00cc96",
           "#ab63fa",
           "#FFA15A",
           "#19d3f3",
           "#FF6692",
           "#B6E880",
           "#FF97FF",
           "#FECB52"
          ],
          "font": {
           "color": "#2a3f5f"
          },
          "geo": {
           "bgcolor": "white",
           "lakecolor": "white",
           "landcolor": "#E5ECF6",
           "showlakes": true,
           "showland": true,
           "subunitcolor": "white"
          },
          "hoverlabel": {
           "align": "left"
          },
          "hovermode": "closest",
          "mapbox": {
           "style": "light"
          },
          "paper_bgcolor": "white",
          "plot_bgcolor": "#E5ECF6",
          "polar": {
           "angularaxis": {
            "gridcolor": "white",
            "linecolor": "white",
            "ticks": ""
           },
           "bgcolor": "#E5ECF6",
           "radialaxis": {
            "gridcolor": "white",
            "linecolor": "white",
            "ticks": ""
           }
          },
          "scene": {
           "xaxis": {
            "backgroundcolor": "#E5ECF6",
            "gridcolor": "white",
            "gridwidth": 2,
            "linecolor": "white",
            "showbackground": true,
            "ticks": "",
            "zerolinecolor": "white"
           },
           "yaxis": {
            "backgroundcolor": "#E5ECF6",
            "gridcolor": "white",
            "gridwidth": 2,
            "linecolor": "white",
            "showbackground": true,
            "ticks": "",
            "zerolinecolor": "white"
           },
           "zaxis": {
            "backgroundcolor": "#E5ECF6",
            "gridcolor": "white",
            "gridwidth": 2,
            "linecolor": "white",
            "showbackground": true,
            "ticks": "",
            "zerolinecolor": "white"
           }
          },
          "shapedefaults": {
           "line": {
            "color": "#2a3f5f"
           }
          },
          "ternary": {
           "aaxis": {
            "gridcolor": "white",
            "linecolor": "white",
            "ticks": ""
           },
           "baxis": {
            "gridcolor": "white",
            "linecolor": "white",
            "ticks": ""
           },
           "bgcolor": "#E5ECF6",
           "caxis": {
            "gridcolor": "white",
            "linecolor": "white",
            "ticks": ""
           }
          },
          "title": {
           "x": 0.05
          },
          "xaxis": {
           "automargin": true,
           "gridcolor": "white",
           "linecolor": "white",
           "ticks": "",
           "title": {
            "standoff": 15
           },
           "zerolinecolor": "white",
           "zerolinewidth": 2
          },
          "yaxis": {
           "automargin": true,
           "gridcolor": "white",
           "linecolor": "white",
           "ticks": "",
           "title": {
            "standoff": 15
           },
           "zerolinecolor": "white",
           "zerolinewidth": 2
          }
         }
        },
        "title": {
         "text": "SPY - Price with Buy/Sell Signals"
        },
        "xaxis": {
         "rangeslider": {
          "visible": false
         },
         "title": {
          "text": "Date"
         }
        },
        "yaxis": {
         "title": {
          "text": "Price (USD)"
         }
        }
       }
      }
     },
     "metadata": {},
     "output_type": "display_data"
    },
    {
     "name": "stdout",
     "output_type": "stream",
     "text": [
      "Buying at 2003-03-01 00:00:00: 56.34\n",
      "Selling at 2012-12-01 00:00:00: 114.60 | Profit/Loss: 58.27 (103.42%)\n",
      "Win Rate: 100.00%\n",
      "Average Gain/Loss Ratio: inf\n"
     ]
    },
    {
     "data": {
      "application/vnd.plotly.v1+json": {
       "config": {
        "plotlyServerURL": "https://plot.ly"
       },
       "data": [
        {
         "mode": "lines",
         "name": "Stock Price",
         "type": "scatter",
         "x": [
          "2001-02-01T00:00:00",
          "2001-03-01T00:00:00",
          "2001-04-01T00:00:00",
          "2001-05-01T00:00:00",
          "2001-06-01T00:00:00",
          "2001-07-01T00:00:00",
          "2001-08-01T00:00:00",
          "2001-09-01T00:00:00",
          "2001-10-01T00:00:00",
          "2001-11-01T00:00:00",
          "2001-12-01T00:00:00",
          "2002-01-01T00:00:00",
          "2002-02-01T00:00:00",
          "2002-03-01T00:00:00",
          "2002-04-01T00:00:00",
          "2002-05-01T00:00:00",
          "2002-06-01T00:00:00",
          "2002-07-01T00:00:00",
          "2002-08-01T00:00:00",
          "2002-09-01T00:00:00",
          "2002-10-01T00:00:00",
          "2002-11-01T00:00:00",
          "2002-12-01T00:00:00",
          "2003-01-01T00:00:00",
          "2003-02-01T00:00:00",
          "2003-03-01T00:00:00",
          "2003-04-01T00:00:00",
          "2003-05-01T00:00:00",
          "2003-06-01T00:00:00",
          "2003-07-01T00:00:00",
          "2003-08-01T00:00:00",
          "2003-09-01T00:00:00",
          "2003-10-01T00:00:00",
          "2003-11-01T00:00:00",
          "2003-12-01T00:00:00",
          "2004-01-01T00:00:00",
          "2004-02-01T00:00:00",
          "2004-03-01T00:00:00",
          "2004-04-01T00:00:00",
          "2004-05-01T00:00:00",
          "2004-06-01T00:00:00",
          "2004-07-01T00:00:00",
          "2004-08-01T00:00:00",
          "2004-09-01T00:00:00",
          "2004-10-01T00:00:00",
          "2004-11-01T00:00:00",
          "2004-12-01T00:00:00",
          "2005-01-01T00:00:00",
          "2005-02-01T00:00:00",
          "2005-03-01T00:00:00",
          "2005-04-01T00:00:00",
          "2005-05-01T00:00:00",
          "2005-06-01T00:00:00",
          "2005-07-01T00:00:00",
          "2005-08-01T00:00:00",
          "2005-09-01T00:00:00",
          "2005-10-01T00:00:00",
          "2005-11-01T00:00:00",
          "2005-12-01T00:00:00",
          "2006-01-01T00:00:00",
          "2006-02-01T00:00:00",
          "2006-03-01T00:00:00",
          "2006-04-01T00:00:00",
          "2006-05-01T00:00:00",
          "2006-06-01T00:00:00",
          "2006-07-01T00:00:00",
          "2006-08-01T00:00:00",
          "2006-09-01T00:00:00",
          "2006-10-01T00:00:00",
          "2006-11-01T00:00:00",
          "2006-12-01T00:00:00",
          "2007-01-01T00:00:00",
          "2007-02-01T00:00:00",
          "2007-03-01T00:00:00",
          "2007-04-01T00:00:00",
          "2007-05-01T00:00:00",
          "2007-06-01T00:00:00",
          "2007-07-01T00:00:00",
          "2007-08-01T00:00:00",
          "2007-09-01T00:00:00",
          "2007-10-01T00:00:00",
          "2007-11-01T00:00:00",
          "2007-12-01T00:00:00",
          "2008-01-01T00:00:00",
          "2008-02-01T00:00:00",
          "2008-03-01T00:00:00",
          "2008-04-01T00:00:00",
          "2008-05-01T00:00:00",
          "2008-06-01T00:00:00",
          "2008-07-01T00:00:00",
          "2008-08-01T00:00:00",
          "2008-09-01T00:00:00",
          "2008-10-01T00:00:00",
          "2008-11-01T00:00:00",
          "2008-12-01T00:00:00",
          "2009-01-01T00:00:00",
          "2009-02-01T00:00:00",
          "2009-03-01T00:00:00",
          "2009-04-01T00:00:00",
          "2009-05-01T00:00:00",
          "2009-06-01T00:00:00",
          "2009-07-01T00:00:00",
          "2009-08-01T00:00:00",
          "2009-09-01T00:00:00",
          "2009-10-01T00:00:00",
          "2009-11-01T00:00:00",
          "2009-12-01T00:00:00",
          "2010-01-01T00:00:00",
          "2010-02-01T00:00:00",
          "2010-03-01T00:00:00",
          "2010-04-01T00:00:00",
          "2010-05-01T00:00:00",
          "2010-06-01T00:00:00",
          "2010-07-01T00:00:00",
          "2010-08-01T00:00:00",
          "2010-09-01T00:00:00",
          "2010-10-01T00:00:00",
          "2010-11-01T00:00:00",
          "2010-12-01T00:00:00",
          "2011-01-01T00:00:00",
          "2011-02-01T00:00:00",
          "2011-03-01T00:00:00",
          "2011-04-01T00:00:00",
          "2011-05-01T00:00:00",
          "2011-06-01T00:00:00",
          "2011-07-01T00:00:00",
          "2011-08-01T00:00:00",
          "2011-09-01T00:00:00",
          "2011-10-01T00:00:00",
          "2011-11-01T00:00:00",
          "2011-12-01T00:00:00",
          "2012-01-01T00:00:00",
          "2012-02-01T00:00:00",
          "2012-03-01T00:00:00",
          "2012-04-01T00:00:00",
          "2012-05-01T00:00:00",
          "2012-06-01T00:00:00",
          "2012-07-01T00:00:00",
          "2012-08-01T00:00:00",
          "2012-09-01T00:00:00",
          "2012-10-01T00:00:00",
          "2012-11-01T00:00:00",
          "2012-12-01T00:00:00",
          "2013-01-01T00:00:00",
          "2013-02-01T00:00:00",
          "2013-03-01T00:00:00",
          "2013-04-01T00:00:00",
          "2013-05-01T00:00:00",
          "2013-06-01T00:00:00",
          "2013-07-01T00:00:00",
          "2013-08-01T00:00:00",
          "2013-09-01T00:00:00",
          "2013-10-01T00:00:00",
          "2013-11-01T00:00:00",
          "2013-12-01T00:00:00",
          "2014-01-01T00:00:00",
          "2014-02-01T00:00:00",
          "2014-03-01T00:00:00",
          "2014-04-01T00:00:00",
          "2014-05-01T00:00:00",
          "2014-06-01T00:00:00",
          "2014-07-01T00:00:00",
          "2014-08-01T00:00:00",
          "2014-09-01T00:00:00",
          "2014-10-01T00:00:00",
          "2014-11-01T00:00:00",
          "2014-12-01T00:00:00",
          "2015-01-01T00:00:00",
          "2015-02-01T00:00:00",
          "2015-03-01T00:00:00",
          "2015-04-01T00:00:00",
          "2015-05-01T00:00:00",
          "2015-06-01T00:00:00",
          "2015-07-01T00:00:00",
          "2015-08-01T00:00:00",
          "2015-09-01T00:00:00",
          "2015-10-01T00:00:00",
          "2015-11-01T00:00:00",
          "2015-12-01T00:00:00",
          "2016-01-01T00:00:00",
          "2016-02-01T00:00:00",
          "2016-03-01T00:00:00",
          "2016-04-01T00:00:00",
          "2016-05-01T00:00:00",
          "2016-06-01T00:00:00",
          "2016-07-01T00:00:00",
          "2016-08-01T00:00:00",
          "2016-09-01T00:00:00",
          "2016-10-01T00:00:00",
          "2016-11-01T00:00:00",
          "2016-12-01T00:00:00",
          "2017-01-01T00:00:00",
          "2017-02-01T00:00:00",
          "2017-03-01T00:00:00",
          "2017-04-01T00:00:00",
          "2017-05-01T00:00:00",
          "2017-06-01T00:00:00",
          "2017-07-01T00:00:00",
          "2017-08-01T00:00:00",
          "2017-09-01T00:00:00",
          "2017-10-01T00:00:00",
          "2017-11-01T00:00:00",
          "2017-12-01T00:00:00",
          "2018-01-01T00:00:00",
          "2018-02-01T00:00:00",
          "2018-03-01T00:00:00",
          "2018-04-01T00:00:00",
          "2018-05-01T00:00:00",
          "2018-06-01T00:00:00",
          "2018-07-01T00:00:00",
          "2018-08-01T00:00:00",
          "2018-09-01T00:00:00",
          "2018-10-01T00:00:00",
          "2018-11-01T00:00:00",
          "2018-12-01T00:00:00",
          "2019-01-01T00:00:00",
          "2019-02-01T00:00:00",
          "2019-03-01T00:00:00",
          "2019-04-01T00:00:00",
          "2019-05-01T00:00:00",
          "2019-06-01T00:00:00",
          "2019-07-01T00:00:00",
          "2019-08-01T00:00:00",
          "2019-09-01T00:00:00",
          "2019-10-01T00:00:00",
          "2019-11-01T00:00:00",
          "2019-12-01T00:00:00",
          "2020-01-01T00:00:00",
          "2020-02-01T00:00:00",
          "2020-03-01T00:00:00",
          "2020-04-01T00:00:00",
          "2020-05-01T00:00:00",
          "2020-06-01T00:00:00",
          "2020-07-01T00:00:00",
          "2020-08-01T00:00:00",
          "2020-09-01T00:00:00",
          "2020-10-01T00:00:00",
          "2020-11-01T00:00:00",
          "2020-12-01T00:00:00",
          "2021-01-01T00:00:00",
          "2021-02-01T00:00:00",
          "2021-03-01T00:00:00",
          "2021-04-01T00:00:00",
          "2021-05-01T00:00:00",
          "2021-06-01T00:00:00",
          "2021-07-01T00:00:00",
          "2021-08-01T00:00:00",
          "2021-09-01T00:00:00",
          "2021-10-01T00:00:00",
          "2021-11-01T00:00:00",
          "2021-12-01T00:00:00",
          "2022-01-01T00:00:00",
          "2022-02-01T00:00:00",
          "2022-03-01T00:00:00",
          "2022-04-01T00:00:00",
          "2022-05-01T00:00:00",
          "2022-06-01T00:00:00",
          "2022-07-01T00:00:00",
          "2022-08-01T00:00:00",
          "2022-09-01T00:00:00",
          "2022-10-01T00:00:00",
          "2022-11-01T00:00:00",
          "2022-12-01T00:00:00",
          "2023-01-01T00:00:00",
          "2023-02-01T00:00:00",
          "2023-03-01T00:00:00",
          "2023-04-01T00:00:00",
          "2023-05-01T00:00:00"
         ],
         "xaxis": "x",
         "y": [
          80.0975570678711,
          75.40608215332031,
          82.06920623779297,
          81.60916900634766,
          79.43854522705078,
          78.85221862792969,
          74.1737060546875,
          67.86427307128906,
          69.00589752197266,
          74.3868408203125,
          74.54988861083984,
          74.07329559326172,
          72.74468994140625,
          74.95030212402344,
          70.79368591308594,
          70.3736343383789,
          64.9521713256836,
          60.042118072509766,
          60.45047378540039,
          53.870574951171875,
          58.564640045166016,
          62.17694854736328,
          58.37276840209961,
          57.21690368652344,
          56.445682525634766,
          56.33928680419922,
          61.3526496887207,
          64.71699523925781,
          65.17090606689453,
          66.58544921875,
          67.95881652832031,
          66.96057891845703,
          70.81556701660156,
          71.58900451660156,
          74.83722686767578,
          76.67736053466797,
          77.71793365478516,
          76.42062377929688,
          75.2374267578125,
          76.5257797241211,
          77.65814971923828,
          75.43041229248047,
          75.61418151855469,
          76.05648040771484,
          77.35718536376953,
          80.56214904785156,
          82.8433609008789,
          81.3685073852539,
          83.06942749023438,
          81.23076629638672,
          80.02200317382812,
          82.6006851196289,
          82.39329528808594,
          85.89102172851562,
          85.0858383178711,
          85.40511322021484,
          83.74018096923828,
          87.42080688476562,
          86.7934341430664,
          89.34881591796875,
          89.86035919189453,
          90.98162078857422,
          92.49724578857422,
          89.71114349365234,
          89.54932403564453,
          90.34793853759766,
          92.31957244873047,
          94.39716339111328,
          97.80049133300781,
          99.74527740478516,
          100.51895904541016,
          102.59928894042969,
          100.58649444580078,
          101.35025024414062,
          106.2594985961914,
          109.86365509033203,
          107.79287719726562,
          104.86792755126953,
          106.21363830566406,
          109.80470275878906,
          111.82234954833984,
          107.4911880493164,
          105.7197265625,
          99.85491943359375,
          97.2744369506836,
          95.92965698242188,
          100.99940490722656,
          102.52616882324219,
          93.48986053466797,
          93.11318969726562,
          94.55213928222656,
          85.15494537353516,
          71.49993133544922,
          66.52308654785156,
          66.63383483886719,
          61.65873718261719,
          55.033573150634766,
          59.19477081298828,
          65.54134368896484,
          69.37247467041016,
          68.93758392333984,
          74.49919891357422,
          77.25116729736328,
          79.61111450195312,
          78.45246124267578,
          83.28567504882812,
          84.4219741821289,
          81.79187774658203,
          84.34333801269531,
          89.11119842529297,
          90.86238861083984,
          83.6429443359375,
          78.93962860107422,
          84.73246002197266,
          80.92115783691406,
          87.69853210449219,
          91.53621673583984,
          91.53621673583984,
          97.1447525024414,
          99.93102264404297,
          103.40234375,
          102.96751403808594,
          106.40982818603516,
          105.21648406982422,
          102.93121337890625,
          101.37222290039062,
          95.7991943359375,
          88.68990325927734,
          98.87911224365234,
          98.47725677490234,
          98.87911224365234,
          104.12075805664062,
          108.64018249511719,
          111.64515686035156,
          111.38587951660156,
          104.69645690917969,
          108.38359069824219,
          110.23397827148438,
          112.99562072753906,
          115.2450180053711,
          113.75165557861328,
          114.39547729492188,
          114.60474395751953,
          121.32583618164062,
          122.87377166748047,
          126.97469329833984,
          129.98980712890625,
          133.05882263183594,
          130.59222412109375,
          138.06748962402344,
          133.92652893066406,
          137.49461364746094,
          144.5628204345703,
          148.84735107421875,
          151.8817901611328,
          147.3237762451172,
          154.02932739257812,
          154.6247100830078,
          156.38673400878906,
          160.015869140625,
          162.54051208496094,
          161.12478637695312,
          167.48330688476562,
          164.40414428710938,
          169.06265258789062,
          173.7071075439453,
          172.31541442871094,
          168.13272094726562,
          177.58258056640625,
          174.01670837402344,
          176.5124053955078,
          178.78164672851562,
          174.3024139404297,
          179.10678100585938,
          168.19017028808594,
          163.05101013183594,
          177.83981323242188,
          178.4898681640625,
          174.3673553466797,
          166.67225646972656,
          166.53460693359375,
          176.82472229003906,
          178.437255859375,
          181.47274780273438,
          181.16139221191406,
          188.7450408935547,
          188.97108459472656,
          188.03219604492188,
          185.70562744140625,
          192.5467529296875,
          195.2989044189453,
          199.96539306640625,
          207.82232666015625,
          207.1808624267578,
          210.1476287841797,
          213.11337280273438,
          213.43115234375,
          218.88027954101562,
          219.51893615722656,
          222.83619689941406,
          229.2190704345703,
          236.22535705566406,
          237.87437438964844,
          252.5652313232422,
          243.38180541992188,
          235.76634216308594,
          237.93392944335938,
          243.71791076660156,
          244.0238037109375,
          254.2003173828125,
          262.3143615722656,
          262.6847839355469,
          245.63916015625,
          250.1956024169922,
          226.8415985107422,
          246.43453979492188,
          254.42295837402344,
          257.8921813964844,
          269.610107421875,
          252.4166259765625,
          268.67474365234375,
          274.06341552734375,
          269.4747314453125,
          273.4552917480469,
          280.7905578613281,
          290.9548034667969,
          297.9437255859375,
          299.2876281738281,
          275.5943298339844,
          239.77061462402344,
          271.80645751953125,
          284.7568054199219,
          288.5369873046875,
          306.8741149902344,
          328.2928771972656,
          314.7406311035156,
          308.1214294433594,
          341.63787841796875,
          352.7911682128906,
          350.6846008300781,
          360.435546875,
          375.5689392089844,
          396.7357177734375,
          399.3407287597656,
          406.9654235839844,
          418.2644348144531,
          430.7119140625,
          409.3270568847656,
          439.45025634765625,
          435.9193420410156,
          454.48297119140625,
          432.025390625,
          419.2732849121094,
          433.6866760253906,
          396.8514709472656,
          397.74725341796875,
          363.379150390625,
          398.5560302734375,
          382.294189453125,
          345.5332336425781,
          375.15142822265625,
          396.0066833496094,
          371.47967529296875,
          396.6541442871094,
          386.68121337890625,
          399.4938049316406,
          407.42474365234375,
          409.30548095703125
         ],
         "yaxis": "y"
        },
        {
         "marker": {
          "color": "green",
          "size": 10,
          "symbol": "triangle-up"
         },
         "mode": "markers",
         "name": "Buy Signal",
         "type": "scatter",
         "x": [
          "2003-03-01T00:00:00"
         ],
         "xaxis": "x",
         "y": [
          56.33928680419922
         ],
         "yaxis": "y"
        },
        {
         "marker": {
          "color": "red",
          "size": 10,
          "symbol": "triangle-down"
         },
         "mode": "markers",
         "name": "Sell Signal",
         "type": "scatter",
         "x": [
          "2012-12-01T00:00:00"
         ],
         "xaxis": "x",
         "y": [
          114.60474395751953
         ],
         "yaxis": "y"
        },
        {
         "line": {
          "color": "blue"
         },
         "mode": "lines",
         "name": "Buy-and-Hold Strategy",
         "type": "scatter",
         "x": [
          "2001-02-01T00:00:00",
          "2001-03-01T00:00:00",
          "2001-04-01T00:00:00",
          "2001-05-01T00:00:00",
          "2001-06-01T00:00:00",
          "2001-07-01T00:00:00",
          "2001-08-01T00:00:00",
          "2001-09-01T00:00:00",
          "2001-10-01T00:00:00",
          "2001-11-01T00:00:00",
          "2001-12-01T00:00:00",
          "2002-01-01T00:00:00",
          "2002-02-01T00:00:00",
          "2002-03-01T00:00:00",
          "2002-04-01T00:00:00",
          "2002-05-01T00:00:00",
          "2002-06-01T00:00:00",
          "2002-07-01T00:00:00",
          "2002-08-01T00:00:00",
          "2002-09-01T00:00:00",
          "2002-10-01T00:00:00",
          "2002-11-01T00:00:00",
          "2002-12-01T00:00:00",
          "2003-01-01T00:00:00",
          "2003-02-01T00:00:00",
          "2003-03-01T00:00:00",
          "2003-04-01T00:00:00",
          "2003-05-01T00:00:00",
          "2003-06-01T00:00:00",
          "2003-07-01T00:00:00",
          "2003-08-01T00:00:00",
          "2003-09-01T00:00:00",
          "2003-10-01T00:00:00",
          "2003-11-01T00:00:00",
          "2003-12-01T00:00:00",
          "2004-01-01T00:00:00",
          "2004-02-01T00:00:00",
          "2004-03-01T00:00:00",
          "2004-04-01T00:00:00",
          "2004-05-01T00:00:00",
          "2004-06-01T00:00:00",
          "2004-07-01T00:00:00",
          "2004-08-01T00:00:00",
          "2004-09-01T00:00:00",
          "2004-10-01T00:00:00",
          "2004-11-01T00:00:00",
          "2004-12-01T00:00:00",
          "2005-01-01T00:00:00",
          "2005-02-01T00:00:00",
          "2005-03-01T00:00:00",
          "2005-04-01T00:00:00",
          "2005-05-01T00:00:00",
          "2005-06-01T00:00:00",
          "2005-07-01T00:00:00",
          "2005-08-01T00:00:00",
          "2005-09-01T00:00:00",
          "2005-10-01T00:00:00",
          "2005-11-01T00:00:00",
          "2005-12-01T00:00:00",
          "2006-01-01T00:00:00",
          "2006-02-01T00:00:00",
          "2006-03-01T00:00:00",
          "2006-04-01T00:00:00",
          "2006-05-01T00:00:00",
          "2006-06-01T00:00:00",
          "2006-07-01T00:00:00",
          "2006-08-01T00:00:00",
          "2006-09-01T00:00:00",
          "2006-10-01T00:00:00",
          "2006-11-01T00:00:00",
          "2006-12-01T00:00:00",
          "2007-01-01T00:00:00",
          "2007-02-01T00:00:00",
          "2007-03-01T00:00:00",
          "2007-04-01T00:00:00",
          "2007-05-01T00:00:00",
          "2007-06-01T00:00:00",
          "2007-07-01T00:00:00",
          "2007-08-01T00:00:00",
          "2007-09-01T00:00:00",
          "2007-10-01T00:00:00",
          "2007-11-01T00:00:00",
          "2007-12-01T00:00:00",
          "2008-01-01T00:00:00",
          "2008-02-01T00:00:00",
          "2008-03-01T00:00:00",
          "2008-04-01T00:00:00",
          "2008-05-01T00:00:00",
          "2008-06-01T00:00:00",
          "2008-07-01T00:00:00",
          "2008-08-01T00:00:00",
          "2008-09-01T00:00:00",
          "2008-10-01T00:00:00",
          "2008-11-01T00:00:00",
          "2008-12-01T00:00:00",
          "2009-01-01T00:00:00",
          "2009-02-01T00:00:00",
          "2009-03-01T00:00:00",
          "2009-04-01T00:00:00",
          "2009-05-01T00:00:00",
          "2009-06-01T00:00:00",
          "2009-07-01T00:00:00",
          "2009-08-01T00:00:00",
          "2009-09-01T00:00:00",
          "2009-10-01T00:00:00",
          "2009-11-01T00:00:00",
          "2009-12-01T00:00:00",
          "2010-01-01T00:00:00",
          "2010-02-01T00:00:00",
          "2010-03-01T00:00:00",
          "2010-04-01T00:00:00",
          "2010-05-01T00:00:00",
          "2010-06-01T00:00:00",
          "2010-07-01T00:00:00",
          "2010-08-01T00:00:00",
          "2010-09-01T00:00:00",
          "2010-10-01T00:00:00",
          "2010-11-01T00:00:00",
          "2010-12-01T00:00:00",
          "2011-01-01T00:00:00",
          "2011-02-01T00:00:00",
          "2011-03-01T00:00:00",
          "2011-04-01T00:00:00",
          "2011-05-01T00:00:00",
          "2011-06-01T00:00:00",
          "2011-07-01T00:00:00",
          "2011-08-01T00:00:00",
          "2011-09-01T00:00:00",
          "2011-10-01T00:00:00",
          "2011-11-01T00:00:00",
          "2011-12-01T00:00:00",
          "2012-01-01T00:00:00",
          "2012-02-01T00:00:00",
          "2012-03-01T00:00:00",
          "2012-04-01T00:00:00",
          "2012-05-01T00:00:00",
          "2012-06-01T00:00:00",
          "2012-07-01T00:00:00",
          "2012-08-01T00:00:00",
          "2012-09-01T00:00:00",
          "2012-10-01T00:00:00",
          "2012-11-01T00:00:00",
          "2012-12-01T00:00:00",
          "2013-01-01T00:00:00",
          "2013-02-01T00:00:00",
          "2013-03-01T00:00:00",
          "2013-04-01T00:00:00",
          "2013-05-01T00:00:00",
          "2013-06-01T00:00:00",
          "2013-07-01T00:00:00",
          "2013-08-01T00:00:00",
          "2013-09-01T00:00:00",
          "2013-10-01T00:00:00",
          "2013-11-01T00:00:00",
          "2013-12-01T00:00:00",
          "2014-01-01T00:00:00",
          "2014-02-01T00:00:00",
          "2014-03-01T00:00:00",
          "2014-04-01T00:00:00",
          "2014-05-01T00:00:00",
          "2014-06-01T00:00:00",
          "2014-07-01T00:00:00",
          "2014-08-01T00:00:00",
          "2014-09-01T00:00:00",
          "2014-10-01T00:00:00",
          "2014-11-01T00:00:00",
          "2014-12-01T00:00:00",
          "2015-01-01T00:00:00",
          "2015-02-01T00:00:00",
          "2015-03-01T00:00:00",
          "2015-04-01T00:00:00",
          "2015-05-01T00:00:00",
          "2015-06-01T00:00:00",
          "2015-07-01T00:00:00",
          "2015-08-01T00:00:00",
          "2015-09-01T00:00:00",
          "2015-10-01T00:00:00",
          "2015-11-01T00:00:00",
          "2015-12-01T00:00:00",
          "2016-01-01T00:00:00",
          "2016-02-01T00:00:00",
          "2016-03-01T00:00:00",
          "2016-04-01T00:00:00",
          "2016-05-01T00:00:00",
          "2016-06-01T00:00:00",
          "2016-07-01T00:00:00",
          "2016-08-01T00:00:00",
          "2016-09-01T00:00:00",
          "2016-10-01T00:00:00",
          "2016-11-01T00:00:00",
          "2016-12-01T00:00:00",
          "2017-01-01T00:00:00",
          "2017-02-01T00:00:00",
          "2017-03-01T00:00:00",
          "2017-04-01T00:00:00",
          "2017-05-01T00:00:00",
          "2017-06-01T00:00:00",
          "2017-07-01T00:00:00",
          "2017-08-01T00:00:00",
          "2017-09-01T00:00:00",
          "2017-10-01T00:00:00",
          "2017-11-01T00:00:00",
          "2017-12-01T00:00:00",
          "2018-01-01T00:00:00",
          "2018-02-01T00:00:00",
          "2018-03-01T00:00:00",
          "2018-04-01T00:00:00",
          "2018-05-01T00:00:00",
          "2018-06-01T00:00:00",
          "2018-07-01T00:00:00",
          "2018-08-01T00:00:00",
          "2018-09-01T00:00:00",
          "2018-10-01T00:00:00",
          "2018-11-01T00:00:00",
          "2018-12-01T00:00:00",
          "2019-01-01T00:00:00",
          "2019-02-01T00:00:00",
          "2019-03-01T00:00:00",
          "2019-04-01T00:00:00",
          "2019-05-01T00:00:00",
          "2019-06-01T00:00:00",
          "2019-07-01T00:00:00",
          "2019-08-01T00:00:00",
          "2019-09-01T00:00:00",
          "2019-10-01T00:00:00",
          "2019-11-01T00:00:00",
          "2019-12-01T00:00:00",
          "2020-01-01T00:00:00",
          "2020-02-01T00:00:00",
          "2020-03-01T00:00:00",
          "2020-04-01T00:00:00",
          "2020-05-01T00:00:00",
          "2020-06-01T00:00:00",
          "2020-07-01T00:00:00",
          "2020-08-01T00:00:00",
          "2020-09-01T00:00:00",
          "2020-10-01T00:00:00",
          "2020-11-01T00:00:00",
          "2020-12-01T00:00:00",
          "2021-01-01T00:00:00",
          "2021-02-01T00:00:00",
          "2021-03-01T00:00:00",
          "2021-04-01T00:00:00",
          "2021-05-01T00:00:00",
          "2021-06-01T00:00:00",
          "2021-07-01T00:00:00",
          "2021-08-01T00:00:00",
          "2021-09-01T00:00:00",
          "2021-10-01T00:00:00",
          "2021-11-01T00:00:00",
          "2021-12-01T00:00:00",
          "2022-01-01T00:00:00",
          "2022-02-01T00:00:00",
          "2022-03-01T00:00:00",
          "2022-04-01T00:00:00",
          "2022-05-01T00:00:00",
          "2022-06-01T00:00:00",
          "2022-07-01T00:00:00",
          "2022-08-01T00:00:00",
          "2022-09-01T00:00:00",
          "2022-10-01T00:00:00",
          "2022-11-01T00:00:00",
          "2022-12-01T00:00:00",
          "2023-01-01T00:00:00",
          "2023-02-01T00:00:00",
          "2023-03-01T00:00:00",
          "2023-04-01T00:00:00",
          "2023-05-01T00:00:00"
         ],
         "xaxis": "x2",
         "y": [
          1,
          0.9414279899875668,
          1.0246155968059198,
          1.0188721353535874,
          0.9917723852643608,
          0.9844522294370831,
          0.9260420513429144,
          0.8472701984379363,
          0.8615231231521848,
          0.9287029909948491,
          0.9307386060185281,
          0.9247884492968408,
          0.9082011063054726,
          0.9357376787473543,
          0.883843259452951,
          0.8785990099391849,
          0.8109132625686202,
          0.7496123511186834,
          0.7547105804260342,
          0.6725620221541133,
          0.7311663699748165,
          0.7762652298456157,
          0.7287708956296524,
          0.7143401844083758,
          0.7047116615280191,
          0.7033833348557662,
          0.7659740438367328,
          0.8079771419797426,
          0.813644116657286,
          0.8313043700237757,
          0.8484505522526117,
          0.8359877800232737,
          0.8841164401130938,
          0.8937726334891867,
          0.934325959582788,
          0.9572996148895652,
          0.9702909364505393,
          0.9540943141941451,
          0.9393223652758805,
          0.9554071625340155,
          0.9695445474502329,
          0.94173174630737,
          0.9440260637972093,
          0.9495480660323757,
          0.965787075106679,
          1.0058003264642241,
          1.0342807438019757,
          1.0158675290971217,
          1.03710313436707,
          1.0141478625565994,
          0.9990567266117873,
          1.031250991208593,
          1.0286617757676373,
          1.0723301043468205,
          1.0622775704104577,
          1.0662636458168926,
          1.0454773408167817,
          1.0914291282403175,
          1.0835965205470814,
          1.115499887746371,
          1.1218863905643324,
          1.135885089622402,
          1.154807327147271,
          1.1200234661044048,
          1.118003186536194,
          1.1279737091237483,
          1.1525891154271157,
          1.1785273714543545,
          1.2210171559931102,
          1.2452973730555286,
          1.2549566144724598,
          1.2809290657078547,
          1.255799778769386,
          1.2653350982759806,
          1.3266259607162783,
          1.3716230445984572,
          1.3457698479608655,
          1.3092525089424278,
          1.3260534052950375,
          1.3708870379872566,
          1.3960769047373889,
          1.3420033267460725,
          1.3198870281763753,
          1.2466662291458046,
          1.2144494852478158,
          1.1976602095509026,
          1.2609548730886284,
          1.2800161774767498,
          1.1671998991860493,
          1.1624972484287588,
          1.1804622106278135,
          1.063140356470281,
          0.8926605748395469,
          0.8305257860921135,
          0.8319084536174387,
          0.7697954774122553,
          0.6870817933186373,
          0.739033411004399,
          0.8182689471219208,
          0.8660997564710622,
          0.8606702432250863,
          0.9301057565394526,
          0.9644634633725981,
          0.993926873880738,
          0.9794613483180101,
          1.0398029365396946,
          1.053989375863155,
          1.021153212916035,
          1.0530076209593575,
          1.1125332867491091,
          1.134396502677942,
          1.0442633633016074,
          0.9855435233085111,
          1.0578657217994072,
          1.0102824705171105,
          1.094896465196565,
          1.1428090953919623,
          1.1428090953919623,
          1.2128304040549611,
          1.2476163606259039,
          1.2909550245381576,
          1.2855262733023913,
          1.3285027918625312,
          1.3136041587469198,
          1.2850730677302298,
          1.2656094219514376,
          1.1960314127278755,
          1.1072735112773224,
          1.2344834956684958,
          1.2294664204484678,
          1.2344834956684958,
          1.299924265710293,
          1.3563482641931308,
          1.3938646938476345,
          1.3906276744772397,
          1.3071117365098237,
          1.3531447732719586,
          1.376246446293949,
          1.4107249317453168,
          1.4388081512613127,
          1.4201638569603965,
          1.4282018264051206,
          1.4308144736600217,
          1.5147257996749455,
          1.534051426354523,
          1.5852505113326634,
          1.6228935299332374,
          1.6612094988001673,
          1.630414570702022,
          1.7237415806206327,
          1.6720426169449925,
          1.716589352793296,
          1.8048343261215098,
          1.8583257283126893,
          1.896210018395879,
          1.8393042389580196,
          1.923021538123323,
          1.930454757215451,
          1.9524532299564883,
          1.9977621665169476,
          2.029281766324426,
          2.011606749010125,
          2.0909914486261765,
          2.0525487955619,
          2.110709224809871,
          2.168694201207081,
          2.151319225412812,
          2.0990992372563557,
          2.2170786109734997,
          2.172559497995294,
          2.203717714460868,
          2.232048682546261,
          2.176126467786447,
          2.2361079109328177,
          2.0998164793661447,
          2.0356552197175475,
          2.2202901030018727,
          2.2284058927392523,
          2.176937246649465,
          2.0808656664584158,
          2.079147142933208,
          2.207616920703408,
          2.2277490399385744,
          2.2656464746978795,
          2.2617592701161406,
          2.3564394196644547,
          2.3592615244757202,
          2.3475397119239454,
          2.318493025749182,
          2.403902940092567,
          2.4382629329563414,
          2.4965229950392183,
          2.5946150453010306,
          2.5866065085006524,
          2.6236459197639443,
          2.6606725673562255,
          2.664639973512525,
          2.7326711020105927,
          2.740644586341329,
          2.7820598412332678,
          2.861748582922951,
          2.9492204968935227,
          2.9698081077314793,
          3.1532201551319434,
          3.0385671464822703,
          2.943489799112201,
          2.9705516391935,
          3.042763346204003,
          3.0465823508719825,
          3.1736338371395583,
          3.274935855409325,
          3.279560495371407,
          3.0667497130793433,
          3.1236358707543053,
          2.8320663802333788,
          3.0766798491257887,
          3.1764134598816387,
          3.2197259296929377,
          3.3660216027989396,
          3.151364850774112,
          3.3543437963367695,
          3.4216201537222246,
          3.3643314641540396,
          3.4140278649988423,
          3.5056070139991755,
          3.632505336214621,
          3.71976045828056,
          3.73653878008071,
          3.4407332748045993,
          2.9934822409234343,
          3.393442540191514,
          3.555124723449826,
          3.602319444776501,
          3.8312543631037705,
          4.098662795908806,
          3.9294660489684907,
          3.8468268037472235,
          4.265272137182412,
          4.4045184538393745,
          4.378218433465126,
          4.499956803546243,
          4.688893805971436,
          4.953156279626124,
          4.985679256377097,
          5.080871857791369,
          5.2219374738237585,
          5.377341454965149,
          5.110356318831549,
          5.4864376946638425,
          5.442355023033187,
          5.6741177612482945,
          5.393739914675812,
          5.234532740578292,
          5.414480689565899,
          4.954601431988636,
          4.965785074829879,
          4.5367070319349905,
          4.975882472117332,
          4.7728570439318885,
          4.313904771774609,
          4.683681275132645,
          4.944054448677517,
          4.63784026494333,
          4.9521378529809885,
          4.827628051767545,
          4.987590377982782,
          5.086606365623738,
          5.110086948222454
         ],
         "yaxis": "y2"
        },
        {
         "line": {
          "color": "darkgreen"
         },
         "mode": "lines",
         "name": "Custom Strategy",
         "type": "scatter",
         "x": [
          "2001-02-01T00:00:00",
          "2001-03-01T00:00:00",
          "2001-04-01T00:00:00",
          "2001-05-01T00:00:00",
          "2001-06-01T00:00:00",
          "2001-07-01T00:00:00",
          "2001-08-01T00:00:00",
          "2001-09-01T00:00:00",
          "2001-10-01T00:00:00",
          "2001-11-01T00:00:00",
          "2001-12-01T00:00:00",
          "2002-01-01T00:00:00",
          "2002-02-01T00:00:00",
          "2002-03-01T00:00:00",
          "2002-04-01T00:00:00",
          "2002-05-01T00:00:00",
          "2002-06-01T00:00:00",
          "2002-07-01T00:00:00",
          "2002-08-01T00:00:00",
          "2002-09-01T00:00:00",
          "2002-10-01T00:00:00",
          "2002-11-01T00:00:00",
          "2002-12-01T00:00:00",
          "2003-01-01T00:00:00",
          "2003-02-01T00:00:00",
          "2003-03-01T00:00:00",
          "2003-04-01T00:00:00",
          "2003-05-01T00:00:00",
          "2003-06-01T00:00:00",
          "2003-07-01T00:00:00",
          "2003-08-01T00:00:00",
          "2003-09-01T00:00:00",
          "2003-10-01T00:00:00",
          "2003-11-01T00:00:00",
          "2003-12-01T00:00:00",
          "2004-01-01T00:00:00",
          "2004-02-01T00:00:00",
          "2004-03-01T00:00:00",
          "2004-04-01T00:00:00",
          "2004-05-01T00:00:00",
          "2004-06-01T00:00:00",
          "2004-07-01T00:00:00",
          "2004-08-01T00:00:00",
          "2004-09-01T00:00:00",
          "2004-10-01T00:00:00",
          "2004-11-01T00:00:00",
          "2004-12-01T00:00:00",
          "2005-01-01T00:00:00",
          "2005-02-01T00:00:00",
          "2005-03-01T00:00:00",
          "2005-04-01T00:00:00",
          "2005-05-01T00:00:00",
          "2005-06-01T00:00:00",
          "2005-07-01T00:00:00",
          "2005-08-01T00:00:00",
          "2005-09-01T00:00:00",
          "2005-10-01T00:00:00",
          "2005-11-01T00:00:00",
          "2005-12-01T00:00:00",
          "2006-01-01T00:00:00",
          "2006-02-01T00:00:00",
          "2006-03-01T00:00:00",
          "2006-04-01T00:00:00",
          "2006-05-01T00:00:00",
          "2006-06-01T00:00:00",
          "2006-07-01T00:00:00",
          "2006-08-01T00:00:00",
          "2006-09-01T00:00:00",
          "2006-10-01T00:00:00",
          "2006-11-01T00:00:00",
          "2006-12-01T00:00:00",
          "2007-01-01T00:00:00",
          "2007-02-01T00:00:00",
          "2007-03-01T00:00:00",
          "2007-04-01T00:00:00",
          "2007-05-01T00:00:00",
          "2007-06-01T00:00:00",
          "2007-07-01T00:00:00",
          "2007-08-01T00:00:00",
          "2007-09-01T00:00:00",
          "2007-10-01T00:00:00",
          "2007-11-01T00:00:00",
          "2007-12-01T00:00:00",
          "2008-01-01T00:00:00",
          "2008-02-01T00:00:00",
          "2008-03-01T00:00:00",
          "2008-04-01T00:00:00",
          "2008-05-01T00:00:00",
          "2008-06-01T00:00:00",
          "2008-07-01T00:00:00",
          "2008-08-01T00:00:00",
          "2008-09-01T00:00:00",
          "2008-10-01T00:00:00",
          "2008-11-01T00:00:00",
          "2008-12-01T00:00:00",
          "2009-01-01T00:00:00",
          "2009-02-01T00:00:00",
          "2009-03-01T00:00:00",
          "2009-04-01T00:00:00",
          "2009-05-01T00:00:00",
          "2009-06-01T00:00:00",
          "2009-07-01T00:00:00",
          "2009-08-01T00:00:00",
          "2009-09-01T00:00:00",
          "2009-10-01T00:00:00",
          "2009-11-01T00:00:00",
          "2009-12-01T00:00:00",
          "2010-01-01T00:00:00",
          "2010-02-01T00:00:00",
          "2010-03-01T00:00:00",
          "2010-04-01T00:00:00",
          "2010-05-01T00:00:00",
          "2010-06-01T00:00:00",
          "2010-07-01T00:00:00",
          "2010-08-01T00:00:00",
          "2010-09-01T00:00:00",
          "2010-10-01T00:00:00",
          "2010-11-01T00:00:00",
          "2010-12-01T00:00:00",
          "2011-01-01T00:00:00",
          "2011-02-01T00:00:00",
          "2011-03-01T00:00:00",
          "2011-04-01T00:00:00",
          "2011-05-01T00:00:00",
          "2011-06-01T00:00:00",
          "2011-07-01T00:00:00",
          "2011-08-01T00:00:00",
          "2011-09-01T00:00:00",
          "2011-10-01T00:00:00",
          "2011-11-01T00:00:00",
          "2011-12-01T00:00:00",
          "2012-01-01T00:00:00",
          "2012-02-01T00:00:00",
          "2012-03-01T00:00:00",
          "2012-04-01T00:00:00",
          "2012-05-01T00:00:00",
          "2012-06-01T00:00:00",
          "2012-07-01T00:00:00",
          "2012-08-01T00:00:00",
          "2012-09-01T00:00:00",
          "2012-10-01T00:00:00",
          "2012-11-01T00:00:00",
          "2012-12-01T00:00:00",
          "2013-01-01T00:00:00",
          "2013-02-01T00:00:00",
          "2013-03-01T00:00:00",
          "2013-04-01T00:00:00",
          "2013-05-01T00:00:00",
          "2013-06-01T00:00:00",
          "2013-07-01T00:00:00",
          "2013-08-01T00:00:00",
          "2013-09-01T00:00:00",
          "2013-10-01T00:00:00",
          "2013-11-01T00:00:00",
          "2013-12-01T00:00:00",
          "2014-01-01T00:00:00",
          "2014-02-01T00:00:00",
          "2014-03-01T00:00:00",
          "2014-04-01T00:00:00",
          "2014-05-01T00:00:00",
          "2014-06-01T00:00:00",
          "2014-07-01T00:00:00",
          "2014-08-01T00:00:00",
          "2014-09-01T00:00:00",
          "2014-10-01T00:00:00",
          "2014-11-01T00:00:00",
          "2014-12-01T00:00:00",
          "2015-01-01T00:00:00",
          "2015-02-01T00:00:00",
          "2015-03-01T00:00:00",
          "2015-04-01T00:00:00",
          "2015-05-01T00:00:00",
          "2015-06-01T00:00:00",
          "2015-07-01T00:00:00",
          "2015-08-01T00:00:00",
          "2015-09-01T00:00:00",
          "2015-10-01T00:00:00",
          "2015-11-01T00:00:00",
          "2015-12-01T00:00:00",
          "2016-01-01T00:00:00",
          "2016-02-01T00:00:00",
          "2016-03-01T00:00:00",
          "2016-04-01T00:00:00",
          "2016-05-01T00:00:00",
          "2016-06-01T00:00:00",
          "2016-07-01T00:00:00",
          "2016-08-01T00:00:00",
          "2016-09-01T00:00:00",
          "2016-10-01T00:00:00",
          "2016-11-01T00:00:00",
          "2016-12-01T00:00:00",
          "2017-01-01T00:00:00",
          "2017-02-01T00:00:00",
          "2017-03-01T00:00:00",
          "2017-04-01T00:00:00",
          "2017-05-01T00:00:00",
          "2017-06-01T00:00:00",
          "2017-07-01T00:00:00",
          "2017-08-01T00:00:00",
          "2017-09-01T00:00:00",
          "2017-10-01T00:00:00",
          "2017-11-01T00:00:00",
          "2017-12-01T00:00:00",
          "2018-01-01T00:00:00",
          "2018-02-01T00:00:00",
          "2018-03-01T00:00:00",
          "2018-04-01T00:00:00",
          "2018-05-01T00:00:00",
          "2018-06-01T00:00:00",
          "2018-07-01T00:00:00",
          "2018-08-01T00:00:00",
          "2018-09-01T00:00:00",
          "2018-10-01T00:00:00",
          "2018-11-01T00:00:00",
          "2018-12-01T00:00:00",
          "2019-01-01T00:00:00",
          "2019-02-01T00:00:00",
          "2019-03-01T00:00:00",
          "2019-04-01T00:00:00",
          "2019-05-01T00:00:00",
          "2019-06-01T00:00:00",
          "2019-07-01T00:00:00",
          "2019-08-01T00:00:00",
          "2019-09-01T00:00:00",
          "2019-10-01T00:00:00",
          "2019-11-01T00:00:00",
          "2019-12-01T00:00:00",
          "2020-01-01T00:00:00",
          "2020-02-01T00:00:00",
          "2020-03-01T00:00:00",
          "2020-04-01T00:00:00",
          "2020-05-01T00:00:00",
          "2020-06-01T00:00:00",
          "2020-07-01T00:00:00",
          "2020-08-01T00:00:00",
          "2020-09-01T00:00:00",
          "2020-10-01T00:00:00",
          "2020-11-01T00:00:00",
          "2020-12-01T00:00:00",
          "2021-01-01T00:00:00",
          "2021-02-01T00:00:00",
          "2021-03-01T00:00:00",
          "2021-04-01T00:00:00",
          "2021-05-01T00:00:00",
          "2021-06-01T00:00:00",
          "2021-07-01T00:00:00",
          "2021-08-01T00:00:00",
          "2021-09-01T00:00:00",
          "2021-10-01T00:00:00",
          "2021-11-01T00:00:00",
          "2021-12-01T00:00:00",
          "2022-01-01T00:00:00",
          "2022-02-01T00:00:00",
          "2022-03-01T00:00:00",
          "2022-04-01T00:00:00",
          "2022-05-01T00:00:00",
          "2022-06-01T00:00:00",
          "2022-07-01T00:00:00",
          "2022-08-01T00:00:00",
          "2022-09-01T00:00:00",
          "2022-10-01T00:00:00",
          "2022-11-01T00:00:00",
          "2022-12-01T00:00:00",
          "2023-01-01T00:00:00",
          "2023-02-01T00:00:00",
          "2023-03-01T00:00:00",
          "2023-04-01T00:00:00",
          "2023-05-01T00:00:00"
         ],
         "xaxis": "x2",
         "y": [
          1,
          1,
          1,
          1,
          1,
          1,
          1,
          1,
          1,
          1,
          1,
          1,
          1,
          1,
          1,
          1,
          1,
          1,
          1,
          1,
          1,
          1,
          1,
          1,
          1,
          0.9999999999999999,
          1.0889852032018945,
          1.148701002626717,
          1.1567577398235196,
          1.1818653198461697,
          1.2062420449961222,
          1.18852372326208,
          1.2569482333475928,
          1.2706764422737724,
          1.3283311009556091,
          1.3609927438583205,
          1.379462504111651,
          1.356435768256848,
          1.335434490310316,
          1.3583022445789512,
          1.3784013629624092,
          1.33885990702421,
          1.3421217379151988,
          1.349972367808639,
          1.373059364997211,
          1.4299461994937235,
          1.4704368052934638,
          1.4442587402293694,
          1.474449397610103,
          1.441813890521813,
          1.4203588244191923,
          1.4661294064069037,
          1.4624483191353568,
          1.5245315764649292,
          1.510239890213329,
          1.5159068931246962,
          1.4863550058819124,
          1.5516846563675306,
          1.5405490389806868,
          1.585906052174398,
          1.5949857424392675,
          1.6148876911553829,
          1.6417894338996137,
          1.592337222965445,
          1.5894649917536765,
          1.6036400824808383,
          1.6386358025719536,
          1.6755122179515667,
          1.7359199393649103,
          1.7704391209537051,
          1.784171663279167,
          1.821096693981978,
          1.7853703898556204,
          1.7989267524165131,
          1.886063963952618,
          1.9500363125317979,
          1.9132808260759049,
          1.8613641297186823,
          1.885249961981192,
          1.948989932023861,
          1.9848023624609534,
          1.9079259633315877,
          1.8764832243957377,
          1.7723852234876198,
          1.7265826826802018,
          1.7027133715024558,
          1.7926993868104595,
          1.819798840896943,
          1.6594079520314364,
          1.652722194032557,
          1.678262978564705,
          1.5114665130476619,
          1.2690954286293876,
          1.180758407167009,
          1.1827241454164212,
          1.0944181348426563,
          0.9768241004167781,
          1.050683708842694,
          1.163332860721974,
          1.2313339164463741,
          1.2236147781374047,
          1.322331238811874,
          1.3711775863588922,
          1.4130657134271594,
          1.3925000775272214,
          1.4782877060243593,
          1.498456565052516,
          1.4517733962597075,
          1.4970608042274476,
          1.5816884359042171,
          1.6127713672809123,
          1.4846290941990272,
          1.4011471049575035,
          1.503967565589722,
          1.4363184631382775,
          1.5566141688885493,
          1.6247315492999324,
          1.6247315492999324,
          1.7242808351489598,
          1.7737360252951349,
          1.835350598408586,
          1.8276325434494372,
          1.8887322545606655,
          1.8675508697064649,
          1.826988221143657,
          1.799316758351916,
          1.7003977112610014,
          1.574210613767778,
          1.7550650328126347,
          1.747932257594045,
          1.7550650328126347,
          1.8481021674715277,
          1.9283201591224215,
          1.9816572625131303,
          1.977055192475377,
          1.858320593816537,
          1.923765756476773,
          1.9566094021493388,
          2.0056274606429163,
          2.045553370348688,
          2.019046779451508,
          2.0304743596149937,
          2.0341887598935227,
          2.0341887598935227,
          2.0341887598935227,
          2.0341887598935227,
          2.0341887598935227,
          2.0341887598935227,
          2.0341887598935227,
          2.0341887598935227,
          2.0341887598935227,
          2.0341887598935227,
          2.0341887598935227,
          2.0341887598935227,
          2.0341887598935227,
          2.0341887598935227,
          2.0341887598935227,
          2.0341887598935227,
          2.0341887598935227,
          2.0341887598935227,
          2.0341887598935227,
          2.0341887598935227,
          2.0341887598935227,
          2.0341887598935227,
          2.0341887598935227,
          2.0341887598935227,
          2.0341887598935227,
          2.0341887598935227,
          2.0341887598935227,
          2.0341887598935227,
          2.0341887598935227,
          2.0341887598935227,
          2.0341887598935227,
          2.0341887598935227,
          2.0341887598935227,
          2.0341887598935227,
          2.0341887598935227,
          2.0341887598935227,
          2.0341887598935227,
          2.0341887598935227,
          2.0341887598935227,
          2.0341887598935227,
          2.0341887598935227,
          2.0341887598935227,
          2.0341887598935227,
          2.0341887598935227,
          2.0341887598935227,
          2.0341887598935227,
          2.0341887598935227,
          2.0341887598935227,
          2.0341887598935227,
          2.0341887598935227,
          2.0341887598935227,
          2.0341887598935227,
          2.0341887598935227,
          2.0341887598935227,
          2.0341887598935227,
          2.0341887598935227,
          2.0341887598935227,
          2.0341887598935227,
          2.0341887598935227,
          2.0341887598935227,
          2.0341887598935227,
          2.0341887598935227,
          2.0341887598935227,
          2.0341887598935227,
          2.0341887598935227,
          2.0341887598935227,
          2.0341887598935227,
          2.0341887598935227,
          2.0341887598935227,
          2.0341887598935227,
          2.0341887598935227,
          2.0341887598935227,
          2.0341887598935227,
          2.0341887598935227,
          2.0341887598935227,
          2.0341887598935227,
          2.0341887598935227,
          2.0341887598935227,
          2.0341887598935227,
          2.0341887598935227,
          2.0341887598935227,
          2.0341887598935227,
          2.0341887598935227,
          2.0341887598935227,
          2.0341887598935227,
          2.0341887598935227,
          2.0341887598935227,
          2.0341887598935227,
          2.0341887598935227,
          2.0341887598935227,
          2.0341887598935227,
          2.0341887598935227,
          2.0341887598935227,
          2.0341887598935227,
          2.0341887598935227,
          2.0341887598935227,
          2.0341887598935227,
          2.0341887598935227,
          2.0341887598935227,
          2.0341887598935227,
          2.0341887598935227,
          2.0341887598935227,
          2.0341887598935227,
          2.0341887598935227,
          2.0341887598935227,
          2.0341887598935227,
          2.0341887598935227,
          2.0341887598935227,
          2.0341887598935227,
          2.0341887598935227,
          2.0341887598935227,
          2.0341887598935227,
          2.0341887598935227,
          2.0341887598935227,
          2.0341887598935227,
          2.0341887598935227,
          2.0341887598935227,
          2.0341887598935227,
          2.0341887598935227,
          2.0341887598935227,
          2.0341887598935227,
          2.0341887598935227,
          2.0341887598935227,
          2.0341887598935227,
          2.0341887598935227,
          2.0341887598935227
         ],
         "yaxis": "y2"
        },
        {
         "line": {
          "color": "crimson"
         },
         "mode": "lines",
         "name": "Drawdown",
         "type": "scatter",
         "x": [
          "2001-02-01T00:00:00",
          "2001-03-01T00:00:00",
          "2001-04-01T00:00:00",
          "2001-05-01T00:00:00",
          "2001-06-01T00:00:00",
          "2001-07-01T00:00:00",
          "2001-08-01T00:00:00",
          "2001-09-01T00:00:00",
          "2001-10-01T00:00:00",
          "2001-11-01T00:00:00",
          "2001-12-01T00:00:00",
          "2002-01-01T00:00:00",
          "2002-02-01T00:00:00",
          "2002-03-01T00:00:00",
          "2002-04-01T00:00:00",
          "2002-05-01T00:00:00",
          "2002-06-01T00:00:00",
          "2002-07-01T00:00:00",
          "2002-08-01T00:00:00",
          "2002-09-01T00:00:00",
          "2002-10-01T00:00:00",
          "2002-11-01T00:00:00",
          "2002-12-01T00:00:00",
          "2003-01-01T00:00:00",
          "2003-02-01T00:00:00",
          "2003-03-01T00:00:00",
          "2003-04-01T00:00:00",
          "2003-05-01T00:00:00",
          "2003-06-01T00:00:00",
          "2003-07-01T00:00:00",
          "2003-08-01T00:00:00",
          "2003-09-01T00:00:00",
          "2003-10-01T00:00:00",
          "2003-11-01T00:00:00",
          "2003-12-01T00:00:00",
          "2004-01-01T00:00:00",
          "2004-02-01T00:00:00",
          "2004-03-01T00:00:00",
          "2004-04-01T00:00:00",
          "2004-05-01T00:00:00",
          "2004-06-01T00:00:00",
          "2004-07-01T00:00:00",
          "2004-08-01T00:00:00",
          "2004-09-01T00:00:00",
          "2004-10-01T00:00:00",
          "2004-11-01T00:00:00",
          "2004-12-01T00:00:00",
          "2005-01-01T00:00:00",
          "2005-02-01T00:00:00",
          "2005-03-01T00:00:00",
          "2005-04-01T00:00:00",
          "2005-05-01T00:00:00",
          "2005-06-01T00:00:00",
          "2005-07-01T00:00:00",
          "2005-08-01T00:00:00",
          "2005-09-01T00:00:00",
          "2005-10-01T00:00:00",
          "2005-11-01T00:00:00",
          "2005-12-01T00:00:00",
          "2006-01-01T00:00:00",
          "2006-02-01T00:00:00",
          "2006-03-01T00:00:00",
          "2006-04-01T00:00:00",
          "2006-05-01T00:00:00",
          "2006-06-01T00:00:00",
          "2006-07-01T00:00:00",
          "2006-08-01T00:00:00",
          "2006-09-01T00:00:00",
          "2006-10-01T00:00:00",
          "2006-11-01T00:00:00",
          "2006-12-01T00:00:00",
          "2007-01-01T00:00:00",
          "2007-02-01T00:00:00",
          "2007-03-01T00:00:00",
          "2007-04-01T00:00:00",
          "2007-05-01T00:00:00",
          "2007-06-01T00:00:00",
          "2007-07-01T00:00:00",
          "2007-08-01T00:00:00",
          "2007-09-01T00:00:00",
          "2007-10-01T00:00:00",
          "2007-11-01T00:00:00",
          "2007-12-01T00:00:00",
          "2008-01-01T00:00:00",
          "2008-02-01T00:00:00",
          "2008-03-01T00:00:00",
          "2008-04-01T00:00:00",
          "2008-05-01T00:00:00",
          "2008-06-01T00:00:00",
          "2008-07-01T00:00:00",
          "2008-08-01T00:00:00",
          "2008-09-01T00:00:00",
          "2008-10-01T00:00:00",
          "2008-11-01T00:00:00",
          "2008-12-01T00:00:00",
          "2009-01-01T00:00:00",
          "2009-02-01T00:00:00",
          "2009-03-01T00:00:00",
          "2009-04-01T00:00:00",
          "2009-05-01T00:00:00",
          "2009-06-01T00:00:00",
          "2009-07-01T00:00:00",
          "2009-08-01T00:00:00",
          "2009-09-01T00:00:00",
          "2009-10-01T00:00:00",
          "2009-11-01T00:00:00",
          "2009-12-01T00:00:00",
          "2010-01-01T00:00:00",
          "2010-02-01T00:00:00",
          "2010-03-01T00:00:00",
          "2010-04-01T00:00:00",
          "2010-05-01T00:00:00",
          "2010-06-01T00:00:00",
          "2010-07-01T00:00:00",
          "2010-08-01T00:00:00",
          "2010-09-01T00:00:00",
          "2010-10-01T00:00:00",
          "2010-11-01T00:00:00",
          "2010-12-01T00:00:00",
          "2011-01-01T00:00:00",
          "2011-02-01T00:00:00",
          "2011-03-01T00:00:00",
          "2011-04-01T00:00:00",
          "2011-05-01T00:00:00",
          "2011-06-01T00:00:00",
          "2011-07-01T00:00:00",
          "2011-08-01T00:00:00",
          "2011-09-01T00:00:00",
          "2011-10-01T00:00:00",
          "2011-11-01T00:00:00",
          "2011-12-01T00:00:00",
          "2012-01-01T00:00:00",
          "2012-02-01T00:00:00",
          "2012-03-01T00:00:00",
          "2012-04-01T00:00:00",
          "2012-05-01T00:00:00",
          "2012-06-01T00:00:00",
          "2012-07-01T00:00:00",
          "2012-08-01T00:00:00",
          "2012-09-01T00:00:00",
          "2012-10-01T00:00:00",
          "2012-11-01T00:00:00",
          "2012-12-01T00:00:00",
          "2013-01-01T00:00:00",
          "2013-02-01T00:00:00",
          "2013-03-01T00:00:00",
          "2013-04-01T00:00:00",
          "2013-05-01T00:00:00",
          "2013-06-01T00:00:00",
          "2013-07-01T00:00:00",
          "2013-08-01T00:00:00",
          "2013-09-01T00:00:00",
          "2013-10-01T00:00:00",
          "2013-11-01T00:00:00",
          "2013-12-01T00:00:00",
          "2014-01-01T00:00:00",
          "2014-02-01T00:00:00",
          "2014-03-01T00:00:00",
          "2014-04-01T00:00:00",
          "2014-05-01T00:00:00",
          "2014-06-01T00:00:00",
          "2014-07-01T00:00:00",
          "2014-08-01T00:00:00",
          "2014-09-01T00:00:00",
          "2014-10-01T00:00:00",
          "2014-11-01T00:00:00",
          "2014-12-01T00:00:00",
          "2015-01-01T00:00:00",
          "2015-02-01T00:00:00",
          "2015-03-01T00:00:00",
          "2015-04-01T00:00:00",
          "2015-05-01T00:00:00",
          "2015-06-01T00:00:00",
          "2015-07-01T00:00:00",
          "2015-08-01T00:00:00",
          "2015-09-01T00:00:00",
          "2015-10-01T00:00:00",
          "2015-11-01T00:00:00",
          "2015-12-01T00:00:00",
          "2016-01-01T00:00:00",
          "2016-02-01T00:00:00",
          "2016-03-01T00:00:00",
          "2016-04-01T00:00:00",
          "2016-05-01T00:00:00",
          "2016-06-01T00:00:00",
          "2016-07-01T00:00:00",
          "2016-08-01T00:00:00",
          "2016-09-01T00:00:00",
          "2016-10-01T00:00:00",
          "2016-11-01T00:00:00",
          "2016-12-01T00:00:00",
          "2017-01-01T00:00:00",
          "2017-02-01T00:00:00",
          "2017-03-01T00:00:00",
          "2017-04-01T00:00:00",
          "2017-05-01T00:00:00",
          "2017-06-01T00:00:00",
          "2017-07-01T00:00:00",
          "2017-08-01T00:00:00",
          "2017-09-01T00:00:00",
          "2017-10-01T00:00:00",
          "2017-11-01T00:00:00",
          "2017-12-01T00:00:00",
          "2018-01-01T00:00:00",
          "2018-02-01T00:00:00",
          "2018-03-01T00:00:00",
          "2018-04-01T00:00:00",
          "2018-05-01T00:00:00",
          "2018-06-01T00:00:00",
          "2018-07-01T00:00:00",
          "2018-08-01T00:00:00",
          "2018-09-01T00:00:00",
          "2018-10-01T00:00:00",
          "2018-11-01T00:00:00",
          "2018-12-01T00:00:00",
          "2019-01-01T00:00:00",
          "2019-02-01T00:00:00",
          "2019-03-01T00:00:00",
          "2019-04-01T00:00:00",
          "2019-05-01T00:00:00",
          "2019-06-01T00:00:00",
          "2019-07-01T00:00:00",
          "2019-08-01T00:00:00",
          "2019-09-01T00:00:00",
          "2019-10-01T00:00:00",
          "2019-11-01T00:00:00",
          "2019-12-01T00:00:00",
          "2020-01-01T00:00:00",
          "2020-02-01T00:00:00",
          "2020-03-01T00:00:00",
          "2020-04-01T00:00:00",
          "2020-05-01T00:00:00",
          "2020-06-01T00:00:00",
          "2020-07-01T00:00:00",
          "2020-08-01T00:00:00",
          "2020-09-01T00:00:00",
          "2020-10-01T00:00:00",
          "2020-11-01T00:00:00",
          "2020-12-01T00:00:00",
          "2021-01-01T00:00:00",
          "2021-02-01T00:00:00",
          "2021-03-01T00:00:00",
          "2021-04-01T00:00:00",
          "2021-05-01T00:00:00",
          "2021-06-01T00:00:00",
          "2021-07-01T00:00:00",
          "2021-08-01T00:00:00",
          "2021-09-01T00:00:00",
          "2021-10-01T00:00:00",
          "2021-11-01T00:00:00",
          "2021-12-01T00:00:00",
          "2022-01-01T00:00:00",
          "2022-02-01T00:00:00",
          "2022-03-01T00:00:00",
          "2022-04-01T00:00:00",
          "2022-05-01T00:00:00",
          "2022-06-01T00:00:00",
          "2022-07-01T00:00:00",
          "2022-08-01T00:00:00",
          "2022-09-01T00:00:00",
          "2022-10-01T00:00:00",
          "2022-11-01T00:00:00",
          "2022-12-01T00:00:00",
          "2023-01-01T00:00:00",
          "2023-02-01T00:00:00",
          "2023-03-01T00:00:00",
          "2023-04-01T00:00:00",
          "2023-05-01T00:00:00"
         ],
         "xaxis": "x3",
         "y": [
          0,
          0,
          0,
          0,
          0,
          0,
          0,
          0,
          0,
          0,
          0,
          0,
          0,
          0,
          0,
          0,
          0,
          0,
          0,
          0,
          0,
          0,
          0,
          0,
          0,
          -1.1102230246251565e-14,
          0,
          0,
          0,
          0,
          0,
          -1.4688861002270202,
          0,
          0,
          0,
          0,
          0,
          -1.669254204892788,
          -3.1916789090029227,
          -1.5339495977331161,
          -0.07692424738468587,
          -2.9433635902694153,
          -2.706906935502317,
          -2.1377990496380415,
          -0.46417637995631,
          0,
          0,
          -1.7802917452729197,
          0,
          -2.2134029924111362,
          -3.6685269279898467,
          -0.5642778393537901,
          -0.8139362730384933,
          0,
          -0.9374477034276789,
          -0.5657267762358765,
          -2.504150859999917,
          0,
          -0.7176469356159048,
          0,
          0,
          0,
          0,
          -3.012092166819996,
          -3.1870373304605257,
          -2.32364459357996,
          -0.192085005698297,
          0,
          0,
          0,
          0,
          0,
          -1.9618016025408882,
          -1.2173950805977474,
          0,
          0,
          -1.884861641790255,
          -4.547206749088151,
          -3.322315083788957,
          -0.0536595396307398,
          0,
          -3.8732520972036126,
          -5.457426901231164,
          -10.702180881624804,
          -13.009843431493373,
          -14.212447359682498,
          -9.67869543506114,
          -8.313347700746528,
          -16.394297819459513,
          -16.731145362838586,
          -15.444327843109312,
          -23.848009170364104,
          -36.0593551966636,
          -40.51002611146692,
          -40.41098661581784,
          -44.86009511366719,
          -50.78481772836992,
          -47.063560145104184,
          -41.38797480674301,
          -37.96188780631815,
          -38.350799995005715,
          -33.37718334976599,
          -30.91616514105862,
          -28.805721912024463,
          -29.841877263756245,
          -25.519652032687397,
          -24.503487430628514,
          -26.855518528320584,
          -24.57380983911949,
          -20.310028554022676,
          -18.743981880329912,
          -25.200154822556847,
          -29.406215376516215,
          -24.22582751640043,
          -27.634182107815086,
          -21.573341591628008,
          -18.14139382193045,
          -18.14139382193045,
          -13.125817070722013,
          -10.63412363657799,
          -7.5298058325093065,
          -7.918663438945209,
          -4.84028584998109,
          -5.907464389003881,
          -7.951126233123933,
          -9.345293396318516,
          -14.3291169226199,
          -20.686782546151512,
          -11.574821452926313,
          -11.934190997899334,
          -11.574821452926313,
          -6.887345439267384,
          -2.8457343867980756,
          -0.15845909936964594,
          -0.3903245044494379,
          -6.372511995984922,
          -3.0751981728045346,
          -1.420441694590602,
          0,
          0,
          -1.2958151706724543,
          -0.7371604648537745,
          -0.5555763354748466,
          -0.5555763354748466,
          -0.5555763354748466,
          -0.5555763354748466,
          -0.5555763354748466,
          -0.5555763354748466,
          -0.5555763354748466,
          -0.5555763354748466,
          -0.5555763354748466,
          -0.5555763354748466,
          -0.5555763354748466,
          -0.5555763354748466,
          -0.5555763354748466,
          -0.5555763354748466,
          -0.5555763354748466,
          -0.5555763354748466,
          -0.5555763354748466,
          -0.5555763354748466,
          -0.5555763354748466,
          -0.5555763354748466,
          -0.5555763354748466,
          -0.5555763354748466,
          -0.5555763354748466,
          -0.5555763354748466,
          -0.5555763354748466,
          -0.5555763354748466,
          -0.5555763354748466,
          -0.5555763354748466,
          -0.5555763354748466,
          -0.5555763354748466,
          -0.5555763354748466,
          -0.5555763354748466,
          -0.5555763354748466,
          -0.5555763354748466,
          -0.5555763354748466,
          -0.5555763354748466,
          -0.5555763354748466,
          -0.5555763354748466,
          -0.5555763354748466,
          -0.5555763354748466,
          -0.5555763354748466,
          -0.5555763354748466,
          -0.5555763354748466,
          -0.5555763354748466,
          -0.5555763354748466,
          -0.5555763354748466,
          -0.5555763354748466,
          -0.5555763354748466,
          -0.5555763354748466,
          -0.5555763354748466,
          -0.5555763354748466,
          -0.5555763354748466,
          -0.5555763354748466,
          -0.5555763354748466,
          -0.5555763354748466,
          -0.5555763354748466,
          -0.5555763354748466,
          -0.5555763354748466,
          -0.5555763354748466,
          -0.5555763354748466,
          -0.5555763354748466,
          -0.5555763354748466,
          -0.5555763354748466,
          -0.5555763354748466,
          -0.5555763354748466,
          -0.5555763354748466,
          -0.5555763354748466,
          -0.5555763354748466,
          -0.5555763354748466,
          -0.5555763354748466,
          -0.5555763354748466,
          -0.5555763354748466,
          -0.5555763354748466,
          -0.5555763354748466,
          -0.5555763354748466,
          -0.5555763354748466,
          -0.5555763354748466,
          -0.5555763354748466,
          -0.5555763354748466,
          -0.5555763354748466,
          -0.5555763354748466,
          -0.5555763354748466,
          -0.5555763354748466,
          -0.5555763354748466,
          -0.5555763354748466,
          -0.5555763354748466,
          -0.5555763354748466,
          -0.5555763354748466,
          -0.5555763354748466,
          -0.5555763354748466,
          -0.5555763354748466,
          -0.5555763354748466,
          -0.5555763354748466,
          -0.5555763354748466,
          -0.5555763354748466,
          -0.5555763354748466,
          -0.5555763354748466,
          -0.5555763354748466,
          -0.5555763354748466,
          -0.5555763354748466,
          -0.5555763354748466,
          -0.5555763354748466,
          -0.5555763354748466,
          -0.5555763354748466,
          -0.5555763354748466,
          -0.5555763354748466,
          -0.5555763354748466,
          -0.5555763354748466,
          -0.5555763354748466,
          -0.5555763354748466,
          -0.5555763354748466,
          -0.5555763354748466,
          -0.5555763354748466,
          -0.5555763354748466,
          -0.5555763354748466,
          -0.5555763354748466,
          -0.5555763354748466,
          -0.5555763354748466,
          -0.5555763354748466,
          -0.5555763354748466,
          -0.5555763354748466,
          -0.5555763354748466,
          -0.5555763354748466,
          -0.5555763354748466,
          -0.5555763354748466,
          -0.5555763354748466
         ],
         "yaxis": "y3"
        }
       ],
       "layout": {
        "height": 800,
        "legend": {
         "title": {
          "text": "Legend"
         }
        },
        "template": {
         "data": {
          "bar": [
           {
            "error_x": {
             "color": "#2a3f5f"
            },
            "error_y": {
             "color": "#2a3f5f"
            },
            "marker": {
             "line": {
              "color": "white",
              "width": 0.5
             },
             "pattern": {
              "fillmode": "overlay",
              "size": 10,
              "solidity": 0.2
             }
            },
            "type": "bar"
           }
          ],
          "barpolar": [
           {
            "marker": {
             "line": {
              "color": "white",
              "width": 0.5
             },
             "pattern": {
              "fillmode": "overlay",
              "size": 10,
              "solidity": 0.2
             }
            },
            "type": "barpolar"
           }
          ],
          "carpet": [
           {
            "aaxis": {
             "endlinecolor": "#2a3f5f",
             "gridcolor": "#C8D4E3",
             "linecolor": "#C8D4E3",
             "minorgridcolor": "#C8D4E3",
             "startlinecolor": "#2a3f5f"
            },
            "baxis": {
             "endlinecolor": "#2a3f5f",
             "gridcolor": "#C8D4E3",
             "linecolor": "#C8D4E3",
             "minorgridcolor": "#C8D4E3",
             "startlinecolor": "#2a3f5f"
            },
            "type": "carpet"
           }
          ],
          "choropleth": [
           {
            "colorbar": {
             "outlinewidth": 0,
             "ticks": ""
            },
            "type": "choropleth"
           }
          ],
          "contour": [
           {
            "colorbar": {
             "outlinewidth": 0,
             "ticks": ""
            },
            "colorscale": [
             [
              0,
              "#0d0887"
             ],
             [
              0.1111111111111111,
              "#46039f"
             ],
             [
              0.2222222222222222,
              "#7201a8"
             ],
             [
              0.3333333333333333,
              "#9c179e"
             ],
             [
              0.4444444444444444,
              "#bd3786"
             ],
             [
              0.5555555555555556,
              "#d8576b"
             ],
             [
              0.6666666666666666,
              "#ed7953"
             ],
             [
              0.7777777777777778,
              "#fb9f3a"
             ],
             [
              0.8888888888888888,
              "#fdca26"
             ],
             [
              1,
              "#f0f921"
             ]
            ],
            "type": "contour"
           }
          ],
          "contourcarpet": [
           {
            "colorbar": {
             "outlinewidth": 0,
             "ticks": ""
            },
            "type": "contourcarpet"
           }
          ],
          "heatmap": [
           {
            "colorbar": {
             "outlinewidth": 0,
             "ticks": ""
            },
            "colorscale": [
             [
              0,
              "#0d0887"
             ],
             [
              0.1111111111111111,
              "#46039f"
             ],
             [
              0.2222222222222222,
              "#7201a8"
             ],
             [
              0.3333333333333333,
              "#9c179e"
             ],
             [
              0.4444444444444444,
              "#bd3786"
             ],
             [
              0.5555555555555556,
              "#d8576b"
             ],
             [
              0.6666666666666666,
              "#ed7953"
             ],
             [
              0.7777777777777778,
              "#fb9f3a"
             ],
             [
              0.8888888888888888,
              "#fdca26"
             ],
             [
              1,
              "#f0f921"
             ]
            ],
            "type": "heatmap"
           }
          ],
          "heatmapgl": [
           {
            "colorbar": {
             "outlinewidth": 0,
             "ticks": ""
            },
            "colorscale": [
             [
              0,
              "#0d0887"
             ],
             [
              0.1111111111111111,
              "#46039f"
             ],
             [
              0.2222222222222222,
              "#7201a8"
             ],
             [
              0.3333333333333333,
              "#9c179e"
             ],
             [
              0.4444444444444444,
              "#bd3786"
             ],
             [
              0.5555555555555556,
              "#d8576b"
             ],
             [
              0.6666666666666666,
              "#ed7953"
             ],
             [
              0.7777777777777778,
              "#fb9f3a"
             ],
             [
              0.8888888888888888,
              "#fdca26"
             ],
             [
              1,
              "#f0f921"
             ]
            ],
            "type": "heatmapgl"
           }
          ],
          "histogram": [
           {
            "marker": {
             "pattern": {
              "fillmode": "overlay",
              "size": 10,
              "solidity": 0.2
             }
            },
            "type": "histogram"
           }
          ],
          "histogram2d": [
           {
            "colorbar": {
             "outlinewidth": 0,
             "ticks": ""
            },
            "colorscale": [
             [
              0,
              "#0d0887"
             ],
             [
              0.1111111111111111,
              "#46039f"
             ],
             [
              0.2222222222222222,
              "#7201a8"
             ],
             [
              0.3333333333333333,
              "#9c179e"
             ],
             [
              0.4444444444444444,
              "#bd3786"
             ],
             [
              0.5555555555555556,
              "#d8576b"
             ],
             [
              0.6666666666666666,
              "#ed7953"
             ],
             [
              0.7777777777777778,
              "#fb9f3a"
             ],
             [
              0.8888888888888888,
              "#fdca26"
             ],
             [
              1,
              "#f0f921"
             ]
            ],
            "type": "histogram2d"
           }
          ],
          "histogram2dcontour": [
           {
            "colorbar": {
             "outlinewidth": 0,
             "ticks": ""
            },
            "colorscale": [
             [
              0,
              "#0d0887"
             ],
             [
              0.1111111111111111,
              "#46039f"
             ],
             [
              0.2222222222222222,
              "#7201a8"
             ],
             [
              0.3333333333333333,
              "#9c179e"
             ],
             [
              0.4444444444444444,
              "#bd3786"
             ],
             [
              0.5555555555555556,
              "#d8576b"
             ],
             [
              0.6666666666666666,
              "#ed7953"
             ],
             [
              0.7777777777777778,
              "#fb9f3a"
             ],
             [
              0.8888888888888888,
              "#fdca26"
             ],
             [
              1,
              "#f0f921"
             ]
            ],
            "type": "histogram2dcontour"
           }
          ],
          "mesh3d": [
           {
            "colorbar": {
             "outlinewidth": 0,
             "ticks": ""
            },
            "type": "mesh3d"
           }
          ],
          "parcoords": [
           {
            "line": {
             "colorbar": {
              "outlinewidth": 0,
              "ticks": ""
             }
            },
            "type": "parcoords"
           }
          ],
          "pie": [
           {
            "automargin": true,
            "type": "pie"
           }
          ],
          "scatter": [
           {
            "marker": {
             "colorbar": {
              "outlinewidth": 0,
              "ticks": ""
             }
            },
            "type": "scatter"
           }
          ],
          "scatter3d": [
           {
            "line": {
             "colorbar": {
              "outlinewidth": 0,
              "ticks": ""
             }
            },
            "marker": {
             "colorbar": {
              "outlinewidth": 0,
              "ticks": ""
             }
            },
            "type": "scatter3d"
           }
          ],
          "scattercarpet": [
           {
            "marker": {
             "colorbar": {
              "outlinewidth": 0,
              "ticks": ""
             }
            },
            "type": "scattercarpet"
           }
          ],
          "scattergeo": [
           {
            "marker": {
             "colorbar": {
              "outlinewidth": 0,
              "ticks": ""
             }
            },
            "type": "scattergeo"
           }
          ],
          "scattergl": [
           {
            "marker": {
             "colorbar": {
              "outlinewidth": 0,
              "ticks": ""
             }
            },
            "type": "scattergl"
           }
          ],
          "scattermapbox": [
           {
            "marker": {
             "colorbar": {
              "outlinewidth": 0,
              "ticks": ""
             }
            },
            "type": "scattermapbox"
           }
          ],
          "scatterpolar": [
           {
            "marker": {
             "colorbar": {
              "outlinewidth": 0,
              "ticks": ""
             }
            },
            "type": "scatterpolar"
           }
          ],
          "scatterpolargl": [
           {
            "marker": {
             "colorbar": {
              "outlinewidth": 0,
              "ticks": ""
             }
            },
            "type": "scatterpolargl"
           }
          ],
          "scatterternary": [
           {
            "marker": {
             "colorbar": {
              "outlinewidth": 0,
              "ticks": ""
             }
            },
            "type": "scatterternary"
           }
          ],
          "surface": [
           {
            "colorbar": {
             "outlinewidth": 0,
             "ticks": ""
            },
            "colorscale": [
             [
              0,
              "#0d0887"
             ],
             [
              0.1111111111111111,
              "#46039f"
             ],
             [
              0.2222222222222222,
              "#7201a8"
             ],
             [
              0.3333333333333333,
              "#9c179e"
             ],
             [
              0.4444444444444444,
              "#bd3786"
             ],
             [
              0.5555555555555556,
              "#d8576b"
             ],
             [
              0.6666666666666666,
              "#ed7953"
             ],
             [
              0.7777777777777778,
              "#fb9f3a"
             ],
             [
              0.8888888888888888,
              "#fdca26"
             ],
             [
              1,
              "#f0f921"
             ]
            ],
            "type": "surface"
           }
          ],
          "table": [
           {
            "cells": {
             "fill": {
              "color": "#EBF0F8"
             },
             "line": {
              "color": "white"
             }
            },
            "header": {
             "fill": {
              "color": "#C8D4E3"
             },
             "line": {
              "color": "white"
             }
            },
            "type": "table"
           }
          ]
         },
         "layout": {
          "annotationdefaults": {
           "arrowcolor": "#2a3f5f",
           "arrowhead": 0,
           "arrowwidth": 1
          },
          "autotypenumbers": "strict",
          "coloraxis": {
           "colorbar": {
            "outlinewidth": 0,
            "ticks": ""
           }
          },
          "colorscale": {
           "diverging": [
            [
             0,
             "#8e0152"
            ],
            [
             0.1,
             "#c51b7d"
            ],
            [
             0.2,
             "#de77ae"
            ],
            [
             0.3,
             "#f1b6da"
            ],
            [
             0.4,
             "#fde0ef"
            ],
            [
             0.5,
             "#f7f7f7"
            ],
            [
             0.6,
             "#e6f5d0"
            ],
            [
             0.7,
             "#b8e186"
            ],
            [
             0.8,
             "#7fbc41"
            ],
            [
             0.9,
             "#4d9221"
            ],
            [
             1,
             "#276419"
            ]
           ],
           "sequential": [
            [
             0,
             "#0d0887"
            ],
            [
             0.1111111111111111,
             "#46039f"
            ],
            [
             0.2222222222222222,
             "#7201a8"
            ],
            [
             0.3333333333333333,
             "#9c179e"
            ],
            [
             0.4444444444444444,
             "#bd3786"
            ],
            [
             0.5555555555555556,
             "#d8576b"
            ],
            [
             0.6666666666666666,
             "#ed7953"
            ],
            [
             0.7777777777777778,
             "#fb9f3a"
            ],
            [
             0.8888888888888888,
             "#fdca26"
            ],
            [
             1,
             "#f0f921"
            ]
           ],
           "sequentialminus": [
            [
             0,
             "#0d0887"
            ],
            [
             0.1111111111111111,
             "#46039f"
            ],
            [
             0.2222222222222222,
             "#7201a8"
            ],
            [
             0.3333333333333333,
             "#9c179e"
            ],
            [
             0.4444444444444444,
             "#bd3786"
            ],
            [
             0.5555555555555556,
             "#d8576b"
            ],
            [
             0.6666666666666666,
             "#ed7953"
            ],
            [
             0.7777777777777778,
             "#fb9f3a"
            ],
            [
             0.8888888888888888,
             "#fdca26"
            ],
            [
             1,
             "#f0f921"
            ]
           ]
          },
          "colorway": [
           "#636efa",
           "#EF553B",
           "#00cc96",
           "#ab63fa",
           "#FFA15A",
           "#19d3f3",
           "#FF6692",
           "#B6E880",
           "#FF97FF",
           "#FECB52"
          ],
          "font": {
           "color": "#2a3f5f"
          },
          "geo": {
           "bgcolor": "white",
           "lakecolor": "white",
           "landcolor": "white",
           "showlakes": true,
           "showland": true,
           "subunitcolor": "#C8D4E3"
          },
          "hoverlabel": {
           "align": "left"
          },
          "hovermode": "closest",
          "mapbox": {
           "style": "light"
          },
          "paper_bgcolor": "white",
          "plot_bgcolor": "white",
          "polar": {
           "angularaxis": {
            "gridcolor": "#EBF0F8",
            "linecolor": "#EBF0F8",
            "ticks": ""
           },
           "bgcolor": "white",
           "radialaxis": {
            "gridcolor": "#EBF0F8",
            "linecolor": "#EBF0F8",
            "ticks": ""
           }
          },
          "scene": {
           "xaxis": {
            "backgroundcolor": "white",
            "gridcolor": "#DFE8F3",
            "gridwidth": 2,
            "linecolor": "#EBF0F8",
            "showbackground": true,
            "ticks": "",
            "zerolinecolor": "#EBF0F8"
           },
           "yaxis": {
            "backgroundcolor": "white",
            "gridcolor": "#DFE8F3",
            "gridwidth": 2,
            "linecolor": "#EBF0F8",
            "showbackground": true,
            "ticks": "",
            "zerolinecolor": "#EBF0F8"
           },
           "zaxis": {
            "backgroundcolor": "white",
            "gridcolor": "#DFE8F3",
            "gridwidth": 2,
            "linecolor": "#EBF0F8",
            "showbackground": true,
            "ticks": "",
            "zerolinecolor": "#EBF0F8"
           }
          },
          "shapedefaults": {
           "line": {
            "color": "#2a3f5f"
           }
          },
          "ternary": {
           "aaxis": {
            "gridcolor": "#DFE8F3",
            "linecolor": "#A2B1C6",
            "ticks": ""
           },
           "baxis": {
            "gridcolor": "#DFE8F3",
            "linecolor": "#A2B1C6",
            "ticks": ""
           },
           "bgcolor": "white",
           "caxis": {
            "gridcolor": "#DFE8F3",
            "linecolor": "#A2B1C6",
            "ticks": ""
           }
          },
          "title": {
           "x": 0.05
          },
          "xaxis": {
           "automargin": true,
           "gridcolor": "#EBF0F8",
           "linecolor": "#EBF0F8",
           "ticks": "",
           "title": {
            "standoff": 15
           },
           "zerolinecolor": "#EBF0F8",
           "zerolinewidth": 2
          },
          "yaxis": {
           "automargin": true,
           "gridcolor": "#EBF0F8",
           "linecolor": "#EBF0F8",
           "ticks": "",
           "title": {
            "standoff": 15
           },
           "zerolinecolor": "#EBF0F8",
           "zerolinewidth": 2
          }
         }
        },
        "title": {
         "text": "Stock Price, 1$ Investment Over Time and Drawdown"
        },
        "xaxis": {
         "anchor": "y",
         "domain": [
          0,
          1
         ],
         "matches": "x3",
         "showticklabels": false
        },
        "xaxis2": {
         "anchor": "y2",
         "domain": [
          0,
          1
         ],
         "matches": "x3",
         "showticklabels": false
        },
        "xaxis3": {
         "anchor": "y3",
         "domain": [
          0,
          1
         ],
         "title": {
          "text": "Date"
         }
        },
        "yaxis": {
         "anchor": "x",
         "domain": [
          0.6,
          1
         ],
         "title": {
          "text": "Price (USD)"
         }
        },
        "yaxis2": {
         "anchor": "x2",
         "domain": [
          0.3,
          0.5
         ],
         "title": {
          "text": "Value (USD)"
         }
        },
        "yaxis3": {
         "anchor": "x3",
         "domain": [
          0,
          0.2
         ],
         "title": {
          "text": "Drawdown (%)"
         }
        }
       }
      }
     },
     "metadata": {},
     "output_type": "display_data"
    },
    {
     "name": "stdout",
     "output_type": "stream",
     "text": [
      "Maximum Drawdown: -50.78%\n"
     ]
    }
   ],
   "source": [
    "#Load data\n",
    "instrument='SPY'   # HPQ, AMZN, INTC, DXY, SPY, \n",
    "start_date='2000-01-01'\n",
    "end_date='2024-01-01'\n",
    "interval='1mo'\n",
    "\n",
    "data = get_data(instrument=instrument, start_date=start_date, end_date=end_date, interval=interval)\n",
    "data = add_vix(df = data, start_date=start_date, end_date=end_date, interval=interval)\n",
    "\n",
    "#Calculate strategy\n",
    "data = macd(data)\n",
    "data = rsi(data)\n",
    "data = atr(data)\n",
    "data = data.dropna()\n",
    "\n",
    "data = run_strategy(data=data, strategy='Trend-Reversal')\n",
    "\n",
    "#plot\n",
    "plot_buy_sell_signal(data=data, instrument=instrument, buy_signal_column='Trend Buy Signal', sell_signal_column='Trend Sell Signal', title = 'Price with Buy/Sell Signals')\n",
    "\n",
    "trades = simulate_trading(data=data, buy_signal_column='Trend Buy Signal', sell_signal_column='Trend Sell Signal')\n",
    "calculate_win_rate(trades=trades)\n",
    "calculate_avg_gain_loss_ratio(trades=trades)\n",
    "calculate_max_drawdown(data=data, trades=trades)"
   ]
  },
  {
   "cell_type": "code",
   "execution_count": 441,
   "metadata": {},
   "outputs": [
    {
     "name": "stdout",
     "output_type": "stream",
     "text": [
      "[*********************100%***********************]  1 of 1 completed\n",
      "[*********************100%***********************]  1 of 1 completed\n"
     ]
    },
    {
     "data": {
      "application/vnd.plotly.v1+json": {
       "config": {
        "plotlyServerURL": "https://plot.ly"
       },
       "data": [
        {
         "line": {
          "color": "blue"
         },
         "mode": "lines",
         "name": "Price",
         "type": "scatter",
         "x": [
          "2001-02-01T00:00:00",
          "2001-03-01T00:00:00",
          "2001-04-01T00:00:00",
          "2001-05-01T00:00:00",
          "2001-06-01T00:00:00",
          "2001-07-01T00:00:00",
          "2001-08-01T00:00:00",
          "2001-09-01T00:00:00",
          "2001-10-01T00:00:00",
          "2001-11-01T00:00:00",
          "2001-12-01T00:00:00",
          "2002-01-01T00:00:00",
          "2002-02-01T00:00:00",
          "2002-03-01T00:00:00",
          "2002-04-01T00:00:00",
          "2002-05-01T00:00:00",
          "2002-06-01T00:00:00",
          "2002-07-01T00:00:00",
          "2002-08-01T00:00:00",
          "2002-09-01T00:00:00",
          "2002-10-01T00:00:00",
          "2002-11-01T00:00:00",
          "2002-12-01T00:00:00",
          "2003-01-01T00:00:00",
          "2003-02-01T00:00:00",
          "2003-03-01T00:00:00",
          "2003-04-01T00:00:00",
          "2003-05-01T00:00:00",
          "2003-06-01T00:00:00",
          "2003-07-01T00:00:00",
          "2003-08-01T00:00:00",
          "2003-09-01T00:00:00",
          "2003-10-01T00:00:00",
          "2003-11-01T00:00:00",
          "2003-12-01T00:00:00",
          "2004-01-01T00:00:00",
          "2004-02-01T00:00:00",
          "2004-03-01T00:00:00",
          "2004-04-01T00:00:00",
          "2004-05-01T00:00:00",
          "2004-06-01T00:00:00",
          "2004-07-01T00:00:00",
          "2004-08-01T00:00:00",
          "2004-09-01T00:00:00",
          "2004-10-01T00:00:00",
          "2004-11-01T00:00:00",
          "2004-12-01T00:00:00",
          "2005-01-01T00:00:00",
          "2005-02-01T00:00:00",
          "2005-03-01T00:00:00",
          "2005-04-01T00:00:00",
          "2005-05-01T00:00:00",
          "2005-06-01T00:00:00",
          "2005-07-01T00:00:00",
          "2005-08-01T00:00:00",
          "2005-09-01T00:00:00",
          "2005-10-01T00:00:00",
          "2005-11-01T00:00:00",
          "2005-12-01T00:00:00",
          "2006-01-01T00:00:00",
          "2006-02-01T00:00:00",
          "2006-03-01T00:00:00",
          "2006-04-01T00:00:00",
          "2006-05-01T00:00:00",
          "2006-06-01T00:00:00",
          "2006-07-01T00:00:00",
          "2006-08-01T00:00:00",
          "2006-09-01T00:00:00",
          "2006-10-01T00:00:00",
          "2006-11-01T00:00:00",
          "2006-12-01T00:00:00",
          "2007-01-01T00:00:00",
          "2007-02-01T00:00:00",
          "2007-03-01T00:00:00",
          "2007-04-01T00:00:00",
          "2007-05-01T00:00:00",
          "2007-06-01T00:00:00",
          "2007-07-01T00:00:00",
          "2007-08-01T00:00:00",
          "2007-09-01T00:00:00",
          "2007-10-01T00:00:00",
          "2007-11-01T00:00:00",
          "2007-12-01T00:00:00",
          "2008-01-01T00:00:00",
          "2008-02-01T00:00:00",
          "2008-03-01T00:00:00",
          "2008-04-01T00:00:00",
          "2008-05-01T00:00:00",
          "2008-06-01T00:00:00",
          "2008-07-01T00:00:00",
          "2008-08-01T00:00:00",
          "2008-09-01T00:00:00",
          "2008-10-01T00:00:00",
          "2008-11-01T00:00:00",
          "2008-12-01T00:00:00",
          "2009-01-01T00:00:00",
          "2009-02-01T00:00:00",
          "2009-03-01T00:00:00",
          "2009-04-01T00:00:00",
          "2009-05-01T00:00:00",
          "2009-06-01T00:00:00",
          "2009-07-01T00:00:00",
          "2009-08-01T00:00:00",
          "2009-09-01T00:00:00",
          "2009-10-01T00:00:00",
          "2009-11-01T00:00:00",
          "2009-12-01T00:00:00",
          "2010-01-01T00:00:00",
          "2010-02-01T00:00:00",
          "2010-03-01T00:00:00",
          "2010-04-01T00:00:00",
          "2010-05-01T00:00:00",
          "2010-06-01T00:00:00",
          "2010-07-01T00:00:00",
          "2010-08-01T00:00:00",
          "2010-09-01T00:00:00",
          "2010-10-01T00:00:00",
          "2010-11-01T00:00:00",
          "2010-12-01T00:00:00",
          "2011-01-01T00:00:00",
          "2011-02-01T00:00:00",
          "2011-03-01T00:00:00",
          "2011-04-01T00:00:00",
          "2011-05-01T00:00:00",
          "2011-06-01T00:00:00",
          "2011-07-01T00:00:00",
          "2011-08-01T00:00:00",
          "2011-09-01T00:00:00",
          "2011-10-01T00:00:00",
          "2011-11-01T00:00:00",
          "2011-12-01T00:00:00",
          "2012-01-01T00:00:00",
          "2012-02-01T00:00:00",
          "2012-03-01T00:00:00",
          "2012-04-01T00:00:00",
          "2012-05-01T00:00:00",
          "2012-06-01T00:00:00",
          "2012-07-01T00:00:00",
          "2012-08-01T00:00:00",
          "2012-09-01T00:00:00",
          "2012-10-01T00:00:00",
          "2012-11-01T00:00:00",
          "2012-12-01T00:00:00",
          "2013-01-01T00:00:00",
          "2013-02-01T00:00:00",
          "2013-03-01T00:00:00",
          "2013-04-01T00:00:00",
          "2013-05-01T00:00:00",
          "2013-06-01T00:00:00",
          "2013-07-01T00:00:00",
          "2013-08-01T00:00:00",
          "2013-09-01T00:00:00",
          "2013-10-01T00:00:00",
          "2013-11-01T00:00:00",
          "2013-12-01T00:00:00",
          "2014-01-01T00:00:00",
          "2014-02-01T00:00:00",
          "2014-03-01T00:00:00",
          "2014-04-01T00:00:00",
          "2014-05-01T00:00:00",
          "2014-06-01T00:00:00",
          "2014-07-01T00:00:00",
          "2014-08-01T00:00:00",
          "2014-09-01T00:00:00",
          "2014-10-01T00:00:00",
          "2014-11-01T00:00:00",
          "2014-12-01T00:00:00",
          "2015-01-01T00:00:00",
          "2015-02-01T00:00:00",
          "2015-03-01T00:00:00",
          "2015-04-01T00:00:00",
          "2015-05-01T00:00:00",
          "2015-06-01T00:00:00",
          "2015-07-01T00:00:00",
          "2015-08-01T00:00:00",
          "2015-09-01T00:00:00",
          "2015-10-01T00:00:00",
          "2015-11-01T00:00:00",
          "2015-12-01T00:00:00",
          "2016-01-01T00:00:00",
          "2016-02-01T00:00:00",
          "2016-03-01T00:00:00",
          "2016-04-01T00:00:00",
          "2016-05-01T00:00:00",
          "2016-06-01T00:00:00",
          "2016-07-01T00:00:00",
          "2016-08-01T00:00:00",
          "2016-09-01T00:00:00",
          "2016-10-01T00:00:00",
          "2016-11-01T00:00:00",
          "2016-12-01T00:00:00",
          "2017-01-01T00:00:00",
          "2017-02-01T00:00:00",
          "2017-03-01T00:00:00",
          "2017-04-01T00:00:00",
          "2017-05-01T00:00:00",
          "2017-06-01T00:00:00",
          "2017-07-01T00:00:00",
          "2017-08-01T00:00:00",
          "2017-09-01T00:00:00",
          "2017-10-01T00:00:00",
          "2017-11-01T00:00:00",
          "2017-12-01T00:00:00",
          "2018-01-01T00:00:00",
          "2018-02-01T00:00:00",
          "2018-03-01T00:00:00",
          "2018-04-01T00:00:00",
          "2018-05-01T00:00:00",
          "2018-06-01T00:00:00",
          "2018-07-01T00:00:00",
          "2018-08-01T00:00:00",
          "2018-09-01T00:00:00",
          "2018-10-01T00:00:00",
          "2018-11-01T00:00:00",
          "2018-12-01T00:00:00",
          "2019-01-01T00:00:00",
          "2019-02-01T00:00:00",
          "2019-03-01T00:00:00",
          "2019-04-01T00:00:00",
          "2019-05-01T00:00:00",
          "2019-06-01T00:00:00",
          "2019-07-01T00:00:00",
          "2019-08-01T00:00:00",
          "2019-09-01T00:00:00",
          "2019-10-01T00:00:00",
          "2019-11-01T00:00:00",
          "2019-12-01T00:00:00",
          "2020-01-01T00:00:00",
          "2020-02-01T00:00:00",
          "2020-03-01T00:00:00",
          "2020-04-01T00:00:00",
          "2020-05-01T00:00:00",
          "2020-06-01T00:00:00",
          "2020-07-01T00:00:00",
          "2020-08-01T00:00:00",
          "2020-09-01T00:00:00",
          "2020-10-01T00:00:00",
          "2020-11-01T00:00:00",
          "2020-12-01T00:00:00",
          "2021-01-01T00:00:00",
          "2021-02-01T00:00:00",
          "2021-03-01T00:00:00",
          "2021-04-01T00:00:00",
          "2021-05-01T00:00:00",
          "2021-06-01T00:00:00",
          "2021-07-01T00:00:00",
          "2021-08-01T00:00:00",
          "2021-09-01T00:00:00",
          "2021-10-01T00:00:00",
          "2021-11-01T00:00:00",
          "2021-12-01T00:00:00",
          "2022-01-01T00:00:00",
          "2022-02-01T00:00:00",
          "2022-03-01T00:00:00",
          "2022-04-01T00:00:00",
          "2022-05-01T00:00:00",
          "2022-06-01T00:00:00",
          "2022-07-01T00:00:00",
          "2022-08-01T00:00:00",
          "2022-09-01T00:00:00",
          "2022-10-01T00:00:00",
          "2022-11-01T00:00:00",
          "2022-12-01T00:00:00",
          "2023-01-01T00:00:00",
          "2023-02-01T00:00:00",
          "2023-03-01T00:00:00",
          "2023-04-01T00:00:00",
          "2023-05-01T00:00:00"
         ],
         "y": [
          65.77503204345703,
          61.007694244384766,
          65.30905151367188,
          68.26049041748047,
          61.58517837524414,
          59.69026565551758,
          57.57548522949219,
          51.28601837158203,
          56.1810302734375,
          64.06827545166016,
          66.76776123046875,
          62.61415100097656,
          58.34512710571289,
          65.05619812011719,
          56.7664909362793,
          54.472373962402344,
          52.956241607666016,
          52.81180953979492,
          55.90480041503906,
          47.75411605834961,
          51.78242874145508,
          57.132530212402344,
          49.33086395263672,
          49.416351318359375,
          50.480194091796875,
          49.48440170288086,
          55.16842269897461,
          59.330867767333984,
          60.968849182128906,
          63.43671417236328,
          64.60862731933594,
          61.2573356628418,
          68.55859375,
          70.35370635986328,
          72.29412841796875,
          72.8945541381836,
          77.71529388427734,
          76.59950256347656,
          71.0206298828125,
          69.10558319091797,
          69.28953552246094,
          64.89643096923828,
          66.15928649902344,
          68.80856323242188,
          72.60173797607422,
          77.5198974609375,
          76.98709869384766,
          79.80644226074219,
          80.70452880859375,
          81.58723449707031,
          79.21360778808594,
          72.49497985839844,
          75.85572814941406,
          79.91548919677734,
          82.85791778564453,
          90.60860443115234,
          94.17837524414062,
          96.3072738647461,
          95.37377166748047,
          105.48543548583984,
          105.71281433105469,
          117.43704986572266,
          119.92857360839844,
          113.1754150390625,
          112.78551483154297,
          114.52497863769531,
          111.72030639648438,
          127.14244842529297,
          142.63973999023438,
          146.6856689453125,
          150.11184692382812,
          159.7578582763672,
          152.17308044433594,
          155.85391235351562,
          164.88999938964844,
          174.37796020507812,
          163.74842834472656,
          142.2854766845703,
          133.20948791503906,
          164.03506469726562,
          187.63307189941406,
          171.7947998046875,
          163.00949096679688,
          151.26034545898438,
          128.80711364746094,
          125.58747863769531,
          145.315185546875,
          134.20425415039062,
          133.0555419921875,
          140.00877380371094,
          124.9831314086914,
          97.56568908691406,
          70.50646209716797,
          60.392398834228516,
          64.52099609375,
          61.72275161743164,
          69.63590240478516,
          81.50091552734375,
          98.78201293945312,
          111.13555145263672,
          113.63328552246094,
          125.85670471191406,
          127.521484375,
          142.38711547851562,
          131.43487548828125,
          131.0409393310547,
          130.68621826171875,
          115.11285400390625,
          121.0186538696289,
          132.367919921875,
          112.64032745361328,
          111.91107177734375,
          102.08866882324219,
          117.29268646240234,
          106.49043273925781,
          112.7221450805664,
          125.62539672851562,
          121.73487091064453,
          131.39505004882812,
          127.84762573242188,
          127.9726333618164,
          124.18839263916016,
          118.24520874023438,
          110.19566345214844,
          104.4817123413086,
          105.95760345458984,
          91.2380142211914,
          74.45057678222656,
          86.2618637084961,
          75.48208618164062,
          71.48200225830078,
          88.1134262084961,
          91.01441955566406,
          98.60738372802734,
          91.2972640991211,
          75.87623596191406,
          76.36634826660156,
          80.3814697265625,
          84.22126770019531,
          90.96063232421875,
          97.92988586425781,
          94.24923706054688,
          102.49947357177734,
          118.8113021850586,
          120.33806610107422,
          118.64258575439453,
          117.77176666259766,
          130.68014526367188,
          122.33362579345703,
          132.67031860351562,
          123.04537200927734,
          128.3819580078125,
          130.53231811523438,
          137.0889434814453,
          144.3126678466797,
          133.61502075195312,
          135.5119171142578,
          133.84548950195312,
          130.55343627929688,
          130.54530334472656,
          137.2446746826172,
          141.69546508789062,
          146.81016540527344,
          150.93251037597656,
          156.21109008789062,
          154.91200256347656,
          159.87725830078125,
          142.20928955078125,
          156.5448760986328,
          155.5303955078125,
          162.52215576171875,
          170.60604858398438,
          173.29617309570312,
          170.20860290527344,
          156.53843688964844,
          144.7183380126953,
          156.16180419921875,
          158.26068115234375,
          150.62100219726562,
          135.01817321777344,
          124.96449279785156,
          131.7606201171875,
          137.7451629638672,
          133.8589630126953,
          125.2212905883789,
          133.84295654296875,
          142.81866455078125,
          136.44772338867188,
          150.8057861328125,
          185.53750610351562,
          203.2224884033203,
          194.62513732910156,
          210.52984619140625,
          195.47415161132812,
          190.43673706054688,
          179.76612854003906,
          189.45559692382812,
          192.3840789794922,
          191.02662658691406,
          203.20169067382812,
          207.73362731933594,
          212.15423583984375,
          218.93983459472656,
          230.2237548828125,
          225.96115112304688,
          217.05514526367188,
          205.39492797851562,
          194.66539001464844,
          190.76138305664062,
          205.34286499023438,
          205.67147827148438,
          194.57762145996094,
          195.5581817626953,
          165.46563720703125,
          145.53973388671875,
          172.51312255859375,
          171.37181091308594,
          167.94378662109375,
          180.12908935546875,
          159.63363647460938,
          179.78109741210938,
          193.42724609375,
          179.1747589111328,
          183.23487854003906,
          188.6727752685547,
          195.71994018554688,
          204.4527130126953,
          211.40625,
          178.52381896972656,
          138.30120849609375,
          164.0934600830078,
          175.78628540039062,
          177.90240478515625,
          178.20848083496094,
          184.42901611328125,
          182.01351928710938,
          171.20880126953125,
          208.83056640625,
          238.83554077148438,
          246.93057250976562,
          290.92218017578125,
          297.76995849609375,
          318.5489501953125,
          340.09637451171875,
          348.13372802734375,
          343.8683776855469,
          379.30279541015625,
          348.4427795410156,
          380.9983215332031,
          351.1710510253906,
          352.6089172363281,
          328.6455078125,
          316.2383117675781,
          305.8697204589844,
          284.7347106933594,
          304.6435546875,
          278.53558349609375,
          312.6422119140625,
          311.9670104980469,
          276.887451171875,
          325.5093078613281,
          364.8527526855469,
          326.56939697265625,
          347.9012451171875,
          334.4344787597656,
          311.0958557128906,
          328.96514892578125,
          310.2486877441406
         ]
        },
        {
         "marker": {
          "color": "green",
          "size": 10,
          "symbol": "triangle-up"
         },
         "mode": "markers",
         "name": "Trend Buy Signal",
         "type": "scatter",
         "x": [],
         "y": []
        },
        {
         "marker": {
          "color": "red",
          "size": 10,
          "symbol": "triangle-down"
         },
         "mode": "markers",
         "name": "Trend Sell Signal",
         "type": "scatter",
         "x": [
          "2021-12-01T00:00:00"
         ],
         "y": [
          352.6089172363281
         ]
        }
       ],
       "layout": {
        "hovermode": "x unified",
        "template": {
         "data": {
          "bar": [
           {
            "error_x": {
             "color": "#2a3f5f"
            },
            "error_y": {
             "color": "#2a3f5f"
            },
            "marker": {
             "line": {
              "color": "#E5ECF6",
              "width": 0.5
             },
             "pattern": {
              "fillmode": "overlay",
              "size": 10,
              "solidity": 0.2
             }
            },
            "type": "bar"
           }
          ],
          "barpolar": [
           {
            "marker": {
             "line": {
              "color": "#E5ECF6",
              "width": 0.5
             },
             "pattern": {
              "fillmode": "overlay",
              "size": 10,
              "solidity": 0.2
             }
            },
            "type": "barpolar"
           }
          ],
          "carpet": [
           {
            "aaxis": {
             "endlinecolor": "#2a3f5f",
             "gridcolor": "white",
             "linecolor": "white",
             "minorgridcolor": "white",
             "startlinecolor": "#2a3f5f"
            },
            "baxis": {
             "endlinecolor": "#2a3f5f",
             "gridcolor": "white",
             "linecolor": "white",
             "minorgridcolor": "white",
             "startlinecolor": "#2a3f5f"
            },
            "type": "carpet"
           }
          ],
          "choropleth": [
           {
            "colorbar": {
             "outlinewidth": 0,
             "ticks": ""
            },
            "type": "choropleth"
           }
          ],
          "contour": [
           {
            "colorbar": {
             "outlinewidth": 0,
             "ticks": ""
            },
            "colorscale": [
             [
              0,
              "#0d0887"
             ],
             [
              0.1111111111111111,
              "#46039f"
             ],
             [
              0.2222222222222222,
              "#7201a8"
             ],
             [
              0.3333333333333333,
              "#9c179e"
             ],
             [
              0.4444444444444444,
              "#bd3786"
             ],
             [
              0.5555555555555556,
              "#d8576b"
             ],
             [
              0.6666666666666666,
              "#ed7953"
             ],
             [
              0.7777777777777778,
              "#fb9f3a"
             ],
             [
              0.8888888888888888,
              "#fdca26"
             ],
             [
              1,
              "#f0f921"
             ]
            ],
            "type": "contour"
           }
          ],
          "contourcarpet": [
           {
            "colorbar": {
             "outlinewidth": 0,
             "ticks": ""
            },
            "type": "contourcarpet"
           }
          ],
          "heatmap": [
           {
            "colorbar": {
             "outlinewidth": 0,
             "ticks": ""
            },
            "colorscale": [
             [
              0,
              "#0d0887"
             ],
             [
              0.1111111111111111,
              "#46039f"
             ],
             [
              0.2222222222222222,
              "#7201a8"
             ],
             [
              0.3333333333333333,
              "#9c179e"
             ],
             [
              0.4444444444444444,
              "#bd3786"
             ],
             [
              0.5555555555555556,
              "#d8576b"
             ],
             [
              0.6666666666666666,
              "#ed7953"
             ],
             [
              0.7777777777777778,
              "#fb9f3a"
             ],
             [
              0.8888888888888888,
              "#fdca26"
             ],
             [
              1,
              "#f0f921"
             ]
            ],
            "type": "heatmap"
           }
          ],
          "heatmapgl": [
           {
            "colorbar": {
             "outlinewidth": 0,
             "ticks": ""
            },
            "colorscale": [
             [
              0,
              "#0d0887"
             ],
             [
              0.1111111111111111,
              "#46039f"
             ],
             [
              0.2222222222222222,
              "#7201a8"
             ],
             [
              0.3333333333333333,
              "#9c179e"
             ],
             [
              0.4444444444444444,
              "#bd3786"
             ],
             [
              0.5555555555555556,
              "#d8576b"
             ],
             [
              0.6666666666666666,
              "#ed7953"
             ],
             [
              0.7777777777777778,
              "#fb9f3a"
             ],
             [
              0.8888888888888888,
              "#fdca26"
             ],
             [
              1,
              "#f0f921"
             ]
            ],
            "type": "heatmapgl"
           }
          ],
          "histogram": [
           {
            "marker": {
             "pattern": {
              "fillmode": "overlay",
              "size": 10,
              "solidity": 0.2
             }
            },
            "type": "histogram"
           }
          ],
          "histogram2d": [
           {
            "colorbar": {
             "outlinewidth": 0,
             "ticks": ""
            },
            "colorscale": [
             [
              0,
              "#0d0887"
             ],
             [
              0.1111111111111111,
              "#46039f"
             ],
             [
              0.2222222222222222,
              "#7201a8"
             ],
             [
              0.3333333333333333,
              "#9c179e"
             ],
             [
              0.4444444444444444,
              "#bd3786"
             ],
             [
              0.5555555555555556,
              "#d8576b"
             ],
             [
              0.6666666666666666,
              "#ed7953"
             ],
             [
              0.7777777777777778,
              "#fb9f3a"
             ],
             [
              0.8888888888888888,
              "#fdca26"
             ],
             [
              1,
              "#f0f921"
             ]
            ],
            "type": "histogram2d"
           }
          ],
          "histogram2dcontour": [
           {
            "colorbar": {
             "outlinewidth": 0,
             "ticks": ""
            },
            "colorscale": [
             [
              0,
              "#0d0887"
             ],
             [
              0.1111111111111111,
              "#46039f"
             ],
             [
              0.2222222222222222,
              "#7201a8"
             ],
             [
              0.3333333333333333,
              "#9c179e"
             ],
             [
              0.4444444444444444,
              "#bd3786"
             ],
             [
              0.5555555555555556,
              "#d8576b"
             ],
             [
              0.6666666666666666,
              "#ed7953"
             ],
             [
              0.7777777777777778,
              "#fb9f3a"
             ],
             [
              0.8888888888888888,
              "#fdca26"
             ],
             [
              1,
              "#f0f921"
             ]
            ],
            "type": "histogram2dcontour"
           }
          ],
          "mesh3d": [
           {
            "colorbar": {
             "outlinewidth": 0,
             "ticks": ""
            },
            "type": "mesh3d"
           }
          ],
          "parcoords": [
           {
            "line": {
             "colorbar": {
              "outlinewidth": 0,
              "ticks": ""
             }
            },
            "type": "parcoords"
           }
          ],
          "pie": [
           {
            "automargin": true,
            "type": "pie"
           }
          ],
          "scatter": [
           {
            "marker": {
             "colorbar": {
              "outlinewidth": 0,
              "ticks": ""
             }
            },
            "type": "scatter"
           }
          ],
          "scatter3d": [
           {
            "line": {
             "colorbar": {
              "outlinewidth": 0,
              "ticks": ""
             }
            },
            "marker": {
             "colorbar": {
              "outlinewidth": 0,
              "ticks": ""
             }
            },
            "type": "scatter3d"
           }
          ],
          "scattercarpet": [
           {
            "marker": {
             "colorbar": {
              "outlinewidth": 0,
              "ticks": ""
             }
            },
            "type": "scattercarpet"
           }
          ],
          "scattergeo": [
           {
            "marker": {
             "colorbar": {
              "outlinewidth": 0,
              "ticks": ""
             }
            },
            "type": "scattergeo"
           }
          ],
          "scattergl": [
           {
            "marker": {
             "colorbar": {
              "outlinewidth": 0,
              "ticks": ""
             }
            },
            "type": "scattergl"
           }
          ],
          "scattermapbox": [
           {
            "marker": {
             "colorbar": {
              "outlinewidth": 0,
              "ticks": ""
             }
            },
            "type": "scattermapbox"
           }
          ],
          "scatterpolar": [
           {
            "marker": {
             "colorbar": {
              "outlinewidth": 0,
              "ticks": ""
             }
            },
            "type": "scatterpolar"
           }
          ],
          "scatterpolargl": [
           {
            "marker": {
             "colorbar": {
              "outlinewidth": 0,
              "ticks": ""
             }
            },
            "type": "scatterpolargl"
           }
          ],
          "scatterternary": [
           {
            "marker": {
             "colorbar": {
              "outlinewidth": 0,
              "ticks": ""
             }
            },
            "type": "scatterternary"
           }
          ],
          "surface": [
           {
            "colorbar": {
             "outlinewidth": 0,
             "ticks": ""
            },
            "colorscale": [
             [
              0,
              "#0d0887"
             ],
             [
              0.1111111111111111,
              "#46039f"
             ],
             [
              0.2222222222222222,
              "#7201a8"
             ],
             [
              0.3333333333333333,
              "#9c179e"
             ],
             [
              0.4444444444444444,
              "#bd3786"
             ],
             [
              0.5555555555555556,
              "#d8576b"
             ],
             [
              0.6666666666666666,
              "#ed7953"
             ],
             [
              0.7777777777777778,
              "#fb9f3a"
             ],
             [
              0.8888888888888888,
              "#fdca26"
             ],
             [
              1,
              "#f0f921"
             ]
            ],
            "type": "surface"
           }
          ],
          "table": [
           {
            "cells": {
             "fill": {
              "color": "#EBF0F8"
             },
             "line": {
              "color": "white"
             }
            },
            "header": {
             "fill": {
              "color": "#C8D4E3"
             },
             "line": {
              "color": "white"
             }
            },
            "type": "table"
           }
          ]
         },
         "layout": {
          "annotationdefaults": {
           "arrowcolor": "#2a3f5f",
           "arrowhead": 0,
           "arrowwidth": 1
          },
          "autotypenumbers": "strict",
          "coloraxis": {
           "colorbar": {
            "outlinewidth": 0,
            "ticks": ""
           }
          },
          "colorscale": {
           "diverging": [
            [
             0,
             "#8e0152"
            ],
            [
             0.1,
             "#c51b7d"
            ],
            [
             0.2,
             "#de77ae"
            ],
            [
             0.3,
             "#f1b6da"
            ],
            [
             0.4,
             "#fde0ef"
            ],
            [
             0.5,
             "#f7f7f7"
            ],
            [
             0.6,
             "#e6f5d0"
            ],
            [
             0.7,
             "#b8e186"
            ],
            [
             0.8,
             "#7fbc41"
            ],
            [
             0.9,
             "#4d9221"
            ],
            [
             1,
             "#276419"
            ]
           ],
           "sequential": [
            [
             0,
             "#0d0887"
            ],
            [
             0.1111111111111111,
             "#46039f"
            ],
            [
             0.2222222222222222,
             "#7201a8"
            ],
            [
             0.3333333333333333,
             "#9c179e"
            ],
            [
             0.4444444444444444,
             "#bd3786"
            ],
            [
             0.5555555555555556,
             "#d8576b"
            ],
            [
             0.6666666666666666,
             "#ed7953"
            ],
            [
             0.7777777777777778,
             "#fb9f3a"
            ],
            [
             0.8888888888888888,
             "#fdca26"
            ],
            [
             1,
             "#f0f921"
            ]
           ],
           "sequentialminus": [
            [
             0,
             "#0d0887"
            ],
            [
             0.1111111111111111,
             "#46039f"
            ],
            [
             0.2222222222222222,
             "#7201a8"
            ],
            [
             0.3333333333333333,
             "#9c179e"
            ],
            [
             0.4444444444444444,
             "#bd3786"
            ],
            [
             0.5555555555555556,
             "#d8576b"
            ],
            [
             0.6666666666666666,
             "#ed7953"
            ],
            [
             0.7777777777777778,
             "#fb9f3a"
            ],
            [
             0.8888888888888888,
             "#fdca26"
            ],
            [
             1,
             "#f0f921"
            ]
           ]
          },
          "colorway": [
           "#636efa",
           "#EF553B",
           "#00cc96",
           "#ab63fa",
           "#FFA15A",
           "#19d3f3",
           "#FF6692",
           "#B6E880",
           "#FF97FF",
           "#FECB52"
          ],
          "font": {
           "color": "#2a3f5f"
          },
          "geo": {
           "bgcolor": "white",
           "lakecolor": "white",
           "landcolor": "#E5ECF6",
           "showlakes": true,
           "showland": true,
           "subunitcolor": "white"
          },
          "hoverlabel": {
           "align": "left"
          },
          "hovermode": "closest",
          "mapbox": {
           "style": "light"
          },
          "paper_bgcolor": "white",
          "plot_bgcolor": "#E5ECF6",
          "polar": {
           "angularaxis": {
            "gridcolor": "white",
            "linecolor": "white",
            "ticks": ""
           },
           "bgcolor": "#E5ECF6",
           "radialaxis": {
            "gridcolor": "white",
            "linecolor": "white",
            "ticks": ""
           }
          },
          "scene": {
           "xaxis": {
            "backgroundcolor": "#E5ECF6",
            "gridcolor": "white",
            "gridwidth": 2,
            "linecolor": "white",
            "showbackground": true,
            "ticks": "",
            "zerolinecolor": "white"
           },
           "yaxis": {
            "backgroundcolor": "#E5ECF6",
            "gridcolor": "white",
            "gridwidth": 2,
            "linecolor": "white",
            "showbackground": true,
            "ticks": "",
            "zerolinecolor": "white"
           },
           "zaxis": {
            "backgroundcolor": "#E5ECF6",
            "gridcolor": "white",
            "gridwidth": 2,
            "linecolor": "white",
            "showbackground": true,
            "ticks": "",
            "zerolinecolor": "white"
           }
          },
          "shapedefaults": {
           "line": {
            "color": "#2a3f5f"
           }
          },
          "ternary": {
           "aaxis": {
            "gridcolor": "white",
            "linecolor": "white",
            "ticks": ""
           },
           "baxis": {
            "gridcolor": "white",
            "linecolor": "white",
            "ticks": ""
           },
           "bgcolor": "#E5ECF6",
           "caxis": {
            "gridcolor": "white",
            "linecolor": "white",
            "ticks": ""
           }
          },
          "title": {
           "x": 0.05
          },
          "xaxis": {
           "automargin": true,
           "gridcolor": "white",
           "linecolor": "white",
           "ticks": "",
           "title": {
            "standoff": 15
           },
           "zerolinecolor": "white",
           "zerolinewidth": 2
          },
          "yaxis": {
           "automargin": true,
           "gridcolor": "white",
           "linecolor": "white",
           "ticks": "",
           "title": {
            "standoff": 15
           },
           "zerolinecolor": "white",
           "zerolinewidth": 2
          }
         }
        },
        "title": {
         "text": "GS - Price with Buy/Sell Signals"
        },
        "xaxis": {
         "rangeslider": {
          "visible": false
         },
         "title": {
          "text": "Date"
         }
        },
        "yaxis": {
         "title": {
          "text": "Price (USD)"
         }
        }
       }
      }
     },
     "metadata": {},
     "output_type": "display_data"
    },
    {
     "ename": "KeyError",
     "evalue": "'Profit/Loss'",
     "output_type": "error",
     "traceback": [
      "\u001b[0;31m---------------------------------------------------------------------------\u001b[0m",
      "\u001b[0;31mKeyError\u001b[0m                                  Traceback (most recent call last)",
      "File \u001b[0;32m/usr/local/lib/python3.10/site-packages/pandas/core/indexes/base.py:3621\u001b[0m, in \u001b[0;36mIndex.get_loc\u001b[0;34m(self, key, method, tolerance)\u001b[0m\n\u001b[1;32m   3620\u001b[0m \u001b[38;5;28;01mtry\u001b[39;00m:\n\u001b[0;32m-> 3621\u001b[0m     \u001b[38;5;28;01mreturn\u001b[39;00m \u001b[38;5;28;43mself\u001b[39;49m\u001b[38;5;241;43m.\u001b[39;49m\u001b[43m_engine\u001b[49m\u001b[38;5;241;43m.\u001b[39;49m\u001b[43mget_loc\u001b[49m\u001b[43m(\u001b[49m\u001b[43mcasted_key\u001b[49m\u001b[43m)\u001b[49m\n\u001b[1;32m   3622\u001b[0m \u001b[38;5;28;01mexcept\u001b[39;00m \u001b[38;5;167;01mKeyError\u001b[39;00m \u001b[38;5;28;01mas\u001b[39;00m err:\n",
      "File \u001b[0;32mpandas/_libs/index.pyx:136\u001b[0m, in \u001b[0;36mpandas._libs.index.IndexEngine.get_loc\u001b[0;34m()\u001b[0m\n",
      "File \u001b[0;32mpandas/_libs/index.pyx:163\u001b[0m, in \u001b[0;36mpandas._libs.index.IndexEngine.get_loc\u001b[0;34m()\u001b[0m\n",
      "File \u001b[0;32mpandas/_libs/hashtable_class_helper.pxi:5198\u001b[0m, in \u001b[0;36mpandas._libs.hashtable.PyObjectHashTable.get_item\u001b[0;34m()\u001b[0m\n",
      "File \u001b[0;32mpandas/_libs/hashtable_class_helper.pxi:5206\u001b[0m, in \u001b[0;36mpandas._libs.hashtable.PyObjectHashTable.get_item\u001b[0;34m()\u001b[0m\n",
      "\u001b[0;31mKeyError\u001b[0m: 'Profit/Loss'",
      "\nThe above exception was the direct cause of the following exception:\n",
      "\u001b[0;31mKeyError\u001b[0m                                  Traceback (most recent call last)",
      "Cell \u001b[0;32mIn [441], line 22\u001b[0m\n\u001b[1;32m     19\u001b[0m plot_buy_sell_signal(data\u001b[38;5;241m=\u001b[39mdata, instrument\u001b[38;5;241m=\u001b[39minstrument, buy_signal_column\u001b[38;5;241m=\u001b[39m\u001b[38;5;124m'\u001b[39m\u001b[38;5;124mTrend Buy Signal\u001b[39m\u001b[38;5;124m'\u001b[39m, sell_signal_column\u001b[38;5;241m=\u001b[39m\u001b[38;5;124m'\u001b[39m\u001b[38;5;124mTrend Sell Signal\u001b[39m\u001b[38;5;124m'\u001b[39m, title \u001b[38;5;241m=\u001b[39m \u001b[38;5;124m'\u001b[39m\u001b[38;5;124mPrice with Buy/Sell Signals\u001b[39m\u001b[38;5;124m'\u001b[39m)\n\u001b[1;32m     21\u001b[0m trades \u001b[38;5;241m=\u001b[39m simulate_trading(data\u001b[38;5;241m=\u001b[39mdata, buy_signal_column\u001b[38;5;241m=\u001b[39m\u001b[38;5;124m'\u001b[39m\u001b[38;5;124mTrend Buy Signal\u001b[39m\u001b[38;5;124m'\u001b[39m, sell_signal_column\u001b[38;5;241m=\u001b[39m\u001b[38;5;124m'\u001b[39m\u001b[38;5;124mTrend Sell Signal\u001b[39m\u001b[38;5;124m'\u001b[39m)\n\u001b[0;32m---> 22\u001b[0m \u001b[43mcalculate_win_rate\u001b[49m\u001b[43m(\u001b[49m\u001b[43mtrades\u001b[49m\u001b[38;5;241;43m=\u001b[39;49m\u001b[43mtrades\u001b[49m\u001b[43m)\u001b[49m\n\u001b[1;32m     23\u001b[0m calculate_avg_gain_loss_ratio(trades\u001b[38;5;241m=\u001b[39mtrades)\n",
      "Cell \u001b[0;32mIn [437], line 9\u001b[0m, in \u001b[0;36mcalculate_win_rate\u001b[0;34m(trades)\u001b[0m\n\u001b[1;32m      2\u001b[0m \u001b[38;5;124;03m\"\"\"\u001b[39;00m\n\u001b[1;32m      3\u001b[0m \u001b[38;5;124;03mCalculates the win rate from the trades DataFrame.\u001b[39;00m\n\u001b[1;32m      4\u001b[0m \n\u001b[1;32m      5\u001b[0m \u001b[38;5;124;03mParameters:\u001b[39;00m\n\u001b[1;32m      6\u001b[0m \u001b[38;5;124;03m- trades (pd.DataFrame): A DataFrame containing trade details from simulate_trading.\u001b[39;00m\n\u001b[1;32m      7\u001b[0m \u001b[38;5;124;03m\"\"\"\u001b[39;00m\n\u001b[1;32m      8\u001b[0m total_trades \u001b[38;5;241m=\u001b[39m \u001b[38;5;28mlen\u001b[39m(trades)\n\u001b[0;32m----> 9\u001b[0m winning_trades \u001b[38;5;241m=\u001b[39m \u001b[43mtrades\u001b[49m\u001b[43m[\u001b[49m\u001b[38;5;124;43m'\u001b[39;49m\u001b[38;5;124;43mProfit/Loss\u001b[39;49m\u001b[38;5;124;43m'\u001b[39;49m\u001b[43m]\u001b[49m[trades[\u001b[38;5;124m'\u001b[39m\u001b[38;5;124mProfit/Loss\u001b[39m\u001b[38;5;124m'\u001b[39m] \u001b[38;5;241m>\u001b[39m \u001b[38;5;241m0\u001b[39m]\n\u001b[1;32m     10\u001b[0m wins \u001b[38;5;241m=\u001b[39m winning_trades\u001b[38;5;241m.\u001b[39mcount()\n\u001b[1;32m     12\u001b[0m win_rate \u001b[38;5;241m=\u001b[39m (wins \u001b[38;5;241m/\u001b[39m total_trades) \u001b[38;5;241m*\u001b[39m \u001b[38;5;241m100\u001b[39m \u001b[38;5;28;01mif\u001b[39;00m total_trades \u001b[38;5;241m>\u001b[39m \u001b[38;5;241m0\u001b[39m \u001b[38;5;28;01melse\u001b[39;00m \u001b[38;5;241m0\u001b[39m\n",
      "File \u001b[0;32m/usr/local/lib/python3.10/site-packages/pandas/core/frame.py:3505\u001b[0m, in \u001b[0;36mDataFrame.__getitem__\u001b[0;34m(self, key)\u001b[0m\n\u001b[1;32m   3503\u001b[0m \u001b[38;5;28;01mif\u001b[39;00m \u001b[38;5;28mself\u001b[39m\u001b[38;5;241m.\u001b[39mcolumns\u001b[38;5;241m.\u001b[39mnlevels \u001b[38;5;241m>\u001b[39m \u001b[38;5;241m1\u001b[39m:\n\u001b[1;32m   3504\u001b[0m     \u001b[38;5;28;01mreturn\u001b[39;00m \u001b[38;5;28mself\u001b[39m\u001b[38;5;241m.\u001b[39m_getitem_multilevel(key)\n\u001b[0;32m-> 3505\u001b[0m indexer \u001b[38;5;241m=\u001b[39m \u001b[38;5;28;43mself\u001b[39;49m\u001b[38;5;241;43m.\u001b[39;49m\u001b[43mcolumns\u001b[49m\u001b[38;5;241;43m.\u001b[39;49m\u001b[43mget_loc\u001b[49m\u001b[43m(\u001b[49m\u001b[43mkey\u001b[49m\u001b[43m)\u001b[49m\n\u001b[1;32m   3506\u001b[0m \u001b[38;5;28;01mif\u001b[39;00m is_integer(indexer):\n\u001b[1;32m   3507\u001b[0m     indexer \u001b[38;5;241m=\u001b[39m [indexer]\n",
      "File \u001b[0;32m/usr/local/lib/python3.10/site-packages/pandas/core/indexes/base.py:3623\u001b[0m, in \u001b[0;36mIndex.get_loc\u001b[0;34m(self, key, method, tolerance)\u001b[0m\n\u001b[1;32m   3621\u001b[0m     \u001b[38;5;28;01mreturn\u001b[39;00m \u001b[38;5;28mself\u001b[39m\u001b[38;5;241m.\u001b[39m_engine\u001b[38;5;241m.\u001b[39mget_loc(casted_key)\n\u001b[1;32m   3622\u001b[0m \u001b[38;5;28;01mexcept\u001b[39;00m \u001b[38;5;167;01mKeyError\u001b[39;00m \u001b[38;5;28;01mas\u001b[39;00m err:\n\u001b[0;32m-> 3623\u001b[0m     \u001b[38;5;28;01mraise\u001b[39;00m \u001b[38;5;167;01mKeyError\u001b[39;00m(key) \u001b[38;5;28;01mfrom\u001b[39;00m \u001b[38;5;21;01merr\u001b[39;00m\n\u001b[1;32m   3624\u001b[0m \u001b[38;5;28;01mexcept\u001b[39;00m \u001b[38;5;167;01mTypeError\u001b[39;00m:\n\u001b[1;32m   3625\u001b[0m     \u001b[38;5;66;03m# If we have a listlike key, _check_indexing_error will raise\u001b[39;00m\n\u001b[1;32m   3626\u001b[0m     \u001b[38;5;66;03m#  InvalidIndexError. Otherwise we fall through and re-raise\u001b[39;00m\n\u001b[1;32m   3627\u001b[0m     \u001b[38;5;66;03m#  the TypeError.\u001b[39;00m\n\u001b[1;32m   3628\u001b[0m     \u001b[38;5;28mself\u001b[39m\u001b[38;5;241m.\u001b[39m_check_indexing_error(key)\n",
      "\u001b[0;31mKeyError\u001b[0m: 'Profit/Loss'"
     ]
    }
   ],
   "source": [
    "#Load data\n",
    "instrument='GS'\n",
    "start_date='2000-01-01'\n",
    "end_date='2024-01-01'\n",
    "interval='1mo'\n",
    "\n",
    "data = get_data(instrument=instrument, start_date=start_date, end_date=end_date, interval=interval)\n",
    "data = add_vix(df = data, start_date=start_date, end_date=end_date, interval=interval)\n",
    "\n",
    "#Calculate strategy\n",
    "data = macd(data)\n",
    "data = rsi(data)\n",
    "data = atr(data)\n",
    "data = data.dropna()\n",
    "\n",
    "data = run_strategy(data=data, strategy='Trend-Reversal')\n",
    "\n",
    "#plot\n",
    "plot_buy_sell_signal(data=data, instrument=instrument, buy_signal_column='Trend Buy Signal', sell_signal_column='Trend Sell Signal', title = 'Price with Buy/Sell Signals')\n",
    "\n",
    "trades = simulate_trading(data=data, buy_signal_column='Trend Buy Signal', sell_signal_column='Trend Sell Signal')\n",
    "calculate_win_rate(trades=trades)\n",
    "calculate_avg_gain_loss_ratio(trades=trades)\n"
   ]
  },
  {
   "cell_type": "markdown",
   "metadata": {},
   "source": [
    "**Fundamental analysis**"
   ]
  },
  {
   "cell_type": "code",
   "execution_count": null,
   "metadata": {},
   "outputs": [],
   "source": []
  }
 ],
 "metadata": {
  "kernelspec": {
   "display_name": "base",
   "language": "python",
   "name": "python3"
  },
  "language_info": {
   "codemirror_mode": {
    "name": "ipython",
    "version": 3
   },
   "file_extension": ".py",
   "mimetype": "text/x-python",
   "name": "python",
   "nbconvert_exporter": "python",
   "pygments_lexer": "ipython3",
   "version": "3.10.9"
  }
 },
 "nbformat": 4,
 "nbformat_minor": 2
}
