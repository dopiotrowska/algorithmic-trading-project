{
 "cells": [
  {
   "cell_type": "code",
   "execution_count": 185,
   "metadata": {},
   "outputs": [
    {
     "name": "stdout",
     "output_type": "stream",
     "text": [
      "Requirement already satisfied: yfinance==0.1.70 in /usr/local/lib/python3.10/site-packages (from -r Project1/requirements.txt (line 1)) (0.1.70)\n",
      "Requirement already satisfied: plotly==5.3.1 in /usr/local/lib/python3.10/site-packages (from -r Project1/requirements.txt (line 2)) (5.3.1)\n",
      "Requirement already satisfied: pandas==1.4.2 in /usr/local/lib/python3.10/site-packages (from -r Project1/requirements.txt (line 3)) (1.4.2)\n",
      "Requirement already satisfied: numpy>=1.15 in /usr/local/lib/python3.10/site-packages (from yfinance==0.1.70->-r Project1/requirements.txt (line 1)) (1.23.3)\n",
      "Requirement already satisfied: requests>=2.26 in /usr/local/lib/python3.10/site-packages (from yfinance==0.1.70->-r Project1/requirements.txt (line 1)) (2.28.1)\n",
      "Requirement already satisfied: multitasking>=0.0.7 in /usr/local/lib/python3.10/site-packages (from yfinance==0.1.70->-r Project1/requirements.txt (line 1)) (0.0.11)\n",
      "Requirement already satisfied: lxml>=4.5.1 in /usr/local/lib/python3.10/site-packages (from yfinance==0.1.70->-r Project1/requirements.txt (line 1)) (4.9.1)\n",
      "Requirement already satisfied: tenacity>=6.2.0 in /usr/local/lib/python3.10/site-packages (from plotly==5.3.1->-r Project1/requirements.txt (line 2)) (8.1.0)\n",
      "Requirement already satisfied: six in /Users/dominikapiotrowska/Library/Python/3.10/lib/python/site-packages (from plotly==5.3.1->-r Project1/requirements.txt (line 2)) (1.16.0)\n",
      "Requirement already satisfied: python-dateutil>=2.8.1 in /Users/dominikapiotrowska/Library/Python/3.10/lib/python/site-packages (from pandas==1.4.2->-r Project1/requirements.txt (line 3)) (2.8.2)\n",
      "Requirement already satisfied: pytz>=2020.1 in /usr/local/lib/python3.10/site-packages (from pandas==1.4.2->-r Project1/requirements.txt (line 3)) (2022.2.1)\n",
      "Requirement already satisfied: charset-normalizer<3,>=2 in /usr/local/lib/python3.10/site-packages (from requests>=2.26->yfinance==0.1.70->-r Project1/requirements.txt (line 1)) (2.1.1)\n",
      "Requirement already satisfied: idna<4,>=2.5 in /usr/local/lib/python3.10/site-packages (from requests>=2.26->yfinance==0.1.70->-r Project1/requirements.txt (line 1)) (3.4)\n",
      "Requirement already satisfied: urllib3<1.27,>=1.21.1 in /usr/local/lib/python3.10/site-packages (from requests>=2.26->yfinance==0.1.70->-r Project1/requirements.txt (line 1)) (1.26.12)\n",
      "Requirement already satisfied: certifi>=2017.4.17 in /usr/local/lib/python3.10/site-packages (from requests>=2.26->yfinance==0.1.70->-r Project1/requirements.txt (line 1)) (2022.9.14)\n",
      "Note: you may need to restart the kernel to use updated packages.\n"
     ]
    }
   ],
   "source": [
    "pip install -r Project1/requirements.txt"
   ]
  },
  {
   "cell_type": "code",
   "execution_count": 186,
   "metadata": {},
   "outputs": [],
   "source": [
    "import yfinance as yf\n",
    "import plotly.graph_objs as go\n",
    "import pandas as pd\n",
    "import numpy as np\n",
    "\n",
    "from sklearn.decomposition import PCA\n",
    "from sklearn.preprocessing import StandardScaler"
   ]
  },
  {
   "cell_type": "markdown",
   "metadata": {},
   "source": [
    "# Data downloading"
   ]
  },
  {
   "cell_type": "code",
   "execution_count": 187,
   "metadata": {},
   "outputs": [],
   "source": [
    "def get_data(instrument: str,\n",
    "             start_date: str,\n",
    "             end_date: str,\n",
    "             interval: str) -> pd.DataFrame:\n",
    "    \"\"\"\n",
    "        Fetch historical market data from Yahoo Finance for a given instrument between the provided start and end dates at the given interval.\n",
    "        The function returns a cleaned DataFrame with the data, excluding any missing values.\n",
    "\n",
    "        Parameters:\n",
    "        instrument (str): The ticker symbol of the instrument e.g. 'MSFT'.\n",
    "        start_date (str): The start date for the data in 'YYYY-MM-DD' format.\n",
    "        end_date (str): The end date for the data in 'YYYY-MM-DD' format.\n",
    "        interval (str): The time interval between data points. Valid intervals are: ['1m', '2m', '5m', '15m', '30m', '60m', '90m', '1h', '1d', '5d', '1wk', '1mo'].\n",
    "\n",
    "        Returns:\n",
    "        pd.DataFrame: A Pandas DataFrame containing the historical market data for the given instrument, with any rows containing missing values (NaN) removed.\n",
    "    \"\"\"\n",
    "    \n",
    "    data = yf.download(tickers=instrument,\n",
    "                       start=start_date,\n",
    "                       end=end_date,\n",
    "                       interval=interval)\n",
    "    \n",
    "    data = data.dropna(how='any')\n",
    "\n",
    "    return data"
   ]
  },
  {
   "cell_type": "markdown",
   "metadata": {},
   "source": [
    "# Indicators"
   ]
  },
  {
   "cell_type": "markdown",
   "metadata": {},
   "source": [
    "## MACD"
   ]
  },
  {
   "cell_type": "code",
   "execution_count": 188,
   "metadata": {},
   "outputs": [],
   "source": [
    "def macd(data: pd.DataFrame) -> pd.DataFrame:\n",
    "    \"\"\"\n",
    "        Calculate the MACD (Moving Average Convergence Divergence) and generate buy/sell signals.\n",
    "\n",
    "        Parameters:\n",
    "        data (pd.DataFrame): DataFrame containing historical market data.\n",
    "\n",
    "        Returns:\n",
    "        pd.DataFrame: DataFrame with additional columns for 'MACD Buy Signal' and 'MACD Sell Signal', where a 1 indicates a signal and 0 means no signal.\n",
    "    \"\"\"\n",
    "\n",
    "    data = data.copy()\n",
    "\n",
    "    data['EMA12'] = data['Adj Close'].ewm(span=12, adjust=False).mean()\n",
    "    data['EMA26'] = data['Adj Close'].ewm(span=26, adjust=False).mean()\n",
    "    data['MACD'] = data['EMA12'] - data['EMA26'] # MACD Line\n",
    "    data['Signal Line'] = data['MACD'].ewm(span=9, adjust=False).mean() # Signal Line\n",
    "\n",
    "    data['MACD Buy Signal'] = 0\n",
    "    data['MACD Sell Signal'] = 0\n",
    "\n",
    "    for i in range(1, len(data)):\n",
    "        # buy signal: MACD crosses above Signal Line\n",
    "        if data['MACD'].iloc[i] > data['Signal Line'].iloc[i] and data['MACD'].iloc[i-1] <= data['Signal Line'].iloc[i-1]:\n",
    "            data.loc[data.index[i], 'MACD Buy Signal'] = 1\n",
    "        # sell signal: MACD crosses below Signal Line\n",
    "        elif data['MACD'].iloc[i] < data['Signal Line'].iloc[i] and data['MACD'].iloc[i-1] >= data['Signal Line'].iloc[i-1]:\n",
    "            data.loc[data.index[i], 'MACD Sell Signal'] = 1\n",
    "\n",
    "    # drop intermediate columns\n",
    "    data = data.drop(columns=['EMA12', 'EMA26'])\n",
    "\n",
    "    return data"
   ]
  },
  {
   "cell_type": "markdown",
   "metadata": {},
   "source": [
    "## RSI\n"
   ]
  },
  {
   "cell_type": "code",
   "execution_count": 189,
   "metadata": {},
   "outputs": [],
   "source": [
    "def rsi(data: pd.DataFrame, period: int = 14) -> pd.DataFrame:\n",
    "    \"\"\"\n",
    "    Calculate the Relative Strength Index (RSI)\n",
    "\n",
    "    Parameters:\n",
    "    data (pd.DataFrame): DataFrame containing historical market data.\n",
    "    period (int): The period over which to calculate RSI, typically 14 days.\n",
    "\n",
    "    Returns:\n",
    "    pd.DataFrame: DataFrame with an additional 'RSI' column.\n",
    "    \"\"\"\n",
    "    delta = data['Adj Close'].diff()\n",
    "    gain = (delta.where(delta > 0, 0)).rolling(window=period).mean()\n",
    "    loss = (-delta.where(delta < 0, 0)).rolling(window=period).mean()\n",
    "    \n",
    "    rs = gain / loss\n",
    "    data['RSI'] = 100 - (100 / (1 + rs))\n",
    "    \n",
    "    return data"
   ]
  },
  {
   "cell_type": "markdown",
   "metadata": {},
   "source": [
    "## ATR"
   ]
  },
  {
   "cell_type": "code",
   "execution_count": 190,
   "metadata": {},
   "outputs": [],
   "source": [
    "def atr(data: pd.DataFrame, period: int = 14) -> pd.DataFrame:\n",
    "    \"\"\"\n",
    "    Calculate the Average True Range (ATR)\n",
    "\n",
    "    Parameters:\n",
    "    data (pd.DataFrame): DataFrame containing historical market data.\n",
    "    period (int): The period over which to calculate ATR, typically 14 days.\n",
    "\n",
    "    Returns:\n",
    "    pd.DataFrame: DataFrame with an additional 'ATR' column.\n",
    "    \"\"\"\n",
    "    high_low = data['High'] - data['Low']\n",
    "    high_close = abs(data['High'] - data['Adj Close'].shift())\n",
    "    low_close = abs(data['Low'] - data['Adj Close'].shift())\n",
    "    \n",
    "    true_range = pd.concat([high_low, high_close, low_close], axis=1).max(axis=1)\n",
    "    data['ATR'] = true_range.rolling(window=period).mean()\n",
    "    \n",
    "    return data"
   ]
  },
  {
   "cell_type": "markdown",
   "metadata": {},
   "source": [
    "## PCA calculation"
   ]
  },
  {
   "cell_type": "code",
   "execution_count": 191,
   "metadata": {},
   "outputs": [],
   "source": [
    "def apply_pca_trend_following(data: pd.DataFrame, indicators: list = ['MACD', 'RSI', 'ATR'],\n",
    "                           n_components: int = 2, buy_threshold: float = 0.5, sell_threshold: float = -0.5) -> pd.DataFrame:\n",
    "    \"\"\"\n",
    "    Apply PCA to reduce specified indicators to principal components and generate buy/sell signals.\n",
    "\n",
    "    Parameters:\n",
    "    data (pd.DataFrame): DataFrame containing calculated indicators.\n",
    "    indicators (list): List of column names to include in PCA (default is ['MACD', 'RSI', 'ATR']).\n",
    "    n_components (int): Number of principal components to keep (default is 2).\n",
    "    buy_threshold (float): Threshold above which to generate a buy signal for PC1.\n",
    "    sell_threshold (float): Threshold below which to generate a sell signal for PC1.\n",
    "\n",
    "    Returns:\n",
    "    pd.DataFrame: DataFrame with additional columns for 'PC1', 'PC2' (if n_components=2), 'PCA Buy Signal', and 'PCA Sell Signal'.\n",
    "    \"\"\"\n",
    "    # Ensure that required indicators are in the DataFrame\n",
    "    for indicator in indicators:\n",
    "        if indicator not in data.columns:\n",
    "            raise ValueError(f\"Missing indicator {indicator} in data. Please calculate {indicator} first.\")\n",
    "    \n",
    "    # Standardize the data for the selected indicators\n",
    "    scaler = StandardScaler()\n",
    "    data_scaled = scaler.fit_transform(data[indicators])\n",
    "\n",
    "    # Apply PCA\n",
    "    pca = PCA(n_components=n_components)\n",
    "    principal_components = pca.fit_transform(data_scaled)\n",
    "\n",
    "    # Add the principal components to the DataFrame\n",
    "    for i in range(n_components):\n",
    "        data[f'PC{i+1}'] = principal_components[:, i]\n",
    "    \n",
    "    # Generate buy/sell signals based on the first principal component (PC1)\n",
    "    data['PCA Buy Signal'] = 0\n",
    "    data['PCA Sell Signal'] = 0\n",
    "\n",
    "    for i in range(1, len(data)):\n",
    "        # Buy Signal\n",
    "        if data['PC1'].iloc[i] > buy_threshold:\n",
    "            data.loc[data.index[i], 'PCA Buy Signal'] = 1\n",
    "        # Sell Signal\n",
    "        elif data['PC1'].iloc[i] < sell_threshold:\n",
    "            data.loc[data.index[i], 'PCA Sell Signal'] = 1\n",
    "\n",
    "    return data"
   ]
  },
  {
   "cell_type": "code",
   "execution_count": 192,
   "metadata": {},
   "outputs": [],
   "source": [
    "def trend_following_strategy(data: pd.DataFrame) -> pd.DataFrame:\n",
    "    \"\"\"\n",
    "    Calculate buy/sell signals based on MACD, RSI, and ATR indicators for trend-following strategy.\n",
    "\n",
    "    Parameters:\n",
    "    data (pd.DataFrame): DataFrame containing historical market data with MACD, RSI, and ATR.\n",
    "\n",
    "    Returns:\n",
    "    pd.DataFrame: DataFrame with additional columns for 'Trend Buy Signal' and 'Trend Sell Signal'.\n",
    "    \"\"\"\n",
    "    data = data.copy()\n",
    "    \n",
    "    data['Trend Buy Signal'] = 0\n",
    "    data['Trend Sell Signal'] = 0\n",
    "\n",
    "    for i in range(1, len(data)):\n",
    "        # Buy signal: MACD bullish, RSI > 50, and ATR is high\n",
    "        if (data['MACD'].iloc[i] > data['Signal Line'].iloc[i] and \n",
    "            data['RSI'].iloc[i] > 50 and \n",
    "            data['ATR'].iloc[i] > data['ATR'].mean()):\n",
    "            data.loc[data.index[i], 'Trend Buy Signal'] = 1\n",
    "        \n",
    "        # Sell signal: MACD bearish, RSI < 50, and ATR is high\n",
    "        elif (data['MACD'].iloc[i] < data['Signal Line'].iloc[i] and \n",
    "              data['RSI'].iloc[i] < 50 and \n",
    "              data['ATR'].iloc[i] > data['ATR'].mean()):\n",
    "            data.loc[data.index[i], 'Trend Sell Signal'] = 1\n",
    "\n",
    "    return data"
   ]
  },
  {
   "cell_type": "code",
   "execution_count": 193,
   "metadata": {},
   "outputs": [],
   "source": [
    "strategies = {\n",
    "    'MACD': macd,\n",
    "    'PCA-trend-following' : apply_pca_trend_following,\n",
    "    'Trend-Following': trend_following_strategy\n",
    "}"
   ]
  },
  {
   "cell_type": "code",
   "execution_count": 194,
   "metadata": {},
   "outputs": [],
   "source": [
    "def run_strategy(data: pd.DataFrame, strategy: str) -> pd.DataFrame:\n",
    "    \"\"\"\n",
    "        Executes the specified trading strategy on the given data.\n",
    "\n",
    "        Parameters:\n",
    "        data (pd.DataFrame): DataFrame containing historical market data on which the strategy will be applied.\n",
    "                             The DataFrame must have relevant columns for the selected strategy.\n",
    "        \n",
    "        strategy (str): The name of the strategy to be applied.\n",
    "\n",
    "        Returns:\n",
    "        pd.DataFrame: DataFrame with the strategy applied, including any newly added columns like buy/sell signals.\n",
    "    \"\"\"\n",
    "    \n",
    "    if strategy in strategies:\n",
    "        data = strategies[strategy](data=data)\n",
    "    else:\n",
    "        print(\"Invalid strategy selected!\")\n",
    "\n",
    "    return data"
   ]
  },
  {
   "cell_type": "markdown",
   "metadata": {},
   "source": [
    "# Plots"
   ]
  },
  {
   "cell_type": "markdown",
   "metadata": {},
   "source": [
    "## Buy and sell signal plot"
   ]
  },
  {
   "cell_type": "code",
   "execution_count": 195,
   "metadata": {},
   "outputs": [],
   "source": [
    "def plot_buy_sell_signal(data: pd.DataFrame,\n",
    "                         instrument: str,\n",
    "                         buy_signal_column: str,\n",
    "                         sell_signal_column: str,\n",
    "                         title: str):\n",
    "    \"\"\"\n",
    "        Plots a price chart with buy and sell signals marked on it.\n",
    "\n",
    "        Parameters:\n",
    "        data (pd.DataFrame): A DataFrame containing historical market data. The DataFrame must have\n",
    "                            at least the 'Adj Close' column and the specified buy/sell signal columns.\n",
    "        \n",
    "        instrument (str): The ticker symbol or name of the instrument being plotted.\n",
    "\n",
    "        buy_signal_column (str): The column name containing the buy signals (e.g., 'MACD Buy Signal').\n",
    "                                The function will mark buy signals where the value in this column is 1.\n",
    "\n",
    "        sell_signal_column (str): The column name containing the sell signals (e.g., 'MACD Sell Signal').\n",
    "                                The function will mark sell signals where the value in this column is 1.\n",
    "        \n",
    "        title (str): The title of the plot, which will be displayed on the chart after instrument name.\n",
    "    \"\"\"\n",
    "    fig = go.Figure()\n",
    "\n",
    "    fig.add_trace(go.Scatter(\n",
    "        x=data.index,\n",
    "        y=data['Adj Close'],\n",
    "        mode='lines',\n",
    "        name='Price',\n",
    "        line=dict(color='blue')\n",
    "    ))\n",
    "\n",
    "    # add buy signals to the price chart\n",
    "    buy_signals = data[data[buy_signal_column] == 1].index\n",
    "    fig.add_trace(go.Scatter(\n",
    "        x=buy_signals,\n",
    "        y=data.loc[buy_signals, 'Adj Close'],\n",
    "        mode='markers',\n",
    "        name=buy_signal_column,\n",
    "        marker=dict(color='green', symbol='triangle-up', size=10)\n",
    "    ))\n",
    "\n",
    "    # add sell signals to the price chart\n",
    "    sell_signals = data[data[sell_signal_column] == 1].index\n",
    "    fig.add_trace(go.Scatter(\n",
    "        x=sell_signals,\n",
    "        y=data.loc[sell_signals, 'Adj Close'],\n",
    "        mode='markers',\n",
    "        name=sell_signal_column,\n",
    "        marker=dict(color='red', symbol='triangle-down', size=10)\n",
    "    ))\n",
    "\n",
    "    fig.update_layout(\n",
    "        title=f\"{instrument} - {title}\",\n",
    "        xaxis_title=\"Date\",\n",
    "        yaxis_title=\"Price (USD)\",\n",
    "        xaxis_rangeslider_visible=False,\n",
    "        hovermode=\"x unified\",\n",
    "    )\n",
    "\n",
    "    fig.show()"
   ]
  },
  {
   "cell_type": "markdown",
   "metadata": {},
   "source": [
    "# Performance Evaluation"
   ]
  },
  {
   "cell_type": "markdown",
   "metadata": {},
   "source": [
    "## Win Rate"
   ]
  },
  {
   "cell_type": "code",
   "execution_count": 196,
   "metadata": {},
   "outputs": [],
   "source": [
    "def calculate_win_rate(data: pd.DataFrame, \n",
    "                       buy_signal_column: str, \n",
    "                       sell_signal_column: str) -> float:\n",
    "    \"\"\"\n",
    "        Calculates the win rate of a trading strategy based on buy and sell signals in the given data.\n",
    "\n",
    "        This function simulates a trading strategy where a position is opened on a buy signal\n",
    "        and closed on a sell signal assuming one signal at the time (if buy signal then wait for sell signal).\n",
    "\n",
    "        Parameters:\n",
    "        data (pd.DataFrame): A DataFrame containing market data, including the 'Adj Close' column\n",
    "                            and the buy/sell signal columns specified by `buy_signal_column` and `sell_signal_column`.\n",
    "        \n",
    "        buy_signal_column (str): The name of the column containing buy signals (e.g., 'MACD Buy Signal').\n",
    "                                A value of 1 in this column indicates a buy signal.\n",
    "        \n",
    "        sell_signal_column (str): The name of the column containing sell signals (e.g., 'MACD Sell Signal').\n",
    "                                A value of 1 in this column indicates a sell signal.\n",
    "    \"\"\"\n",
    "\n",
    "    open_position = False  # track if there is an open position\n",
    "    total_trades = 0       # total number of trades (both wins and losses)\n",
    "    wins = 0               # total number of winning trades\n",
    "\n",
    "    for i in range(1, len(data)):\n",
    "        if data[buy_signal_column].iloc[i] == 1 and not open_position: # buy\n",
    "            open_position = True # open the position\n",
    "            entry_price = data['Adj Close'].iloc[i]\n",
    "            print(f\"Buying  at {data.index[i]}: {entry_price:.2f}\")\n",
    "        elif data[sell_signal_column].iloc[i] == 1 and open_position: # sell\n",
    "            exit_price = data['Adj Close'].iloc[i]\n",
    "            profit_loss = exit_price - entry_price\n",
    "            profit_loss_percent = (profit_loss / entry_price) * 100\n",
    "            total_trades += 1  # increment total trades\n",
    "            if profit_loss > 0: \n",
    "                wins += 1 # increment total wins\n",
    "                print(f\"Selling at {data.index[i]}: {exit_price:.2f} | Profit: {profit_loss_percent:.2f}%\")\n",
    "            else:\n",
    "                print(f\"Selling at {data.index[i]}: {exit_price:.2f} | Loss: {profit_loss_percent:.2f}%\")\n",
    "            open_position = False  # close the position\n",
    "    \n",
    "    if total_trades > 0:\n",
    "        win_rate = wins / total_trades\n",
    "    else:\n",
    "        win_rate = 0\n",
    "\n",
    "    win_rate = win_rate * 100\n",
    "\n",
    "    print(f\"Win Rate: {win_rate:.2f}%\")\n"
   ]
  },
  {
   "cell_type": "markdown",
   "metadata": {},
   "source": [
    "## Maximum DrawDown"
   ]
  },
  {
   "cell_type": "code",
   "execution_count": null,
   "metadata": {},
   "outputs": [],
   "source": []
  },
  {
   "cell_type": "code",
   "execution_count": 197,
   "metadata": {},
   "outputs": [
    {
     "name": "stdout",
     "output_type": "stream",
     "text": [
      "[*********************100%***********************]  1 of 1 completed\n"
     ]
    },
    {
     "data": {
      "text/html": [
       "<div>\n",
       "<style scoped>\n",
       "    .dataframe tbody tr th:only-of-type {\n",
       "        vertical-align: middle;\n",
       "    }\n",
       "\n",
       "    .dataframe tbody tr th {\n",
       "        vertical-align: top;\n",
       "    }\n",
       "\n",
       "    .dataframe thead th {\n",
       "        text-align: right;\n",
       "    }\n",
       "</style>\n",
       "<table border=\"1\" class=\"dataframe\">\n",
       "  <thead>\n",
       "    <tr style=\"text-align: right;\">\n",
       "      <th></th>\n",
       "      <th>Open</th>\n",
       "      <th>High</th>\n",
       "      <th>Low</th>\n",
       "      <th>Close</th>\n",
       "      <th>Adj Close</th>\n",
       "      <th>Volume</th>\n",
       "    </tr>\n",
       "    <tr>\n",
       "      <th>Date</th>\n",
       "      <th></th>\n",
       "      <th></th>\n",
       "      <th></th>\n",
       "      <th></th>\n",
       "      <th></th>\n",
       "      <th></th>\n",
       "    </tr>\n",
       "  </thead>\n",
       "  <tbody>\n",
       "    <tr>\n",
       "      <th>2000-01-01</th>\n",
       "      <td>0.936384</td>\n",
       "      <td>1.084821</td>\n",
       "      <td>0.772321</td>\n",
       "      <td>0.926339</td>\n",
       "      <td>0.781411</td>\n",
       "      <td>1.255518e+10</td>\n",
       "    </tr>\n",
       "    <tr>\n",
       "      <th>2000-02-01</th>\n",
       "      <td>0.928571</td>\n",
       "      <td>1.070871</td>\n",
       "      <td>0.866071</td>\n",
       "      <td>1.023438</td>\n",
       "      <td>0.863318</td>\n",
       "      <td>7.319782e+09</td>\n",
       "    </tr>\n",
       "    <tr>\n",
       "      <th>2000-03-01</th>\n",
       "      <td>1.058594</td>\n",
       "      <td>1.342634</td>\n",
       "      <td>1.017857</td>\n",
       "      <td>1.212612</td>\n",
       "      <td>1.022896</td>\n",
       "      <td>8.698357e+09</td>\n",
       "    </tr>\n",
       "    <tr>\n",
       "      <th>2000-04-01</th>\n",
       "      <td>1.209821</td>\n",
       "      <td>1.245536</td>\n",
       "      <td>0.936384</td>\n",
       "      <td>1.107701</td>\n",
       "      <td>0.934398</td>\n",
       "      <td>8.662405e+09</td>\n",
       "    </tr>\n",
       "    <tr>\n",
       "      <th>2000-05-01</th>\n",
       "      <td>1.114955</td>\n",
       "      <td>1.127232</td>\n",
       "      <td>0.729911</td>\n",
       "      <td>0.750000</td>\n",
       "      <td>0.632660</td>\n",
       "      <td>9.807750e+09</td>\n",
       "    </tr>\n",
       "    <tr>\n",
       "      <th>...</th>\n",
       "      <td>...</td>\n",
       "      <td>...</td>\n",
       "      <td>...</td>\n",
       "      <td>...</td>\n",
       "      <td>...</td>\n",
       "      <td>...</td>\n",
       "    </tr>\n",
       "    <tr>\n",
       "      <th>2023-07-01</th>\n",
       "      <td>193.779999</td>\n",
       "      <td>198.229996</td>\n",
       "      <td>186.600006</td>\n",
       "      <td>196.449997</td>\n",
       "      <td>194.971786</td>\n",
       "      <td>9.960664e+08</td>\n",
       "    </tr>\n",
       "    <tr>\n",
       "      <th>2023-08-01</th>\n",
       "      <td>196.240005</td>\n",
       "      <td>196.729996</td>\n",
       "      <td>171.960007</td>\n",
       "      <td>187.869995</td>\n",
       "      <td>186.456345</td>\n",
       "      <td>1.322439e+09</td>\n",
       "    </tr>\n",
       "    <tr>\n",
       "      <th>2023-09-01</th>\n",
       "      <td>189.490005</td>\n",
       "      <td>189.979996</td>\n",
       "      <td>167.619995</td>\n",
       "      <td>171.210007</td>\n",
       "      <td>170.151169</td>\n",
       "      <td>1.337587e+09</td>\n",
       "    </tr>\n",
       "    <tr>\n",
       "      <th>2023-10-01</th>\n",
       "      <td>171.220001</td>\n",
       "      <td>182.339996</td>\n",
       "      <td>165.669998</td>\n",
       "      <td>170.770004</td>\n",
       "      <td>169.713882</td>\n",
       "      <td>1.172720e+09</td>\n",
       "    </tr>\n",
       "    <tr>\n",
       "      <th>2023-11-01</th>\n",
       "      <td>171.000000</td>\n",
       "      <td>192.929993</td>\n",
       "      <td>170.119995</td>\n",
       "      <td>189.949997</td>\n",
       "      <td>188.775269</td>\n",
       "      <td>1.099586e+09</td>\n",
       "    </tr>\n",
       "  </tbody>\n",
       "</table>\n",
       "<p>287 rows × 6 columns</p>\n",
       "</div>"
      ],
      "text/plain": [
       "                  Open        High         Low       Close   Adj Close  \\\n",
       "Date                                                                     \n",
       "2000-01-01    0.936384    1.084821    0.772321    0.926339    0.781411   \n",
       "2000-02-01    0.928571    1.070871    0.866071    1.023438    0.863318   \n",
       "2000-03-01    1.058594    1.342634    1.017857    1.212612    1.022896   \n",
       "2000-04-01    1.209821    1.245536    0.936384    1.107701    0.934398   \n",
       "2000-05-01    1.114955    1.127232    0.729911    0.750000    0.632660   \n",
       "...                ...         ...         ...         ...         ...   \n",
       "2023-07-01  193.779999  198.229996  186.600006  196.449997  194.971786   \n",
       "2023-08-01  196.240005  196.729996  171.960007  187.869995  186.456345   \n",
       "2023-09-01  189.490005  189.979996  167.619995  171.210007  170.151169   \n",
       "2023-10-01  171.220001  182.339996  165.669998  170.770004  169.713882   \n",
       "2023-11-01  171.000000  192.929993  170.119995  189.949997  188.775269   \n",
       "\n",
       "                  Volume  \n",
       "Date                      \n",
       "2000-01-01  1.255518e+10  \n",
       "2000-02-01  7.319782e+09  \n",
       "2000-03-01  8.698357e+09  \n",
       "2000-04-01  8.662405e+09  \n",
       "2000-05-01  9.807750e+09  \n",
       "...                  ...  \n",
       "2023-07-01  9.960664e+08  \n",
       "2023-08-01  1.322439e+09  \n",
       "2023-09-01  1.337587e+09  \n",
       "2023-10-01  1.172720e+09  \n",
       "2023-11-01  1.099586e+09  \n",
       "\n",
       "[287 rows x 6 columns]"
      ]
     },
     "execution_count": 197,
     "metadata": {},
     "output_type": "execute_result"
    }
   ],
   "source": [
    "#Load data\n",
    "instrument='AAPL'\n",
    "data = get_data(instrument=instrument, start_date='2000-01-01', end_date='2023-12-01', interval='1mo')\n",
    "data"
   ]
  },
  {
   "cell_type": "markdown",
   "metadata": {},
   "source": [
    "## Sharpe Ratio"
   ]
  },
  {
   "cell_type": "code",
   "execution_count": 198,
   "metadata": {},
   "outputs": [],
   "source": [
    "def calculate_sharpe_ratio(data, frequency):\n",
    "    \"\"\"\n",
    "    Calculate Sharpe Ratio and Annualized Sharpe Ratio for given frequency.\n",
    "\n",
    "    Parameters:\n",
    "    - data (pd.DataFrame): Contains 'Adj Close' column.\n",
    "    - frequency (str): 'monthly', 'daily', or 'hourly'.\n",
    "    \"\"\"\n",
    "    rf_data = pd.read_csv('Project1/risk_free_rate.CSV')\n",
    "    rf_data['Month'] = pd.to_datetime(rf_data['Month'], format='%Y%m')\n",
    "    rf_data['RF'] = rf_data['RF'] / 100  # convert percentage to decimal\n",
    "    rf_data.rename(columns={'RF': 'RF Monthly'}, inplace=True)\n",
    "    rf_data = rf_data[['Month', 'RF Monthly']]\n",
    "\n",
    "    data['Month'] = data.index.to_period('M').to_timestamp()\n",
    "    data = pd.merge(data, rf_data, on='Month', how='left').set_index(data.index)\n",
    "    data = data.drop(columns=['Month'])\n",
    "\n",
    "    data['Periodic Return'] = data['Adj Close'].pct_change()\n",
    "\n",
    "    # adjust risk-free rate based on frequency (no compounding)\n",
    "    if frequency == 'daily':\n",
    "        data['Risk-Free Rate'] = data['RF Monthly'] / 21 \n",
    "        periods_per_year = 252\n",
    "    elif frequency == 'hourly':\n",
    "        data['Risk-Free Rate'] = data['RF Monthly'] / (21 * 6.5)\n",
    "        periods_per_year = 252 * 6.5\n",
    "    elif frequency == 'monthly':\n",
    "        data['Risk-Free Rate'] = data['RF Monthly']\n",
    "        periods_per_year = 12\n",
    "    else:\n",
    "        raise ValueError(\"Unsupported frequency. Use 'monthly', 'daily', or 'hourly'.\")\n",
    "\n",
    "    data['Excess Return'] = data['Periodic Return'] - data['Risk-Free Rate']\n",
    "    mean_excess_return = data['Excess Return'].mean()\n",
    "    std_return = data['Periodic Return'].std()\n",
    "\n",
    "    sharpe_ratio = mean_excess_return / std_return\n",
    "\n",
    "    annualized_sharpe_ratio = sharpe_ratio * np.sqrt(periods_per_year)\n",
    "\n",
    "    # Print results\n",
    "    print(f\"Sharpe Ratio ({frequency}): {sharpe_ratio:.4f}\")\n",
    "    print(f\"Annualized Sharpe Ratio: {annualized_sharpe_ratio:.4f}\")\n"
   ]
  },
  {
   "cell_type": "markdown",
   "metadata": {},
   "source": [
    "# Results"
   ]
  },
  {
   "cell_type": "code",
   "execution_count": 199,
   "metadata": {},
   "outputs": [
    {
     "name": "stdout",
     "output_type": "stream",
     "text": [
      "[*********************100%***********************]  1 of 1 completed\n"
     ]
    },
    {
     "data": {
      "application/vnd.plotly.v1+json": {
       "config": {
        "plotlyServerURL": "https://plot.ly"
       },
       "data": [
        {
         "line": {
          "color": "blue"
         },
         "mode": "lines",
         "name": "Price",
         "type": "scatter",
         "x": [
          "2023-07-20T00:00:00",
          "2023-07-21T00:00:00",
          "2023-07-24T00:00:00",
          "2023-07-25T00:00:00",
          "2023-07-26T00:00:00",
          "2023-07-27T00:00:00",
          "2023-07-28T00:00:00",
          "2023-07-31T00:00:00",
          "2023-08-01T00:00:00",
          "2023-08-02T00:00:00",
          "2023-08-03T00:00:00",
          "2023-08-04T00:00:00",
          "2023-08-07T00:00:00",
          "2023-08-08T00:00:00",
          "2023-08-09T00:00:00",
          "2023-08-10T00:00:00",
          "2023-08-11T00:00:00",
          "2023-08-14T00:00:00",
          "2023-08-15T00:00:00",
          "2023-08-16T00:00:00",
          "2023-08-17T00:00:00",
          "2023-08-18T00:00:00",
          "2023-08-21T00:00:00",
          "2023-08-22T00:00:00",
          "2023-08-23T00:00:00",
          "2023-08-24T00:00:00",
          "2023-08-25T00:00:00",
          "2023-08-28T00:00:00",
          "2023-08-29T00:00:00",
          "2023-08-30T00:00:00",
          "2023-08-31T00:00:00",
          "2023-09-01T00:00:00",
          "2023-09-05T00:00:00",
          "2023-09-06T00:00:00",
          "2023-09-07T00:00:00",
          "2023-09-08T00:00:00",
          "2023-09-11T00:00:00",
          "2023-09-12T00:00:00",
          "2023-09-13T00:00:00",
          "2023-09-14T00:00:00",
          "2023-09-15T00:00:00",
          "2023-09-18T00:00:00",
          "2023-09-19T00:00:00",
          "2023-09-20T00:00:00",
          "2023-09-21T00:00:00",
          "2023-09-22T00:00:00",
          "2023-09-25T00:00:00",
          "2023-09-26T00:00:00",
          "2023-09-27T00:00:00",
          "2023-09-28T00:00:00",
          "2023-09-29T00:00:00",
          "2023-10-02T00:00:00",
          "2023-10-03T00:00:00",
          "2023-10-04T00:00:00",
          "2023-10-05T00:00:00",
          "2023-10-06T00:00:00",
          "2023-10-09T00:00:00",
          "2023-10-10T00:00:00",
          "2023-10-11T00:00:00",
          "2023-10-12T00:00:00",
          "2023-10-13T00:00:00",
          "2023-10-16T00:00:00",
          "2023-10-17T00:00:00",
          "2023-10-18T00:00:00",
          "2023-10-19T00:00:00",
          "2023-10-20T00:00:00",
          "2023-10-23T00:00:00",
          "2023-10-24T00:00:00",
          "2023-10-25T00:00:00",
          "2023-10-26T00:00:00",
          "2023-10-27T00:00:00",
          "2023-10-30T00:00:00",
          "2023-10-31T00:00:00",
          "2023-11-01T00:00:00",
          "2023-11-02T00:00:00",
          "2023-11-03T00:00:00",
          "2023-11-06T00:00:00",
          "2023-11-07T00:00:00",
          "2023-11-08T00:00:00",
          "2023-11-09T00:00:00",
          "2023-11-10T00:00:00",
          "2023-11-13T00:00:00",
          "2023-11-14T00:00:00",
          "2023-11-15T00:00:00",
          "2023-11-16T00:00:00",
          "2023-11-17T00:00:00",
          "2023-11-20T00:00:00",
          "2023-11-21T00:00:00",
          "2023-11-22T00:00:00",
          "2023-11-24T00:00:00",
          "2023-11-27T00:00:00",
          "2023-11-28T00:00:00",
          "2023-11-29T00:00:00",
          "2023-11-30T00:00:00"
         ],
         "y": [
          191.67677307128906,
          190.4957275390625,
          191.29962158203125,
          192.16305541992188,
          193.03643798828125,
          191.76608276367188,
          194.35646057128906,
          194.9717559814453,
          194.1381072998047,
          191.1309051513672,
          189.7314910888672,
          180.62057495117188,
          177.5042266845703,
          178.44705200195312,
          176.8491973876953,
          176.63082885742188,
          176.69046020507812,
          178.3501434326172,
          176.35256958007812,
          175.47801208496094,
          172.9239044189453,
          173.410888671875,
          174.75253295898438,
          176.13394165039062,
          179.99986267089844,
          175.28919982910156,
          177.50540161132812,
          179.0756378173828,
          182.9813232421875,
          186.48947143554688,
          186.70811462402344,
          188.28831481933594,
          188.5268096923828,
          181.77880859375,
          176.46188354492188,
          177.0780487060547,
          178.25074768066406,
          175.20968627929688,
          173.1326141357422,
          174.6531524658203,
          173.92762756347656,
          176.86935424804688,
          177.96255493164062,
          174.40469360351562,
          172.8543243408203,
          173.70899963378906,
          174.99102783203125,
          170.89654541015625,
          169.3759765625,
          169.63438415527344,
          170.1511688232422,
          172.6754608154297,
          171.33380126953125,
          172.58599853515625,
          173.82826232910156,
          176.39231872558594,
          177.88304138183594,
          177.2867431640625,
          178.6880340576172,
          179.59239196777344,
          177.74392700195312,
          177.6147003173828,
          176.0543975830078,
          174.75253295898438,
          174.37489318847656,
          171.8108367919922,
          171.93008422851562,
          172.3673858642578,
          170.04185485839844,
          165.8578643798828,
          167.17965698242188,
          169.23683166503906,
          169.71388244628906,
          172.89410400390625,
          176.47181701660156,
          175.55751037597656,
          178.12156677246094,
          180.69554138183594,
          181.75892639160156,
          181.2819061279297,
          185.4912567138672,
          183.89906311035156,
          186.52621459960938,
          187.09341430664062,
          188.78515625,
          188.76522827148438,
          190.5166473388672,
          189.71060180664062,
          190.37733459472656,
          189.04385375976562,
          188.86473083496094,
          189.4717559814453,
          188.44679260253906,
          189.0239715576172
         ]
        },
        {
         "marker": {
          "color": "green",
          "size": 10,
          "symbol": "triangle-up"
         },
         "mode": "markers",
         "name": "Trend Buy Signal",
         "type": "scatter",
         "x": [
          "2023-07-27T00:00:00",
          "2023-07-28T00:00:00",
          "2023-07-31T00:00:00",
          "2023-08-02T00:00:00",
          "2023-08-30T00:00:00",
          "2023-08-31T00:00:00",
          "2023-09-01T00:00:00",
          "2023-09-05T00:00:00",
          "2023-09-06T00:00:00",
          "2023-09-07T00:00:00",
          "2023-09-08T00:00:00",
          "2023-09-11T00:00:00",
          "2023-11-07T00:00:00",
          "2023-11-08T00:00:00",
          "2023-11-09T00:00:00",
          "2023-11-10T00:00:00",
          "2023-11-13T00:00:00",
          "2023-11-14T00:00:00",
          "2023-11-15T00:00:00",
          "2023-11-16T00:00:00"
         ],
         "y": [
          191.76608276367188,
          194.35646057128906,
          194.9717559814453,
          191.1309051513672,
          186.48947143554688,
          186.70811462402344,
          188.28831481933594,
          188.5268096923828,
          181.77880859375,
          176.46188354492188,
          177.0780487060547,
          178.25074768066406,
          180.69554138183594,
          181.75892639160156,
          181.2819061279297,
          185.4912567138672,
          183.89906311035156,
          186.52621459960938,
          187.09341430664062,
          188.78515625
         ]
        },
        {
         "marker": {
          "color": "red",
          "size": 10,
          "symbol": "triangle-down"
         },
         "mode": "markers",
         "name": "Trend Sell Signal",
         "type": "scatter",
         "x": [
          "2023-08-04T00:00:00",
          "2023-08-07T00:00:00",
          "2023-08-08T00:00:00",
          "2023-08-09T00:00:00",
          "2023-08-10T00:00:00",
          "2023-08-11T00:00:00",
          "2023-08-14T00:00:00",
          "2023-09-12T00:00:00",
          "2023-09-13T00:00:00",
          "2023-09-14T00:00:00",
          "2023-09-15T00:00:00",
          "2023-09-18T00:00:00",
          "2023-09-19T00:00:00",
          "2023-09-20T00:00:00",
          "2023-09-21T00:00:00",
          "2023-09-22T00:00:00",
          "2023-09-25T00:00:00",
          "2023-09-26T00:00:00",
          "2023-09-27T00:00:00",
          "2023-09-28T00:00:00",
          "2023-09-29T00:00:00",
          "2023-10-02T00:00:00"
         ],
         "y": [
          180.62057495117188,
          177.5042266845703,
          178.44705200195312,
          176.8491973876953,
          176.63082885742188,
          176.69046020507812,
          178.3501434326172,
          175.20968627929688,
          173.1326141357422,
          174.6531524658203,
          173.92762756347656,
          176.86935424804688,
          177.96255493164062,
          174.40469360351562,
          172.8543243408203,
          173.70899963378906,
          174.99102783203125,
          170.89654541015625,
          169.3759765625,
          169.63438415527344,
          170.1511688232422,
          172.6754608154297
         ]
        }
       ],
       "layout": {
        "hovermode": "x unified",
        "template": {
         "data": {
          "bar": [
           {
            "error_x": {
             "color": "#2a3f5f"
            },
            "error_y": {
             "color": "#2a3f5f"
            },
            "marker": {
             "line": {
              "color": "#E5ECF6",
              "width": 0.5
             },
             "pattern": {
              "fillmode": "overlay",
              "size": 10,
              "solidity": 0.2
             }
            },
            "type": "bar"
           }
          ],
          "barpolar": [
           {
            "marker": {
             "line": {
              "color": "#E5ECF6",
              "width": 0.5
             },
             "pattern": {
              "fillmode": "overlay",
              "size": 10,
              "solidity": 0.2
             }
            },
            "type": "barpolar"
           }
          ],
          "carpet": [
           {
            "aaxis": {
             "endlinecolor": "#2a3f5f",
             "gridcolor": "white",
             "linecolor": "white",
             "minorgridcolor": "white",
             "startlinecolor": "#2a3f5f"
            },
            "baxis": {
             "endlinecolor": "#2a3f5f",
             "gridcolor": "white",
             "linecolor": "white",
             "minorgridcolor": "white",
             "startlinecolor": "#2a3f5f"
            },
            "type": "carpet"
           }
          ],
          "choropleth": [
           {
            "colorbar": {
             "outlinewidth": 0,
             "ticks": ""
            },
            "type": "choropleth"
           }
          ],
          "contour": [
           {
            "colorbar": {
             "outlinewidth": 0,
             "ticks": ""
            },
            "colorscale": [
             [
              0,
              "#0d0887"
             ],
             [
              0.1111111111111111,
              "#46039f"
             ],
             [
              0.2222222222222222,
              "#7201a8"
             ],
             [
              0.3333333333333333,
              "#9c179e"
             ],
             [
              0.4444444444444444,
              "#bd3786"
             ],
             [
              0.5555555555555556,
              "#d8576b"
             ],
             [
              0.6666666666666666,
              "#ed7953"
             ],
             [
              0.7777777777777778,
              "#fb9f3a"
             ],
             [
              0.8888888888888888,
              "#fdca26"
             ],
             [
              1,
              "#f0f921"
             ]
            ],
            "type": "contour"
           }
          ],
          "contourcarpet": [
           {
            "colorbar": {
             "outlinewidth": 0,
             "ticks": ""
            },
            "type": "contourcarpet"
           }
          ],
          "heatmap": [
           {
            "colorbar": {
             "outlinewidth": 0,
             "ticks": ""
            },
            "colorscale": [
             [
              0,
              "#0d0887"
             ],
             [
              0.1111111111111111,
              "#46039f"
             ],
             [
              0.2222222222222222,
              "#7201a8"
             ],
             [
              0.3333333333333333,
              "#9c179e"
             ],
             [
              0.4444444444444444,
              "#bd3786"
             ],
             [
              0.5555555555555556,
              "#d8576b"
             ],
             [
              0.6666666666666666,
              "#ed7953"
             ],
             [
              0.7777777777777778,
              "#fb9f3a"
             ],
             [
              0.8888888888888888,
              "#fdca26"
             ],
             [
              1,
              "#f0f921"
             ]
            ],
            "type": "heatmap"
           }
          ],
          "heatmapgl": [
           {
            "colorbar": {
             "outlinewidth": 0,
             "ticks": ""
            },
            "colorscale": [
             [
              0,
              "#0d0887"
             ],
             [
              0.1111111111111111,
              "#46039f"
             ],
             [
              0.2222222222222222,
              "#7201a8"
             ],
             [
              0.3333333333333333,
              "#9c179e"
             ],
             [
              0.4444444444444444,
              "#bd3786"
             ],
             [
              0.5555555555555556,
              "#d8576b"
             ],
             [
              0.6666666666666666,
              "#ed7953"
             ],
             [
              0.7777777777777778,
              "#fb9f3a"
             ],
             [
              0.8888888888888888,
              "#fdca26"
             ],
             [
              1,
              "#f0f921"
             ]
            ],
            "type": "heatmapgl"
           }
          ],
          "histogram": [
           {
            "marker": {
             "pattern": {
              "fillmode": "overlay",
              "size": 10,
              "solidity": 0.2
             }
            },
            "type": "histogram"
           }
          ],
          "histogram2d": [
           {
            "colorbar": {
             "outlinewidth": 0,
             "ticks": ""
            },
            "colorscale": [
             [
              0,
              "#0d0887"
             ],
             [
              0.1111111111111111,
              "#46039f"
             ],
             [
              0.2222222222222222,
              "#7201a8"
             ],
             [
              0.3333333333333333,
              "#9c179e"
             ],
             [
              0.4444444444444444,
              "#bd3786"
             ],
             [
              0.5555555555555556,
              "#d8576b"
             ],
             [
              0.6666666666666666,
              "#ed7953"
             ],
             [
              0.7777777777777778,
              "#fb9f3a"
             ],
             [
              0.8888888888888888,
              "#fdca26"
             ],
             [
              1,
              "#f0f921"
             ]
            ],
            "type": "histogram2d"
           }
          ],
          "histogram2dcontour": [
           {
            "colorbar": {
             "outlinewidth": 0,
             "ticks": ""
            },
            "colorscale": [
             [
              0,
              "#0d0887"
             ],
             [
              0.1111111111111111,
              "#46039f"
             ],
             [
              0.2222222222222222,
              "#7201a8"
             ],
             [
              0.3333333333333333,
              "#9c179e"
             ],
             [
              0.4444444444444444,
              "#bd3786"
             ],
             [
              0.5555555555555556,
              "#d8576b"
             ],
             [
              0.6666666666666666,
              "#ed7953"
             ],
             [
              0.7777777777777778,
              "#fb9f3a"
             ],
             [
              0.8888888888888888,
              "#fdca26"
             ],
             [
              1,
              "#f0f921"
             ]
            ],
            "type": "histogram2dcontour"
           }
          ],
          "mesh3d": [
           {
            "colorbar": {
             "outlinewidth": 0,
             "ticks": ""
            },
            "type": "mesh3d"
           }
          ],
          "parcoords": [
           {
            "line": {
             "colorbar": {
              "outlinewidth": 0,
              "ticks": ""
             }
            },
            "type": "parcoords"
           }
          ],
          "pie": [
           {
            "automargin": true,
            "type": "pie"
           }
          ],
          "scatter": [
           {
            "marker": {
             "colorbar": {
              "outlinewidth": 0,
              "ticks": ""
             }
            },
            "type": "scatter"
           }
          ],
          "scatter3d": [
           {
            "line": {
             "colorbar": {
              "outlinewidth": 0,
              "ticks": ""
             }
            },
            "marker": {
             "colorbar": {
              "outlinewidth": 0,
              "ticks": ""
             }
            },
            "type": "scatter3d"
           }
          ],
          "scattercarpet": [
           {
            "marker": {
             "colorbar": {
              "outlinewidth": 0,
              "ticks": ""
             }
            },
            "type": "scattercarpet"
           }
          ],
          "scattergeo": [
           {
            "marker": {
             "colorbar": {
              "outlinewidth": 0,
              "ticks": ""
             }
            },
            "type": "scattergeo"
           }
          ],
          "scattergl": [
           {
            "marker": {
             "colorbar": {
              "outlinewidth": 0,
              "ticks": ""
             }
            },
            "type": "scattergl"
           }
          ],
          "scattermapbox": [
           {
            "marker": {
             "colorbar": {
              "outlinewidth": 0,
              "ticks": ""
             }
            },
            "type": "scattermapbox"
           }
          ],
          "scatterpolar": [
           {
            "marker": {
             "colorbar": {
              "outlinewidth": 0,
              "ticks": ""
             }
            },
            "type": "scatterpolar"
           }
          ],
          "scatterpolargl": [
           {
            "marker": {
             "colorbar": {
              "outlinewidth": 0,
              "ticks": ""
             }
            },
            "type": "scatterpolargl"
           }
          ],
          "scatterternary": [
           {
            "marker": {
             "colorbar": {
              "outlinewidth": 0,
              "ticks": ""
             }
            },
            "type": "scatterternary"
           }
          ],
          "surface": [
           {
            "colorbar": {
             "outlinewidth": 0,
             "ticks": ""
            },
            "colorscale": [
             [
              0,
              "#0d0887"
             ],
             [
              0.1111111111111111,
              "#46039f"
             ],
             [
              0.2222222222222222,
              "#7201a8"
             ],
             [
              0.3333333333333333,
              "#9c179e"
             ],
             [
              0.4444444444444444,
              "#bd3786"
             ],
             [
              0.5555555555555556,
              "#d8576b"
             ],
             [
              0.6666666666666666,
              "#ed7953"
             ],
             [
              0.7777777777777778,
              "#fb9f3a"
             ],
             [
              0.8888888888888888,
              "#fdca26"
             ],
             [
              1,
              "#f0f921"
             ]
            ],
            "type": "surface"
           }
          ],
          "table": [
           {
            "cells": {
             "fill": {
              "color": "#EBF0F8"
             },
             "line": {
              "color": "white"
             }
            },
            "header": {
             "fill": {
              "color": "#C8D4E3"
             },
             "line": {
              "color": "white"
             }
            },
            "type": "table"
           }
          ]
         },
         "layout": {
          "annotationdefaults": {
           "arrowcolor": "#2a3f5f",
           "arrowhead": 0,
           "arrowwidth": 1
          },
          "autotypenumbers": "strict",
          "coloraxis": {
           "colorbar": {
            "outlinewidth": 0,
            "ticks": ""
           }
          },
          "colorscale": {
           "diverging": [
            [
             0,
             "#8e0152"
            ],
            [
             0.1,
             "#c51b7d"
            ],
            [
             0.2,
             "#de77ae"
            ],
            [
             0.3,
             "#f1b6da"
            ],
            [
             0.4,
             "#fde0ef"
            ],
            [
             0.5,
             "#f7f7f7"
            ],
            [
             0.6,
             "#e6f5d0"
            ],
            [
             0.7,
             "#b8e186"
            ],
            [
             0.8,
             "#7fbc41"
            ],
            [
             0.9,
             "#4d9221"
            ],
            [
             1,
             "#276419"
            ]
           ],
           "sequential": [
            [
             0,
             "#0d0887"
            ],
            [
             0.1111111111111111,
             "#46039f"
            ],
            [
             0.2222222222222222,
             "#7201a8"
            ],
            [
             0.3333333333333333,
             "#9c179e"
            ],
            [
             0.4444444444444444,
             "#bd3786"
            ],
            [
             0.5555555555555556,
             "#d8576b"
            ],
            [
             0.6666666666666666,
             "#ed7953"
            ],
            [
             0.7777777777777778,
             "#fb9f3a"
            ],
            [
             0.8888888888888888,
             "#fdca26"
            ],
            [
             1,
             "#f0f921"
            ]
           ],
           "sequentialminus": [
            [
             0,
             "#0d0887"
            ],
            [
             0.1111111111111111,
             "#46039f"
            ],
            [
             0.2222222222222222,
             "#7201a8"
            ],
            [
             0.3333333333333333,
             "#9c179e"
            ],
            [
             0.4444444444444444,
             "#bd3786"
            ],
            [
             0.5555555555555556,
             "#d8576b"
            ],
            [
             0.6666666666666666,
             "#ed7953"
            ],
            [
             0.7777777777777778,
             "#fb9f3a"
            ],
            [
             0.8888888888888888,
             "#fdca26"
            ],
            [
             1,
             "#f0f921"
            ]
           ]
          },
          "colorway": [
           "#636efa",
           "#EF553B",
           "#00cc96",
           "#ab63fa",
           "#FFA15A",
           "#19d3f3",
           "#FF6692",
           "#B6E880",
           "#FF97FF",
           "#FECB52"
          ],
          "font": {
           "color": "#2a3f5f"
          },
          "geo": {
           "bgcolor": "white",
           "lakecolor": "white",
           "landcolor": "#E5ECF6",
           "showlakes": true,
           "showland": true,
           "subunitcolor": "white"
          },
          "hoverlabel": {
           "align": "left"
          },
          "hovermode": "closest",
          "mapbox": {
           "style": "light"
          },
          "paper_bgcolor": "white",
          "plot_bgcolor": "#E5ECF6",
          "polar": {
           "angularaxis": {
            "gridcolor": "white",
            "linecolor": "white",
            "ticks": ""
           },
           "bgcolor": "#E5ECF6",
           "radialaxis": {
            "gridcolor": "white",
            "linecolor": "white",
            "ticks": ""
           }
          },
          "scene": {
           "xaxis": {
            "backgroundcolor": "#E5ECF6",
            "gridcolor": "white",
            "gridwidth": 2,
            "linecolor": "white",
            "showbackground": true,
            "ticks": "",
            "zerolinecolor": "white"
           },
           "yaxis": {
            "backgroundcolor": "#E5ECF6",
            "gridcolor": "white",
            "gridwidth": 2,
            "linecolor": "white",
            "showbackground": true,
            "ticks": "",
            "zerolinecolor": "white"
           },
           "zaxis": {
            "backgroundcolor": "#E5ECF6",
            "gridcolor": "white",
            "gridwidth": 2,
            "linecolor": "white",
            "showbackground": true,
            "ticks": "",
            "zerolinecolor": "white"
           }
          },
          "shapedefaults": {
           "line": {
            "color": "#2a3f5f"
           }
          },
          "ternary": {
           "aaxis": {
            "gridcolor": "white",
            "linecolor": "white",
            "ticks": ""
           },
           "baxis": {
            "gridcolor": "white",
            "linecolor": "white",
            "ticks": ""
           },
           "bgcolor": "#E5ECF6",
           "caxis": {
            "gridcolor": "white",
            "linecolor": "white",
            "ticks": ""
           }
          },
          "title": {
           "x": 0.05
          },
          "xaxis": {
           "automargin": true,
           "gridcolor": "white",
           "linecolor": "white",
           "ticks": "",
           "title": {
            "standoff": 15
           },
           "zerolinecolor": "white",
           "zerolinewidth": 2
          },
          "yaxis": {
           "automargin": true,
           "gridcolor": "white",
           "linecolor": "white",
           "ticks": "",
           "title": {
            "standoff": 15
           },
           "zerolinecolor": "white",
           "zerolinewidth": 2
          }
         }
        },
        "title": {
         "text": "AAPL - Price with MACD Buy/Sell Signals"
        },
        "xaxis": {
         "rangeslider": {
          "visible": false
         },
         "title": {
          "text": "Date"
         }
        },
        "yaxis": {
         "title": {
          "text": "Price (USD)"
         }
        }
       }
      }
     },
     "metadata": {},
     "output_type": "display_data"
    },
    {
     "name": "stdout",
     "output_type": "stream",
     "text": [
      "Buying  at 2023-07-27 00:00:00: 191.77\n",
      "Selling at 2023-08-04 00:00:00: 180.62 | Loss: -5.81%\n",
      "Buying  at 2023-08-30 00:00:00: 186.49\n",
      "Selling at 2023-09-12 00:00:00: 175.21 | Loss: -6.05%\n",
      "Buying  at 2023-11-07 00:00:00: 180.70\n",
      "Win Rate: 0.00%\n"
     ]
    }
   ],
   "source": [
    "#Load data\n",
    "instrument='AAPL'\n",
    "data = get_data(instrument=instrument, start_date='2023-07-01', end_date='2023-12-01', interval='1d')\n",
    "\n",
    "#Calculate strategy\n",
    "data = macd(data)\n",
    "data = rsi(data)\n",
    "data = atr(data)\n",
    "data = data.dropna()\n",
    "\n",
    "data = run_strategy(data=data, strategy='Trend-Following')\n",
    "\n",
    "#plot\n",
    "plot_buy_sell_signal(data=data, instrument=instrument, buy_signal_column='Trend Buy Signal', sell_signal_column='Trend Sell Signal', title = 'Price with MACD Buy/Sell Signals')\n",
    "win_rate = calculate_win_rate(data=data, buy_signal_column='Trend Buy Signal', sell_signal_column='Trend Sell Signal')\n",
    "\n",
    "\n",
    "\n",
    "\n",
    "clean_data = data[['Adj Close', 'Trend Buy Signal', 'Trend Sell Signal']].copy()\n",
    "\n",
    "# Create the \"Full Data\" DataFrame with all calculated indicators and signals\n",
    "full_data = data.copy()  # This contains all columns by default\n"
   ]
  },
  {
   "cell_type": "code",
   "execution_count": 200,
   "metadata": {},
   "outputs": [
    {
     "name": "stdout",
     "output_type": "stream",
     "text": [
      "             Adj Close  Trend Buy Signal  Trend Sell Signal\n",
      "Date                                                       \n",
      "2023-07-20  191.676773                 0                  0\n",
      "2023-07-21  190.495728                 0                  0\n",
      "2023-07-24  191.299622                 0                  0\n",
      "2023-07-25  192.163055                 0                  0\n",
      "2023-07-26  193.036438                 0                  0\n",
      "...                ...               ...                ...\n",
      "2023-11-24  189.043854                 0                  0\n",
      "2023-11-27  188.864731                 0                  0\n",
      "2023-11-28  189.471756                 0                  0\n",
      "2023-11-29  188.446793                 0                  0\n",
      "2023-11-30  189.023972                 0                  0\n",
      "\n",
      "[94 rows x 3 columns]\n",
      "                  Open        High         Low       Close   Adj Close  \\\n",
      "Date                                                                     \n",
      "2023-07-20  195.089996  196.470001  192.500000  193.130005  191.676773   \n",
      "2023-07-21  194.100006  194.970001  191.229996  191.940002  190.495728   \n",
      "2023-07-24  193.410004  194.910004  192.250000  192.750000  191.299622   \n",
      "2023-07-25  193.330002  194.440002  192.919998  193.619995  192.163055   \n",
      "2023-07-26  193.669998  195.639999  193.320007  194.500000  193.036438   \n",
      "...                ...         ...         ...         ...         ...   \n",
      "2023-11-24  190.869995  190.899994  189.250000  189.970001  189.043854   \n",
      "2023-11-27  189.919998  190.669998  188.899994  189.789993  188.864731   \n",
      "2023-11-28  189.779999  191.080002  189.399994  190.399994  189.471756   \n",
      "2023-11-29  190.899994  192.089996  188.970001  189.369995  188.446793   \n",
      "2023-11-30  189.839996  190.320007  188.190002  189.949997  189.023972   \n",
      "\n",
      "              Volume      MACD  Signal Line  MACD Buy Signal  \\\n",
      "Date                                                           \n",
      "2023-07-20  59581200 -0.159611    -0.547028                0   \n",
      "2023-07-21  71917800 -0.189705    -0.475563                0   \n",
      "2023-07-24  45377800 -0.146992    -0.409849                0   \n",
      "2023-07-25  37283200 -0.042975    -0.336474                0   \n",
      "2023-07-26  47471900  0.108682    -0.247443                0   \n",
      "...              ...       ...          ...              ...   \n",
      "2023-11-24  24048300  4.137518     3.334925                0   \n",
      "2023-11-27  40552600  4.021242     3.472189                0   \n",
      "2023-11-28  38415400  3.932740     3.564299                0   \n",
      "2023-11-29  43014200  3.736820     3.598803                0   \n",
      "2023-11-30  48794400  3.586779     3.596398                0   \n",
      "\n",
      "            MACD Sell Signal        RSI       ATR  Trend Buy Signal  \\\n",
      "Date                                                                  \n",
      "2023-07-20                 0  47.432765  3.247114                 0   \n",
      "2023-07-21                 0  44.216529  3.284257                 0   \n",
      "2023-07-24                 0  50.860515  3.448133                 0   \n",
      "2023-07-25                 0  56.901708  3.503875                 0   \n",
      "2023-07-26                 0  57.916417  3.550799                 0   \n",
      "...                      ...        ...       ...               ...   \n",
      "2023-11-24                 0  80.729448  3.076429                 0   \n",
      "2023-11-27                 0  77.463836  2.926252                 0   \n",
      "2023-11-28                 0  74.944054  2.776026                 0   \n",
      "2023-11-29                 0  69.050086  2.802136                 0   \n",
      "2023-11-30                 1  71.927806  2.785631                 0   \n",
      "\n",
      "            Trend Sell Signal  \n",
      "Date                           \n",
      "2023-07-20                  0  \n",
      "2023-07-21                  0  \n",
      "2023-07-24                  0  \n",
      "2023-07-25                  0  \n",
      "2023-07-26                  0  \n",
      "...                       ...  \n",
      "2023-11-24                  0  \n",
      "2023-11-27                  0  \n",
      "2023-11-28                  0  \n",
      "2023-11-29                  0  \n",
      "2023-11-30                  0  \n",
      "\n",
      "[94 rows x 14 columns]\n"
     ]
    }
   ],
   "source": [
    "print(clean_data)\n",
    "print(full_data)"
   ]
  },
  {
   "cell_type": "code",
   "execution_count": 201,
   "metadata": {},
   "outputs": [
    {
     "name": "stdout",
     "output_type": "stream",
     "text": [
      "Sharpe Ratio (daily): -0.0219\n",
      "Annualized Sharpe Ratio: -0.3479\n"
     ]
    }
   ],
   "source": [
    "calculate_sharpe_ratio(data=data, frequency='daily')"
   ]
  }
 ],
 "metadata": {
  "kernelspec": {
   "display_name": "base",
   "language": "python",
   "name": "python3"
  },
  "language_info": {
   "codemirror_mode": {
    "name": "ipython",
    "version": 3
   },
   "file_extension": ".py",
   "mimetype": "text/x-python",
   "name": "python",
   "nbconvert_exporter": "python",
   "pygments_lexer": "ipython3",
   "version": "3.10.9"
  }
 },
 "nbformat": 4,
 "nbformat_minor": 2
}
