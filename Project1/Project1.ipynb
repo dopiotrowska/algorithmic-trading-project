{
 "cells": [
  {
   "cell_type": "code",
   "execution_count": 1,
   "metadata": {},
   "outputs": [
    {
     "name": "stdout",
     "output_type": "stream",
     "text": [
      "Requirement already satisfied: yfinance==0.1.70 in /usr/local/lib/python3.10/site-packages (from -r Project1/requirements.txt (line 1)) (0.1.70)\n",
      "Requirement already satisfied: plotly==5.3.1 in /usr/local/lib/python3.10/site-packages (from -r Project1/requirements.txt (line 2)) (5.3.1)\n",
      "Requirement already satisfied: pandas==1.4.2 in /usr/local/lib/python3.10/site-packages (from -r Project1/requirements.txt (line 3)) (1.4.2)\n",
      "Requirement already satisfied: numpy>=1.15 in /usr/local/lib/python3.10/site-packages (from yfinance==0.1.70->-r Project1/requirements.txt (line 1)) (1.23.3)\n",
      "Requirement already satisfied: requests>=2.26 in /usr/local/lib/python3.10/site-packages (from yfinance==0.1.70->-r Project1/requirements.txt (line 1)) (2.28.1)\n",
      "Requirement already satisfied: multitasking>=0.0.7 in /usr/local/lib/python3.10/site-packages (from yfinance==0.1.70->-r Project1/requirements.txt (line 1)) (0.0.11)\n",
      "Requirement already satisfied: lxml>=4.5.1 in /usr/local/lib/python3.10/site-packages (from yfinance==0.1.70->-r Project1/requirements.txt (line 1)) (4.9.1)\n",
      "Requirement already satisfied: tenacity>=6.2.0 in /usr/local/lib/python3.10/site-packages (from plotly==5.3.1->-r Project1/requirements.txt (line 2)) (8.1.0)\n",
      "Requirement already satisfied: six in /Users/dominikapiotrowska/Library/Python/3.10/lib/python/site-packages (from plotly==5.3.1->-r Project1/requirements.txt (line 2)) (1.16.0)\n",
      "Requirement already satisfied: python-dateutil>=2.8.1 in /Users/dominikapiotrowska/Library/Python/3.10/lib/python/site-packages (from pandas==1.4.2->-r Project1/requirements.txt (line 3)) (2.8.2)\n",
      "Requirement already satisfied: pytz>=2020.1 in /usr/local/lib/python3.10/site-packages (from pandas==1.4.2->-r Project1/requirements.txt (line 3)) (2022.2.1)\n",
      "Requirement already satisfied: charset-normalizer<3,>=2 in /usr/local/lib/python3.10/site-packages (from requests>=2.26->yfinance==0.1.70->-r Project1/requirements.txt (line 1)) (2.1.1)\n",
      "Requirement already satisfied: idna<4,>=2.5 in /usr/local/lib/python3.10/site-packages (from requests>=2.26->yfinance==0.1.70->-r Project1/requirements.txt (line 1)) (3.4)\n",
      "Requirement already satisfied: urllib3<1.27,>=1.21.1 in /usr/local/lib/python3.10/site-packages (from requests>=2.26->yfinance==0.1.70->-r Project1/requirements.txt (line 1)) (1.26.12)\n",
      "Requirement already satisfied: certifi>=2017.4.17 in /usr/local/lib/python3.10/site-packages (from requests>=2.26->yfinance==0.1.70->-r Project1/requirements.txt (line 1)) (2022.9.14)\n",
      "Note: you may need to restart the kernel to use updated packages.\n"
     ]
    }
   ],
   "source": [
    "pip install -r Project1/requirements.txt"
   ]
  },
  {
   "cell_type": "code",
   "execution_count": 2,
   "metadata": {},
   "outputs": [],
   "source": [
    "import yfinance as yf\n",
    "import plotly.graph_objs as go\n",
    "import pandas as pd"
   ]
  },
  {
   "cell_type": "markdown",
   "metadata": {},
   "source": [
    "# Data downloading"
   ]
  },
  {
   "cell_type": "code",
   "execution_count": 3,
   "metadata": {},
   "outputs": [],
   "source": [
    "def get_data(instrument: str,\n",
    "             start_date: str,\n",
    "             end_date: str,\n",
    "             interval: str) -> pd.DataFrame:\n",
    "    \"\"\"\n",
    "        Fetch historical market data from Yahoo Finance for a given instrument between the provided start and end dates at the given interval.\n",
    "        The function returns a cleaned DataFrame with the data, excluding any missing values.\n",
    "\n",
    "        Parameters:\n",
    "        instrument (str): The ticker symbol of the instrument e.g. 'MSFT'.\n",
    "        start_date (str): The start date for the data in 'YYYY-MM-DD' format.\n",
    "        end_date (str): The end date for the data in 'YYYY-MM-DD' format.\n",
    "        interval (str): The time interval between data points. Valid intervals are: ['1m', '2m', '5m', '15m', '30m', '60m', '90m', '1h', '1d', '5d', '1wk', '1mo', '3mo'].\n",
    "\n",
    "        Returns:\n",
    "        pd.DataFrame: A Pandas DataFrame containing the historical market data for the given instrument, with any rows containing missing values (NaN) removed.\n",
    "    \"\"\"\n",
    "    \n",
    "    data = yf.download(tickers=instrument,\n",
    "                       start=start_date,\n",
    "                       end=end_date,\n",
    "                       interval=interval)\n",
    "    \n",
    "    data = data.dropna(how='any')\n",
    "\n",
    "    return data"
   ]
  },
  {
   "cell_type": "markdown",
   "metadata": {},
   "source": [
    "# Indicators"
   ]
  },
  {
   "cell_type": "markdown",
   "metadata": {},
   "source": [
    "## MACD"
   ]
  },
  {
   "cell_type": "code",
   "execution_count": 4,
   "metadata": {},
   "outputs": [],
   "source": [
    "def macd(data: pd.DataFrame) -> pd.DataFrame:\n",
    "    \"\"\"\n",
    "        Calculate the MACD (Moving Average Convergence Divergence) and generate buy/sell signals.\n",
    "\n",
    "        Parameters:\n",
    "        data (pd.DataFrame): DataFrame containing historical market data.\n",
    "\n",
    "        Returns:\n",
    "        pd.DataFrame: DataFrame with additional columns for 'MACD Buy Signal' and 'MACD Sell Signal', where a 1 indicates a signal and 0 means no signal.\n",
    "    \"\"\"\n",
    "\n",
    "    data = data.copy()\n",
    "\n",
    "    data['EMA12'] = data['Adj Close'].ewm(span=12, adjust=False).mean()\n",
    "    data['EMA26'] = data['Adj Close'].ewm(span=26, adjust=False).mean()\n",
    "    data['MACD'] = data['EMA12'] - data['EMA26'] # MACD Line\n",
    "    data['Signal Line'] = data['MACD'].ewm(span=9, adjust=False).mean() # Signal Line\n",
    "\n",
    "    data['MACD Buy Signal'] = 0\n",
    "    data['MACD Sell Signal'] = 0\n",
    "\n",
    "    for i in range(1, len(data)):\n",
    "        # buy signal: MACD crosses above Signal Line\n",
    "        if data['MACD'].iloc[i] > data['Signal Line'].iloc[i] and data['MACD'].iloc[i-1] <= data['Signal Line'].iloc[i-1]:\n",
    "            data.loc[data.index[i], 'MACD Buy Signal'] = 1\n",
    "        # sell signal: MACD crosses below Signal Line\n",
    "        elif data['MACD'].iloc[i] < data['Signal Line'].iloc[i] and data['MACD'].iloc[i-1] >= data['Signal Line'].iloc[i-1]:\n",
    "            data.loc[data.index[i], 'MACD Sell Signal'] = 1\n",
    "\n",
    "    # drop intermediate columns\n",
    "    data = data.drop(columns=['EMA12', 'EMA26', 'MACD', 'Signal Line'])\n",
    "\n",
    "    return data"
   ]
  },
  {
   "cell_type": "code",
   "execution_count": 5,
   "metadata": {},
   "outputs": [],
   "source": [
    "strategies = {\n",
    "    'MACD': macd\n",
    "}"
   ]
  },
  {
   "cell_type": "code",
   "execution_count": 6,
   "metadata": {},
   "outputs": [],
   "source": [
    "def run_strategy(data: pd.DataFrame, strategy: str) -> pd.DataFrame:\n",
    "    \"\"\"\n",
    "        Executes the specified trading strategy on the given data.\n",
    "\n",
    "        Parameters:\n",
    "        data (pd.DataFrame): DataFrame containing historical market data on which the strategy will be applied.\n",
    "                             The DataFrame must have relevant columns for the selected strategy.\n",
    "        \n",
    "        strategy (str): The name of the strategy to be applied.\n",
    "\n",
    "        Returns:\n",
    "        pd.DataFrame: DataFrame with the strategy applied, including any newly added columns like buy/sell signals.\n",
    "    \"\"\"\n",
    "    \n",
    "    if strategy in strategies:\n",
    "        data = strategies[strategy](data=data)\n",
    "    else:\n",
    "        print(\"Invalid strategy selected!\")\n",
    "\n",
    "    return data"
   ]
  },
  {
   "cell_type": "markdown",
   "metadata": {},
   "source": [
    "# Plots"
   ]
  },
  {
   "cell_type": "markdown",
   "metadata": {},
   "source": [
    "## Buy and sell signal plot"
   ]
  },
  {
   "cell_type": "code",
   "execution_count": 7,
   "metadata": {},
   "outputs": [],
   "source": [
    "def plot_buy_sell_signal(data: pd.DataFrame,\n",
    "                         instrument: str,\n",
    "                         buy_signal_column: str,\n",
    "                         sell_signal_column: str,\n",
    "                         title: str):\n",
    "    \"\"\"\n",
    "        Plots a price chart with buy and sell signals marked on it.\n",
    "\n",
    "        Parameters:\n",
    "        data (pd.DataFrame): A DataFrame containing historical market data. The DataFrame must have\n",
    "                            at least the 'Adj Close' column and the specified buy/sell signal columns.\n",
    "        \n",
    "        instrument (str): The ticker symbol or name of the instrument being plotted.\n",
    "\n",
    "        buy_signal_column (str): The column name containing the buy signals (e.g., 'MACD Buy Signal').\n",
    "                                The function will mark buy signals where the value in this column is 1.\n",
    "\n",
    "        sell_signal_column (str): The column name containing the sell signals (e.g., 'MACD Sell Signal').\n",
    "                                The function will mark sell signals where the value in this column is 1.\n",
    "        \n",
    "        title (str): The title of the plot, which will be displayed on the chart after instrument name.\n",
    "    \"\"\"\n",
    "    fig = go.Figure()\n",
    "\n",
    "    fig.add_trace(go.Scatter(\n",
    "        x=data.index,\n",
    "        y=data['Adj Close'],\n",
    "        mode='lines',\n",
    "        name='Price',\n",
    "        line=dict(color='blue')\n",
    "    ))\n",
    "\n",
    "    # add buy signals to the price chart\n",
    "    buy_signals = data[data[buy_signal_column] == 1].index\n",
    "    fig.add_trace(go.Scatter(\n",
    "        x=buy_signals,\n",
    "        y=data.loc[buy_signals, 'Adj Close'],\n",
    "        mode='markers',\n",
    "        name=buy_signal_column,\n",
    "        marker=dict(color='green', symbol='triangle-up', size=10)\n",
    "    ))\n",
    "\n",
    "    # add sell signals to the price chart\n",
    "    sell_signals = data[data[sell_signal_column] == 1].index\n",
    "    fig.add_trace(go.Scatter(\n",
    "        x=sell_signals,\n",
    "        y=data.loc[sell_signals, 'Adj Close'],\n",
    "        mode='markers',\n",
    "        name=sell_signal_column,\n",
    "        marker=dict(color='red', symbol='triangle-down', size=10)\n",
    "    ))\n",
    "\n",
    "    fig.update_layout(\n",
    "        title=f\"{instrument} - {title}\",\n",
    "        xaxis_title=\"Date\",\n",
    "        yaxis_title=\"Price (USD)\",\n",
    "        xaxis_rangeslider_visible=False,\n",
    "        hovermode=\"x unified\",\n",
    "    )\n",
    "\n",
    "    fig.show()"
   ]
  },
  {
   "cell_type": "markdown",
   "metadata": {},
   "source": [
    "# Performance Evaluation"
   ]
  },
  {
   "cell_type": "markdown",
   "metadata": {},
   "source": [
    "## Win Rate"
   ]
  },
  {
   "cell_type": "code",
   "execution_count": 8,
   "metadata": {},
   "outputs": [],
   "source": [
    "def calculate_win_rate(data: pd.DataFrame, \n",
    "                       buy_signal_column: str, \n",
    "                       sell_signal_column: str) -> float:\n",
    "    \"\"\"\n",
    "        Calculates the win rate of a trading strategy based on buy and sell signals in the given data.\n",
    "\n",
    "        This function simulates a trading strategy where a position is opened on a buy signal\n",
    "        and closed on a sell signal assuming one signal at the time (if buy signal then wait for sell signal).\n",
    "\n",
    "        Parameters:\n",
    "        data (pd.DataFrame): A DataFrame containing market data, including the 'Adj Close' column\n",
    "                            and the buy/sell signal columns specified by `buy_signal_column` and `sell_signal_column`.\n",
    "        \n",
    "        buy_signal_column (str): The name of the column containing buy signals (e.g., 'MACD Buy Signal').\n",
    "                                A value of 1 in this column indicates a buy signal.\n",
    "        \n",
    "        sell_signal_column (str): The name of the column containing sell signals (e.g., 'MACD Sell Signal').\n",
    "                                A value of 1 in this column indicates a sell signal.\n",
    "    \"\"\"\n",
    "\n",
    "    open_position = False  # track if there is an open position\n",
    "    total_trades = 0       # total number of trades (both wins and losses)\n",
    "    wins = 0               # total number of winning trades\n",
    "\n",
    "    for i in range(1, len(data)):\n",
    "        if data[buy_signal_column].iloc[i] == 1 and not open_position: # buy\n",
    "            open_position = True # open the position\n",
    "            entry_price = data['Adj Close'].iloc[i]\n",
    "            print(f\"Buying  at {data.index[i]}: {entry_price:.2f}\")\n",
    "        elif data[sell_signal_column].iloc[i] == 1 and open_position: # sell\n",
    "            exit_price = data['Adj Close'].iloc[i]\n",
    "            profit_loss = exit_price - entry_price\n",
    "            profit_loss_percent = (profit_loss / entry_price) * 100\n",
    "            total_trades += 1  # increment total trades\n",
    "            if profit_loss > 0: \n",
    "                wins += 1 # increment total wins\n",
    "                print(f\"Selling at {data.index[i]}: {exit_price:.2f} | Profit: {profit_loss_percent:.2f}%\")\n",
    "            else:\n",
    "                print(f\"Selling at {data.index[i]}: {exit_price:.2f} | Loss: {profit_loss_percent:.2f}%\")\n",
    "            open_position = False  # close the position\n",
    "    \n",
    "    if total_trades > 0:\n",
    "        win_rate = wins / total_trades\n",
    "    else:\n",
    "        win_rate = 0\n",
    "\n",
    "    win_rate = win_rate * 100\n",
    "\n",
    "    print(f\"Win Rate: {win_rate:.2f}%\")\n"
   ]
  },
  {
   "cell_type": "markdown",
   "metadata": {},
   "source": [
    "# Results"
   ]
  },
  {
   "cell_type": "code",
   "execution_count": 9,
   "metadata": {},
   "outputs": [
    {
     "name": "stdout",
     "output_type": "stream",
     "text": [
      "[*********************100%***********************]  1 of 1 completed\n"
     ]
    },
    {
     "data": {
      "application/vnd.plotly.v1+json": {
       "config": {
        "plotlyServerURL": "https://plot.ly"
       },
       "data": [
        {
         "line": {
          "color": "blue"
         },
         "mode": "lines",
         "name": "Price",
         "type": "scatter",
         "x": [
          "2000-01-01T00:00:00",
          "2000-02-01T00:00:00",
          "2000-03-01T00:00:00",
          "2000-04-01T00:00:00",
          "2000-05-01T00:00:00",
          "2000-06-01T00:00:00",
          "2000-07-01T00:00:00",
          "2000-08-01T00:00:00",
          "2000-09-01T00:00:00",
          "2000-10-01T00:00:00",
          "2000-11-01T00:00:00",
          "2000-12-01T00:00:00",
          "2001-01-01T00:00:00",
          "2001-02-01T00:00:00",
          "2001-03-01T00:00:00",
          "2001-04-01T00:00:00",
          "2001-05-01T00:00:00",
          "2001-06-01T00:00:00",
          "2001-07-01T00:00:00",
          "2001-08-01T00:00:00",
          "2001-09-01T00:00:00",
          "2001-10-01T00:00:00",
          "2001-11-01T00:00:00",
          "2001-12-01T00:00:00",
          "2002-01-01T00:00:00",
          "2002-02-01T00:00:00",
          "2002-03-01T00:00:00",
          "2002-04-01T00:00:00",
          "2002-05-01T00:00:00",
          "2002-06-01T00:00:00",
          "2002-07-01T00:00:00",
          "2002-08-01T00:00:00",
          "2002-09-01T00:00:00",
          "2002-10-01T00:00:00",
          "2002-11-01T00:00:00",
          "2002-12-01T00:00:00",
          "2003-01-01T00:00:00",
          "2003-02-01T00:00:00",
          "2003-03-01T00:00:00",
          "2003-04-01T00:00:00",
          "2003-05-01T00:00:00",
          "2003-06-01T00:00:00",
          "2003-07-01T00:00:00",
          "2003-08-01T00:00:00",
          "2003-09-01T00:00:00",
          "2003-10-01T00:00:00",
          "2003-11-01T00:00:00",
          "2003-12-01T00:00:00",
          "2004-01-01T00:00:00",
          "2004-02-01T00:00:00",
          "2004-03-01T00:00:00",
          "2004-04-01T00:00:00",
          "2004-05-01T00:00:00",
          "2004-06-01T00:00:00",
          "2004-07-01T00:00:00",
          "2004-08-01T00:00:00",
          "2004-09-01T00:00:00",
          "2004-10-01T00:00:00",
          "2004-11-01T00:00:00",
          "2004-12-01T00:00:00",
          "2005-01-01T00:00:00",
          "2005-02-01T00:00:00",
          "2005-03-01T00:00:00",
          "2005-04-01T00:00:00",
          "2005-05-01T00:00:00",
          "2005-06-01T00:00:00",
          "2005-07-01T00:00:00",
          "2005-08-01T00:00:00",
          "2005-09-01T00:00:00",
          "2005-10-01T00:00:00",
          "2005-11-01T00:00:00",
          "2005-12-01T00:00:00",
          "2006-01-01T00:00:00",
          "2006-02-01T00:00:00",
          "2006-03-01T00:00:00",
          "2006-04-01T00:00:00",
          "2006-05-01T00:00:00",
          "2006-06-01T00:00:00",
          "2006-07-01T00:00:00",
          "2006-08-01T00:00:00",
          "2006-09-01T00:00:00",
          "2006-10-01T00:00:00",
          "2006-11-01T00:00:00",
          "2006-12-01T00:00:00",
          "2007-01-01T00:00:00",
          "2007-02-01T00:00:00",
          "2007-03-01T00:00:00",
          "2007-04-01T00:00:00",
          "2007-05-01T00:00:00",
          "2007-06-01T00:00:00",
          "2007-07-01T00:00:00",
          "2007-08-01T00:00:00",
          "2007-09-01T00:00:00",
          "2007-10-01T00:00:00",
          "2007-11-01T00:00:00",
          "2007-12-01T00:00:00",
          "2008-01-01T00:00:00",
          "2008-02-01T00:00:00",
          "2008-03-01T00:00:00",
          "2008-04-01T00:00:00",
          "2008-05-01T00:00:00",
          "2008-06-01T00:00:00",
          "2008-07-01T00:00:00",
          "2008-08-01T00:00:00",
          "2008-09-01T00:00:00",
          "2008-10-01T00:00:00",
          "2008-11-01T00:00:00",
          "2008-12-01T00:00:00",
          "2009-01-01T00:00:00",
          "2009-02-01T00:00:00",
          "2009-03-01T00:00:00",
          "2009-04-01T00:00:00",
          "2009-05-01T00:00:00",
          "2009-06-01T00:00:00",
          "2009-07-01T00:00:00",
          "2009-08-01T00:00:00",
          "2009-09-01T00:00:00",
          "2009-10-01T00:00:00",
          "2009-11-01T00:00:00",
          "2009-12-01T00:00:00",
          "2010-01-01T00:00:00",
          "2010-02-01T00:00:00",
          "2010-03-01T00:00:00",
          "2010-04-01T00:00:00",
          "2010-05-01T00:00:00",
          "2010-06-01T00:00:00",
          "2010-07-01T00:00:00",
          "2010-08-01T00:00:00",
          "2010-09-01T00:00:00",
          "2010-10-01T00:00:00",
          "2010-11-01T00:00:00",
          "2010-12-01T00:00:00",
          "2011-01-01T00:00:00",
          "2011-02-01T00:00:00",
          "2011-03-01T00:00:00",
          "2011-04-01T00:00:00",
          "2011-05-01T00:00:00",
          "2011-06-01T00:00:00",
          "2011-07-01T00:00:00",
          "2011-08-01T00:00:00",
          "2011-09-01T00:00:00",
          "2011-10-01T00:00:00",
          "2011-11-01T00:00:00",
          "2011-12-01T00:00:00",
          "2012-01-01T00:00:00",
          "2012-02-01T00:00:00",
          "2012-03-01T00:00:00",
          "2012-04-01T00:00:00",
          "2012-05-01T00:00:00",
          "2012-06-01T00:00:00",
          "2012-07-01T00:00:00",
          "2012-08-01T00:00:00",
          "2012-09-01T00:00:00",
          "2012-10-01T00:00:00",
          "2012-11-01T00:00:00",
          "2012-12-01T00:00:00",
          "2013-01-01T00:00:00",
          "2013-02-01T00:00:00",
          "2013-03-01T00:00:00",
          "2013-04-01T00:00:00",
          "2013-05-01T00:00:00",
          "2013-06-01T00:00:00",
          "2013-07-01T00:00:00",
          "2013-08-01T00:00:00",
          "2013-09-01T00:00:00",
          "2013-10-01T00:00:00",
          "2013-11-01T00:00:00",
          "2013-12-01T00:00:00",
          "2014-01-01T00:00:00",
          "2014-02-01T00:00:00",
          "2014-03-01T00:00:00",
          "2014-04-01T00:00:00",
          "2014-05-01T00:00:00",
          "2014-06-01T00:00:00",
          "2014-07-01T00:00:00",
          "2014-08-01T00:00:00",
          "2014-09-01T00:00:00",
          "2014-10-01T00:00:00",
          "2014-11-01T00:00:00",
          "2014-12-01T00:00:00",
          "2015-01-01T00:00:00",
          "2015-02-01T00:00:00",
          "2015-03-01T00:00:00",
          "2015-04-01T00:00:00",
          "2015-05-01T00:00:00",
          "2015-06-01T00:00:00",
          "2015-07-01T00:00:00",
          "2015-08-01T00:00:00",
          "2015-09-01T00:00:00",
          "2015-10-01T00:00:00",
          "2015-11-01T00:00:00",
          "2015-12-01T00:00:00",
          "2016-01-01T00:00:00",
          "2016-02-01T00:00:00",
          "2016-03-01T00:00:00",
          "2016-04-01T00:00:00",
          "2016-05-01T00:00:00",
          "2016-06-01T00:00:00",
          "2016-07-01T00:00:00",
          "2016-08-01T00:00:00",
          "2016-09-01T00:00:00",
          "2016-10-01T00:00:00",
          "2016-11-01T00:00:00",
          "2016-12-01T00:00:00",
          "2017-01-01T00:00:00",
          "2017-02-01T00:00:00",
          "2017-03-01T00:00:00",
          "2017-04-01T00:00:00",
          "2017-05-01T00:00:00",
          "2017-06-01T00:00:00",
          "2017-07-01T00:00:00",
          "2017-08-01T00:00:00",
          "2017-09-01T00:00:00",
          "2017-10-01T00:00:00",
          "2017-11-01T00:00:00",
          "2017-12-01T00:00:00",
          "2018-01-01T00:00:00",
          "2018-02-01T00:00:00",
          "2018-03-01T00:00:00",
          "2018-04-01T00:00:00",
          "2018-05-01T00:00:00",
          "2018-06-01T00:00:00",
          "2018-07-01T00:00:00",
          "2018-08-01T00:00:00",
          "2018-09-01T00:00:00",
          "2018-10-01T00:00:00",
          "2018-11-01T00:00:00",
          "2018-12-01T00:00:00",
          "2019-01-01T00:00:00",
          "2019-02-01T00:00:00",
          "2019-03-01T00:00:00",
          "2019-04-01T00:00:00",
          "2019-05-01T00:00:00",
          "2019-06-01T00:00:00",
          "2019-07-01T00:00:00",
          "2019-08-01T00:00:00",
          "2019-09-01T00:00:00",
          "2019-10-01T00:00:00",
          "2019-11-01T00:00:00",
          "2019-12-01T00:00:00",
          "2020-01-01T00:00:00",
          "2020-02-01T00:00:00",
          "2020-03-01T00:00:00",
          "2020-04-01T00:00:00",
          "2020-05-01T00:00:00",
          "2020-06-01T00:00:00",
          "2020-07-01T00:00:00",
          "2020-08-01T00:00:00",
          "2020-09-01T00:00:00",
          "2020-10-01T00:00:00",
          "2020-11-01T00:00:00",
          "2020-12-01T00:00:00",
          "2021-01-01T00:00:00",
          "2021-02-01T00:00:00",
          "2021-03-01T00:00:00",
          "2021-04-01T00:00:00",
          "2021-05-01T00:00:00",
          "2021-06-01T00:00:00",
          "2021-07-01T00:00:00",
          "2021-08-01T00:00:00",
          "2021-09-01T00:00:00",
          "2021-10-01T00:00:00",
          "2021-11-01T00:00:00",
          "2021-12-01T00:00:00",
          "2022-01-01T00:00:00",
          "2022-02-01T00:00:00",
          "2022-03-01T00:00:00",
          "2022-04-01T00:00:00",
          "2022-05-01T00:00:00",
          "2022-06-01T00:00:00",
          "2022-07-01T00:00:00",
          "2022-08-01T00:00:00",
          "2022-09-01T00:00:00",
          "2022-10-01T00:00:00",
          "2022-11-01T00:00:00",
          "2022-12-01T00:00:00",
          "2023-01-01T00:00:00",
          "2023-02-01T00:00:00",
          "2023-03-01T00:00:00",
          "2023-04-01T00:00:00",
          "2023-05-01T00:00:00",
          "2023-06-01T00:00:00",
          "2023-07-01T00:00:00",
          "2023-08-01T00:00:00",
          "2023-09-01T00:00:00",
          "2023-10-01T00:00:00",
          "2023-11-01T00:00:00",
          "2023-12-01T00:00:00",
          "2024-01-01T00:00:00",
          "2024-02-01T00:00:00",
          "2024-03-01T00:00:00",
          "2024-04-01T00:00:00",
          "2024-05-01T00:00:00",
          "2024-06-01T00:00:00",
          "2024-07-01T00:00:00",
          "2024-08-01T00:00:00",
          "2024-09-01T00:00:00",
          "2024-10-01T00:00:00"
         ],
         "y": [
          0.7814105749130249,
          0.863318145275116,
          1.0228958129882812,
          0.9343979358673096,
          0.6326603889465332,
          0.7889426946640015,
          0.76540607213974,
          0.9179230332374573,
          0.3878806531429291,
          0.2946763038635254,
          0.24854522943496704,
          0.22406722605228424,
          0.32574501633644104,
          0.27490606904029846,
          0.33244794607162476,
          0.383964866399765,
          0.30051368474960327,
          0.3502230942249298,
          0.28304052352905273,
          0.2794250249862671,
          0.23363222181797028,
          0.2645118236541748,
          0.32084909081459045,
          0.32988685369491577,
          0.37236618995666504,
          0.3268745243549347,
          0.35654962062835693,
          0.3655875027179718,
          0.35097551345825195,
          0.26692286133766174,
          0.2298666387796402,
          0.22218452394008636,
          0.21841883659362793,
          0.2420675903558731,
          0.23348204791545868,
          0.2158578336238861,
          0.21630997955799103,
          0.22610099613666534,
          0.21299566328525543,
          0.21420106291770935,
          0.2703872323036194,
          0.28710711002349854,
          0.3175356686115265,
          0.3405822217464447,
          0.312112420797348,
          0.34479984641075134,
          0.31497451663017273,
          0.3219035267829895,
          0.339828759431839,
          0.3603152632713318,
          0.4073126018047333,
          0.38833287358283997,
          0.4226769506931305,
          0.49016106128692627,
          0.48714834451675415,
          0.519534707069397,
          0.5837041735649109,
          0.7893189191818237,
          1.0099965333938599,
          0.9700788855552673,
          1.158370852470398,
          1.3514829874038696,
          1.2553789615631104,
          1.0863680839538574,
          1.1978367567062378,
          1.108963131904602,
          1.284902811050415,
          1.4126402139663696,
          1.6150918006896973,
          1.7349964380264282,
          2.0431911945343018,
          2.1658079624176025,
          2.2748665809631348,
          2.0633766651153564,
          1.8895456790924072,
          2.1206166744232178,
          1.8006724119186401,
          1.7253552675247192,
          2.047410488128662,
          2.044095754623413,
          2.319153308868408,
          2.442671537399292,
          2.7614119052886963,
          2.55594801902771,
          2.582760810852051,
          2.5490190982818604,
          2.799069404602051,
          3.006643772125244,
          3.6510531902313232,
          3.676659345626831,
          3.969491958618164,
          4.171942710876465,
          4.623542308807373,
          5.722565650939941,
          5.489683628082275,
          5.967493057250977,
          4.077948570251465,
          3.7664377689361572,
          4.323178291320801,
          5.240537643432617,
          5.686411380767822,
          5.044412136077881,
          4.78863525390625,
          5.107376575469971,
          3.424199342727661,
          3.241330146789551,
          2.791840076446533,
          2.571312665939331,
          2.715317964553833,
          2.6906139850616455,
          3.1669178009033203,
          3.790841579437256,
          4.0915045738220215,
          4.2909440994262695,
          4.922399044036865,
          5.067609786987305,
          5.583981513977051,
          5.678879737854004,
          6.02262544631958,
          6.348596096038818,
          5.786131381988525,
          6.164522171020508,
          7.079771518707275,
          7.865775108337402,
          7.738942623138428,
          7.577765941619873,
          7.750089168548584,
          7.323798179626465,
          8.548449516296387,
          9.067527770996094,
          9.373916625976562,
          9.717666625976562,
          10.222586631774902,
          10.641044616699219,
          10.499451637268066,
          10.548255920410156,
          10.47896671295166,
          10.112624168395996,
          11.763869285583496,
          11.59365177154541,
          11.487909317016602,
          12.194679260253906,
          11.514415740966797,
          12.201308250427246,
          13.752226829528809,
          16.34192657470703,
          18.062454223632812,
          17.5933780670166,
          17.405086517333984,
          17.59398078918457,
          18.40017318725586,
          20.041475296020508,
          20.183805465698242,
          18.01201629638672,
          17.708251953125,
          16.174890518188477,
          13.84426498413086,
          13.416011810302734,
          13.532720565795898,
          13.536391258239746,
          13.748863220214844,
          12.202704429626465,
          13.926030158996582,
          14.99356746673584,
          14.768247604370117,
          16.19162940979004,
          17.22532844543457,
          17.480134963989258,
          15.59758186340332,
          16.39647102355957,
          16.823720932006836,
          18.495941162109375,
          19.840930938720703,
          20.503646850585938,
          21.092742919921875,
          22.615129470825195,
          22.33958625793457,
          23.9471435546875,
          26.370695114135742,
          24.58100128173828,
          26.09087371826172,
          28.60731315612793,
          27.819215774536133,
          27.980186462402344,
          29.127124786376953,
          28.159927368164062,
          27.232717514038086,
          25.31541633605957,
          24.875219345092773,
          26.950037002563477,
          26.679407119750977,
          23.840194702148438,
          22.04640769958496,
          21.899198532104492,
          24.81894874572754,
          21.34625244140625,
          22.739885330200195,
          21.90235137939453,
          23.874935150146484,
          24.30794334411621,
          26.04052734375,
          26.15339469909668,
          25.45775032043457,
          26.81555938720703,
          28.09590721130371,
          31.717002868652344,
          33.40550994873047,
          33.403160095214844,
          35.52153396606445,
          33.62744140625,
          34.72718048095703,
          38.29259490966797,
          36.12702560424805,
          39.624393463134766,
          40.2830810546875,
          39.8115348815918,
          39.3880729675293,
          41.902915954589844,
          39.63134765625,
          39.036094665527344,
          44.14060592651367,
          43.89347839355469,
          45.121761322021484,
          53.975868225097656,
          53.71543502807617,
          52.07831954956055,
          42.49357986450195,
          37.66562271118164,
          39.74302673339844,
          41.34526062011719,
          45.551334381103516,
          48.1220703125,
          41.9830207824707,
          47.6453857421875,
          51.28522491455078,
          50.250083923339844,
          54.12126159667969,
          60.111637115478516,
          64.57965087890625,
          71.17212677001953,
          75.01612854003906,
          66.25442504882812,
          61.7786979675293,
          71.37748718261719,
          77.24220275878906,
          88.86654663085938,
          103.54122924804688,
          125.73837280273438,
          113.05033874511719,
          106.26595306396484,
          116.21315002441406,
          129.75157165527344,
          129.03775024414062,
          118.57469177246094,
          119.62348175048828,
          128.74093627929688,
          122.0325927734375,
          134.35496520996094,
          143.08566284179688,
          148.94215393066406,
          139.01658630371094,
          147.17092895507812,
          162.39889526367188,
          174.70816040039062,
          171.96311950683594,
          162.4587860107422,
          172.01473999023438,
          155.3068084716797,
          146.6277618408203,
          134.88577270507812,
          160.3297882080078,
          155.11077880859375,
          136.5353240966797,
          151.49295043945312,
          146.24693298339844,
          128.57789611816406,
          142.78843688964844,
          145.8759765625,
          163.43312072753906,
          168.1706085205078,
          175.67324829101562,
          192.5104522705078,
          194.97177124023438,
          186.4563446044922,
          170.15115356445312,
          169.71388244628906,
          188.77525329589844,
          191.5913848876953,
          183.5010223388672,
          179.8688201904297,
          170.86175537109375,
          169.71591186523438,
          191.55686950683594,
          210.14527893066406,
          221.5794677734375,
          228.48387145996094,
          232.7439422607422,
          225.66172790527344
         ]
        },
        {
         "marker": {
          "color": "green",
          "size": 10,
          "symbol": "triangle-up"
         },
         "mode": "markers",
         "name": "MACD Buy Signal",
         "type": "scatter",
         "x": [
          "2000-02-01T00:00:00",
          "2000-08-01T00:00:00",
          "2001-12-01T00:00:00",
          "2006-10-01T00:00:00",
          "2008-04-01T00:00:00",
          "2009-07-01T00:00:00",
          "2014-04-01T00:00:00",
          "2016-12-01T00:00:00",
          "2019-09-01T00:00:00",
          "2023-06-01T00:00:00",
          "2024-06-01T00:00:00"
         ],
         "y": [
          0.863318145275116,
          0.9179230332374573,
          0.32988685369491577,
          2.442671537399292,
          5.240537643432617,
          4.922399044036865,
          18.495941162109375,
          26.81555938720703,
          54.12126159667969,
          192.5104522705078,
          210.14527893066406
         ]
        },
        {
         "marker": {
          "color": "red",
          "size": 10,
          "symbol": "triangle-down"
         },
         "mode": "markers",
         "name": "MACD Sell Signal",
         "type": "scatter",
         "x": [
          "2000-06-01T00:00:00",
          "2000-09-01T00:00:00",
          "2006-06-01T00:00:00",
          "2008-03-01T00:00:00",
          "2008-07-01T00:00:00",
          "2012-12-01T00:00:00",
          "2015-08-01T00:00:00",
          "2018-12-01T00:00:00",
          "2022-04-01T00:00:00",
          "2024-02-01T00:00:00"
         ],
         "y": [
          0.7889426946640015,
          0.3878806531429291,
          1.7253552675247192,
          4.323178291320801,
          4.78863525390625,
          16.174890518188477,
          25.31541633605957,
          37.66562271118164,
          155.3068084716797,
          179.8688201904297
         ]
        }
       ],
       "layout": {
        "hovermode": "x unified",
        "template": {
         "data": {
          "bar": [
           {
            "error_x": {
             "color": "#2a3f5f"
            },
            "error_y": {
             "color": "#2a3f5f"
            },
            "marker": {
             "line": {
              "color": "#E5ECF6",
              "width": 0.5
             },
             "pattern": {
              "fillmode": "overlay",
              "size": 10,
              "solidity": 0.2
             }
            },
            "type": "bar"
           }
          ],
          "barpolar": [
           {
            "marker": {
             "line": {
              "color": "#E5ECF6",
              "width": 0.5
             },
             "pattern": {
              "fillmode": "overlay",
              "size": 10,
              "solidity": 0.2
             }
            },
            "type": "barpolar"
           }
          ],
          "carpet": [
           {
            "aaxis": {
             "endlinecolor": "#2a3f5f",
             "gridcolor": "white",
             "linecolor": "white",
             "minorgridcolor": "white",
             "startlinecolor": "#2a3f5f"
            },
            "baxis": {
             "endlinecolor": "#2a3f5f",
             "gridcolor": "white",
             "linecolor": "white",
             "minorgridcolor": "white",
             "startlinecolor": "#2a3f5f"
            },
            "type": "carpet"
           }
          ],
          "choropleth": [
           {
            "colorbar": {
             "outlinewidth": 0,
             "ticks": ""
            },
            "type": "choropleth"
           }
          ],
          "contour": [
           {
            "colorbar": {
             "outlinewidth": 0,
             "ticks": ""
            },
            "colorscale": [
             [
              0,
              "#0d0887"
             ],
             [
              0.1111111111111111,
              "#46039f"
             ],
             [
              0.2222222222222222,
              "#7201a8"
             ],
             [
              0.3333333333333333,
              "#9c179e"
             ],
             [
              0.4444444444444444,
              "#bd3786"
             ],
             [
              0.5555555555555556,
              "#d8576b"
             ],
             [
              0.6666666666666666,
              "#ed7953"
             ],
             [
              0.7777777777777778,
              "#fb9f3a"
             ],
             [
              0.8888888888888888,
              "#fdca26"
             ],
             [
              1,
              "#f0f921"
             ]
            ],
            "type": "contour"
           }
          ],
          "contourcarpet": [
           {
            "colorbar": {
             "outlinewidth": 0,
             "ticks": ""
            },
            "type": "contourcarpet"
           }
          ],
          "heatmap": [
           {
            "colorbar": {
             "outlinewidth": 0,
             "ticks": ""
            },
            "colorscale": [
             [
              0,
              "#0d0887"
             ],
             [
              0.1111111111111111,
              "#46039f"
             ],
             [
              0.2222222222222222,
              "#7201a8"
             ],
             [
              0.3333333333333333,
              "#9c179e"
             ],
             [
              0.4444444444444444,
              "#bd3786"
             ],
             [
              0.5555555555555556,
              "#d8576b"
             ],
             [
              0.6666666666666666,
              "#ed7953"
             ],
             [
              0.7777777777777778,
              "#fb9f3a"
             ],
             [
              0.8888888888888888,
              "#fdca26"
             ],
             [
              1,
              "#f0f921"
             ]
            ],
            "type": "heatmap"
           }
          ],
          "heatmapgl": [
           {
            "colorbar": {
             "outlinewidth": 0,
             "ticks": ""
            },
            "colorscale": [
             [
              0,
              "#0d0887"
             ],
             [
              0.1111111111111111,
              "#46039f"
             ],
             [
              0.2222222222222222,
              "#7201a8"
             ],
             [
              0.3333333333333333,
              "#9c179e"
             ],
             [
              0.4444444444444444,
              "#bd3786"
             ],
             [
              0.5555555555555556,
              "#d8576b"
             ],
             [
              0.6666666666666666,
              "#ed7953"
             ],
             [
              0.7777777777777778,
              "#fb9f3a"
             ],
             [
              0.8888888888888888,
              "#fdca26"
             ],
             [
              1,
              "#f0f921"
             ]
            ],
            "type": "heatmapgl"
           }
          ],
          "histogram": [
           {
            "marker": {
             "pattern": {
              "fillmode": "overlay",
              "size": 10,
              "solidity": 0.2
             }
            },
            "type": "histogram"
           }
          ],
          "histogram2d": [
           {
            "colorbar": {
             "outlinewidth": 0,
             "ticks": ""
            },
            "colorscale": [
             [
              0,
              "#0d0887"
             ],
             [
              0.1111111111111111,
              "#46039f"
             ],
             [
              0.2222222222222222,
              "#7201a8"
             ],
             [
              0.3333333333333333,
              "#9c179e"
             ],
             [
              0.4444444444444444,
              "#bd3786"
             ],
             [
              0.5555555555555556,
              "#d8576b"
             ],
             [
              0.6666666666666666,
              "#ed7953"
             ],
             [
              0.7777777777777778,
              "#fb9f3a"
             ],
             [
              0.8888888888888888,
              "#fdca26"
             ],
             [
              1,
              "#f0f921"
             ]
            ],
            "type": "histogram2d"
           }
          ],
          "histogram2dcontour": [
           {
            "colorbar": {
             "outlinewidth": 0,
             "ticks": ""
            },
            "colorscale": [
             [
              0,
              "#0d0887"
             ],
             [
              0.1111111111111111,
              "#46039f"
             ],
             [
              0.2222222222222222,
              "#7201a8"
             ],
             [
              0.3333333333333333,
              "#9c179e"
             ],
             [
              0.4444444444444444,
              "#bd3786"
             ],
             [
              0.5555555555555556,
              "#d8576b"
             ],
             [
              0.6666666666666666,
              "#ed7953"
             ],
             [
              0.7777777777777778,
              "#fb9f3a"
             ],
             [
              0.8888888888888888,
              "#fdca26"
             ],
             [
              1,
              "#f0f921"
             ]
            ],
            "type": "histogram2dcontour"
           }
          ],
          "mesh3d": [
           {
            "colorbar": {
             "outlinewidth": 0,
             "ticks": ""
            },
            "type": "mesh3d"
           }
          ],
          "parcoords": [
           {
            "line": {
             "colorbar": {
              "outlinewidth": 0,
              "ticks": ""
             }
            },
            "type": "parcoords"
           }
          ],
          "pie": [
           {
            "automargin": true,
            "type": "pie"
           }
          ],
          "scatter": [
           {
            "marker": {
             "colorbar": {
              "outlinewidth": 0,
              "ticks": ""
             }
            },
            "type": "scatter"
           }
          ],
          "scatter3d": [
           {
            "line": {
             "colorbar": {
              "outlinewidth": 0,
              "ticks": ""
             }
            },
            "marker": {
             "colorbar": {
              "outlinewidth": 0,
              "ticks": ""
             }
            },
            "type": "scatter3d"
           }
          ],
          "scattercarpet": [
           {
            "marker": {
             "colorbar": {
              "outlinewidth": 0,
              "ticks": ""
             }
            },
            "type": "scattercarpet"
           }
          ],
          "scattergeo": [
           {
            "marker": {
             "colorbar": {
              "outlinewidth": 0,
              "ticks": ""
             }
            },
            "type": "scattergeo"
           }
          ],
          "scattergl": [
           {
            "marker": {
             "colorbar": {
              "outlinewidth": 0,
              "ticks": ""
             }
            },
            "type": "scattergl"
           }
          ],
          "scattermapbox": [
           {
            "marker": {
             "colorbar": {
              "outlinewidth": 0,
              "ticks": ""
             }
            },
            "type": "scattermapbox"
           }
          ],
          "scatterpolar": [
           {
            "marker": {
             "colorbar": {
              "outlinewidth": 0,
              "ticks": ""
             }
            },
            "type": "scatterpolar"
           }
          ],
          "scatterpolargl": [
           {
            "marker": {
             "colorbar": {
              "outlinewidth": 0,
              "ticks": ""
             }
            },
            "type": "scatterpolargl"
           }
          ],
          "scatterternary": [
           {
            "marker": {
             "colorbar": {
              "outlinewidth": 0,
              "ticks": ""
             }
            },
            "type": "scatterternary"
           }
          ],
          "surface": [
           {
            "colorbar": {
             "outlinewidth": 0,
             "ticks": ""
            },
            "colorscale": [
             [
              0,
              "#0d0887"
             ],
             [
              0.1111111111111111,
              "#46039f"
             ],
             [
              0.2222222222222222,
              "#7201a8"
             ],
             [
              0.3333333333333333,
              "#9c179e"
             ],
             [
              0.4444444444444444,
              "#bd3786"
             ],
             [
              0.5555555555555556,
              "#d8576b"
             ],
             [
              0.6666666666666666,
              "#ed7953"
             ],
             [
              0.7777777777777778,
              "#fb9f3a"
             ],
             [
              0.8888888888888888,
              "#fdca26"
             ],
             [
              1,
              "#f0f921"
             ]
            ],
            "type": "surface"
           }
          ],
          "table": [
           {
            "cells": {
             "fill": {
              "color": "#EBF0F8"
             },
             "line": {
              "color": "white"
             }
            },
            "header": {
             "fill": {
              "color": "#C8D4E3"
             },
             "line": {
              "color": "white"
             }
            },
            "type": "table"
           }
          ]
         },
         "layout": {
          "annotationdefaults": {
           "arrowcolor": "#2a3f5f",
           "arrowhead": 0,
           "arrowwidth": 1
          },
          "autotypenumbers": "strict",
          "coloraxis": {
           "colorbar": {
            "outlinewidth": 0,
            "ticks": ""
           }
          },
          "colorscale": {
           "diverging": [
            [
             0,
             "#8e0152"
            ],
            [
             0.1,
             "#c51b7d"
            ],
            [
             0.2,
             "#de77ae"
            ],
            [
             0.3,
             "#f1b6da"
            ],
            [
             0.4,
             "#fde0ef"
            ],
            [
             0.5,
             "#f7f7f7"
            ],
            [
             0.6,
             "#e6f5d0"
            ],
            [
             0.7,
             "#b8e186"
            ],
            [
             0.8,
             "#7fbc41"
            ],
            [
             0.9,
             "#4d9221"
            ],
            [
             1,
             "#276419"
            ]
           ],
           "sequential": [
            [
             0,
             "#0d0887"
            ],
            [
             0.1111111111111111,
             "#46039f"
            ],
            [
             0.2222222222222222,
             "#7201a8"
            ],
            [
             0.3333333333333333,
             "#9c179e"
            ],
            [
             0.4444444444444444,
             "#bd3786"
            ],
            [
             0.5555555555555556,
             "#d8576b"
            ],
            [
             0.6666666666666666,
             "#ed7953"
            ],
            [
             0.7777777777777778,
             "#fb9f3a"
            ],
            [
             0.8888888888888888,
             "#fdca26"
            ],
            [
             1,
             "#f0f921"
            ]
           ],
           "sequentialminus": [
            [
             0,
             "#0d0887"
            ],
            [
             0.1111111111111111,
             "#46039f"
            ],
            [
             0.2222222222222222,
             "#7201a8"
            ],
            [
             0.3333333333333333,
             "#9c179e"
            ],
            [
             0.4444444444444444,
             "#bd3786"
            ],
            [
             0.5555555555555556,
             "#d8576b"
            ],
            [
             0.6666666666666666,
             "#ed7953"
            ],
            [
             0.7777777777777778,
             "#fb9f3a"
            ],
            [
             0.8888888888888888,
             "#fdca26"
            ],
            [
             1,
             "#f0f921"
            ]
           ]
          },
          "colorway": [
           "#636efa",
           "#EF553B",
           "#00cc96",
           "#ab63fa",
           "#FFA15A",
           "#19d3f3",
           "#FF6692",
           "#B6E880",
           "#FF97FF",
           "#FECB52"
          ],
          "font": {
           "color": "#2a3f5f"
          },
          "geo": {
           "bgcolor": "white",
           "lakecolor": "white",
           "landcolor": "#E5ECF6",
           "showlakes": true,
           "showland": true,
           "subunitcolor": "white"
          },
          "hoverlabel": {
           "align": "left"
          },
          "hovermode": "closest",
          "mapbox": {
           "style": "light"
          },
          "paper_bgcolor": "white",
          "plot_bgcolor": "#E5ECF6",
          "polar": {
           "angularaxis": {
            "gridcolor": "white",
            "linecolor": "white",
            "ticks": ""
           },
           "bgcolor": "#E5ECF6",
           "radialaxis": {
            "gridcolor": "white",
            "linecolor": "white",
            "ticks": ""
           }
          },
          "scene": {
           "xaxis": {
            "backgroundcolor": "#E5ECF6",
            "gridcolor": "white",
            "gridwidth": 2,
            "linecolor": "white",
            "showbackground": true,
            "ticks": "",
            "zerolinecolor": "white"
           },
           "yaxis": {
            "backgroundcolor": "#E5ECF6",
            "gridcolor": "white",
            "gridwidth": 2,
            "linecolor": "white",
            "showbackground": true,
            "ticks": "",
            "zerolinecolor": "white"
           },
           "zaxis": {
            "backgroundcolor": "#E5ECF6",
            "gridcolor": "white",
            "gridwidth": 2,
            "linecolor": "white",
            "showbackground": true,
            "ticks": "",
            "zerolinecolor": "white"
           }
          },
          "shapedefaults": {
           "line": {
            "color": "#2a3f5f"
           }
          },
          "ternary": {
           "aaxis": {
            "gridcolor": "white",
            "linecolor": "white",
            "ticks": ""
           },
           "baxis": {
            "gridcolor": "white",
            "linecolor": "white",
            "ticks": ""
           },
           "bgcolor": "#E5ECF6",
           "caxis": {
            "gridcolor": "white",
            "linecolor": "white",
            "ticks": ""
           }
          },
          "title": {
           "x": 0.05
          },
          "xaxis": {
           "automargin": true,
           "gridcolor": "white",
           "linecolor": "white",
           "ticks": "",
           "title": {
            "standoff": 15
           },
           "zerolinecolor": "white",
           "zerolinewidth": 2
          },
          "yaxis": {
           "automargin": true,
           "gridcolor": "white",
           "linecolor": "white",
           "ticks": "",
           "title": {
            "standoff": 15
           },
           "zerolinecolor": "white",
           "zerolinewidth": 2
          }
         }
        },
        "title": {
         "text": "AAPL - Price with MACD Buy/Sell Signals"
        },
        "xaxis": {
         "rangeslider": {
          "visible": false
         },
         "title": {
          "text": "Date"
         }
        },
        "yaxis": {
         "title": {
          "text": "Price (USD)"
         }
        }
       }
      }
     },
     "metadata": {},
     "output_type": "display_data"
    },
    {
     "name": "stdout",
     "output_type": "stream",
     "text": [
      "Buying  at 2000-02-01 00:00:00: 0.86\n",
      "Selling at 2000-06-01 00:00:00: 0.79 | Loss: -8.62%\n",
      "Buying  at 2000-08-01 00:00:00: 0.92\n",
      "Selling at 2000-09-01 00:00:00: 0.39 | Loss: -57.74%\n",
      "Buying  at 2001-12-01 00:00:00: 0.33\n",
      "Selling at 2006-06-01 00:00:00: 1.73 | Profit: 423.01%\n",
      "Buying  at 2006-10-01 00:00:00: 2.44\n",
      "Selling at 2008-03-01 00:00:00: 4.32 | Profit: 76.99%\n",
      "Buying  at 2008-04-01 00:00:00: 5.24\n",
      "Selling at 2008-07-01 00:00:00: 4.79 | Loss: -8.62%\n",
      "Buying  at 2009-07-01 00:00:00: 4.92\n",
      "Selling at 2012-12-01 00:00:00: 16.17 | Profit: 228.60%\n",
      "Buying  at 2014-04-01 00:00:00: 18.50\n",
      "Selling at 2015-08-01 00:00:00: 25.32 | Profit: 36.87%\n",
      "Buying  at 2016-12-01 00:00:00: 26.82\n",
      "Selling at 2018-12-01 00:00:00: 37.67 | Profit: 40.46%\n",
      "Buying  at 2019-09-01 00:00:00: 54.12\n",
      "Selling at 2022-04-01 00:00:00: 155.31 | Profit: 186.96%\n",
      "Buying  at 2023-06-01 00:00:00: 192.51\n",
      "Selling at 2024-02-01 00:00:00: 179.87 | Loss: -6.57%\n",
      "Buying  at 2024-06-01 00:00:00: 210.15\n",
      "Win Rate: 60.00%\n"
     ]
    }
   ],
   "source": [
    "instrument='AAPL'\n",
    "data = get_data(instrument=instrument, start_date='2000-01-01', end_date='2024-11-01', interval='1mo')\n",
    "data = run_strategy(data=data, strategy='MACD')\n",
    "plot_buy_sell_signal(data=data, instrument=instrument, buy_signal_column='MACD Buy Signal', sell_signal_column='MACD Sell Signal', title = 'Price with MACD Buy/Sell Signals')\n",
    "win_rate = calculate_win_rate(data=data, buy_signal_column='MACD Buy Signal', sell_signal_column='MACD Sell Signal')"
   ]
  }
 ],
 "metadata": {
  "kernelspec": {
   "display_name": "Python 3",
   "language": "python",
   "name": "python3"
  },
  "language_info": {
   "codemirror_mode": {
    "name": "ipython",
    "version": 3
   },
   "file_extension": ".py",
   "mimetype": "text/x-python",
   "name": "python",
   "nbconvert_exporter": "python",
   "pygments_lexer": "ipython3",
   "version": "3.10.6"
  }
 },
 "nbformat": 4,
 "nbformat_minor": 2
}
