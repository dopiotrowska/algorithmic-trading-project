{
 "cells": [
  {
   "cell_type": "code",
   "execution_count": null,
   "metadata": {},
   "outputs": [],
   "source": [
    "pip install -r Project1/requirements.txt"
   ]
  },
  {
   "cell_type": "code",
   "execution_count": 2,
   "metadata": {},
   "outputs": [],
   "source": [
    "import yfinance as yf\n",
    "import plotly.graph_objs as go\n",
    "import pandas as pd"
   ]
  },
  {
   "cell_type": "markdown",
   "metadata": {},
   "source": [
    "# Data downloading"
   ]
  },
  {
   "cell_type": "code",
   "execution_count": 3,
   "metadata": {},
   "outputs": [],
   "source": [
    "def get_data(instrument: str,\n",
    "             start_date: str,\n",
    "             end_date: str,\n",
    "             interval: str) -> pd.DataFrame:\n",
    "    \"\"\"\n",
    "        Fetch historical market data from Yahoo Finance for a given instrument between the provided start and end dates at the given interval.\n",
    "        The function returns a cleaned DataFrame with the data, excluding any missing values.\n",
    "\n",
    "        Parameters:\n",
    "        instrument (str): The ticker symbol of the instrument e.g. 'MSFT'.\n",
    "        start_date (str): The start date for the data in 'YYYY-MM-DD' format.\n",
    "        end_date (str): The end date for the data in 'YYYY-MM-DD' format.\n",
    "        interval (str): The time interval between data points. Valid intervals are: ['1m', '2m', '5m', '15m', '30m', '60m', '90m', '1h', '1d', '5d', '1wk', '1mo', '3mo'].\n",
    "\n",
    "        Returns:\n",
    "        pd.DataFrame: A Pandas DataFrame containing the historical market data for the given instrument, with any rows containing missing values (NaN) removed.\n",
    "    \"\"\"\n",
    "    \n",
    "    data = yf.download(tickers=instrument,\n",
    "                       start=start_date,\n",
    "                       end=end_date,\n",
    "                       interval=interval)\n",
    "    \n",
    "    data = data.dropna(how='any')\n",
    "\n",
    "    return data"
   ]
  },
  {
   "cell_type": "markdown",
   "metadata": {},
   "source": [
    "# Indicators"
   ]
  },
  {
   "cell_type": "markdown",
   "metadata": {},
   "source": [
    "## MACD"
   ]
  },
  {
   "cell_type": "code",
   "execution_count": 4,
   "metadata": {},
   "outputs": [],
   "source": [
    "def macd(data: pd.DataFrame) -> pd.DataFrame:\n",
    "    \"\"\"\n",
    "        Calculate the MACD (Moving Average Convergence Divergence) and generate buy/sell signals.\n",
    "\n",
    "        Parameters:\n",
    "        data (pd.DataFrame): DataFrame containing historical market data.\n",
    "\n",
    "        Returns:\n",
    "        pd.DataFrame: DataFrame with additional columns for 'MACD Buy Signal' and 'MACD Sell Signal', where a 1 indicates a signal and 0 means no signal.\n",
    "    \"\"\"\n",
    "\n",
    "    data = data.copy()\n",
    "\n",
    "    data['EMA12'] = data['Adj Close'].ewm(span=12, adjust=False).mean()\n",
    "    data['EMA26'] = data['Adj Close'].ewm(span=26, adjust=False).mean()\n",
    "    data['MACD'] = data['EMA12'] - data['EMA26'] # MACD Line\n",
    "    data['Signal Line'] = data['MACD'].ewm(span=9, adjust=False).mean() # Signal Line\n",
    "\n",
    "    data['MACD Buy Signal'] = 0\n",
    "    data['MACD Sell Signal'] = 0\n",
    "\n",
    "    for i in range(1, len(data)):\n",
    "        # buy signal: MACD crosses above Signal Line\n",
    "        if data['MACD'].iloc[i] > data['Signal Line'].iloc[i] and data['MACD'].iloc[i-1] <= data['Signal Line'].iloc[i-1]:\n",
    "            data.loc[data.index[i], 'MACD Buy Signal'] = 1\n",
    "        # sell signal: MACD crosses below Signal Line\n",
    "        elif data['MACD'].iloc[i] < data['Signal Line'].iloc[i] and data['MACD'].iloc[i-1] >= data['Signal Line'].iloc[i-1]:\n",
    "            data.loc[data.index[i], 'MACD Sell Signal'] = 1\n",
    "\n",
    "    # drop intermediate columns\n",
    "    data = data.drop(columns=['EMA12', 'EMA26', 'MACD', 'Signal Line'])\n",
    "\n",
    "    return data"
   ]
  },
  {
   "cell_type": "code",
   "execution_count": 5,
   "metadata": {},
   "outputs": [],
   "source": [
    "strategies = {\n",
    "    'MACD': macd\n",
    "}"
   ]
  },
  {
   "cell_type": "code",
   "execution_count": 6,
   "metadata": {},
   "outputs": [],
   "source": [
    "def run_strategy(data: pd.DataFrame, strategy: str) -> pd.DataFrame:\n",
    "    \"\"\"\n",
    "        Executes the specified trading strategy on the given data.\n",
    "\n",
    "        Parameters:\n",
    "        data (pd.DataFrame): DataFrame containing historical market data on which the strategy will be applied.\n",
    "                             The DataFrame must have relevant columns for the selected strategy.\n",
    "        \n",
    "        strategy (str): The name of the strategy to be applied.\n",
    "\n",
    "        Returns:\n",
    "        pd.DataFrame: DataFrame with the strategy applied, including any newly added columns like buy/sell signals.\n",
    "    \"\"\"\n",
    "    \n",
    "    if strategy in strategies:\n",
    "        data = strategies[strategy](data=data)\n",
    "    else:\n",
    "        print(\"Invalid strategy selected!\")\n",
    "\n",
    "    return data"
   ]
  },
  {
   "cell_type": "markdown",
   "metadata": {},
   "source": [
    "# Plots"
   ]
  },
  {
   "cell_type": "markdown",
   "metadata": {},
   "source": [
    "## Buy and sell signal plot"
   ]
  },
  {
   "cell_type": "code",
   "execution_count": 7,
   "metadata": {},
   "outputs": [],
   "source": [
    "def plot_buy_sell_signal(data: pd.DataFrame,\n",
    "                         instrument: str,\n",
    "                         buy_signal_column: str,\n",
    "                         sell_signal_column: str,\n",
    "                         title: str):\n",
    "    \"\"\"\n",
    "        Plots a price chart with buy and sell signals marked on it.\n",
    "\n",
    "        Parameters:\n",
    "        data (pd.DataFrame): A DataFrame containing historical market data. The DataFrame must have\n",
    "                            at least the 'Adj Close' column and the specified buy/sell signal columns.\n",
    "        \n",
    "        instrument (str): The ticker symbol or name of the instrument being plotted.\n",
    "\n",
    "        buy_signal_column (str): The column name containing the buy signals (e.g., 'MACD Buy Signal').\n",
    "                                The function will mark buy signals where the value in this column is 1.\n",
    "\n",
    "        sell_signal_column (str): The column name containing the sell signals (e.g., 'MACD Sell Signal').\n",
    "                                The function will mark sell signals where the value in this column is 1.\n",
    "        \n",
    "        title (str): The title of the plot, which will be displayed on the chart after instrument name.\n",
    "    \"\"\"\n",
    "    fig = go.Figure()\n",
    "\n",
    "    fig.add_trace(go.Scatter(\n",
    "        x=data.index,\n",
    "        y=data['Adj Close'],\n",
    "        mode='lines',\n",
    "        name='Price',\n",
    "        line=dict(color='blue')\n",
    "    ))\n",
    "\n",
    "    # add buy signals to the price chart\n",
    "    buy_signals = data[data[buy_signal_column] == 1].index\n",
    "    fig.add_trace(go.Scatter(\n",
    "        x=buy_signals,\n",
    "        y=data.loc[buy_signals, 'Adj Close'],\n",
    "        mode='markers',\n",
    "        name=buy_signal_column,\n",
    "        marker=dict(color='green', symbol='triangle-up', size=10)\n",
    "    ))\n",
    "\n",
    "    # add sell signals to the price chart\n",
    "    sell_signals = data[data[sell_signal_column] == 1].index\n",
    "    fig.add_trace(go.Scatter(\n",
    "        x=sell_signals,\n",
    "        y=data.loc[sell_signals, 'Adj Close'],\n",
    "        mode='markers',\n",
    "        name=sell_signal_column,\n",
    "        marker=dict(color='red', symbol='triangle-down', size=10)\n",
    "    ))\n",
    "\n",
    "    fig.update_layout(\n",
    "        title=f\"{instrument} - {title}\",\n",
    "        xaxis_title=\"Date\",\n",
    "        yaxis_title=\"Price (USD)\",\n",
    "        xaxis_rangeslider_visible=False,\n",
    "        hovermode=\"x unified\",\n",
    "    )\n",
    "\n",
    "    fig.show()"
   ]
  },
  {
   "cell_type": "markdown",
   "metadata": {},
   "source": [
    "# Performance Evaluation"
   ]
  },
  {
   "cell_type": "markdown",
   "metadata": {},
   "source": [
    "## Win Rate"
   ]
  },
  {
   "cell_type": "code",
   "execution_count": 8,
   "metadata": {},
   "outputs": [],
   "source": [
    "def calculate_win_rate(data: pd.DataFrame, \n",
    "                       buy_signal_column: str, \n",
    "                       sell_signal_column: str) -> float:\n",
    "    \"\"\"\n",
    "        Calculates the win rate of a trading strategy based on buy and sell signals in the given data.\n",
    "\n",
    "        This function simulates a trading strategy where a position is opened on a buy signal\n",
    "        and closed on a sell signal assuming one signal at the time (if buy signal then wait for sell signal).\n",
    "\n",
    "        Parameters:\n",
    "        data (pd.DataFrame): A DataFrame containing market data, including the 'Adj Close' column\n",
    "                            and the buy/sell signal columns specified by `buy_signal_column` and `sell_signal_column`.\n",
    "        \n",
    "        buy_signal_column (str): The name of the column containing buy signals (e.g., 'MACD Buy Signal').\n",
    "                                A value of 1 in this column indicates a buy signal.\n",
    "        \n",
    "        sell_signal_column (str): The name of the column containing sell signals (e.g., 'MACD Sell Signal').\n",
    "                                A value of 1 in this column indicates a sell signal.\n",
    "    \"\"\"\n",
    "\n",
    "    open_position = False  # track if there is an open position\n",
    "    total_trades = 0       # total number of trades (both wins and losses)\n",
    "    wins = 0               # total number of winning trades\n",
    "\n",
    "    for i in range(1, len(data)):\n",
    "        if data[buy_signal_column].iloc[i] == 1 and not open_position: # buy\n",
    "            open_position = True # open the position\n",
    "            entry_price = data['Adj Close'].iloc[i]\n",
    "            print(f\"Buying  at {data.index[i]}: {entry_price:.2f}\")\n",
    "        elif data[sell_signal_column].iloc[i] == 1 and open_position: # sell\n",
    "            exit_price = data['Adj Close'].iloc[i]\n",
    "            profit_loss = exit_price - entry_price\n",
    "            profit_loss_percent = (profit_loss / entry_price) * 100\n",
    "            total_trades += 1  # increment total trades\n",
    "            if profit_loss > 0: \n",
    "                wins += 1 # increment total wins\n",
    "                print(f\"Selling at {data.index[i]}: {exit_price:.2f} | Profit: {profit_loss_percent:.2f}%\")\n",
    "            else:\n",
    "                print(f\"Selling at {data.index[i]}: {exit_price:.2f} | Loss: {profit_loss_percent:.2f}%\")\n",
    "            open_position = False  # close the position\n",
    "    \n",
    "    if total_trades > 0:\n",
    "        win_rate = wins / total_trades\n",
    "    else:\n",
    "        win_rate = 0\n",
    "\n",
    "    win_rate = win_rate * 100\n",
    "\n",
    "    print(f\"Win Rate: {win_rate:.2f}%\")\n"
   ]
  },
  {
   "cell_type": "markdown",
   "metadata": {},
   "source": [
    "# Results"
   ]
  },
  {
   "cell_type": "code",
   "execution_count": null,
   "metadata": {},
   "outputs": [],
   "source": [
    "instrument='AAPL'\n",
    "data = get_data(instrument=instrument, start_date='2000-01-01', end_date='2024-11-01', interval='1mo')\n",
    "data = run_strategy(data=data, strategy='MACD')\n",
    "plot_buy_sell_signal(data=data, instrument=instrument, buy_signal_column='MACD Buy Signal', sell_signal_column='MACD Sell Signal', title = 'Price with MACD Buy/Sell Signals')\n",
    "win_rate = calculate_win_rate(data=data, buy_signal_column='MACD Buy Signal', sell_signal_column='MACD Sell Signal')"
   ]
  }
 ],
 "metadata": {
  "kernelspec": {
   "display_name": "Python 3",
   "language": "python",
   "name": "python3"
  },
  "language_info": {
   "codemirror_mode": {
    "name": "ipython",
    "version": 3
   },
   "file_extension": ".py",
   "mimetype": "text/x-python",
   "name": "python",
   "nbconvert_exporter": "python",
   "pygments_lexer": "ipython3",
   "version": "3.10.6"
  }
 },
 "nbformat": 4,
 "nbformat_minor": 2
}
