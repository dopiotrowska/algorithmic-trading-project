{
 "cells": [
  {
   "cell_type": "code",
   "execution_count": 1,
   "metadata": {},
   "outputs": [
    {
     "name": "stdout",
     "output_type": "stream",
     "text": [
      "Note: you may need to restart the kernel to use updated packages.\n"
     ]
    },
    {
     "name": "stderr",
     "output_type": "stream",
     "text": [
      "ERROR: Could not open requirements file: [Errno 2] No such file or directory: 'Project1/requirements.txt'\n"
     ]
    }
   ],
   "source": [
    "pip install -r Project1/requirements.txt"
   ]
  },
  {
   "cell_type": "code",
   "execution_count": 2,
   "metadata": {},
   "outputs": [],
   "source": [
    "import yfinance as yf\n",
    "import plotly.graph_objs as go\n",
    "import pandas as pd\n",
    "\n",
    "from sklearn.decomposition import PCA\n",
    "from sklearn.preprocessing import StandardScaler"
   ]
  },
  {
   "cell_type": "markdown",
   "metadata": {},
   "source": [
    "# Data downloading"
   ]
  },
  {
   "cell_type": "code",
   "execution_count": 19,
   "metadata": {},
   "outputs": [],
   "source": [
    "def get_data(instrument: str,\n",
    "             start_date: str,\n",
    "             end_date: str,\n",
    "             interval: str) -> pd.DataFrame:\n",
    "    \"\"\"\n",
    "        Fetch historical market data from Yahoo Finance for a given instrument between the provided start and end dates at the given interval.\n",
    "        The function returns a cleaned DataFrame with the data, excluding any missing values.\n",
    "\n",
    "        Parameters:\n",
    "        instrument (str): The ticker symbol of the instrument e.g. 'MSFT'.\n",
    "        start_date (str): The start date for the data in 'YYYY-MM-DD' format.\n",
    "        end_date (str): The end date for the data in 'YYYY-MM-DD' format.\n",
    "        interval (str): The time interval between data points. Valid intervals are: ['1m', '2m', '5m', '15m', '30m', '60m', '90m', '1h', '1d', '5d', '1wk', '1mo', '3mo'].\n",
    "\n",
    "        Returns:\n",
    "        pd.DataFrame: A Pandas DataFrame containing the historical market data for the given instrument, with any rows containing missing values (NaN) removed.\n",
    "    \"\"\"\n",
    "    \n",
    "    data = yf.download(tickers=instrument,\n",
    "                       start=start_date,\n",
    "                       end=end_date,\n",
    "                       interval=interval)\n",
    "    \n",
    "    data = data.dropna(how='any')\n",
    "\n",
    "    return data"
   ]
  },
  {
   "cell_type": "code",
   "execution_count": 20,
   "metadata": {},
   "outputs": [],
   "source": [
    "def add_vix(df: pd.DataFrame, start_date: str, end_date: str, interval: str) -> pd.DataFrame:\n",
    "    \"\"\"\n",
    "        Add the VIX adjusted close prices as a new column to an existing DataFrame.\n",
    "        \n",
    "        Parameters:\n",
    "        df (pd.DataFrame): The existing DataFrame containing market data with a DateTime index.\n",
    "        start_date (str): The start date for fetching VIX data in 'YYYY-MM-DD' format.\n",
    "        end_date (str): The end date for fetching VIX data in 'YYYY-MM-DD' format.\n",
    "        interval (str): The time interval between data points for VIX.\n",
    "            Valid intervals are: ['1m', '2m', '5m', '15m', '30m', '60m', '90m', '1h', '1d', '5d', '1wk', '1mo', '3mo'].\n",
    "\n",
    "        Returns:\n",
    "        pd.DataFrame: The original DataFrame with an additional 'VIX' column containing adjusted close prices.\n",
    "    \"\"\"\n",
    "\n",
    "    vix_data = yf.download(tickers='^VIX', start=start_date, end=end_date, interval=interval)\n",
    "    vix_data = vix_data[['Adj Close']].rename(columns={'Adj Close': 'VIX'})\n",
    "    df = df.merge(vix_data, how='left', left_index=True, right_index=True)\n",
    "    \n",
    "    return df\n"
   ]
  },
  {
   "cell_type": "markdown",
   "metadata": {},
   "source": [
    "# Indicators"
   ]
  },
  {
   "cell_type": "markdown",
   "metadata": {},
   "source": [
    "## MACD"
   ]
  },
  {
   "cell_type": "code",
   "execution_count": 5,
   "metadata": {},
   "outputs": [],
   "source": [
    "def macd(data: pd.DataFrame) -> pd.DataFrame:\n",
    "    \"\"\"\n",
    "        Calculate the MACD (Moving Average Convergence Divergence) and generate buy/sell signals.\n",
    "\n",
    "        Parameters:\n",
    "        data (pd.DataFrame): DataFrame containing historical market data.\n",
    "\n",
    "        Returns:\n",
    "        pd.DataFrame: DataFrame with additional columns for 'MACD Buy Signal' and 'MACD Sell Signal', where a 1 indicates a signal and 0 means no signal.\n",
    "    \"\"\"\n",
    "\n",
    "    data = data.copy()\n",
    "\n",
    "    data['EMA12'] = data['Adj Close'].ewm(span=12, adjust=False).mean()\n",
    "    data['EMA26'] = data['Adj Close'].ewm(span=26, adjust=False).mean()\n",
    "    data['MACD'] = data['EMA12'] - data['EMA26'] # MACD Line\n",
    "    data['Signal Line'] = data['MACD'].ewm(span=9, adjust=False).mean() # Signal Line\n",
    "\n",
    "    data['MACD Buy Signal'] = 0\n",
    "    data['MACD Sell Signal'] = 0\n",
    "\n",
    "    for i in range(1, len(data)):\n",
    "        # buy signal: MACD crosses above Signal Line\n",
    "        if data['MACD'].iloc[i] > data['Signal Line'].iloc[i] and data['MACD'].iloc[i-1] <= data['Signal Line'].iloc[i-1]:\n",
    "            data.loc[data.index[i], 'MACD Buy Signal'] = 1\n",
    "        # sell signal: MACD crosses below Signal Line\n",
    "        elif data['MACD'].iloc[i] < data['Signal Line'].iloc[i] and data['MACD'].iloc[i-1] >= data['Signal Line'].iloc[i-1]:\n",
    "            data.loc[data.index[i], 'MACD Sell Signal'] = 1\n",
    "\n",
    "    # drop intermediate columns\n",
    "    data = data.drop(columns=['EMA12', 'EMA26'])\n",
    "\n",
    "    return data"
   ]
  },
  {
   "cell_type": "markdown",
   "metadata": {},
   "source": [
    "## RSI\n"
   ]
  },
  {
   "cell_type": "code",
   "execution_count": 6,
   "metadata": {},
   "outputs": [],
   "source": [
    "def rsi(data: pd.DataFrame, period: int = 14) -> pd.DataFrame:\n",
    "    \"\"\"\n",
    "    Calculate the Relative Strength Index (RSI)\n",
    "\n",
    "    Parameters:\n",
    "    data (pd.DataFrame): DataFrame containing historical market data.\n",
    "    period (int): The period over which to calculate RSI, typically 14 days.\n",
    "\n",
    "    Returns:\n",
    "    pd.DataFrame: DataFrame with an additional 'RSI' column.\n",
    "    \"\"\"\n",
    "    delta = data['Adj Close'].diff()\n",
    "    gain = (delta.where(delta > 0, 0)).rolling(window=period).mean()\n",
    "    loss = (-delta.where(delta < 0, 0)).rolling(window=period).mean()\n",
    "    \n",
    "    rs = gain / loss\n",
    "    data['RSI'] = 100 - (100 / (1 + rs))\n",
    "    \n",
    "    return data"
   ]
  },
  {
   "cell_type": "markdown",
   "metadata": {},
   "source": [
    "## ATR"
   ]
  },
  {
   "cell_type": "code",
   "execution_count": 7,
   "metadata": {},
   "outputs": [],
   "source": [
    "def atr(data: pd.DataFrame, period: int = 14) -> pd.DataFrame:\n",
    "    \"\"\"\n",
    "    Calculate the Average True Range (ATR)\n",
    "\n",
    "    Parameters:\n",
    "    data (pd.DataFrame): DataFrame containing historical market data.\n",
    "    period (int): The period over which to calculate ATR, typically 14 days.\n",
    "\n",
    "    Returns:\n",
    "    pd.DataFrame: DataFrame with an additional 'ATR' column.\n",
    "    \"\"\"\n",
    "    high_low = data['High'] - data['Low']\n",
    "    high_close = abs(data['High'] - data['Adj Close'].shift())\n",
    "    low_close = abs(data['Low'] - data['Adj Close'].shift())\n",
    "    \n",
    "    true_range = pd.concat([high_low, high_close, low_close], axis=1).max(axis=1)\n",
    "    data['ATR'] = true_range.rolling(window=period).mean()\n",
    "    \n",
    "    return data"
   ]
  },
  {
   "cell_type": "markdown",
   "metadata": {},
   "source": [
    "## PCA calculation"
   ]
  },
  {
   "cell_type": "code",
   "execution_count": 8,
   "metadata": {},
   "outputs": [],
   "source": [
    "def apply_pca_trend_following(data: pd.DataFrame, indicators: list = ['MACD', 'RSI', 'ATR'],\n",
    "                           n_components: int = 2, buy_threshold: float = 0.5, sell_threshold: float = -0.5) -> pd.DataFrame:\n",
    "    \"\"\"\n",
    "    Apply PCA to reduce specified indicators to principal components and generate buy/sell signals.\n",
    "\n",
    "    Parameters:\n",
    "    data (pd.DataFrame): DataFrame containing calculated indicators.\n",
    "    indicators (list): List of column names to include in PCA (default is ['MACD', 'RSI', 'ATR']).\n",
    "    n_components (int): Number of principal components to keep (default is 2).\n",
    "    buy_threshold (float): Threshold above which to generate a buy signal for PC1.\n",
    "    sell_threshold (float): Threshold below which to generate a sell signal for PC1.\n",
    "\n",
    "    Returns:\n",
    "    pd.DataFrame: DataFrame with additional columns for 'PC1', 'PC2' (if n_components=2), 'PCA Buy Signal', and 'PCA Sell Signal'.\n",
    "    \"\"\"\n",
    "    # Ensure that required indicators are in the DataFrame\n",
    "    for indicator in indicators:\n",
    "        if indicator not in data.columns:\n",
    "            raise ValueError(f\"Missing indicator {indicator} in data. Please calculate {indicator} first.\")\n",
    "    \n",
    "    # Standardize the data for the selected indicators\n",
    "    scaler = StandardScaler()\n",
    "    data_scaled = scaler.fit_transform(data[indicators])\n",
    "\n",
    "    # Apply PCA\n",
    "    pca = PCA(n_components=n_components)\n",
    "    principal_components = pca.fit_transform(data_scaled)\n",
    "\n",
    "    # Add the principal components to the DataFrame\n",
    "    for i in range(n_components):\n",
    "        data[f'PC{i+1}'] = principal_components[:, i]\n",
    "    \n",
    "    # Generate buy/sell signals based on the first principal component (PC1)\n",
    "    data['PCA Buy Signal'] = 0\n",
    "    data['PCA Sell Signal'] = 0\n",
    "\n",
    "    for i in range(1, len(data)):\n",
    "        # Buy Signal\n",
    "        if data['PC1'].iloc[i] > buy_threshold:\n",
    "            data.loc[data.index[i], 'PCA Buy Signal'] = 1\n",
    "        # Sell Signal\n",
    "        elif data['PC1'].iloc[i] < sell_threshold:\n",
    "            data.loc[data.index[i], 'PCA Sell Signal'] = 1\n",
    "\n",
    "    return data"
   ]
  },
  {
   "cell_type": "markdown",
   "metadata": {},
   "source": [
    "## Trend-following strategy"
   ]
  },
  {
   "cell_type": "code",
   "execution_count": 9,
   "metadata": {},
   "outputs": [],
   "source": [
    "def trend_following_strategy(data: pd.DataFrame) -> pd.DataFrame:\n",
    "    \"\"\"\n",
    "    Calculate buy/sell signals based on MACD, RSI, and ATR indicators for trend-following strategy.\n",
    "\n",
    "    Parameters:\n",
    "    data (pd.DataFrame): DataFrame containing historical market data with MACD, RSI, and ATR.\n",
    "\n",
    "    Returns:\n",
    "    pd.DataFrame: DataFrame with additional columns for 'Trend Buy Signal' and 'Trend Sell Signal'.\n",
    "    \"\"\"\n",
    "    data = data.copy()\n",
    "    \n",
    "    data['Trend Buy Signal'] = 0\n",
    "    data['Trend Sell Signal'] = 0\n",
    "\n",
    "    for i in range(1, len(data)):\n",
    "        # Buy signal: MACD bullish, RSI > 50, and ATR is high\n",
    "        if (data['MACD'].iloc[i] > data['Signal Line'].iloc[i] and \n",
    "            data['RSI'].iloc[i] > 50 and \n",
    "            data['ATR'].iloc[i] > data['ATR'].mean()):\n",
    "            data.loc[data.index[i], 'Trend Buy Signal'] = 1\n",
    "        \n",
    "        # Sell signal: MACD bearish, RSI < 50, and ATR is high\n",
    "        elif (data['MACD'].iloc[i] < data['Signal Line'].iloc[i] and \n",
    "              data['RSI'].iloc[i] < 50 and \n",
    "              data['ATR'].iloc[i] > data['ATR'].mean()):\n",
    "            data.loc[data.index[i], 'Trend Sell Signal'] = 1\n",
    "\n",
    "    return data"
   ]
  },
  {
   "cell_type": "markdown",
   "metadata": {},
   "source": [
    "## Trend-reversal strategy"
   ]
  },
  {
   "cell_type": "code",
   "execution_count": null,
   "metadata": {},
   "outputs": [],
   "source": [
    "# def trend_reversal_strategy(data: pd.DataFrame) -> pd.DataFrame:\n",
    "#     \"\"\"\n",
    "#     Calculate buy/sell signals based on MACD, RSI, and VIX indicators for a trend reversal strategy.\n",
    "\n",
    "#     Parameters:\n",
    "#     data (pd.DataFrame): DataFrame containing historical market data with columns for 'MACD', 'Signal Line', 'RSI', and 'VIX'.\n",
    "\n",
    "#     Returns:\n",
    "#     pd.DataFrame: DataFrame with additional columns for 'Trend Buy Signal' and 'Trend Sell Signal'.\n",
    "#     \"\"\"\n",
    "#     data = data.copy()\n",
    "    \n",
    "#     data['Trend Buy Signal'] = 0\n",
    "#     data['Trend Sell Signal'] = 0\n",
    "\n",
    "#     for i in range(1, len(data)):\n",
    "#         # Buy signal: RSI < 40, MACD bullish, VIX is high\n",
    "#         if (data['RSI'].iloc[i] < 40 and \n",
    "#             data['MACD'].iloc[i] > data['Signal Line'].iloc[i] and \n",
    "#             data['VIX'].iloc[i] > data['VIX'].mean()):\n",
    "#             data.loc[data.index[i], 'Trend Buy Signal'] = 1\n",
    "\n",
    "#         # Sell signal: RSI > 60, MACD bearish, VIX is low\n",
    "#         elif (data['RSI'].iloc[i] > 60 and \n",
    "#               data['MACD'].iloc[i] < data['Signal Line'].iloc[i] and \n",
    "#               data['VIX'].iloc[i] < data['VIX'].mean()):\n",
    "#             data.loc[data.index[i], 'Trend Sell Signal'] = 1\n",
    "\n",
    "#     return data"
   ]
  },
  {
   "cell_type": "code",
   "execution_count": null,
   "metadata": {},
   "outputs": [],
   "source": [
    "def trend_reversal_strategy(data: pd.DataFrame, vix_window: int = 20) -> pd.DataFrame:\n",
    "    \"\"\"\n",
    "    Calculate buy/sell signals based on MACD, RSI, and VIX indicators for a trend reversal strategy.\n",
    "\n",
    "    Parameters:\n",
    "    data (pd.DataFrame): DataFrame containing historical market data with columns for 'MACD', 'Signal Line', 'RSI', and 'VIX'.\n",
    "    vix_window (int): Rolling window size for calculating VIX mean (default is 20).\n",
    "\n",
    "    Returns:\n",
    "    pd.DataFrame: DataFrame with additional columns for 'Trend Buy Signal' and 'Trend Sell Signal'.\n",
    "    \"\"\"\n",
    "    data = data.copy()\n",
    "\n",
    "    # Calculate rolling VIX mean\n",
    "    data['VIX Rolling Mean'] = data['VIX'].rolling(window=vix_window).mean()\n",
    "\n",
    "    # Initialize signal columns\n",
    "    data['Trend Buy Signal'] = 0\n",
    "    data['Trend Sell Signal'] = 0\n",
    "\n",
    "    for i in range(2, len(data)): \n",
    "        # Check for bullish divergence (buy signal)\n",
    "        macd_divergence = (data['MACD'].iloc[i] > data['MACD'].iloc[i-1]) and (\n",
    "            data['Adj Close'].iloc[i] < data['Adj Close'].iloc[i-1])\n",
    "        if (data['RSI'].iloc[i] < 30 and\n",
    "            macd_divergence and\n",
    "            data['VIX'].iloc[i] > data['VIX Rolling Mean'].iloc[i]):\n",
    "            data.loc[data.index[i], 'Trend Buy Signal'] = 1\n",
    "\n",
    "        # Check for bearish divergence (sell signal)\n",
    "        macd_divergence = (data['MACD'].iloc[i] < data['MACD'].iloc[i-1]) and (\n",
    "            data['Adj Close'].iloc[i] > data['Adj Close'].iloc[i-1])\n",
    "        if (data['RSI'].iloc[i] > 70 and\n",
    "            macd_divergence and\n",
    "            data['VIX'].iloc[i] < data['VIX Rolling Mean'].iloc[i]):\n",
    "            data.loc[data.index[i], 'Trend Sell Signal'] = 1\n",
    "\n",
    "    return data\n"
   ]
  },
  {
   "cell_type": "code",
   "execution_count": 35,
   "metadata": {},
   "outputs": [],
   "source": [
    "def mean_reversion_strategy(data: pd.DataFrame) -> pd.DataFrame:\n",
    "    \"\"\"\n",
    "    Calculate buy/sell signals based on RSI, Bollinger Bands, and VIX indicators for a mean-reversion strategy.\n",
    "\n",
    "    Parameters:\n",
    "    data (pd.DataFrame): DataFrame containing historical market data with columns for RSI, Bollinger Bands, and VIX.\n",
    "\n",
    "    Returns:\n",
    "    pd.DataFrame: DataFrame with additional columns for 'Reversion Buy Signal' and 'Reversion Sell Signal'.\n",
    "    \"\"\"\n",
    "    data = data.copy()\n",
    "    \n",
    "    data['Reversion Buy Signal'] = 0\n",
    "    data['Reversion Sell Signal'] = 0\n",
    "    \n",
    "    # Calculate Bollinger Bands\n",
    "    data['Middle Band'] = data['Adj Close'].rolling(window=20).mean()\n",
    "    data['Upper Band'] = data['Middle Band'] + 2 * data['Adj Close'].rolling(window=20).std()\n",
    "    data['Lower Band'] = data['Middle Band'] - 2 * data['Adj Close'].rolling(window=20).std()\n",
    "\n",
    "    for i in range(1, len(data)):\n",
    "        # Buy signal: RSI < 30, price below lower band, VIX > 30\n",
    "        if (data['RSI'].iloc[i] < 30 and \n",
    "            data['Adj Close'].iloc[i] < data['Lower Band'].iloc[i] and \n",
    "            data['VIX'].iloc[i] > 30):\n",
    "            data.loc[data.index[i], 'Reversion Buy Signal'] = 1\n",
    "\n",
    "        # Sell signal: RSI > 70, price above upper band, VIX < 15\n",
    "        elif (data['RSI'].iloc[i] > 70 and \n",
    "              data['Adj Close'].iloc[i] > data['Upper Band'].iloc[i] and \n",
    "              data['VIX'].iloc[i] < 15):\n",
    "            data.loc[data.index[i], 'Reversion Sell Signal'] = 1\n",
    "\n",
    "    return data\n"
   ]
  },
  {
   "cell_type": "code",
   "execution_count": 36,
   "metadata": {},
   "outputs": [],
   "source": [
    "strategies = {\n",
    "    'MACD': macd,\n",
    "    'PCA-trend-following' : apply_pca_trend_following,\n",
    "    'Trend-Following': trend_following_strategy,\n",
    "    'Trend-Reversal': trend_reversal_strategy,\n",
    "    'Mean-Reversal': mean_reversion_strategy\n",
    "}"
   ]
  },
  {
   "cell_type": "code",
   "execution_count": 12,
   "metadata": {},
   "outputs": [],
   "source": [
    "def run_strategy(data: pd.DataFrame, strategy: str) -> pd.DataFrame:\n",
    "    \"\"\"\n",
    "        Executes the specified trading strategy on the given data.\n",
    "\n",
    "        Parameters:\n",
    "        data (pd.DataFrame): DataFrame containing historical market data on which the strategy will be applied.\n",
    "                             The DataFrame must have relevant columns for the selected strategy.\n",
    "        \n",
    "        strategy (str): The name of the strategy to be applied.\n",
    "\n",
    "        Returns:\n",
    "        pd.DataFrame: DataFrame with the strategy applied, including any newly added columns like buy/sell signals.\n",
    "    \"\"\"\n",
    "    \n",
    "    if strategy in strategies:\n",
    "        data = strategies[strategy](data=data)\n",
    "    else:\n",
    "        print(\"Invalid strategy selected!\")\n",
    "\n",
    "    return data"
   ]
  },
  {
   "cell_type": "markdown",
   "metadata": {},
   "source": [
    "# Plots"
   ]
  },
  {
   "cell_type": "markdown",
   "metadata": {},
   "source": [
    "## Buy and sell signal plot"
   ]
  },
  {
   "cell_type": "code",
   "execution_count": 13,
   "metadata": {},
   "outputs": [],
   "source": [
    "def plot_buy_sell_signal(data: pd.DataFrame,\n",
    "                         instrument: str,\n",
    "                         buy_signal_column: str,\n",
    "                         sell_signal_column: str,\n",
    "                         title: str):\n",
    "    \"\"\"\n",
    "        Plots a price chart with buy and sell signals marked on it.\n",
    "\n",
    "        Parameters:\n",
    "        data (pd.DataFrame): A DataFrame containing historical market data. The DataFrame must have\n",
    "                            at least the 'Adj Close' column and the specified buy/sell signal columns.\n",
    "        \n",
    "        instrument (str): The ticker symbol or name of the instrument being plotted.\n",
    "\n",
    "        buy_signal_column (str): The column name containing the buy signals (e.g., 'MACD Buy Signal').\n",
    "                                The function will mark buy signals where the value in this column is 1.\n",
    "\n",
    "        sell_signal_column (str): The column name containing the sell signals (e.g., 'MACD Sell Signal').\n",
    "                                The function will mark sell signals where the value in this column is 1.\n",
    "        \n",
    "        title (str): The title of the plot, which will be displayed on the chart after instrument name.\n",
    "    \"\"\"\n",
    "    fig = go.Figure()\n",
    "\n",
    "    fig.add_trace(go.Scatter(\n",
    "        x=data.index,\n",
    "        y=data['Adj Close'],\n",
    "        mode='lines',\n",
    "        name='Price',\n",
    "        line=dict(color='blue')\n",
    "    ))\n",
    "\n",
    "    # add buy signals to the price chart\n",
    "    buy_signals = data[data[buy_signal_column] == 1].index\n",
    "    fig.add_trace(go.Scatter(\n",
    "        x=buy_signals,\n",
    "        y=data.loc[buy_signals, 'Adj Close'],\n",
    "        mode='markers',\n",
    "        name=buy_signal_column,\n",
    "        marker=dict(color='green', symbol='triangle-up', size=10)\n",
    "    ))\n",
    "\n",
    "    # add sell signals to the price chart\n",
    "    sell_signals = data[data[sell_signal_column] == 1].index\n",
    "    fig.add_trace(go.Scatter(\n",
    "        x=sell_signals,\n",
    "        y=data.loc[sell_signals, 'Adj Close'],\n",
    "        mode='markers',\n",
    "        name=sell_signal_column,\n",
    "        marker=dict(color='red', symbol='triangle-down', size=10)\n",
    "    ))\n",
    "\n",
    "    fig.update_layout(\n",
    "        title=f\"{instrument} - {title}\",\n",
    "        xaxis_title=\"Date\",\n",
    "        yaxis_title=\"Price (USD)\",\n",
    "        xaxis_rangeslider_visible=False,\n",
    "        hovermode=\"x unified\",\n",
    "    )\n",
    "\n",
    "    fig.show()"
   ]
  },
  {
   "cell_type": "markdown",
   "metadata": {},
   "source": [
    "# Performance Evaluation"
   ]
  },
  {
   "cell_type": "markdown",
   "metadata": {},
   "source": [
    "## Simulate Trading"
   ]
  },
  {
   "cell_type": "code",
   "execution_count": 14,
   "metadata": {},
   "outputs": [],
   "source": [
    "def simulate_trading(data: pd.DataFrame, buy_signal_column: str, sell_signal_column: str) -> pd.DataFrame:\n",
    "    \"\"\"\n",
    "    Simulates trading based on buy and sell signals and returns a DataFrame with trade details.\n",
    "\n",
    "    Parameters:\n",
    "    - data (pd.DataFrame): A DataFrame containing market data, including the 'Adj Close' column\n",
    "                           and the buy/sell signal columns specified by `buy_signal_column` and `sell_signal_column`.\n",
    "    - buy_signal_column (str): The name of the column containing buy signals.\n",
    "    - sell_signal_column (str): The name of the column containing sell signals.\n",
    "\n",
    "    Returns:\n",
    "    - trades (pd.DataFrame): A DataFrame containing details of all trades:\n",
    "                                ['Entry Date', 'Entry Price', 'Exit Date', 'Exit Price', 'Profit/Loss', 'Profit/Loss (%)']\n",
    "    \"\"\"\n",
    "    open_position = False # track if there is an open position\n",
    "    trades = []\n",
    "\n",
    "    for i in range(1, len(data)):\n",
    "        if data[buy_signal_column].iloc[i] == 1 and not open_position:  # buy \n",
    "            open_position = True # open the position\n",
    "            entry_price = data['Adj Close'].iloc[i]\n",
    "            entry_date = data.index[i]\n",
    "            print(f\"Buying at {entry_date}: {entry_price:.2f}\") \n",
    "        elif data[sell_signal_column].iloc[i] == 1 and open_position:  # sell\n",
    "            exit_price = data['Adj Close'].iloc[i]\n",
    "            exit_date = data.index[i]\n",
    "            profit_loss = exit_price - entry_price\n",
    "            profit_loss_percent = (profit_loss / entry_price) * 100\n",
    "            trades.append({\n",
    "                'Entry Date': entry_date,\n",
    "                'Entry Price': entry_price,\n",
    "                'Exit Date': exit_date,\n",
    "                'Exit Price': exit_price,\n",
    "                'Profit/Loss': profit_loss,\n",
    "                'Profit/Loss (%)': profit_loss_percent\n",
    "            })\n",
    "            print(f\"Selling at {exit_date}: {exit_price:.2f} | Profit/Loss: {profit_loss:.2f} ({profit_loss_percent:.2f}%)\")\n",
    "            open_position = False # close the position\n",
    "\n",
    "    trades = pd.DataFrame(trades)\n",
    "    return trades\n"
   ]
  },
  {
   "cell_type": "markdown",
   "metadata": {},
   "source": [
    "## Win Rate"
   ]
  },
  {
   "cell_type": "code",
   "execution_count": 15,
   "metadata": {},
   "outputs": [],
   "source": [
    "def calculate_win_rate(trades: pd.DataFrame) -> float:\n",
    "    \"\"\"\n",
    "    Calculates the win rate from the trades DataFrame.\n",
    "\n",
    "    Parameters:\n",
    "    - trades (pd.DataFrame): A DataFrame containing trade details from simulate_trading.\n",
    "    \"\"\"\n",
    "    total_trades = len(trades)\n",
    "    winning_trades = trades['Profit/Loss'][trades['Profit/Loss'] > 0]\n",
    "    wins = winning_trades.count()\n",
    "\n",
    "    win_rate = (wins / total_trades) * 100 if total_trades > 0 else 0\n",
    "    print(f\"Win Rate: {win_rate:.2f}%\")"
   ]
  },
  {
   "cell_type": "markdown",
   "metadata": {},
   "source": [
    "## Avg Gain/Loss Ratio"
   ]
  },
  {
   "cell_type": "code",
   "execution_count": 16,
   "metadata": {},
   "outputs": [],
   "source": [
    "def calculate_avg_gain_loss_ratio(trades: pd.DataFrame) -> float:\n",
    "    \"\"\"\n",
    "    Calculates the Average Gain/Loss Ratio from the trades DataFrame.\n",
    "\n",
    "    Parameters:\n",
    "    - trades (pd.DataFrame): A DataFrame containing 'Profit/Loss' for all trades.\n",
    "    \"\"\"\n",
    "    winning_trades = trades['Profit/Loss'][trades['Profit/Loss'] > 0]\n",
    "    losing_trades = trades['Profit/Loss'][trades['Profit/Loss'] < 0]\n",
    "\n",
    "    avg_gain = winning_trades.mean() if not winning_trades.empty else 0\n",
    "    avg_loss = abs(losing_trades.mean()) if not losing_trades.empty else 0\n",
    "\n",
    "    avg_gain_loss_ratio = avg_gain / avg_loss if avg_loss > 0 else float('inf')\n",
    "\n",
    "    print(f\"Average Gain/Loss Ratio: {avg_gain_loss_ratio:.2f}\")"
   ]
  },
  {
   "cell_type": "markdown",
   "metadata": {},
   "source": [
    "# Results"
   ]
  },
  {
   "cell_type": "code",
   "execution_count": 47,
   "metadata": {},
   "outputs": [
    {
     "name": "stderr",
     "output_type": "stream",
     "text": [
      "[*********************100%%**********************]  1 of 1 completed\n",
      "[*********************100%%**********************]  1 of 1 completed\n"
     ]
    },
    {
     "data": {
      "application/vnd.plotly.v1+json": {
       "config": {
        "plotlyServerURL": "https://plot.ly"
       },
       "data": [
        {
         "line": {
          "color": "blue"
         },
         "mode": "lines",
         "name": "Price",
         "type": "scatter",
         "x": [
          "2001-02-01T00:00:00",
          "2001-03-01T00:00:00",
          "2001-04-01T00:00:00",
          "2001-05-01T00:00:00",
          "2001-06-01T00:00:00",
          "2001-07-01T00:00:00",
          "2001-08-01T00:00:00",
          "2001-09-01T00:00:00",
          "2001-10-01T00:00:00",
          "2001-11-01T00:00:00",
          "2001-12-01T00:00:00",
          "2002-01-01T00:00:00",
          "2002-02-01T00:00:00",
          "2002-03-01T00:00:00",
          "2002-04-01T00:00:00",
          "2002-05-01T00:00:00",
          "2002-06-01T00:00:00",
          "2002-07-01T00:00:00",
          "2002-08-01T00:00:00",
          "2002-09-01T00:00:00",
          "2002-10-01T00:00:00",
          "2002-11-01T00:00:00",
          "2002-12-01T00:00:00",
          "2003-01-01T00:00:00",
          "2003-02-01T00:00:00",
          "2003-03-01T00:00:00",
          "2003-04-01T00:00:00",
          "2003-05-01T00:00:00",
          "2003-06-01T00:00:00",
          "2003-07-01T00:00:00",
          "2003-08-01T00:00:00",
          "2003-09-01T00:00:00",
          "2003-10-01T00:00:00",
          "2003-11-01T00:00:00",
          "2003-12-01T00:00:00",
          "2004-01-01T00:00:00",
          "2004-02-01T00:00:00",
          "2004-03-01T00:00:00",
          "2004-04-01T00:00:00",
          "2004-05-01T00:00:00",
          "2004-06-01T00:00:00",
          "2004-07-01T00:00:00",
          "2004-08-01T00:00:00",
          "2004-09-01T00:00:00",
          "2004-10-01T00:00:00",
          "2004-11-01T00:00:00",
          "2004-12-01T00:00:00",
          "2005-01-01T00:00:00",
          "2005-02-01T00:00:00",
          "2005-03-01T00:00:00",
          "2005-04-01T00:00:00",
          "2005-05-01T00:00:00",
          "2005-06-01T00:00:00",
          "2005-07-01T00:00:00",
          "2005-08-01T00:00:00",
          "2005-09-01T00:00:00",
          "2005-10-01T00:00:00",
          "2005-11-01T00:00:00",
          "2005-12-01T00:00:00",
          "2006-01-01T00:00:00",
          "2006-02-01T00:00:00",
          "2006-03-01T00:00:00",
          "2006-04-01T00:00:00",
          "2006-05-01T00:00:00",
          "2006-06-01T00:00:00",
          "2006-07-01T00:00:00",
          "2006-08-01T00:00:00",
          "2006-09-01T00:00:00",
          "2006-10-01T00:00:00",
          "2006-11-01T00:00:00",
          "2006-12-01T00:00:00",
          "2007-01-01T00:00:00",
          "2007-02-01T00:00:00",
          "2007-03-01T00:00:00",
          "2007-04-01T00:00:00",
          "2007-05-01T00:00:00",
          "2007-06-01T00:00:00",
          "2007-07-01T00:00:00",
          "2007-08-01T00:00:00",
          "2007-09-01T00:00:00",
          "2007-10-01T00:00:00",
          "2007-11-01T00:00:00",
          "2007-12-01T00:00:00",
          "2008-01-01T00:00:00",
          "2008-02-01T00:00:00",
          "2008-03-01T00:00:00",
          "2008-04-01T00:00:00",
          "2008-05-01T00:00:00",
          "2008-06-01T00:00:00",
          "2008-07-01T00:00:00",
          "2008-08-01T00:00:00",
          "2008-09-01T00:00:00",
          "2008-10-01T00:00:00",
          "2008-11-01T00:00:00",
          "2008-12-01T00:00:00",
          "2009-01-01T00:00:00",
          "2009-02-01T00:00:00",
          "2009-03-01T00:00:00",
          "2009-04-01T00:00:00",
          "2009-05-01T00:00:00",
          "2009-06-01T00:00:00",
          "2009-07-01T00:00:00",
          "2009-08-01T00:00:00",
          "2009-09-01T00:00:00",
          "2009-10-01T00:00:00",
          "2009-11-01T00:00:00",
          "2009-12-01T00:00:00",
          "2010-01-01T00:00:00",
          "2010-02-01T00:00:00",
          "2010-03-01T00:00:00",
          "2010-04-01T00:00:00",
          "2010-05-01T00:00:00",
          "2010-06-01T00:00:00",
          "2010-07-01T00:00:00",
          "2010-08-01T00:00:00",
          "2010-09-01T00:00:00",
          "2010-10-01T00:00:00",
          "2010-11-01T00:00:00",
          "2010-12-01T00:00:00",
          "2011-01-01T00:00:00",
          "2011-02-01T00:00:00",
          "2011-03-01T00:00:00",
          "2011-04-01T00:00:00",
          "2011-05-01T00:00:00",
          "2011-06-01T00:00:00",
          "2011-07-01T00:00:00",
          "2011-08-01T00:00:00",
          "2011-09-01T00:00:00",
          "2011-10-01T00:00:00",
          "2011-11-01T00:00:00",
          "2011-12-01T00:00:00",
          "2012-01-01T00:00:00",
          "2012-02-01T00:00:00",
          "2012-03-01T00:00:00",
          "2012-04-01T00:00:00",
          "2012-05-01T00:00:00",
          "2012-06-01T00:00:00",
          "2012-07-01T00:00:00",
          "2012-08-01T00:00:00",
          "2012-09-01T00:00:00",
          "2012-10-01T00:00:00",
          "2012-11-01T00:00:00",
          "2012-12-01T00:00:00",
          "2013-01-01T00:00:00",
          "2013-02-01T00:00:00",
          "2013-03-01T00:00:00",
          "2013-04-01T00:00:00",
          "2013-05-01T00:00:00",
          "2013-06-01T00:00:00",
          "2013-07-01T00:00:00",
          "2013-08-01T00:00:00",
          "2013-09-01T00:00:00",
          "2013-10-01T00:00:00",
          "2013-11-01T00:00:00",
          "2013-12-01T00:00:00",
          "2014-01-01T00:00:00",
          "2014-02-01T00:00:00",
          "2014-03-01T00:00:00",
          "2014-04-01T00:00:00",
          "2014-05-01T00:00:00",
          "2014-06-01T00:00:00",
          "2014-07-01T00:00:00",
          "2014-08-01T00:00:00",
          "2014-09-01T00:00:00",
          "2014-10-01T00:00:00",
          "2014-11-01T00:00:00",
          "2014-12-01T00:00:00",
          "2015-01-01T00:00:00",
          "2015-02-01T00:00:00",
          "2015-03-01T00:00:00",
          "2015-04-01T00:00:00",
          "2015-05-01T00:00:00",
          "2015-06-01T00:00:00",
          "2015-07-01T00:00:00",
          "2015-08-01T00:00:00",
          "2015-09-01T00:00:00",
          "2015-10-01T00:00:00",
          "2015-11-01T00:00:00",
          "2015-12-01T00:00:00",
          "2016-01-01T00:00:00",
          "2016-02-01T00:00:00",
          "2016-03-01T00:00:00",
          "2016-04-01T00:00:00",
          "2016-05-01T00:00:00",
          "2016-06-01T00:00:00",
          "2016-07-01T00:00:00",
          "2016-08-01T00:00:00",
          "2016-09-01T00:00:00",
          "2016-10-01T00:00:00",
          "2016-11-01T00:00:00",
          "2016-12-01T00:00:00",
          "2017-01-01T00:00:00",
          "2017-02-01T00:00:00",
          "2017-03-01T00:00:00",
          "2017-04-01T00:00:00",
          "2017-05-01T00:00:00",
          "2017-06-01T00:00:00",
          "2017-07-01T00:00:00",
          "2017-08-01T00:00:00",
          "2017-09-01T00:00:00",
          "2017-10-01T00:00:00",
          "2017-11-01T00:00:00",
          "2017-12-01T00:00:00",
          "2018-01-01T00:00:00",
          "2018-02-01T00:00:00",
          "2018-03-01T00:00:00",
          "2018-04-01T00:00:00",
          "2018-05-01T00:00:00",
          "2018-06-01T00:00:00",
          "2018-07-01T00:00:00",
          "2018-08-01T00:00:00",
          "2018-09-01T00:00:00",
          "2018-10-01T00:00:00",
          "2018-11-01T00:00:00",
          "2018-12-01T00:00:00",
          "2019-01-01T00:00:00",
          "2019-02-01T00:00:00",
          "2019-03-01T00:00:00",
          "2019-04-01T00:00:00",
          "2019-05-01T00:00:00",
          "2019-06-01T00:00:00",
          "2019-07-01T00:00:00",
          "2019-08-01T00:00:00",
          "2019-09-01T00:00:00",
          "2019-10-01T00:00:00",
          "2019-11-01T00:00:00",
          "2019-12-01T00:00:00",
          "2020-01-01T00:00:00",
          "2020-02-01T00:00:00",
          "2020-03-01T00:00:00",
          "2020-04-01T00:00:00",
          "2020-05-01T00:00:00",
          "2020-06-01T00:00:00",
          "2020-07-01T00:00:00",
          "2020-08-01T00:00:00",
          "2020-09-01T00:00:00",
          "2020-10-01T00:00:00",
          "2020-11-01T00:00:00",
          "2020-12-01T00:00:00",
          "2021-01-01T00:00:00",
          "2021-02-01T00:00:00",
          "2021-03-01T00:00:00",
          "2021-04-01T00:00:00",
          "2021-05-01T00:00:00",
          "2021-06-01T00:00:00",
          "2021-07-01T00:00:00",
          "2021-08-01T00:00:00",
          "2021-09-01T00:00:00",
          "2021-10-01T00:00:00",
          "2021-11-01T00:00:00",
          "2021-12-01T00:00:00",
          "2022-01-01T00:00:00",
          "2022-02-01T00:00:00",
          "2022-03-01T00:00:00",
          "2022-04-01T00:00:00",
          "2022-05-01T00:00:00",
          "2022-06-01T00:00:00",
          "2022-07-01T00:00:00",
          "2022-08-01T00:00:00",
          "2022-09-01T00:00:00",
          "2022-10-01T00:00:00",
          "2022-11-01T00:00:00",
          "2022-12-01T00:00:00",
          "2023-01-01T00:00:00",
          "2023-02-01T00:00:00",
          "2023-03-01T00:00:00",
          "2023-04-01T00:00:00",
          "2023-05-01T00:00:00"
         ],
         "y": [
          80.09757995605469,
          75.40613555908203,
          82.0692138671875,
          81.60916900634766,
          79.43849182128906,
          78.85220336914062,
          74.17371368408203,
          67.8642578125,
          69.00589752197266,
          74.38681030273438,
          74.54987335205078,
          74.07331848144531,
          72.74471282958984,
          74.95030212402344,
          70.793701171875,
          70.37362670898438,
          64.95220947265625,
          60.042110443115234,
          60.45048141479492,
          53.870601654052734,
          58.56462860107422,
          62.17692565917969,
          58.372779846191406,
          57.216896057128906,
          56.44566345214844,
          56.339298248291016,
          61.3526496887207,
          64.7170181274414,
          65.1708984375,
          66.58541870117188,
          67.95883178710938,
          66.96061706542969,
          70.81560516357422,
          71.58898162841797,
          74.83724212646484,
          76.67738342285156,
          77.71792602539062,
          76.42058563232422,
          75.23746490478516,
          76.52574920654297,
          77.65813446044922,
          75.43043518066406,
          75.61416625976562,
          76.0564956665039,
          77.3571548461914,
          80.56217193603516,
          82.84336853027344,
          81.36853790283203,
          83.06944274902344,
          81.23078918457031,
          80.0219955444336,
          82.60066986083984,
          82.39330291748047,
          85.89102935791016,
          85.08587646484375,
          85.4051284790039,
          83.74017333984375,
          87.42076873779297,
          86.79341888427734,
          89.34883117675781,
          89.8603744506836,
          90.98162841796875,
          92.49725341796875,
          89.71117401123047,
          89.54930877685547,
          90.34794616699219,
          92.31954956054688,
          94.39712524414062,
          97.80050659179688,
          99.74529266357422,
          100.51895141601562,
          102.5992660522461,
          100.58656311035156,
          101.35025787353516,
          106.25943756103516,
          109.86370849609375,
          107.79288482666016,
          104.86790466308594,
          106.21366119384766,
          109.80467987060547,
          111.82234954833984,
          107.49120330810547,
          105.71969604492188,
          99.85493469238281,
          97.27442169189453,
          95.92963409423828,
          100.99942016601562,
          102.52617645263672,
          93.48989868164062,
          93.11320495605469,
          94.55215454101562,
          85.15494537353516,
          71.49995422363281,
          66.5230941772461,
          66.63386535644531,
          61.65875244140625,
          55.03358459472656,
          59.19478988647461,
          65.54133605957031,
          69.37245178222656,
          68.93759155273438,
          74.49919128417969,
          77.25118255615234,
          79.61111450195312,
          78.45246124267578,
          83.28568267822266,
          84.4219741821289,
          81.79188537597656,
          84.3433609008789,
          89.11117553710938,
          90.8624038696289,
          83.6429672241211,
          78.93960571289062,
          84.73246002197266,
          80.921142578125,
          87.69852447509766,
          91.53620147705078,
          91.53620147705078,
          97.14474487304688,
          99.93104553222656,
          103.40235137939453,
          102.96745300292969,
          106.40984344482422,
          105.21649169921875,
          102.93121337890625,
          101.37224578857422,
          95.79920196533203,
          88.68989562988281,
          98.87907409667969,
          98.477294921875,
          98.87907409667969,
          104.12071228027344,
          108.64015197753906,
          111.64517211914062,
          111.38590240478516,
          104.6965103149414,
          108.38362884521484,
          110.23397827148438,
          112.9956283569336,
          115.24497985839844,
          113.75172424316406,
          114.39549255371094,
          114.60476684570312,
          121.32581329345703,
          122.87383270263672,
          126.97473907470703,
          129.98985290527344,
          133.0587921142578,
          130.59219360351562,
          138.0675506591797,
          133.92654418945312,
          137.4946746826172,
          144.5628204345703,
          148.8473358154297,
          151.88186645507812,
          147.32374572753906,
          154.02938842773438,
          154.62466430664062,
          156.38673400878906,
          160.01588439941406,
          162.54052734375,
          161.12478637695312,
          167.4833221435547,
          164.40420532226562,
          169.06263732910156,
          173.7071533203125,
          172.31546020507812,
          168.13270568847656,
          177.58258056640625,
          174.01673889160156,
          176.5124053955078,
          178.78170776367188,
          174.30242919921875,
          179.1068115234375,
          168.19015502929688,
          163.05099487304688,
          177.83981323242188,
          178.48988342285156,
          174.3673858642578,
          166.67225646972656,
          166.5346221923828,
          176.82469177246094,
          178.43722534179688,
          181.47271728515625,
          181.16136169433594,
          188.7449951171875,
          188.9710693359375,
          188.0322265625,
          185.70567321777344,
          192.54676818847656,
          195.29891967773438,
          199.9654083251953,
          207.82235717773438,
          207.18080139160156,
          210.14759826660156,
          213.11341857910156,
          213.43118286132812,
          218.88026428222656,
          219.51895141601562,
          222.83621215820312,
          229.2190704345703,
          236.2253875732422,
          237.87442016601562,
          252.56515502929688,
          243.3818359375,
          235.7664031982422,
          237.93402099609375,
          243.71791076660156,
          244.0237579345703,
          254.2003173828125,
          262.31439208984375,
          262.68487548828125,
          245.63917541503906,
          250.1956024169922,
          226.841552734375,
          246.43455505371094,
          254.42295837402344,
          257.8922119140625,
          269.6099548339844,
          252.41676330566406,
          268.6747131347656,
          274.0633850097656,
          269.47467041015625,
          273.4552307128906,
          280.7906494140625,
          290.9547424316406,
          297.9437561035156,
          299.2876892089844,
          275.59429931640625,
          239.77061462402344,
          271.8064880371094,
          284.7567443847656,
          288.53704833984375,
          306.8741455078125,
          328.29296875,
          314.7405700683594,
          308.1214599609375,
          341.6379089355469,
          352.7911682128906,
          350.6846923828125,
          360.4355773925781,
          375.5690002441406,
          396.7356872558594,
          399.3406677246094,
          406.9654541015625,
          418.2644348144531,
          430.7119445800781,
          409.3270263671875,
          439.45025634765625,
          435.9193115234375,
          454.48291015625,
          432.02545166015625,
          419.2732849121094,
          433.68670654296875,
          396.8514099121094,
          397.74725341796875,
          363.3791198730469,
          398.5560302734375,
          382.294189453125,
          345.5332336425781,
          375.1513977050781,
          396.0066223144531,
          371.4796447753906,
          396.6541748046875,
          386.68121337890625,
          399.4937744140625,
          407.4247131347656,
          409.3055114746094
         ]
        },
        {
         "marker": {
          "color": "green",
          "size": 10,
          "symbol": "triangle-up"
         },
         "mode": "markers",
         "name": "Trend Buy Signal",
         "type": "scatter",
         "x": [
          "2003-04-01T00:00:00",
          "2009-08-01T00:00:00",
          "2009-09-01T00:00:00",
          "2009-10-01T00:00:00"
         ],
         "y": [
          61.3526496887207,
          77.25118255615234,
          79.61111450195312,
          78.45246124267578
         ]
        },
        {
         "marker": {
          "color": "red",
          "size": 10,
          "symbol": "triangle-down"
         },
         "mode": "markers",
         "name": "Trend Sell Signal",
         "type": "scatter",
         "x": [
          "2012-01-01T00:00:00",
          "2015-03-01T00:00:00",
          "2015-04-01T00:00:00",
          "2015-05-01T00:00:00",
          "2015-06-01T00:00:00",
          "2015-07-01T00:00:00",
          "2018-11-01T00:00:00",
          "2019-04-01T00:00:00",
          "2019-06-01T00:00:00"
         ],
         "y": [
          104.12071228027344,
          174.01673889160156,
          176.5124053955078,
          178.78170776367188,
          174.30242919921875,
          179.1068115234375,
          250.1956024169922,
          269.6099548339844,
          268.6747131347656
         ]
        }
       ],
       "layout": {
        "hovermode": "x unified",
        "template": {
         "data": {
          "bar": [
           {
            "error_x": {
             "color": "#2a3f5f"
            },
            "error_y": {
             "color": "#2a3f5f"
            },
            "marker": {
             "line": {
              "color": "#E5ECF6",
              "width": 0.5
             },
             "pattern": {
              "fillmode": "overlay",
              "size": 10,
              "solidity": 0.2
             }
            },
            "type": "bar"
           }
          ],
          "barpolar": [
           {
            "marker": {
             "line": {
              "color": "#E5ECF6",
              "width": 0.5
             },
             "pattern": {
              "fillmode": "overlay",
              "size": 10,
              "solidity": 0.2
             }
            },
            "type": "barpolar"
           }
          ],
          "carpet": [
           {
            "aaxis": {
             "endlinecolor": "#2a3f5f",
             "gridcolor": "white",
             "linecolor": "white",
             "minorgridcolor": "white",
             "startlinecolor": "#2a3f5f"
            },
            "baxis": {
             "endlinecolor": "#2a3f5f",
             "gridcolor": "white",
             "linecolor": "white",
             "minorgridcolor": "white",
             "startlinecolor": "#2a3f5f"
            },
            "type": "carpet"
           }
          ],
          "choropleth": [
           {
            "colorbar": {
             "outlinewidth": 0,
             "ticks": ""
            },
            "type": "choropleth"
           }
          ],
          "contour": [
           {
            "colorbar": {
             "outlinewidth": 0,
             "ticks": ""
            },
            "colorscale": [
             [
              0,
              "#0d0887"
             ],
             [
              0.1111111111111111,
              "#46039f"
             ],
             [
              0.2222222222222222,
              "#7201a8"
             ],
             [
              0.3333333333333333,
              "#9c179e"
             ],
             [
              0.4444444444444444,
              "#bd3786"
             ],
             [
              0.5555555555555556,
              "#d8576b"
             ],
             [
              0.6666666666666666,
              "#ed7953"
             ],
             [
              0.7777777777777778,
              "#fb9f3a"
             ],
             [
              0.8888888888888888,
              "#fdca26"
             ],
             [
              1,
              "#f0f921"
             ]
            ],
            "type": "contour"
           }
          ],
          "contourcarpet": [
           {
            "colorbar": {
             "outlinewidth": 0,
             "ticks": ""
            },
            "type": "contourcarpet"
           }
          ],
          "heatmap": [
           {
            "colorbar": {
             "outlinewidth": 0,
             "ticks": ""
            },
            "colorscale": [
             [
              0,
              "#0d0887"
             ],
             [
              0.1111111111111111,
              "#46039f"
             ],
             [
              0.2222222222222222,
              "#7201a8"
             ],
             [
              0.3333333333333333,
              "#9c179e"
             ],
             [
              0.4444444444444444,
              "#bd3786"
             ],
             [
              0.5555555555555556,
              "#d8576b"
             ],
             [
              0.6666666666666666,
              "#ed7953"
             ],
             [
              0.7777777777777778,
              "#fb9f3a"
             ],
             [
              0.8888888888888888,
              "#fdca26"
             ],
             [
              1,
              "#f0f921"
             ]
            ],
            "type": "heatmap"
           }
          ],
          "heatmapgl": [
           {
            "colorbar": {
             "outlinewidth": 0,
             "ticks": ""
            },
            "colorscale": [
             [
              0,
              "#0d0887"
             ],
             [
              0.1111111111111111,
              "#46039f"
             ],
             [
              0.2222222222222222,
              "#7201a8"
             ],
             [
              0.3333333333333333,
              "#9c179e"
             ],
             [
              0.4444444444444444,
              "#bd3786"
             ],
             [
              0.5555555555555556,
              "#d8576b"
             ],
             [
              0.6666666666666666,
              "#ed7953"
             ],
             [
              0.7777777777777778,
              "#fb9f3a"
             ],
             [
              0.8888888888888888,
              "#fdca26"
             ],
             [
              1,
              "#f0f921"
             ]
            ],
            "type": "heatmapgl"
           }
          ],
          "histogram": [
           {
            "marker": {
             "pattern": {
              "fillmode": "overlay",
              "size": 10,
              "solidity": 0.2
             }
            },
            "type": "histogram"
           }
          ],
          "histogram2d": [
           {
            "colorbar": {
             "outlinewidth": 0,
             "ticks": ""
            },
            "colorscale": [
             [
              0,
              "#0d0887"
             ],
             [
              0.1111111111111111,
              "#46039f"
             ],
             [
              0.2222222222222222,
              "#7201a8"
             ],
             [
              0.3333333333333333,
              "#9c179e"
             ],
             [
              0.4444444444444444,
              "#bd3786"
             ],
             [
              0.5555555555555556,
              "#d8576b"
             ],
             [
              0.6666666666666666,
              "#ed7953"
             ],
             [
              0.7777777777777778,
              "#fb9f3a"
             ],
             [
              0.8888888888888888,
              "#fdca26"
             ],
             [
              1,
              "#f0f921"
             ]
            ],
            "type": "histogram2d"
           }
          ],
          "histogram2dcontour": [
           {
            "colorbar": {
             "outlinewidth": 0,
             "ticks": ""
            },
            "colorscale": [
             [
              0,
              "#0d0887"
             ],
             [
              0.1111111111111111,
              "#46039f"
             ],
             [
              0.2222222222222222,
              "#7201a8"
             ],
             [
              0.3333333333333333,
              "#9c179e"
             ],
             [
              0.4444444444444444,
              "#bd3786"
             ],
             [
              0.5555555555555556,
              "#d8576b"
             ],
             [
              0.6666666666666666,
              "#ed7953"
             ],
             [
              0.7777777777777778,
              "#fb9f3a"
             ],
             [
              0.8888888888888888,
              "#fdca26"
             ],
             [
              1,
              "#f0f921"
             ]
            ],
            "type": "histogram2dcontour"
           }
          ],
          "mesh3d": [
           {
            "colorbar": {
             "outlinewidth": 0,
             "ticks": ""
            },
            "type": "mesh3d"
           }
          ],
          "parcoords": [
           {
            "line": {
             "colorbar": {
              "outlinewidth": 0,
              "ticks": ""
             }
            },
            "type": "parcoords"
           }
          ],
          "pie": [
           {
            "automargin": true,
            "type": "pie"
           }
          ],
          "scatter": [
           {
            "fillpattern": {
             "fillmode": "overlay",
             "size": 10,
             "solidity": 0.2
            },
            "type": "scatter"
           }
          ],
          "scatter3d": [
           {
            "line": {
             "colorbar": {
              "outlinewidth": 0,
              "ticks": ""
             }
            },
            "marker": {
             "colorbar": {
              "outlinewidth": 0,
              "ticks": ""
             }
            },
            "type": "scatter3d"
           }
          ],
          "scattercarpet": [
           {
            "marker": {
             "colorbar": {
              "outlinewidth": 0,
              "ticks": ""
             }
            },
            "type": "scattercarpet"
           }
          ],
          "scattergeo": [
           {
            "marker": {
             "colorbar": {
              "outlinewidth": 0,
              "ticks": ""
             }
            },
            "type": "scattergeo"
           }
          ],
          "scattergl": [
           {
            "marker": {
             "colorbar": {
              "outlinewidth": 0,
              "ticks": ""
             }
            },
            "type": "scattergl"
           }
          ],
          "scattermapbox": [
           {
            "marker": {
             "colorbar": {
              "outlinewidth": 0,
              "ticks": ""
             }
            },
            "type": "scattermapbox"
           }
          ],
          "scatterpolar": [
           {
            "marker": {
             "colorbar": {
              "outlinewidth": 0,
              "ticks": ""
             }
            },
            "type": "scatterpolar"
           }
          ],
          "scatterpolargl": [
           {
            "marker": {
             "colorbar": {
              "outlinewidth": 0,
              "ticks": ""
             }
            },
            "type": "scatterpolargl"
           }
          ],
          "scatterternary": [
           {
            "marker": {
             "colorbar": {
              "outlinewidth": 0,
              "ticks": ""
             }
            },
            "type": "scatterternary"
           }
          ],
          "surface": [
           {
            "colorbar": {
             "outlinewidth": 0,
             "ticks": ""
            },
            "colorscale": [
             [
              0,
              "#0d0887"
             ],
             [
              0.1111111111111111,
              "#46039f"
             ],
             [
              0.2222222222222222,
              "#7201a8"
             ],
             [
              0.3333333333333333,
              "#9c179e"
             ],
             [
              0.4444444444444444,
              "#bd3786"
             ],
             [
              0.5555555555555556,
              "#d8576b"
             ],
             [
              0.6666666666666666,
              "#ed7953"
             ],
             [
              0.7777777777777778,
              "#fb9f3a"
             ],
             [
              0.8888888888888888,
              "#fdca26"
             ],
             [
              1,
              "#f0f921"
             ]
            ],
            "type": "surface"
           }
          ],
          "table": [
           {
            "cells": {
             "fill": {
              "color": "#EBF0F8"
             },
             "line": {
              "color": "white"
             }
            },
            "header": {
             "fill": {
              "color": "#C8D4E3"
             },
             "line": {
              "color": "white"
             }
            },
            "type": "table"
           }
          ]
         },
         "layout": {
          "annotationdefaults": {
           "arrowcolor": "#2a3f5f",
           "arrowhead": 0,
           "arrowwidth": 1
          },
          "autotypenumbers": "strict",
          "coloraxis": {
           "colorbar": {
            "outlinewidth": 0,
            "ticks": ""
           }
          },
          "colorscale": {
           "diverging": [
            [
             0,
             "#8e0152"
            ],
            [
             0.1,
             "#c51b7d"
            ],
            [
             0.2,
             "#de77ae"
            ],
            [
             0.3,
             "#f1b6da"
            ],
            [
             0.4,
             "#fde0ef"
            ],
            [
             0.5,
             "#f7f7f7"
            ],
            [
             0.6,
             "#e6f5d0"
            ],
            [
             0.7,
             "#b8e186"
            ],
            [
             0.8,
             "#7fbc41"
            ],
            [
             0.9,
             "#4d9221"
            ],
            [
             1,
             "#276419"
            ]
           ],
           "sequential": [
            [
             0,
             "#0d0887"
            ],
            [
             0.1111111111111111,
             "#46039f"
            ],
            [
             0.2222222222222222,
             "#7201a8"
            ],
            [
             0.3333333333333333,
             "#9c179e"
            ],
            [
             0.4444444444444444,
             "#bd3786"
            ],
            [
             0.5555555555555556,
             "#d8576b"
            ],
            [
             0.6666666666666666,
             "#ed7953"
            ],
            [
             0.7777777777777778,
             "#fb9f3a"
            ],
            [
             0.8888888888888888,
             "#fdca26"
            ],
            [
             1,
             "#f0f921"
            ]
           ],
           "sequentialminus": [
            [
             0,
             "#0d0887"
            ],
            [
             0.1111111111111111,
             "#46039f"
            ],
            [
             0.2222222222222222,
             "#7201a8"
            ],
            [
             0.3333333333333333,
             "#9c179e"
            ],
            [
             0.4444444444444444,
             "#bd3786"
            ],
            [
             0.5555555555555556,
             "#d8576b"
            ],
            [
             0.6666666666666666,
             "#ed7953"
            ],
            [
             0.7777777777777778,
             "#fb9f3a"
            ],
            [
             0.8888888888888888,
             "#fdca26"
            ],
            [
             1,
             "#f0f921"
            ]
           ]
          },
          "colorway": [
           "#636efa",
           "#EF553B",
           "#00cc96",
           "#ab63fa",
           "#FFA15A",
           "#19d3f3",
           "#FF6692",
           "#B6E880",
           "#FF97FF",
           "#FECB52"
          ],
          "font": {
           "color": "#2a3f5f"
          },
          "geo": {
           "bgcolor": "white",
           "lakecolor": "white",
           "landcolor": "#E5ECF6",
           "showlakes": true,
           "showland": true,
           "subunitcolor": "white"
          },
          "hoverlabel": {
           "align": "left"
          },
          "hovermode": "closest",
          "mapbox": {
           "style": "light"
          },
          "paper_bgcolor": "white",
          "plot_bgcolor": "#E5ECF6",
          "polar": {
           "angularaxis": {
            "gridcolor": "white",
            "linecolor": "white",
            "ticks": ""
           },
           "bgcolor": "#E5ECF6",
           "radialaxis": {
            "gridcolor": "white",
            "linecolor": "white",
            "ticks": ""
           }
          },
          "scene": {
           "xaxis": {
            "backgroundcolor": "#E5ECF6",
            "gridcolor": "white",
            "gridwidth": 2,
            "linecolor": "white",
            "showbackground": true,
            "ticks": "",
            "zerolinecolor": "white"
           },
           "yaxis": {
            "backgroundcolor": "#E5ECF6",
            "gridcolor": "white",
            "gridwidth": 2,
            "linecolor": "white",
            "showbackground": true,
            "ticks": "",
            "zerolinecolor": "white"
           },
           "zaxis": {
            "backgroundcolor": "#E5ECF6",
            "gridcolor": "white",
            "gridwidth": 2,
            "linecolor": "white",
            "showbackground": true,
            "ticks": "",
            "zerolinecolor": "white"
           }
          },
          "shapedefaults": {
           "line": {
            "color": "#2a3f5f"
           }
          },
          "ternary": {
           "aaxis": {
            "gridcolor": "white",
            "linecolor": "white",
            "ticks": ""
           },
           "baxis": {
            "gridcolor": "white",
            "linecolor": "white",
            "ticks": ""
           },
           "bgcolor": "#E5ECF6",
           "caxis": {
            "gridcolor": "white",
            "linecolor": "white",
            "ticks": ""
           }
          },
          "title": {
           "x": 0.05
          },
          "xaxis": {
           "automargin": true,
           "gridcolor": "white",
           "linecolor": "white",
           "ticks": "",
           "title": {
            "standoff": 15
           },
           "zerolinecolor": "white",
           "zerolinewidth": 2
          },
          "yaxis": {
           "automargin": true,
           "gridcolor": "white",
           "linecolor": "white",
           "ticks": "",
           "title": {
            "standoff": 15
           },
           "zerolinecolor": "white",
           "zerolinewidth": 2
          }
         }
        },
        "title": {
         "text": "SPY - Price with Buy/Sell Signals"
        },
        "xaxis": {
         "rangeslider": {
          "visible": false
         },
         "title": {
          "text": "Date"
         }
        },
        "yaxis": {
         "title": {
          "text": "Price (USD)"
         }
        }
       }
      }
     },
     "metadata": {},
     "output_type": "display_data"
    },
    {
     "name": "stdout",
     "output_type": "stream",
     "text": [
      "Buying at 2003-04-01 00:00:00: 61.35\n",
      "Selling at 2012-01-01 00:00:00: 104.12 | Profit/Loss: 42.77 (69.71%)\n",
      "Win Rate: 100.00%\n",
      "Average Gain/Loss Ratio: inf\n"
     ]
    }
   ],
   "source": [
    "#Load data\n",
    "instrument='SPY'   # HPQ, AMZN, INTC, DXY, SPY, \n",
    "start_date='2000-01-01'\n",
    "end_date='2024-01-01'\n",
    "interval='1mo'\n",
    "\n",
    "data = get_data(instrument=instrument, start_date=start_date, end_date=end_date, interval=interval)\n",
    "data = add_vix(df = data, start_date=start_date, end_date=end_date, interval=interval)\n",
    "\n",
    "#Calculate strategy\n",
    "data = macd(data)\n",
    "data = rsi(data)\n",
    "data = atr(data)\n",
    "data = data.dropna()\n",
    "\n",
    "data = run_strategy(data=data, strategy='Trend-Reversal')\n",
    "\n",
    "#plot\n",
    "plot_buy_sell_signal(data=data, instrument=instrument, buy_signal_column='Trend Buy Signal', sell_signal_column='Trend Sell Signal', title = 'Price with Buy/Sell Signals')\n",
    "\n",
    "trades = simulate_trading(data=data, buy_signal_column='Trend Buy Signal', sell_signal_column='Trend Sell Signal')\n",
    "calculate_win_rate(trades=trades)\n",
    "calculate_avg_gain_loss_ratio(trades=trades)\n"
   ]
  },
  {
   "cell_type": "code",
   "execution_count": 21,
   "metadata": {},
   "outputs": [
    {
     "name": "stderr",
     "output_type": "stream",
     "text": [
      "[*********************100%%**********************]  1 of 1 completed\n",
      "[*********************100%%**********************]  1 of 1 completed\n"
     ]
    },
    {
     "data": {
      "application/vnd.plotly.v1+json": {
       "config": {
        "plotlyServerURL": "https://plot.ly"
       },
       "data": [
        {
         "line": {
          "color": "blue"
         },
         "mode": "lines",
         "name": "Price",
         "type": "scatter",
         "x": [
          "2001-02-01T00:00:00",
          "2001-03-01T00:00:00",
          "2001-04-01T00:00:00",
          "2001-05-01T00:00:00",
          "2001-06-01T00:00:00",
          "2001-07-01T00:00:00",
          "2001-08-01T00:00:00",
          "2001-09-01T00:00:00",
          "2001-10-01T00:00:00",
          "2001-11-01T00:00:00",
          "2001-12-01T00:00:00",
          "2002-01-01T00:00:00",
          "2002-02-01T00:00:00",
          "2002-03-01T00:00:00",
          "2002-04-01T00:00:00",
          "2002-05-01T00:00:00",
          "2002-06-01T00:00:00",
          "2002-07-01T00:00:00",
          "2002-08-01T00:00:00",
          "2002-09-01T00:00:00",
          "2002-10-01T00:00:00",
          "2002-11-01T00:00:00",
          "2002-12-01T00:00:00",
          "2003-01-01T00:00:00",
          "2003-02-01T00:00:00",
          "2003-03-01T00:00:00",
          "2003-04-01T00:00:00",
          "2003-05-01T00:00:00",
          "2003-06-01T00:00:00",
          "2003-07-01T00:00:00",
          "2003-08-01T00:00:00",
          "2003-09-01T00:00:00",
          "2003-10-01T00:00:00",
          "2003-11-01T00:00:00",
          "2003-12-01T00:00:00",
          "2004-01-01T00:00:00",
          "2004-02-01T00:00:00",
          "2004-03-01T00:00:00",
          "2004-04-01T00:00:00",
          "2004-05-01T00:00:00",
          "2004-06-01T00:00:00",
          "2004-07-01T00:00:00",
          "2004-08-01T00:00:00",
          "2004-09-01T00:00:00",
          "2004-10-01T00:00:00",
          "2004-11-01T00:00:00",
          "2004-12-01T00:00:00",
          "2005-01-01T00:00:00",
          "2005-02-01T00:00:00",
          "2005-03-01T00:00:00",
          "2005-04-01T00:00:00",
          "2005-05-01T00:00:00",
          "2005-06-01T00:00:00",
          "2005-07-01T00:00:00",
          "2005-08-01T00:00:00",
          "2005-09-01T00:00:00",
          "2005-10-01T00:00:00",
          "2005-11-01T00:00:00",
          "2005-12-01T00:00:00",
          "2006-01-01T00:00:00",
          "2006-02-01T00:00:00",
          "2006-03-01T00:00:00",
          "2006-04-01T00:00:00",
          "2006-05-01T00:00:00",
          "2006-06-01T00:00:00",
          "2006-07-01T00:00:00",
          "2006-08-01T00:00:00",
          "2006-09-01T00:00:00",
          "2006-10-01T00:00:00",
          "2006-11-01T00:00:00",
          "2006-12-01T00:00:00",
          "2007-01-01T00:00:00",
          "2007-02-01T00:00:00",
          "2007-03-01T00:00:00",
          "2007-04-01T00:00:00",
          "2007-05-01T00:00:00",
          "2007-06-01T00:00:00",
          "2007-07-01T00:00:00",
          "2007-08-01T00:00:00",
          "2007-09-01T00:00:00",
          "2007-10-01T00:00:00",
          "2007-11-01T00:00:00",
          "2007-12-01T00:00:00",
          "2008-01-01T00:00:00",
          "2008-02-01T00:00:00",
          "2008-03-01T00:00:00",
          "2008-04-01T00:00:00",
          "2008-05-01T00:00:00",
          "2008-06-01T00:00:00",
          "2008-07-01T00:00:00",
          "2008-08-01T00:00:00",
          "2008-09-01T00:00:00",
          "2008-10-01T00:00:00",
          "2008-11-01T00:00:00",
          "2008-12-01T00:00:00",
          "2009-01-01T00:00:00",
          "2009-02-01T00:00:00",
          "2009-03-01T00:00:00",
          "2009-04-01T00:00:00",
          "2009-05-01T00:00:00",
          "2009-06-01T00:00:00",
          "2009-07-01T00:00:00",
          "2009-08-01T00:00:00",
          "2009-09-01T00:00:00",
          "2009-10-01T00:00:00",
          "2009-11-01T00:00:00",
          "2009-12-01T00:00:00",
          "2010-01-01T00:00:00",
          "2010-02-01T00:00:00",
          "2010-03-01T00:00:00",
          "2010-04-01T00:00:00",
          "2010-05-01T00:00:00",
          "2010-06-01T00:00:00",
          "2010-07-01T00:00:00",
          "2010-08-01T00:00:00",
          "2010-09-01T00:00:00",
          "2010-10-01T00:00:00",
          "2010-11-01T00:00:00",
          "2010-12-01T00:00:00",
          "2011-01-01T00:00:00",
          "2011-02-01T00:00:00",
          "2011-03-01T00:00:00",
          "2011-04-01T00:00:00",
          "2011-05-01T00:00:00",
          "2011-06-01T00:00:00",
          "2011-07-01T00:00:00",
          "2011-08-01T00:00:00",
          "2011-09-01T00:00:00",
          "2011-10-01T00:00:00",
          "2011-11-01T00:00:00",
          "2011-12-01T00:00:00",
          "2012-01-01T00:00:00",
          "2012-02-01T00:00:00",
          "2012-03-01T00:00:00",
          "2012-04-01T00:00:00",
          "2012-05-01T00:00:00",
          "2012-06-01T00:00:00",
          "2012-07-01T00:00:00",
          "2012-08-01T00:00:00",
          "2012-09-01T00:00:00",
          "2012-10-01T00:00:00",
          "2012-11-01T00:00:00",
          "2012-12-01T00:00:00",
          "2013-01-01T00:00:00",
          "2013-02-01T00:00:00",
          "2013-03-01T00:00:00",
          "2013-04-01T00:00:00",
          "2013-05-01T00:00:00",
          "2013-06-01T00:00:00",
          "2013-07-01T00:00:00",
          "2013-08-01T00:00:00",
          "2013-09-01T00:00:00",
          "2013-10-01T00:00:00",
          "2013-11-01T00:00:00",
          "2013-12-01T00:00:00",
          "2014-01-01T00:00:00",
          "2014-02-01T00:00:00",
          "2014-03-01T00:00:00",
          "2014-04-01T00:00:00",
          "2014-05-01T00:00:00",
          "2014-06-01T00:00:00",
          "2014-07-01T00:00:00",
          "2014-08-01T00:00:00",
          "2014-09-01T00:00:00",
          "2014-10-01T00:00:00",
          "2014-11-01T00:00:00",
          "2014-12-01T00:00:00",
          "2015-01-01T00:00:00",
          "2015-02-01T00:00:00",
          "2015-03-01T00:00:00",
          "2015-04-01T00:00:00",
          "2015-05-01T00:00:00",
          "2015-06-01T00:00:00",
          "2015-07-01T00:00:00",
          "2015-08-01T00:00:00",
          "2015-09-01T00:00:00",
          "2015-10-01T00:00:00",
          "2015-11-01T00:00:00",
          "2015-12-01T00:00:00",
          "2016-01-01T00:00:00",
          "2016-02-01T00:00:00",
          "2016-03-01T00:00:00",
          "2016-04-01T00:00:00",
          "2016-05-01T00:00:00",
          "2016-06-01T00:00:00",
          "2016-07-01T00:00:00",
          "2016-08-01T00:00:00",
          "2016-09-01T00:00:00",
          "2016-10-01T00:00:00",
          "2016-11-01T00:00:00",
          "2016-12-01T00:00:00",
          "2017-01-01T00:00:00",
          "2017-02-01T00:00:00",
          "2017-03-01T00:00:00",
          "2017-04-01T00:00:00",
          "2017-05-01T00:00:00",
          "2017-06-01T00:00:00",
          "2017-07-01T00:00:00",
          "2017-08-01T00:00:00",
          "2017-09-01T00:00:00",
          "2017-10-01T00:00:00",
          "2017-11-01T00:00:00",
          "2017-12-01T00:00:00",
          "2018-01-01T00:00:00",
          "2018-02-01T00:00:00",
          "2018-03-01T00:00:00",
          "2018-04-01T00:00:00",
          "2018-05-01T00:00:00",
          "2018-06-01T00:00:00",
          "2018-07-01T00:00:00",
          "2018-08-01T00:00:00",
          "2018-09-01T00:00:00",
          "2018-10-01T00:00:00",
          "2018-11-01T00:00:00",
          "2018-12-01T00:00:00",
          "2019-01-01T00:00:00",
          "2019-02-01T00:00:00",
          "2019-03-01T00:00:00",
          "2019-04-01T00:00:00",
          "2019-05-01T00:00:00",
          "2019-06-01T00:00:00",
          "2019-07-01T00:00:00",
          "2019-08-01T00:00:00",
          "2019-09-01T00:00:00",
          "2019-10-01T00:00:00",
          "2019-11-01T00:00:00",
          "2019-12-01T00:00:00",
          "2020-01-01T00:00:00",
          "2020-02-01T00:00:00",
          "2020-03-01T00:00:00",
          "2020-04-01T00:00:00",
          "2020-05-01T00:00:00",
          "2020-06-01T00:00:00",
          "2020-07-01T00:00:00",
          "2020-08-01T00:00:00",
          "2020-09-01T00:00:00",
          "2020-10-01T00:00:00",
          "2020-11-01T00:00:00",
          "2020-12-01T00:00:00",
          "2021-01-01T00:00:00",
          "2021-02-01T00:00:00",
          "2021-03-01T00:00:00",
          "2021-04-01T00:00:00",
          "2021-05-01T00:00:00",
          "2021-06-01T00:00:00",
          "2021-07-01T00:00:00",
          "2021-08-01T00:00:00",
          "2021-09-01T00:00:00",
          "2021-10-01T00:00:00",
          "2021-11-01T00:00:00",
          "2021-12-01T00:00:00",
          "2022-01-01T00:00:00",
          "2022-02-01T00:00:00",
          "2022-03-01T00:00:00",
          "2022-04-01T00:00:00",
          "2022-05-01T00:00:00",
          "2022-06-01T00:00:00",
          "2022-07-01T00:00:00",
          "2022-08-01T00:00:00",
          "2022-09-01T00:00:00",
          "2022-10-01T00:00:00",
          "2022-11-01T00:00:00",
          "2022-12-01T00:00:00",
          "2023-01-01T00:00:00",
          "2023-02-01T00:00:00",
          "2023-03-01T00:00:00",
          "2023-04-01T00:00:00",
          "2023-05-01T00:00:00"
         ],
         "y": [
          65.77507781982422,
          61.0077018737793,
          65.30905151367188,
          68.260498046875,
          61.58517837524414,
          59.69025802612305,
          57.575469970703125,
          51.28602981567383,
          56.181034088134766,
          64.06824493408203,
          66.76776123046875,
          62.61414337158203,
          58.34512710571289,
          65.05619049072266,
          56.766456604003906,
          54.472373962402344,
          52.95620346069336,
          52.81181335449219,
          55.904788970947266,
          47.75410842895508,
          51.78244400024414,
          57.1325569152832,
          49.33089065551758,
          49.41636657714844,
          50.48019790649414,
          49.48440933227539,
          55.16842269897461,
          59.33089828491211,
          60.968841552734375,
          63.436710357666016,
          64.60861206054688,
          61.25737380981445,
          68.55862426757812,
          70.35367584228516,
          72.29410552978516,
          72.89458465576172,
          77.71528625488281,
          76.59953308105469,
          71.0206298828125,
          69.10562896728516,
          69.28958892822266,
          64.89640045166016,
          66.15924072265625,
          68.80858612060547,
          72.60177612304688,
          77.51988983154297,
          76.98711395263672,
          79.80646514892578,
          80.70454406738281,
          81.58720397949219,
          79.21356201171875,
          72.49497985839844,
          75.85575103759766,
          79.91547393798828,
          82.8579330444336,
          90.60862731933594,
          94.17841339111328,
          96.30730438232422,
          95.37376403808594,
          105.4854965209961,
          105.71284484863281,
          117.43704986572266,
          119.92859649658203,
          113.17536163330078,
          112.7855224609375,
          114.52501678466797,
          111.72028350830078,
          127.14250946044922,
          142.63967895507812,
          146.68572998046875,
          150.11190795898438,
          159.75787353515625,
          152.17306518554688,
          155.85386657714844,
          164.89002990722656,
          174.37794494628906,
          163.74842834472656,
          142.28549194335938,
          133.20947265625,
          164.03509521484375,
          187.63302612304688,
          171.79481506347656,
          163.0094757080078,
          151.2603759765625,
          128.80712890625,
          125.5875244140625,
          145.31515502929688,
          134.2042999267578,
          133.05551147460938,
          140.00880432128906,
          124.98313903808594,
          97.56571197509766,
          70.50642395019531,
          60.392398834228516,
          64.52100372314453,
          61.72275924682617,
          69.63591003417969,
          81.50090026855469,
          98.78201293945312,
          111.13550567626953,
          113.63329315185547,
          125.85662841796875,
          127.52139282226562,
          142.3870849609375,
          131.434814453125,
          131.0409698486328,
          130.6862335205078,
          115.11288452148438,
          121.01861572265625,
          132.36790466308594,
          112.64031982421875,
          111.91107177734375,
          102.08865356445312,
          117.29270935058594,
          106.4904556274414,
          112.72215270996094,
          125.62540435791016,
          121.73491668701172,
          131.39503479003906,
          127.84764862060547,
          127.97265625,
          124.18846130371094,
          118.2452392578125,
          110.19569396972656,
          104.48170471191406,
          105.95761108398438,
          91.23800659179688,
          74.4505615234375,
          86.26184844970703,
          75.48210144042969,
          71.48198699951172,
          88.11341857910156,
          91.0144271850586,
          98.60741424560547,
          91.29725646972656,
          75.8762435913086,
          76.36638641357422,
          80.3814697265625,
          84.2213134765625,
          90.96058654785156,
          97.92991638183594,
          94.24918365478516,
          102.49945831298828,
          118.81129455566406,
          120.33804321289062,
          118.64256286621094,
          117.77179718017578,
          130.68016052246094,
          122.33364868164062,
          132.67030334472656,
          123.04541015625,
          128.38194274902344,
          130.5323028564453,
          137.08900451660156,
          144.3126983642578,
          133.61500549316406,
          135.51193237304688,
          133.8455047607422,
          130.5535125732422,
          130.54531860351562,
          137.2446746826172,
          141.6954803466797,
          146.81019592285156,
          150.93252563476562,
          156.21115112304688,
          154.91200256347656,
          159.87725830078125,
          142.20932006835938,
          156.54489135742188,
          155.53041076660156,
          162.5221405029297,
          170.60604858398438,
          173.29615783691406,
          170.2085723876953,
          156.5384063720703,
          144.7183380126953,
          156.16184997558594,
          158.26068115234375,
          150.62098693847656,
          135.0181884765625,
          124.96453857421875,
          131.76063537597656,
          137.74517822265625,
          133.85894775390625,
          125.22127532958984,
          133.843017578125,
          142.81871032714844,
          136.4477996826172,
          150.80577087402344,
          185.5374755859375,
          203.2224884033203,
          194.6250762939453,
          210.52981567382812,
          195.4741668701172,
          190.43670654296875,
          179.7660369873047,
          189.4556121826172,
          192.38412475585938,
          191.02659606933594,
          203.20169067382812,
          207.73365783691406,
          212.1542205810547,
          218.93983459472656,
          230.22373962402344,
          225.9611053466797,
          217.05517578125,
          205.39491271972656,
          194.66539001464844,
          190.76132202148438,
          205.3428497314453,
          205.67153930664062,
          194.5776824951172,
          195.5581512451172,
          165.46563720703125,
          145.5397186279297,
          172.51309204101562,
          171.37181091308594,
          167.9438018798828,
          180.1291046142578,
          159.63363647460938,
          179.7810821533203,
          193.42723083496094,
          179.17481994628906,
          183.23486328125,
          188.6727752685547,
          195.7198944091797,
          204.4527587890625,
          211.40625,
          178.52378845214844,
          138.3012237548828,
          164.09347534179688,
          175.7863006591797,
          177.90237426757812,
          178.20848083496094,
          184.4290008544922,
          182.01348876953125,
          171.2087860107422,
          208.83055114746094,
          238.83554077148438,
          246.9305419921875,
          290.92218017578125,
          297.7700500488281,
          318.5489807128906,
          340.0963134765625,
          348.13372802734375,
          343.8683776855469,
          379.30279541015625,
          348.44268798828125,
          380.9983215332031,
          351.1710510253906,
          352.6090087890625,
          328.64544677734375,
          316.23834228515625,
          305.8697814941406,
          284.7347412109375,
          304.6435241699219,
          278.5356140136719,
          312.6421813964844,
          311.967041015625,
          276.887451171875,
          325.50933837890625,
          364.8527526855469,
          326.5693054199219,
          347.9012451171875,
          334.4344482421875,
          311.0958251953125,
          328.96514892578125,
          310.2486877441406
         ]
        },
        {
         "marker": {
          "color": "green",
          "size": 10,
          "symbol": "triangle-up"
         },
         "mode": "markers",
         "name": "Trend Buy Signal",
         "type": "scatter",
         "x": [
          "2009-06-01T00:00:00"
         ],
         "y": [
          113.63329315185547
         ]
        },
        {
         "marker": {
          "color": "red",
          "size": 10,
          "symbol": "triangle-down"
         },
         "mode": "markers",
         "name": "Trend Sell Signal",
         "type": "scatter",
         "x": [
          "2007-09-01T00:00:00",
          "2018-07-01T00:00:00"
         ],
         "y": [
          164.03509521484375,
          205.3428497314453
         ]
        }
       ],
       "layout": {
        "hovermode": "x unified",
        "template": {
         "data": {
          "bar": [
           {
            "error_x": {
             "color": "#2a3f5f"
            },
            "error_y": {
             "color": "#2a3f5f"
            },
            "marker": {
             "line": {
              "color": "#E5ECF6",
              "width": 0.5
             },
             "pattern": {
              "fillmode": "overlay",
              "size": 10,
              "solidity": 0.2
             }
            },
            "type": "bar"
           }
          ],
          "barpolar": [
           {
            "marker": {
             "line": {
              "color": "#E5ECF6",
              "width": 0.5
             },
             "pattern": {
              "fillmode": "overlay",
              "size": 10,
              "solidity": 0.2
             }
            },
            "type": "barpolar"
           }
          ],
          "carpet": [
           {
            "aaxis": {
             "endlinecolor": "#2a3f5f",
             "gridcolor": "white",
             "linecolor": "white",
             "minorgridcolor": "white",
             "startlinecolor": "#2a3f5f"
            },
            "baxis": {
             "endlinecolor": "#2a3f5f",
             "gridcolor": "white",
             "linecolor": "white",
             "minorgridcolor": "white",
             "startlinecolor": "#2a3f5f"
            },
            "type": "carpet"
           }
          ],
          "choropleth": [
           {
            "colorbar": {
             "outlinewidth": 0,
             "ticks": ""
            },
            "type": "choropleth"
           }
          ],
          "contour": [
           {
            "colorbar": {
             "outlinewidth": 0,
             "ticks": ""
            },
            "colorscale": [
             [
              0,
              "#0d0887"
             ],
             [
              0.1111111111111111,
              "#46039f"
             ],
             [
              0.2222222222222222,
              "#7201a8"
             ],
             [
              0.3333333333333333,
              "#9c179e"
             ],
             [
              0.4444444444444444,
              "#bd3786"
             ],
             [
              0.5555555555555556,
              "#d8576b"
             ],
             [
              0.6666666666666666,
              "#ed7953"
             ],
             [
              0.7777777777777778,
              "#fb9f3a"
             ],
             [
              0.8888888888888888,
              "#fdca26"
             ],
             [
              1,
              "#f0f921"
             ]
            ],
            "type": "contour"
           }
          ],
          "contourcarpet": [
           {
            "colorbar": {
             "outlinewidth": 0,
             "ticks": ""
            },
            "type": "contourcarpet"
           }
          ],
          "heatmap": [
           {
            "colorbar": {
             "outlinewidth": 0,
             "ticks": ""
            },
            "colorscale": [
             [
              0,
              "#0d0887"
             ],
             [
              0.1111111111111111,
              "#46039f"
             ],
             [
              0.2222222222222222,
              "#7201a8"
             ],
             [
              0.3333333333333333,
              "#9c179e"
             ],
             [
              0.4444444444444444,
              "#bd3786"
             ],
             [
              0.5555555555555556,
              "#d8576b"
             ],
             [
              0.6666666666666666,
              "#ed7953"
             ],
             [
              0.7777777777777778,
              "#fb9f3a"
             ],
             [
              0.8888888888888888,
              "#fdca26"
             ],
             [
              1,
              "#f0f921"
             ]
            ],
            "type": "heatmap"
           }
          ],
          "heatmapgl": [
           {
            "colorbar": {
             "outlinewidth": 0,
             "ticks": ""
            },
            "colorscale": [
             [
              0,
              "#0d0887"
             ],
             [
              0.1111111111111111,
              "#46039f"
             ],
             [
              0.2222222222222222,
              "#7201a8"
             ],
             [
              0.3333333333333333,
              "#9c179e"
             ],
             [
              0.4444444444444444,
              "#bd3786"
             ],
             [
              0.5555555555555556,
              "#d8576b"
             ],
             [
              0.6666666666666666,
              "#ed7953"
             ],
             [
              0.7777777777777778,
              "#fb9f3a"
             ],
             [
              0.8888888888888888,
              "#fdca26"
             ],
             [
              1,
              "#f0f921"
             ]
            ],
            "type": "heatmapgl"
           }
          ],
          "histogram": [
           {
            "marker": {
             "pattern": {
              "fillmode": "overlay",
              "size": 10,
              "solidity": 0.2
             }
            },
            "type": "histogram"
           }
          ],
          "histogram2d": [
           {
            "colorbar": {
             "outlinewidth": 0,
             "ticks": ""
            },
            "colorscale": [
             [
              0,
              "#0d0887"
             ],
             [
              0.1111111111111111,
              "#46039f"
             ],
             [
              0.2222222222222222,
              "#7201a8"
             ],
             [
              0.3333333333333333,
              "#9c179e"
             ],
             [
              0.4444444444444444,
              "#bd3786"
             ],
             [
              0.5555555555555556,
              "#d8576b"
             ],
             [
              0.6666666666666666,
              "#ed7953"
             ],
             [
              0.7777777777777778,
              "#fb9f3a"
             ],
             [
              0.8888888888888888,
              "#fdca26"
             ],
             [
              1,
              "#f0f921"
             ]
            ],
            "type": "histogram2d"
           }
          ],
          "histogram2dcontour": [
           {
            "colorbar": {
             "outlinewidth": 0,
             "ticks": ""
            },
            "colorscale": [
             [
              0,
              "#0d0887"
             ],
             [
              0.1111111111111111,
              "#46039f"
             ],
             [
              0.2222222222222222,
              "#7201a8"
             ],
             [
              0.3333333333333333,
              "#9c179e"
             ],
             [
              0.4444444444444444,
              "#bd3786"
             ],
             [
              0.5555555555555556,
              "#d8576b"
             ],
             [
              0.6666666666666666,
              "#ed7953"
             ],
             [
              0.7777777777777778,
              "#fb9f3a"
             ],
             [
              0.8888888888888888,
              "#fdca26"
             ],
             [
              1,
              "#f0f921"
             ]
            ],
            "type": "histogram2dcontour"
           }
          ],
          "mesh3d": [
           {
            "colorbar": {
             "outlinewidth": 0,
             "ticks": ""
            },
            "type": "mesh3d"
           }
          ],
          "parcoords": [
           {
            "line": {
             "colorbar": {
              "outlinewidth": 0,
              "ticks": ""
             }
            },
            "type": "parcoords"
           }
          ],
          "pie": [
           {
            "automargin": true,
            "type": "pie"
           }
          ],
          "scatter": [
           {
            "fillpattern": {
             "fillmode": "overlay",
             "size": 10,
             "solidity": 0.2
            },
            "type": "scatter"
           }
          ],
          "scatter3d": [
           {
            "line": {
             "colorbar": {
              "outlinewidth": 0,
              "ticks": ""
             }
            },
            "marker": {
             "colorbar": {
              "outlinewidth": 0,
              "ticks": ""
             }
            },
            "type": "scatter3d"
           }
          ],
          "scattercarpet": [
           {
            "marker": {
             "colorbar": {
              "outlinewidth": 0,
              "ticks": ""
             }
            },
            "type": "scattercarpet"
           }
          ],
          "scattergeo": [
           {
            "marker": {
             "colorbar": {
              "outlinewidth": 0,
              "ticks": ""
             }
            },
            "type": "scattergeo"
           }
          ],
          "scattergl": [
           {
            "marker": {
             "colorbar": {
              "outlinewidth": 0,
              "ticks": ""
             }
            },
            "type": "scattergl"
           }
          ],
          "scattermapbox": [
           {
            "marker": {
             "colorbar": {
              "outlinewidth": 0,
              "ticks": ""
             }
            },
            "type": "scattermapbox"
           }
          ],
          "scatterpolar": [
           {
            "marker": {
             "colorbar": {
              "outlinewidth": 0,
              "ticks": ""
             }
            },
            "type": "scatterpolar"
           }
          ],
          "scatterpolargl": [
           {
            "marker": {
             "colorbar": {
              "outlinewidth": 0,
              "ticks": ""
             }
            },
            "type": "scatterpolargl"
           }
          ],
          "scatterternary": [
           {
            "marker": {
             "colorbar": {
              "outlinewidth": 0,
              "ticks": ""
             }
            },
            "type": "scatterternary"
           }
          ],
          "surface": [
           {
            "colorbar": {
             "outlinewidth": 0,
             "ticks": ""
            },
            "colorscale": [
             [
              0,
              "#0d0887"
             ],
             [
              0.1111111111111111,
              "#46039f"
             ],
             [
              0.2222222222222222,
              "#7201a8"
             ],
             [
              0.3333333333333333,
              "#9c179e"
             ],
             [
              0.4444444444444444,
              "#bd3786"
             ],
             [
              0.5555555555555556,
              "#d8576b"
             ],
             [
              0.6666666666666666,
              "#ed7953"
             ],
             [
              0.7777777777777778,
              "#fb9f3a"
             ],
             [
              0.8888888888888888,
              "#fdca26"
             ],
             [
              1,
              "#f0f921"
             ]
            ],
            "type": "surface"
           }
          ],
          "table": [
           {
            "cells": {
             "fill": {
              "color": "#EBF0F8"
             },
             "line": {
              "color": "white"
             }
            },
            "header": {
             "fill": {
              "color": "#C8D4E3"
             },
             "line": {
              "color": "white"
             }
            },
            "type": "table"
           }
          ]
         },
         "layout": {
          "annotationdefaults": {
           "arrowcolor": "#2a3f5f",
           "arrowhead": 0,
           "arrowwidth": 1
          },
          "autotypenumbers": "strict",
          "coloraxis": {
           "colorbar": {
            "outlinewidth": 0,
            "ticks": ""
           }
          },
          "colorscale": {
           "diverging": [
            [
             0,
             "#8e0152"
            ],
            [
             0.1,
             "#c51b7d"
            ],
            [
             0.2,
             "#de77ae"
            ],
            [
             0.3,
             "#f1b6da"
            ],
            [
             0.4,
             "#fde0ef"
            ],
            [
             0.5,
             "#f7f7f7"
            ],
            [
             0.6,
             "#e6f5d0"
            ],
            [
             0.7,
             "#b8e186"
            ],
            [
             0.8,
             "#7fbc41"
            ],
            [
             0.9,
             "#4d9221"
            ],
            [
             1,
             "#276419"
            ]
           ],
           "sequential": [
            [
             0,
             "#0d0887"
            ],
            [
             0.1111111111111111,
             "#46039f"
            ],
            [
             0.2222222222222222,
             "#7201a8"
            ],
            [
             0.3333333333333333,
             "#9c179e"
            ],
            [
             0.4444444444444444,
             "#bd3786"
            ],
            [
             0.5555555555555556,
             "#d8576b"
            ],
            [
             0.6666666666666666,
             "#ed7953"
            ],
            [
             0.7777777777777778,
             "#fb9f3a"
            ],
            [
             0.8888888888888888,
             "#fdca26"
            ],
            [
             1,
             "#f0f921"
            ]
           ],
           "sequentialminus": [
            [
             0,
             "#0d0887"
            ],
            [
             0.1111111111111111,
             "#46039f"
            ],
            [
             0.2222222222222222,
             "#7201a8"
            ],
            [
             0.3333333333333333,
             "#9c179e"
            ],
            [
             0.4444444444444444,
             "#bd3786"
            ],
            [
             0.5555555555555556,
             "#d8576b"
            ],
            [
             0.6666666666666666,
             "#ed7953"
            ],
            [
             0.7777777777777778,
             "#fb9f3a"
            ],
            [
             0.8888888888888888,
             "#fdca26"
            ],
            [
             1,
             "#f0f921"
            ]
           ]
          },
          "colorway": [
           "#636efa",
           "#EF553B",
           "#00cc96",
           "#ab63fa",
           "#FFA15A",
           "#19d3f3",
           "#FF6692",
           "#B6E880",
           "#FF97FF",
           "#FECB52"
          ],
          "font": {
           "color": "#2a3f5f"
          },
          "geo": {
           "bgcolor": "white",
           "lakecolor": "white",
           "landcolor": "#E5ECF6",
           "showlakes": true,
           "showland": true,
           "subunitcolor": "white"
          },
          "hoverlabel": {
           "align": "left"
          },
          "hovermode": "closest",
          "mapbox": {
           "style": "light"
          },
          "paper_bgcolor": "white",
          "plot_bgcolor": "#E5ECF6",
          "polar": {
           "angularaxis": {
            "gridcolor": "white",
            "linecolor": "white",
            "ticks": ""
           },
           "bgcolor": "#E5ECF6",
           "radialaxis": {
            "gridcolor": "white",
            "linecolor": "white",
            "ticks": ""
           }
          },
          "scene": {
           "xaxis": {
            "backgroundcolor": "#E5ECF6",
            "gridcolor": "white",
            "gridwidth": 2,
            "linecolor": "white",
            "showbackground": true,
            "ticks": "",
            "zerolinecolor": "white"
           },
           "yaxis": {
            "backgroundcolor": "#E5ECF6",
            "gridcolor": "white",
            "gridwidth": 2,
            "linecolor": "white",
            "showbackground": true,
            "ticks": "",
            "zerolinecolor": "white"
           },
           "zaxis": {
            "backgroundcolor": "#E5ECF6",
            "gridcolor": "white",
            "gridwidth": 2,
            "linecolor": "white",
            "showbackground": true,
            "ticks": "",
            "zerolinecolor": "white"
           }
          },
          "shapedefaults": {
           "line": {
            "color": "#2a3f5f"
           }
          },
          "ternary": {
           "aaxis": {
            "gridcolor": "white",
            "linecolor": "white",
            "ticks": ""
           },
           "baxis": {
            "gridcolor": "white",
            "linecolor": "white",
            "ticks": ""
           },
           "bgcolor": "#E5ECF6",
           "caxis": {
            "gridcolor": "white",
            "linecolor": "white",
            "ticks": ""
           }
          },
          "title": {
           "x": 0.05
          },
          "xaxis": {
           "automargin": true,
           "gridcolor": "white",
           "linecolor": "white",
           "ticks": "",
           "title": {
            "standoff": 15
           },
           "zerolinecolor": "white",
           "zerolinewidth": 2
          },
          "yaxis": {
           "automargin": true,
           "gridcolor": "white",
           "linecolor": "white",
           "ticks": "",
           "title": {
            "standoff": 15
           },
           "zerolinecolor": "white",
           "zerolinewidth": 2
          }
         }
        },
        "title": {
         "text": "GS - Price with Buy/Sell Signals"
        },
        "xaxis": {
         "rangeslider": {
          "visible": false
         },
         "title": {
          "text": "Date"
         }
        },
        "yaxis": {
         "title": {
          "text": "Price (USD)"
         }
        }
       }
      }
     },
     "metadata": {},
     "output_type": "display_data"
    },
    {
     "name": "stdout",
     "output_type": "stream",
     "text": [
      "Buying at 2009-06-01 00:00:00: 113.63\n",
      "Selling at 2018-07-01 00:00:00: 205.34 | Profit/Loss: 91.71 (80.71%)\n",
      "Win Rate: 100.00%\n",
      "Average Gain/Loss Ratio: inf\n"
     ]
    }
   ],
   "source": [
    "#Load data\n",
    "instrument='GS'\n",
    "start_date='2000-01-01'\n",
    "end_date='2024-01-01'\n",
    "interval='1mo'\n",
    "\n",
    "data = get_data(instrument=instrument, start_date=start_date, end_date=end_date, interval=interval)\n",
    "data = add_vix(df = data, start_date=start_date, end_date=end_date, interval=interval)\n",
    "\n",
    "#Calculate strategy\n",
    "data = macd(data)\n",
    "data = rsi(data)\n",
    "data = atr(data)\n",
    "data = data.dropna()\n",
    "\n",
    "data = run_strategy(data=data, strategy='Trend-Reversal')\n",
    "\n",
    "#plot\n",
    "plot_buy_sell_signal(data=data, instrument=instrument, buy_signal_column='Trend Buy Signal', sell_signal_column='Trend Sell Signal', title = 'Price with Buy/Sell Signals')\n",
    "\n",
    "trades = simulate_trading(data=data, buy_signal_column='Trend Buy Signal', sell_signal_column='Trend Sell Signal')\n",
    "calculate_win_rate(trades=trades)\n",
    "calculate_avg_gain_loss_ratio(trades=trades)\n"
   ]
  },
  {
   "cell_type": "markdown",
   "metadata": {},
   "source": [
    "**Fundamental analysis**"
   ]
  },
  {
   "cell_type": "code",
   "execution_count": null,
   "metadata": {},
   "outputs": [],
   "source": []
  }
 ],
 "metadata": {
  "kernelspec": {
   "display_name": "base",
   "language": "python",
   "name": "python3"
  },
  "language_info": {
   "codemirror_mode": {
    "name": "ipython",
    "version": 3
   },
   "file_extension": ".py",
   "mimetype": "text/x-python",
   "name": "python",
   "nbconvert_exporter": "python",
   "pygments_lexer": "ipython3",
   "version": "3.10.9"
  }
 },
 "nbformat": 4,
 "nbformat_minor": 2
}
